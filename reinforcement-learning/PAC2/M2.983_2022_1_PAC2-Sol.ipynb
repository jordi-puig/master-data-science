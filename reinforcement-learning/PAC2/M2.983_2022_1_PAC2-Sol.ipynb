{
 "cells": [
  {
   "cell_type": "markdown",
   "metadata": {
    "colab_type": "text",
    "id": "LN0nZwyMGadB"
   },
   "source": [
    "<div style=\"width: 100%; clear: both;\">\n",
    "<div style=\"float: left; width: 50%;\">\n",
    "<img src=\"http://www.uoc.edu/portal/_resources/common/imatges/marca_UOC/UOC_Masterbrand.jpg\", align=\"left\">\n",
    "</div>\n",
    "<div style=\"float: right; width: 50%;\">\n",
    "<p style=\"margin: 0; padding-top: 22px; text-align:right;\">M2.983 · Aprenentatge per reforç</p>\n",
    "<p style=\"margin: 0; text-align:right;\">Màster universitari en Ciència de dades (<i>Data science</i>)</p>\n",
    "<p style=\"margin: 0; text-align:right; padding-button: 100px;\">Estudios d'Informàtica, Multimèdia y Telecomunicació</p>\n",
    "</div>\n",
    "</div>\n",
    "<div style=\"width:100%;\">&nbsp;</div>\n",
    "\n",
    "\n",
    "# PEC2: Deep Reinforcement Learning\n",
    "\n",
    "\n",
    "En aquesta pràctica s'implementaran tres models de DRL en un mateix entorn, amb l'objectiu d'analitzar diferents formes d'aprenentatge d'un agent i estudiar-ne el rendiment. L'agent serà entrenat amb els mètodes:\n",
    "\n",
    "<ol>\n",
    "    <li>DQN</li>\n",
    "    <li>Dueling DQN</li>\n",
    "    <li>REINFORCE with baseline </li>\n",
    " </ol>\n",
    "\n",
    "**Important: El lliurament s'ha de fer en format notebook i en format html on es vegi el codi i els resultats i els comentaris de cada exercici. Per exportar el notebook a html es pot fer des del menú File → Download as → HTML.**\n",
    "\n",
    "**Cal adjuntar al lliurament els fitxers .pth amb els diferents models entrenats.**"
   ]
  },
  {
   "cell_type": "markdown",
   "metadata": {},
   "source": [
    "## 0. Contexte\n",
    "\n",
    "Un dels objectius més actuals del camp de la robòtica és aconseguir que un robot sigui capaç d'aprendre a fer una sèrie d'accions per si sols, de la mateixa manera que ho fa un nen petit. Aquesta és, bàsicament, una de les motivacions principals de l'aprenentatge per reforçament profund. Per això calen sistemes de control eficients en entorns d'alta dimensionalitat com pot ser la inversió en borsa, conducció de cotxes autònoms o, fins i tot, el control de coets espacials. Amb aquesta idea, en aquesta pràctica farem servir un entorn ja predefinit a OpenAI, **Space Invader**.\n",
    "\n",
    "**Space Invader** consisteix en un canó que pot disparar cap amunt i moure's d'esquerra a dreta. L'objectiu del joc és destruir els extraterrestres enemics, que s'acosten cada cop més ràpid al jugador a mesura que aquest els elimina, i maximitza la puntuació. En aquest entorn, lobservació és una imatge RGB de la pantalla representada per una matriu de forma (210, 160, 3) com s'observa a continuació."
   ]
  },
  {
   "cell_type": "markdown",
   "metadata": {},
   "source": [
    "![title](videos/random_agent_space_invader.gif)\n"
   ]
  },
  {
   "cell_type": "markdown",
   "metadata": {},
   "source": [
    "Rang d'accions:\n",
    "* NOOP: 0 (No operació).\n",
    "* FIRE: 1 (disparar sense moure's)\n",
    "* RIGHT: 2 (moure a la dreta)\n",
    "* LEFT: 3 (moure a l'esquerra)\n",
    "* RIGHTFIRE: 4 (disparar i moure a la dreta)\n",
    "* LEFTFIRE: 5 (disparar i moure a l'esquerra)\n",
    "\n",
    "Recompensa: La recompensa tornada per l'entorn està composta per un valor al rang [0, 30]. Depenent de la nau alienígena destruïda, l'agent rep una puntuació diferent.\n",
    "\n",
    "La nostra tasca és ensenyar-li una política que permeti fer una elecció \"bona\" per a cada estat.\n",
    "\n",
    "Per a més detalls sobre la definició de l'entorn Space Invader, es recomana consultar les pàgines web:\n",
    "\n",
    "<href>https://www.gymlibrary.dev/environments/atari/space_invaders/</href> y  <href>https://atariage.com/manual_html_page.php?SoftwareLabelID=460</href>\n"
   ]
  },
  {
   "cell_type": "markdown",
   "metadata": {},
   "source": [
    "## 1. Inicialització i exploració de l'entorn (1 pt)\n",
    "**IMPORTANT**: l'entorn Space Invader depèn de la instal·lació dels paquets següents\n",
    "<ul>\n",
    "      <li>gym[atari] a la versió 0.25.0</li>\n",
    "      <li>autorom[accept-rom-license]</li>\n",
    "</ul>\n",
    "\n",
    "Aquest entorn pot ser executat tant a local com a Kaggle amb la versió de GPU P100 i a Google Colab. Es recomana utilitzar Kaggle per als estudiants que no disposin d'una GPU en local.\n",
    "\n",
    "Començarem carregant les principals llibreries necessàries per a la pràctica:\n"
   ]
  },
  {
   "cell_type": "code",
   "execution_count": 137,
   "metadata": {
    "execution": {
     "iopub.execute_input": "2022-10-26T10:23:07.600452Z",
     "iopub.status.busy": "2022-10-26T10:23:07.599977Z",
     "iopub.status.idle": "2022-10-26T10:23:58.641094Z",
     "shell.execute_reply": "2022-10-26T10:23:58.637388Z",
     "shell.execute_reply.started": "2022-10-26T10:23:07.600419Z"
    }
   },
   "outputs": [
    {
     "name": "stdout",
     "output_type": "stream",
     "text": [
      "Requirement already satisfied: gym[atari]==0.25.0 in c:\\users\\jpuig\\anaconda3\\lib\\site-packages (0.25.0)\n",
      "Requirement already satisfied: importlib-metadata>=4.8.0 in c:\\users\\jpuig\\anaconda3\\lib\\site-packages (from gym[atari]==0.25.0) (5.1.0)\n",
      "Requirement already satisfied: numpy>=1.18.0 in c:\\users\\jpuig\\anaconda3\\lib\\site-packages (from gym[atari]==0.25.0) (1.20.3)\n",
      "Requirement already satisfied: cloudpickle>=1.2.0 in c:\\users\\jpuig\\anaconda3\\lib\\site-packages (from gym[atari]==0.25.0) (2.0.0)\n",
      "Requirement already satisfied: gym-notices>=0.0.4 in c:\\users\\jpuig\\anaconda3\\lib\\site-packages (from gym[atari]==0.25.0) (0.0.8)\n",
      "Requirement already satisfied: ale-py~=0.7.5 in c:\\users\\jpuig\\anaconda3\\lib\\site-packages (from gym[atari]==0.25.0) (0.7.5)\n",
      "Requirement already satisfied: importlib-resources in c:\\users\\jpuig\\anaconda3\\lib\\site-packages (from ale-py~=0.7.5->gym[atari]==0.25.0) (5.10.0)\n",
      "Requirement already satisfied: zipp>=0.5 in c:\\users\\jpuig\\anaconda3\\lib\\site-packages (from importlib-metadata>=4.8.0->gym[atari]==0.25.0) (3.6.0)\n",
      "Requirement already satisfied: autorom[accept-rom-license] in c:\\users\\jpuig\\anaconda3\\lib\\site-packages (0.4.2)\n",
      "Requirement already satisfied: tqdm in c:\\users\\jpuig\\anaconda3\\lib\\site-packages (from autorom[accept-rom-license]) (4.62.3)\n",
      "Requirement already satisfied: click in c:\\users\\jpuig\\anaconda3\\lib\\site-packages (from autorom[accept-rom-license]) (8.0.3)\n",
      "Requirement already satisfied: requests in c:\\users\\jpuig\\anaconda3\\lib\\site-packages (from autorom[accept-rom-license]) (2.26.0)\n",
      "Requirement already satisfied: AutoROM.accept-rom-license in c:\\users\\jpuig\\anaconda3\\lib\\site-packages (from autorom[accept-rom-license]) (0.4.2)\n",
      "Requirement already satisfied: colorama in c:\\users\\jpuig\\anaconda3\\lib\\site-packages (from click->autorom[accept-rom-license]) (0.4.4)\n",
      "Requirement already satisfied: urllib3<1.27,>=1.21.1 in c:\\users\\jpuig\\anaconda3\\lib\\site-packages (from requests->autorom[accept-rom-license]) (1.26.7)\n",
      "Requirement already satisfied: idna<4,>=2.5 in c:\\users\\jpuig\\anaconda3\\lib\\site-packages (from requests->autorom[accept-rom-license]) (3.2)\n",
      "Requirement already satisfied: certifi>=2017.4.17 in c:\\users\\jpuig\\anaconda3\\lib\\site-packages (from requests->autorom[accept-rom-license]) (2022.9.24)\n",
      "Requirement already satisfied: charset-normalizer~=2.0.0 in c:\\users\\jpuig\\anaconda3\\lib\\site-packages (from requests->autorom[accept-rom-license]) (2.0.4)\n",
      "Requirement already satisfied: imageio in c:\\users\\jpuig\\anaconda3\\lib\\site-packages (2.9.0)\n",
      "Requirement already satisfied: numpy in c:\\users\\jpuig\\anaconda3\\lib\\site-packages (from imageio) (1.20.3)\n",
      "Requirement already satisfied: pillow in c:\\users\\jpuig\\anaconda3\\lib\\site-packages (from imageio) (8.4.0)\n",
      "Requirement already satisfied: matplotlib in c:\\users\\jpuig\\anaconda3\\lib\\site-packages (3.4.3)\n",
      "Requirement already satisfied: python-dateutil>=2.7 in c:\\users\\jpuig\\anaconda3\\lib\\site-packages (from matplotlib) (2.8.2)\n",
      "Requirement already satisfied: pillow>=6.2.0 in c:\\users\\jpuig\\anaconda3\\lib\\site-packages (from matplotlib) (8.4.0)\n",
      "Requirement already satisfied: cycler>=0.10 in c:\\users\\jpuig\\anaconda3\\lib\\site-packages (from matplotlib) (0.10.0)\n",
      "Requirement already satisfied: pyparsing>=2.2.1 in c:\\users\\jpuig\\anaconda3\\lib\\site-packages (from matplotlib) (3.0.4)\n",
      "Requirement already satisfied: numpy>=1.16 in c:\\users\\jpuig\\anaconda3\\lib\\site-packages (from matplotlib) (1.20.3)\n",
      "Requirement already satisfied: kiwisolver>=1.0.1 in c:\\users\\jpuig\\anaconda3\\lib\\site-packages (from matplotlib) (1.3.1)\n",
      "Requirement already satisfied: six in c:\\users\\jpuig\\anaconda3\\lib\\site-packages (from cycler>=0.10->matplotlib) (1.16.0)\n",
      "Requirement already satisfied: scikit-image in c:\\users\\jpuig\\anaconda3\\lib\\site-packages (0.18.3)\n",
      "Requirement already satisfied: numpy>=1.16.5 in c:\\users\\jpuig\\anaconda3\\lib\\site-packages (from scikit-image) (1.20.3)\n",
      "Requirement already satisfied: scipy>=1.0.1 in c:\\users\\jpuig\\anaconda3\\lib\\site-packages (from scikit-image) (1.7.1)\n",
      "Requirement already satisfied: matplotlib!=3.0.0,>=2.0.0 in c:\\users\\jpuig\\anaconda3\\lib\\site-packages (from scikit-image) (3.4.3)\n",
      "Requirement already satisfied: networkx>=2.0 in c:\\users\\jpuig\\anaconda3\\lib\\site-packages (from scikit-image) (2.6.3)\n",
      "Requirement already satisfied: pillow!=7.1.0,!=7.1.1,>=4.3.0 in c:\\users\\jpuig\\anaconda3\\lib\\site-packages (from scikit-image) (8.4.0)\n",
      "Requirement already satisfied: imageio>=2.3.0 in c:\\users\\jpuig\\anaconda3\\lib\\site-packages (from scikit-image) (2.9.0)\n",
      "Requirement already satisfied: tifffile>=2019.7.26 in c:\\users\\jpuig\\anaconda3\\lib\\site-packages (from scikit-image) (2021.7.2)\n",
      "Requirement already satisfied: PyWavelets>=1.1.1 in c:\\users\\jpuig\\anaconda3\\lib\\site-packages (from scikit-image) (1.1.1)\n",
      "Requirement already satisfied: pyparsing>=2.2.1 in c:\\users\\jpuig\\anaconda3\\lib\\site-packages (from matplotlib!=3.0.0,>=2.0.0->scikit-image) (3.0.4)\n",
      "Requirement already satisfied: kiwisolver>=1.0.1 in c:\\users\\jpuig\\anaconda3\\lib\\site-packages (from matplotlib!=3.0.0,>=2.0.0->scikit-image) (1.3.1)\n",
      "Requirement already satisfied: cycler>=0.10 in c:\\users\\jpuig\\anaconda3\\lib\\site-packages (from matplotlib!=3.0.0,>=2.0.0->scikit-image) (0.10.0)\n",
      "Requirement already satisfied: python-dateutil>=2.7 in c:\\users\\jpuig\\anaconda3\\lib\\site-packages (from matplotlib!=3.0.0,>=2.0.0->scikit-image) (2.8.2)\n",
      "Requirement already satisfied: six in c:\\users\\jpuig\\anaconda3\\lib\\site-packages (from cycler>=0.10->matplotlib!=3.0.0,>=2.0.0->scikit-image) (1.16.0)\n"
     ]
    }
   ],
   "source": [
    "#instal·lació de llibreries.\n",
    "import warnings\n",
    "warnings.filterwarnings('ignore')\n",
    "import time\n",
    "!pip install gym[atari]==0.25.0\n",
    "!pip install autorom[accept-rom-license]\n",
    "!pip install imageio\n",
    "!pip install matplotlib\n",
    "import gym\n",
    "import torch\n",
    "import matplotlib.pyplot as plt\n",
    "from ale_py import ALEInterface\n",
    "ale = ALEInterface()\n",
    "from ale_py.roms import SpaceInvaders\n",
    "ale.loadROM(SpaceInvaders)\n",
    "import numpy as np\n",
    "import os\n",
    "import imageio\n",
    "from PIL import Image\n",
    "import PIL.ImageDraw as ImageDraw\n",
    "!pip install scikit-image\n",
    "from skimage import transform\n",
    "import torch\n",
    "import torch.nn as nn\n",
    "import torch.autograd as autograd\n",
    "import torch.optim as optim"
   ]
  },
  {
   "cell_type": "code",
   "execution_count": 138,
   "metadata": {
    "execution": {
     "iopub.status.busy": "2022-10-26T10:23:58.642164Z",
     "iopub.status.idle": "2022-10-26T10:23:58.642528Z",
     "shell.execute_reply": "2022-10-26T10:23:58.642375Z",
     "shell.execute_reply.started": "2022-10-26T10:23:58.642358Z"
    }
   },
   "outputs": [
    {
     "name": "stdout",
     "output_type": "stream",
     "text": [
      "La versió de gym instal·lada: 0.25.0\n",
      "L'entorn utilitza:  cpu\n"
     ]
    }
   ],
   "source": [
    "# Comprovació de la versió de GYM instal·lada\n",
    "print('La versió de gym instal·lada: ' + gym.__version__)\n",
    "# Comprovació d'entorn amb gpu\n",
    "device = torch.device(\"cuda\" if torch.cuda.is_available() else \"cpu\")\n",
    "print(\"L'entorn utilitza: \", device)"
   ]
  },
  {
   "cell_type": "markdown",
   "metadata": {},
   "source": [
    "\n",
    "Comproveu que la cel·la anterior indica que la versió instal·lada del Gym és la 0.25.0.\n"
   ]
  },
  {
   "cell_type": "markdown",
   "metadata": {
    "colab_type": "text",
    "id": "tfo8jleHGadK"
   },
   "source": [
    "<div style=\"background-color: #EDF7FF; border-color: #7C9DBF; border-left: 5px solid #7C9DBF; padding: 0.5em;\">\n",
    "<strong>1.1 Exercici (0.2 pts):</strong> Inicialitzar l'entorn SpaceInvaders-v4. Extreure:\n",
    "<ul>\n",
    "  <li> Valor del llindar de recompensa definit a l'entorn</li>\n",
    "  <li> Màxim nombre de passos establerts per a cada episodi</li>\n",
    "  <li> La dimensió de l'espai d'accions</li>\n",
    "  <li> La dimensió de l'espai d'observacions.</li>\n",
    "  </ul>\n",
    "</div>\n"
   ]
  },
  {
   "cell_type": "code",
   "execution_count": 139,
   "metadata": {},
   "outputs": [
    {
     "name": "stdout",
     "output_type": "stream",
     "text": [
      "- Rang de recompenses o llindar de les recompenses: (-inf, inf) \n",
      "- Màxim nombre de passos per episodi: 100000 \n",
      "- Espai d'accions: 6 \n",
      "- Espai d'observacions: Box(0, 255, (210, 160, 3), uint8) \n"
     ]
    }
   ],
   "source": [
    "warnings.filterwarnings('ignore')\n",
    "env = gym.make('SpaceInvaders-v4')\n",
    "\n",
    "####\n",
    "print(\"- Rang de recompenses o llindar de les recompenses: {} \".format(env.reward_range))\n",
    "print(\"- Màxim nombre de passos per episodi: {} \".format(env.spec.max_episode_steps)) \n",
    "print(\"- Espai d'accions: {} \".format(env.action_space.n))\n",
    "print(\"- Espai d'observacions: {} \".format(env.observation_space))\n"
   ]
  },
  {
   "cell_type": "markdown",
   "metadata": {},
   "source": [
    "Com podem veure:\n",
    "- Encara que el rang a l'enunciat diu que va des de [0,30], l'environtment ens diu que el rang de recompenses o llindar va des de menys infinit fins a més infinit.\n",
    "- El màxim nombre de passos per episodi és de: 100000\n",
    "- La dimensió de l'espai d'accions és de 6.\n",
    "- La dimensió de l'espai d'observacions. Tenim un espai amb forma (210, 160, 3) i els valors que van des del 0 al 255. Per tant, tenim un ordre de magnitud de 256^(210x160x3) = 256^100800. És un conjunt d'estats elevadíssim."
   ]
  },
  {
   "cell_type": "markdown",
   "metadata": {},
   "source": [
    "A l'aprenentatge per reforç acostuma a ser molt útil visualitzar el comportament d'un agent al seu entorn. Per a aquesta PAC és interessant poder emmagatzemar el comportament visual d'un agent en forma de fitxer .gif."
   ]
  },
  {
   "cell_type": "markdown",
   "metadata": {},
   "source": [
    "<div style=\"background-color: #EDF7FF; border-color: #7C9DBF; border-left: 5px solid #7C9DBF; padding: 0.5em;\">\n",
    "<strong>1.2 Exercici (0.2 pts):</strong>  En aquest exercici us proposem emmagatzemar en una carpeta 'videos' un exemple d'actuació de l'agent aleatori en forma de fitxer .gif.\n",
    "\n",
    "    -----------------------------------------------------------------------------------------------------------\n",
    "    \n",
    "<b>Nota</b>: se us proporciona el codi pre-implementat. La implementació que es demana a l'enunciat està indicada als blocs <i>TODO</i> i/o amb variables igualades a <i>None</i>.\n",
    "</div>\n"
   ]
  },
  {
   "cell_type": "code",
   "execution_count": 140,
   "metadata": {},
   "outputs": [],
   "source": [
    "#Mètode per generar la imatge a partir dun estat amb un text informatiu\n",
    "def _label_with_text(frame):\n",
    "    '''\n",
    "    frame: estat de l'entorn GYM.\n",
    "    '''\n",
    "    im = Image.fromarray(frame)\n",
    "    im = im.resize((im.size[0]*2,im.size[1]*2))\n",
    "    drawer = ImageDraw.Draw(im)\n",
    "    drawer.text((1, 1), \"Uoc Aprenentage Per Reforç.\", fill=(255, 255, 255, 128))\n",
    "    return im\n",
    "\n",
    "#Mètode que permet crear un gif amb l'evolució d'una partida donat un entorn GYM.\n",
    "def save_random_agent_gif(env):\n",
    "    frames = []\n",
    "    done = False\n",
    "    env.reset()\n",
    "    ###########################################   \n",
    "    while not done:\n",
    "        action = env.action_space.sample()\n",
    "        frame = env.render(mode='rgb_array')\n",
    "        frames.append(_label_with_text(frame))\n",
    "        state, _, done, _ = env.step(action)       \n",
    "    ##############################################\n",
    "\n",
    "    env.close()\n",
    "    imageio.mimwrite(os.path.join('./videos/', 'random_agent_space_invader_usuari.gif'), frames, fps=60)"
   ]
  },
  {
   "cell_type": "code",
   "execution_count": 141,
   "metadata": {},
   "outputs": [],
   "source": [
    "env = gym.make('SpaceInvaders-v4', render_mode='rgb_array')\n",
    "try:\n",
    "    os.makedirs('videos')\n",
    "except:\n",
    "    pass\n",
    "save_random_agent_gif(env)"
   ]
  },
  {
   "cell_type": "markdown",
   "metadata": {},
   "source": [
    "<div style=\"background-color: #EDF7FF; border-color: #7C9DBF; border-left: 5px solid #7C9DBF; padding: 0.5em;\">\n",
    "<strong>1.3 Exercici (0.3 pts):</strong> Executar 1000 episodis amb el màxim de passos establert a l'entorn de Space Invader, prenent accions de forma aleatòria. Emmagatzemeu la suma de recompenses de cada partida i la quantitat d'episodis executats. Mostra:\n",
    "     <ul>\n",
    "        <li>Histograma amb la suma de recompenses de cada partida</li>\n",
    "        <li>Histograma amb la quantitat de passos per resoldre cada partida. </li>\n",
    "     </ul>\n",
    "</div>"
   ]
  },
  {
   "cell_type": "code",
   "execution_count": 142,
   "metadata": {},
   "outputs": [
    {
     "name": "stdout",
     "output_type": "stream",
     "text": [
      "Episode 998/1000."
     ]
    }
   ],
   "source": [
    "import warnings\n",
    "import gym\n",
    "import sys\n",
    "\n",
    "warnings.filterwarnings('ignore')\n",
    "env = gym.make('SpaceInvaders-v4')\n",
    "\n",
    "def play_games(num_games):    \n",
    "    steps_list = []\n",
    "    total_reward_list = []    \n",
    "    for i_game in range(num_games): \n",
    "        if i_game % 2 == 0:\n",
    "            print(\"\\rEpisode {}/{}.\".format(i_game, num_games), end=\"\")\n",
    "            sys.stdout.flush()\n",
    "            \n",
    "        total_reward, steps, done = 0, 0, False\n",
    "        env.reset()\n",
    "        while not done:\n",
    "            env.render(mode='rgb_array')\n",
    "            action = env.action_space.sample()\n",
    "            state, reward, done, _ = env.step(action)\n",
    "            total_reward += reward\n",
    "            steps += 1\n",
    "            if done:    \n",
    "                steps_list.append(steps)\n",
    "                total_reward_list.append(total_reward)\n",
    "    return steps_list, total_reward_list      \n",
    "          \n",
    "steps_list, total_reward_list = play_games(1000)\n",
    "env.close()   "
   ]
  },
  {
   "cell_type": "code",
   "execution_count": 143,
   "metadata": {},
   "outputs": [
    {
     "data": {
      "image/png": "[encoded data removed]",
      "text/plain": [
       "<Figure size 432x288 with 1 Axes>"
      ]
     },
     "metadata": {
      "needs_background": "light"
     },
     "output_type": "display_data"
    }
   ],
   "source": [
    "plt.hist(steps_list)\n",
    "plt.title('Histograma de la mitjana de steps')\n",
    "plt.xlabel('Steps')\n",
    "plt.ylabel('Count')\n",
    "plt.show()"
   ]
  },
  {
   "cell_type": "code",
   "execution_count": 144,
   "metadata": {
    "scrolled": true
   },
   "outputs": [
    {
     "data": {
      "image/png": "[encoded data removed]",
      "text/plain": [
       "<Figure size 432x288 with 1 Axes>"
      ]
     },
     "metadata": {
      "needs_background": "light"
     },
     "output_type": "display_data"
    }
   ],
   "source": [
    "plt.hist(total_reward_list)\n",
    "plt.title('Histograma de la mitjana de reward')\n",
    "plt.xlabel('Reward')\n",
    "plt.ylabel('Count')\n",
    "plt.show()"
   ]
  },
  {
   "cell_type": "code",
   "execution_count": 145,
   "metadata": {},
   "outputs": [
    {
     "name": "stdout",
     "output_type": "stream",
     "text": [
      "La mitjana de les passes per episodi és de: 697.569 \n",
      "La mitjana de les recompenses per episodi és de: 152.55 \n"
     ]
    }
   ],
   "source": [
    "print(\"La mitjana de les passes per episodi és de: {} \".format(np.mean(steps_list)))\n",
    "print(\"La mitjana de les recompenses per episodi és de: {} \".format(np.mean(total_reward_list)))"
   ]
  },
  {
   "cell_type": "markdown",
   "metadata": {},
   "source": [
    "<div style=\"background-color: #fcf2f2; border-color: #dfb5b4; border-left: 5px solid #dfb5b4; padding: 0.5em;\">\n",
    "<strong>Solució:</strong>\n",
    "<br><br>\n",
    "La mitjana de passes és del voltant de 692 i una recomenpensa total en cada episodi de més de 153. Fent servir algoritmes Deep Q-Networks o amb Policy Gradients hauriem d'aconseguir millorar aquests valors de recompensa. \n",
    "</div>"
   ]
  },
  {
   "cell_type": "markdown",
   "metadata": {},
   "source": [
    "## 2. Agent DQN (2.8 pts)\n",
    "En aquest apartat implementarem una solució DQN per intentar obtenir un model que ens permeti solucionar aquest entorn. Primer definirem el model de xarxa neuronal, després descriurem el comportament de l'agent, l'entrenarem i, finalment, testejarem el funcionament de l'agent entrenat."
   ]
  },
  {
   "cell_type": "markdown",
   "metadata": {},
   "source": [
    "### 2.1 Processament de les observacions.\n",
    "\n",
    "\n",
    "El primer pas és entendre l'estructura de la informació que ens proporciona l'entorn. Els jocs d'Atari utilitzen un espai d'observacions amb una estructura de la forma següent (210, 160, 3), és a dir, 210 píxels d'amplada, 160 d'alçada i 3 colors (RGB). Cadascun d'aquests punts de l'estructura és un píxel de color i té un rang de valors que van des del 0 fins a 255, cosa que ens dóna $256^{(210x160x3)}$ = $256^{100800}$ possibilitats (a mode de comparació, tenim aproximadament $10^{80}$ àtoms a l'univers observable)\n",
    "\n",
    "<p></p>\n",
    "<img src=\"imatges/atomos.jpg\"  width=\"1000\">\n",
    "\n",
    "Font: <href>https://huggingface.co/blog/deep-rl-dqn</href>"
   ]
  },
  {
   "cell_type": "markdown",
   "metadata": {},
   "source": [
    "<div style=\"background-color: #EDF7FF; border-color: #7C9DBF; border-left: 5px solid #7C9DBF; padding: 0.5em;\">\n",
    "<strong>2.1 Anàlisi (0.2 pts):</strong> És possible implementar una solució tabular vista durant la PAC1 en aquest entorn de Space Invader? Per què?\n",
    "</div>"
   ]
  },
  {
   "cell_type": "markdown",
   "metadata": {},
   "source": [
    "<div style=\"background-color: #fcf2f2; border-color: #dfb5b4; border-left: 5px solid #dfb5b4; padding: 0.5em;\">\n",
    "<strong>Resposta:</strong>\n",
    "<br><br>\n",
    "No perquè el nombre d'estats és molt gran i tenim una limitació tant computacional com d’emmagatzematge. Hi ha massa estats i que no es poden representar amb una taula i tampoc no podrem trobar una política o una funció de valor òptimes. \n",
    "</div>"
   ]
  },
  {
   "cell_type": "markdown",
   "metadata": {},
   "source": [
    "En aquest cas, la millor idea és, atès un estat, aproximar els valors Q per a cada possible acció en aquest estat. És a dir, implementarem la solució que pots observar a la figura següent.\n",
    "\n",
    "<p></p>\n",
    "<img src=\"imatges/deep.jpg\"  width=\"1000\">\n",
    "\n",
    "Fuente: <href>https://huggingface.co/blog/deep-rl-dqn</href>\n",
    "\n",
    "<p></p>\n",
    "\n",
    "Ara bé, al joc Space Invader no tot l'espai té utilitat. El marcador, el marc o la quantitat de vides no és necessari per al desenvolupament del joc. Una pràctica molt habitual en l'aprenentatge per reforç és reduir les dimensions de l'entorn amb l'objectiu de disminuir la quantitat de càlculs necessaris per obtenir un model útil per a l'entorn.\n",
    "\n",
    "Exactament, per a aquesta PAC us demanarem reduir l'espai dels frames a 84 x 84 píxels, reduir els nostres tres canals de color (RGB) a 1 (blanc i negre), normalitzar el resultat i, finalment, emmagatzemar els 4 últims frames com es mostra a la figura següent:\n",
    "<p></p>\n",
    "<img src=\"imatges/preprocessing.jpg\"  width=\"1000\">\n",
    "\n",
    "Font: <href>https://huggingface.co/blog/deep-rl-dqn</href>"
   ]
  },
  {
   "cell_type": "markdown",
   "metadata": {},
   "source": [
    "<div style=\"background-color: #EDF7FF; border-color: #7C9DBF; border-left: 5px solid #7C9DBF; padding: 0.5em;\">\n",
    "<strong>2.2 Exercici (0.1 pts):</strong> Defineix el mètode 'scale_lumininance' per, donat un estat, transformar els punts del sistema RGB al sistema binari blanc i negre.\n",
    "</div>"
   ]
  },
  {
   "cell_type": "code",
   "execution_count": 146,
   "metadata": {},
   "outputs": [],
   "source": [
    "def scale_lumininance(obs):\n",
    "     \"\"\"\n",
    "     Separem cada una de les dimensions de RGB    \n",
    "     Posteriorment calculem el valor del gris en una única dimensió          \n",
    "     \"\"\"      \n",
    "     r, g, b = obs[:,:,0], obs[:,:,1], obs[:,:,2]\n",
    "     gray = 0.2989 * r + 0.5870 * g + 0.1140 * b \n",
    "     return gray.astype(np.uint8)\n",
    "\n",
    "    # altre implementació\n",
    "    # return rgb2gray(obs).astype(np.uint8)\n"
   ]
  },
  {
   "cell_type": "markdown",
   "metadata": {},
   "source": [
    "<div style=\"background-color: #EDF7FF; border-color: #7C9DBF; border-left: 5px solid #7C9DBF; padding: 0.5em;\">\n",
    "<strong>2.3 Exercici (0.1 pts):</strong> Defineix el mètode 'resize' per, donat un estat, redimensionar la seva mida a 84*84\n",
    "</div>"
   ]
  },
  {
   "cell_type": "code",
   "execution_count": 147,
   "metadata": {},
   "outputs": [],
   "source": [
    "def resize(obs):\n",
    "    \"\"\" \n",
    "    Resize imatge a 84 * 84\n",
    "    Fem servir la funció resize del package transform (inclós a skimage)\n",
    "    \"\"\"   \n",
    "    return transform.resize(obs,(84,84))\n"
   ]
  },
  {
   "cell_type": "markdown",
   "metadata": {},
   "source": [
    "<div style=\"background-color: #EDF7FF; border-color: #7C9DBF; border-left: 5px solid #7C9DBF; padding: 0.5em;\">\n",
    "<strong>2.4 Exercici (0.1 pts):</strong> Defineix el mètode 'normalize' per, donat un estat, normalitzar la imatge\n",
    "</div>"
   ]
  },
  {
   "cell_type": "code",
   "execution_count": 148,
   "metadata": {},
   "outputs": [],
   "source": [
    "def normalize(obs):\n",
    "    \"\"\" \n",
    "    Normalitzem la imatge\n",
    "    \"\"\"\n",
    "    obs /= (obs.max()/255.0)\n",
    "    return obs.astype(np.uint8)"
   ]
  },
  {
   "cell_type": "markdown",
   "metadata": {},
   "source": [
    "El resultat que obtindràs serà el següent:\n",
    "<p></p>\n",
    "<table  border=\"0\">\n",
    "<thead>\n",
    "  <tr style='border:none;' >\n",
    "    <th style='border:none;' ><img src=\"imatges/preprocess_grey.png\"  width=\"500\"></th>\n",
    "    <th style='border:none;'><img src=\"imatges/preprocess_normalize.png\"  width=\"500\"></th>\n",
    "    <th style='border:none;' ><img src=\"imatges/preprocess_size.png\"  width=\"500\"></th>\n",
    "  </tr>\n",
    "</thead>\n",
    "<tbody>\n",
    "  <tr style='border:none;'>\n",
    "    <td style='text-align: center; border:none;'> 1.scale_lumininance(obs) </td>\n",
    "    <td style='text-align: center; border:none;'> 2.resize(obs) </td>\n",
    "    <td style='text-align: center; border:none;'> 3.normalize(obs)</td>\n",
    "  </tr>\n",
    "</tbody>\n",
    "</table></div>"
   ]
  },
  {
   "cell_type": "code",
   "execution_count": 149,
   "metadata": {},
   "outputs": [],
   "source": [
    "env.render(mode='rgb_array')\n",
    "action = env.action_space.sample()\n",
    "state, reward, done, _ = env.step(action)\n",
    "\n",
    "# Funció que realitza tot el pre-processament d'una observació\n",
    "def preprocess_observation(obs):\n",
    "    obs_proc = scale_lumininance(obs)\n",
    "    obs_proc = resize(obs_proc)\n",
    "    obs_proc = normalize(obs_proc)\n",
    "    return obs_proc"
   ]
  },
  {
   "cell_type": "markdown",
   "metadata": {},
   "source": [
    "Per últim, com interpretem el moviment? Les imatges corresponen a informació estàtica de les partides i, en aquest entorn, és important conèixer la direcció del tret o el moviment dels invasors. Per això, una forma de gestionar aquesta informació és apilant fotogrames per poder proporcionar a l'algorisme informació sobre la progressió de la partida.\n",
    "\n",
    "\n",
    "Utilitzem un exemple molt clar, el Ping Pong:\n",
    "<p></p>\n",
    "<img src=\"imatges/temporal-limitation-2.png\"  width=\"1000\">\n",
    "\n",
    "Fixa't com la pilota es desplaça cap a la dreta. L'agrupació dels frames ens permet traslladar la informació espacial al nostre algorisme."
   ]
  },
  {
   "cell_type": "markdown",
   "metadata": {},
   "source": [
    "<div style=\"background-color: #EDF7FF; border-color: #7C9DBF; border-left: 5px solid #7C9DBF; padding: 0.5em;\">\n",
    "<strong>2.5 Exercici (0.1 pts):</strong> Implementa la funció stack_frame per apilar 4 frames duna partida. Aquesta funció ha d'apilar inicialment (quan is_new = True) el mateix frame 4 vegades per, posteriorment, conforme es vagin introduint nous frames anar substituint els més antics.\n",
    "</div>"
   ]
  },
  {
   "cell_type": "code",
   "execution_count": 150,
   "metadata": {},
   "outputs": [],
   "source": [
    "def stack_frame(stacked_frames, frame, is_new):\n",
    "        \"\"\"Stacking Frames.\n",
    "        Params\n",
    "        ======\n",
    "            stacked_frames (array): array de frames (al retornar-lo ha de contenir 4 frames)\n",
    "            frame: Nova imatge per a afegir a l'array (s'ha d'esborrar la més antiga)\n",
    "            is_new: Primera vegada que s'utilitza l'array.\n",
    "        \"\"\"\n",
    "        if is_new:\n",
    "            stacked_frames = np.array([frame, frame, frame, frame])                                    \n",
    "        else:\n",
    "            stacked_frames[:-1] = stacked_frames[1:]\n",
    "            stacked_frames[-1] = frame                                \n",
    "        return stacked_frames"
   ]
  },
  {
   "cell_type": "markdown",
   "metadata": {},
   "source": [
    "Un cop creada la funció la testegem jugant una partida, emmagatzemant els 4 frames més recents a cada pas, i finalment mostrem els 4 últims frames de la partida."
   ]
  },
  {
   "cell_type": "code",
   "execution_count": 151,
   "metadata": {},
   "outputs": [
    {
     "data": {
      "image/png": "[encoded data removed]",
      "text/plain": [
       "<Figure size 720x504 with 4 Axes>"
      ]
     },
     "metadata": {
      "needs_background": "light"
     },
     "output_type": "display_data"
    }
   ],
   "source": [
    "# Omplim 'state_stack' amb 4 còpies idèntiques del frame inicial de la partida\n",
    "state_stack= stack_frame(None, env.reset(), True)\n",
    "\n",
    "# Juguem una partida aleatòria i anem actualitzant els 4 frames de 'state_stack'\n",
    "# conforme es van produint de nous\n",
    "while True:\n",
    "    action = env.action_space.sample()\n",
    "    next_state, reward, done, info = env.step(action)\n",
    "    state_stack = stack_frame(state_stack, next_state, False)\n",
    "\n",
    "    if done:\n",
    "         break\n",
    "\n",
    "# Mostrem els darrers 4 frames de la partida que han quedat enmagatzemats a 'state_stack'\n",
    "fig = plt.figure(figsize=(10, 7))\n",
    "rows = 2\n",
    "columns = 2\n",
    "cont=1\n",
    "\n",
    "for i in state_stack:\n",
    "    fig.add_subplot(rows, columns, cont)\n",
    "    plt.imshow(i)\n",
    "    plt.axis('off')\n",
    "    plt.title('Fotograma:' + str(cont))\n",
    "    cont = cont +1"
   ]
  },
  {
   "cell_type": "markdown",
   "metadata": {},
   "source": [
    "Ara amb aquestes modificacions podem passar al següent punt, la creació de la Xarxa\n",
    "<p></p>\n",
    "<img src=\"imatges/deep-q-network.jpg\"  width=\"1000\">\n",
    "\n",
    "Font: <href>https://huggingface.co/blog/deep-rl-dqn</href>"
   ]
  },
  {
   "cell_type": "markdown",
   "metadata": {},
   "source": [
    "Com s'observa a la imatge, farem servir un model convolucional (perfecte per detectar patrons en imatges) juntament amb un sistema lineal completament connectat. Per a la xarxa convolucional us proposem la següent configuració:\n",
    "\n",
    "<ul>\n",
    "    <li>Una primera capa del tipus Conv2d amb els paràmetres següents in_channels=4, out_channels=32, kernel_size=8, stride=4 amb activació ReLU.</li>\n",
    "    <li>Una segona capa del tipus Conv2d amb els paràmetres següents in_channels=32, out_channels=64, kernel_size=4, stride=2 amb activació ReLU.</li>\n",
    "    <li>Una tercera capa del tipus Conv2d amb els paràmetres següents in_channels=64, out_channels=64, kernel_size=3, stride=1 amb activació ReLU.</li>\n",
    "</ul>\n",
    "\n",
    "El resultat d'aquesta primera xarxa (3D) el connectarem amb un model complementament connectat (1D) amb la següent estructura lineal:\n",
    "\n",
    "* Una primera capa completament connectada (representada en pytorch per nn.Lineal) de 512 neurones, amb activació ReLU\n",
    "* Una darrera capa completament connectada. Aquesta serà la nostra capa de sortida i, per tant, tindrà tantes neurones com dimensions tingui el nostre espai d‟accions (una sortida per cada acció possible).\n",
    "\n",
    "Finalment, farem servir l'optimitzador Adam per entrenar la xarxa."
   ]
  },
  {
   "cell_type": "markdown",
   "metadata": {},
   "source": [
    "<div style=\"background-color: #EDF7FF; border-color: #7C9DBF; border-left: 5px solid #7C9DBF; padding: 0.5em;\">\n",
    "    <strong>2.6 Exercici (0.5 pts): </strong>Implementar la classe <code>DQN_CNN()</code>. Inicialitzar les variables necessàries i definir el model CNN i lineal indicat.\n",
    "\n",
    "    -----------------------------------------------------------------------------------------------------------\n",
    "<b>Nota</b>: se us proporciona el codi pre-implementat. La implementació que es demana a l'enunciat està indicada als blocs <i>TODO</i> i/o amb variables igualades a <i>None</i>.\n",
    "</div>"
   ]
  },
  {
   "cell_type": "code",
   "execution_count": 152,
   "metadata": {},
   "outputs": [],
   "source": [
    "import torch\n",
    "import numpy as np\n",
    "import torch.nn as nn\n",
    "import torch.autograd as autograd\n",
    "import torch.optim as optim\n",
    "\n",
    "class DQN_CNN(nn.Module):\n",
    "    \n",
    "    def __init__(self, env, learning_rate=1e-3):\n",
    "        super(DQN_CNN, self).__init__()\n",
    "        \"\"\"\n",
    "        Params\n",
    "        ======\n",
    "        n_inputs: mida de l'espai d'estats\n",
    "        n_outputs: mida de l'espai d'accions\n",
    "        actions: array d'acciones possibles\n",
    "        device: cpu o cuda\n",
    "        red_cnn: definició de la xarxa convolucional\n",
    "        red_lineal: definició de la xarxa lineal\n",
    "        \"\"\"\n",
    "        #######################################\n",
    "        ###TODO: Inicialització i model ###        \n",
    "        self.learning_rate = learning_rate\n",
    "        self.input_shape = (4,84,84)\n",
    "        self.n_outputs = env.action_space.n\n",
    "        self.actions = np.arange(env.action_space.n)\n",
    "        \n",
    "        if torch.cuda.is_available():\n",
    "            self.device = 'cuda'\n",
    "        else:\n",
    "            self.device = 'cpu'\n",
    "\n",
    "        #######################################\n",
    "        ##TODO: Construcció de la xarxa neuronal convolucional\n",
    "        self.red_cnn = nn.Sequential(\n",
    "            nn.Conv2d(in_channels=4, out_channels=32, kernel_size=8, stride=4),\n",
    "            nn.ReLU(),\n",
    "            nn.Conv2d(in_channels=32, out_channels=64, kernel_size=4, stride=2),\n",
    "            nn.ReLU(),\n",
    "            nn.Conv2d(in_channels=64, out_channels=64, kernel_size=3, stride=1),\n",
    "            nn.ReLU()\n",
    "        )\n",
    "\n",
    "        if torch.cuda.is_available():\n",
    "            self.red_cnn.cuda()\n",
    "\n",
    "        #######################################\n",
    "        ##TODO: Construcció de la xarxa neuronal lineal completament connectada\n",
    "        self.fc_layer_inputs = self.feature_size()\n",
    "        self.red_lineal = nn.Sequential(\n",
    "            nn.Linear(self.fc_layer_inputs, 512),\n",
    "            nn.ReLU(),\n",
    "            nn.Linear(512, self.n_outputs)\n",
    "        )\n",
    "\n",
    "\n",
    "        if torch.cuda.is_available():\n",
    "            self.red_lineal.cuda()\n",
    "\n",
    "        #######################################\n",
    "        ##TODO: Inicialitzar l'optimitzador\n",
    "        ## Recupera els paràmetres de la xarxa neuronal i inicialitza l'optimitzador amb el learning rate indicat en el constructor      \n",
    "        self.optimizer = optim.Adam(self.parameters(), self.learning_rate)\n",
    "\n",
    "    ### Mètode e-greedy\n",
    "    def get_action(self, state, epsilon=0.05):\n",
    "        if np.random.random() < epsilon:            \n",
    "            action = np.random.choice(self.actions)\n",
    "        else:\n",
    "            qvals = self.get_qvals(state)\n",
    "            action= torch.max(qvals, dim=-1)[1].item()\n",
    "        return action\n",
    "\n",
    "\n",
    "    def get_qvals(self, state):\n",
    "        if type(state) is tuple:\n",
    "            state = np.array(state)\n",
    "        state_t = torch.FloatTensor(state).to(device=self.device)\n",
    "        cnn_out = self.red_cnn(state_t).reshape(-1,  self.fc_layer_inputs)\n",
    "        return self.red_lineal(cnn_out)\n",
    "\n",
    "\n",
    "    def feature_size(self):\n",
    "        return self.red_cnn(autograd.Variable(torch.zeros(1, *self.input_shape)).to(device=self.device)).view(1, -1).size(1)"
   ]
  },
  {
   "cell_type": "markdown",
   "metadata": {},
   "source": [
    "\n"
   ]
  },
  {
   "cell_type": "markdown",
   "metadata": {},
   "source": [
    "Definim la classe per al *buffer* de repetició d'experiències:"
   ]
  },
  {
   "cell_type": "code",
   "execution_count": 153,
   "metadata": {},
   "outputs": [],
   "source": [
    "from collections import namedtuple, deque\n",
    "\n",
    "class experienceReplayBuffer:\n",
    "    def __init__(self, memory_size=50000, burn_in=10000):\n",
    "        self.memory_size = memory_size\n",
    "        self.burn_in = burn_in\n",
    "        self.buffer = namedtuple('Buffer',\n",
    "            field_names=['state', 'action', 'reward', 'done', 'next_state'])\n",
    "        self.replay_memory = deque(maxlen=memory_size)\n",
    "\n",
    "    def sample_batch(self, batch_size=32):\n",
    "        samples = np.random.choice(len(self.replay_memory), batch_size,\n",
    "                                   replace=False)\n",
    "        # Ús de l'operador asterisc per desempaquetar deque\n",
    "        batch = zip(*[self.replay_memory[i] for i in samples])\n",
    "        return batch\n",
    "\n",
    "    def append(self, state, action, reward, done, next_state):\n",
    "        self.replay_memory.append(\n",
    "            self.buffer(state, action, reward, done, next_state))\n",
    "\n",
    "    def burn_in_capacity(self):\n",
    "        return len(self.replay_memory) / self.burn_in"
   ]
  },
  {
   "cell_type": "markdown",
   "metadata": {},
   "source": [
    "### 2.2 Definició de l'agent\n"
   ]
  },
  {
   "cell_type": "markdown",
   "metadata": {},
   "source": [
    "A continuació, implementarem una classe que defineixi l'entrenament de l'agent tenint en compte:\n",
    "     <ul>\n",
    "         <li>L'exploració/explotació (decaïment d'epsilon)</li>\n",
    "         <li>L'actualització i sincronització de la xarxa principal i la xarxa objectiu (pèrdua)</li>\n",
    "     </ul>\n",
    "\n",
    "A més, considerarem que l'agent ha superat l'entorn quan obtingui una puntuació superior a 350 en 100 partides"
   ]
  },
  {
   "cell_type": "markdown",
   "metadata": {},
   "source": [
    "<div style=\"background-color: #EDF7FF; border-color: #7C9DBF; border-left: 5px solid #7C9DBF; padding: 0.5em;\">\n",
    "<strong>2.7 Exercici (1 pt):</strong> Implementar els punts següents de la classe <code>DQNAgent()</code>:\n",
    "    <ol>\n",
    "        <li>Declarar les variables de la classe</li>\n",
    "        <li>Inicialitzar les variables necessàries</li>\n",
    "        <li>Implementar l'acció que cal prendre</li>\n",
    "        <li>Actualitzar la xarxa principal segons la freqüència establerta als hiperparàmetres</li>\n",
    "        <li>Calcular l'equació de Bellman</li>\n",
    "        <li>Sincronitzar la xarxa objectiu segons la freqüència establerta als hiperparàmetres</li>\n",
    "        <li>Calcular la mitjana de recompenses dels darrers 100 episodis</li>\n",
    "        <li>Actualitzar epsilon segons: $$\\textrm{max}(\\epsilon · \\epsilon_{\\textrm{decay}}, 0.01)$$ </li>\n",
    "    </ol>\n",
    "A més, durant el procés s'han d'emmagatzemar (*):\n",
    "    <ul>\n",
    "        <li>Les recompenses obtingudes a cada pas de l'entrenament</li>\n",
    "        <li>Les recompenses mitjanes dels 100 episodis anteriors</li>\n",
    "        <li>La pèrdua durant l'entrenament</li>\n",
    "        <li>L'evolució d'epsilon durant l'entrenament</li>\n",
    "    </ul>\n",
    "\n",
    "    -----------------------------------------------------------------------------------------------------------\n",
    "<b>Nota</b>: se us proporciona el codi pre-implementat. La implementació que es demana a l'enunciat està indicada als blocs <i>TODO</i> i/o amb variables igualades a <i>None</i>, excepte en quin moment emmagatzemar les variables que s'indiquen a (*).\n",
    "</div>"
   ]
  },
  {
   "cell_type": "code",
   "execution_count": 154,
   "metadata": {},
   "outputs": [],
   "source": [
    "import torch\n",
    "from copy import deepcopy\n",
    "import numpy as np\n",
    "from datetime import datetime\n",
    "\n",
    "class DQNAgent:\n",
    "    ###################################################\n",
    "    ######TODO1: Declarar variables ##################\n",
    "\n",
    "    def __init__(self, env, main_network,\n",
    "                 buffer, reward_threshold,\n",
    "                 epsilon=0.1, eps_decay=0.99, batch_size=32, nblock=100):\n",
    "        \"\"\"\"\n",
    "        Params\n",
    "        ======\n",
    "        env: entorn\n",
    "        main_network: classe amb la xarxa neuronal dissenyada\n",
    "        target_network: xarxa objectiu\n",
    "        buffer: classe amb el buffer de repetició d'experiències\n",
    "        epsilon: epsilon\n",
    "        eps_decay: epsilon decay\n",
    "        batch_size: batch size\n",
    "        nblock: bloc dels X darrers episodis dels quals es calcularà la mitjana de recompensa\n",
    "        reward_threshold: llindar de recompensa on es considera que s'ha assolit el problema\n",
    "        \"\"\"\n",
    "        if torch.cuda.is_available():\n",
    "            self.device = 'cuda'\n",
    "        else:\n",
    "            self.device = 'cpu'\n",
    "        self.env = env\n",
    "        self.main_network = main_network\n",
    "        self.target_network = deepcopy(main_network) # xarxa objectiu (còpia de la principal)\n",
    "        self.buffer = buffer\n",
    "        self.epsilon = epsilon\n",
    "        self.eps_decay = eps_decay\n",
    "        self.batch_size = batch_size\n",
    "        self.nblock = nblock # són els blocs dels X episodis dels quals es calcularà la mitjana de recompensa\n",
    "        self.reward_threshold = reward_threshold # llindar de recompensa, si es supera es para el procés d'entrenament\n",
    "        self.initialize()\n",
    "\n",
    "    ###################################################################\n",
    "    #####TODO2: Inicialitzar variables extra que són necessàries######\n",
    "    def initialize(self):\n",
    "        self.training_update_loss = []\n",
    "        self.update_loss = []\n",
    "        self.training_rewards = []\n",
    "        self.mean_training_rewards = []\n",
    "        self.sync_eps = []\n",
    "        self.total_reward = 0\n",
    "        self.step_count = 0\n",
    "        inicio_juego = preprocess_observation(self.env.reset())\n",
    "        self.state0 = stack_frame(None, inicio_juego, True) # inicialitzem l'stack d'estats amb el valor inicial de la primera observació\n",
    "\n",
    "\n",
    "    #################################################################################\n",
    "    ######TODO3: Prendre una nova acció ############################################\n",
    "    def take_step(self, eps, mode='train'):\n",
    "        if mode == 'explore':\n",
    "            action = self.env.action_space.sample()  # acció aleatòria al burn-in\n",
    "        else:\n",
    "            action = self.main_network.get_action(self.state0, eps) # acció a partir del valor de Q (elecció de l'acció amb millor Q)\n",
    "            self.step_count += 1\n",
    "\n",
    "        #TODO: Realització de l'acció i obtenció del nou estat i la recompensa.\n",
    "        new_state, reward, done, _ = self.env.step(action) \n",
    "        new_state = stack_frame(self.state0, preprocess_observation(new_state), False)  # Recordar preprocessar els estats\n",
    "        self.total_reward += reward\n",
    "        self.buffer.append(self.state0, action, reward, done, new_state) # guardar experiència al buffer\n",
    "        self.state0 = new_state\n",
    "\n",
    "        #TODO: Resetejar entorn 'if done'\n",
    "        if done:\n",
    "            self.state0 = stack_frame(None, preprocess_observation(self.env.reset()), True)\n",
    "        return done\n",
    "    \n",
    "    ## Entrenament\n",
    "    def train(self, gamma=0.99, max_episodes=50000,\n",
    "              batch_size=32,\n",
    "              dnn_update_frequency=4,\n",
    "              dnn_sync_frequency=2000, min_episodios=250, min_epsilon = 0.01):\n",
    "        self.gamma = gamma\n",
    "        # Omplim el buffer amb N experiències aleatòries ()\n",
    "        print(\"Filling replay buffer...\")\n",
    "        while self.buffer.burn_in_capacity() < 1:\n",
    "            self.take_step(self.epsilon, mode='explore')\n",
    "\n",
    "        episode = 0\n",
    "        training = True\n",
    "        print(\"Training...\")\n",
    "        start_time = datetime.now()\n",
    "        while training:\n",
    "            self.state0 = stack_frame(None, preprocess_observation(self.env.reset()), True)\n",
    "            self.total_reward = 0\n",
    "            gamedone = False\n",
    "            while gamedone == False:\n",
    "                # L'agent pren una acció\n",
    "                gamedone = self.take_step(self.epsilon, mode='train')\n",
    "                #################################################################################\n",
    "                ####TODO 4: Actualitzar xarxa principal segons la freqüència establerta #########\n",
    "                if self.step_count % dnn_update_frequency == 0:\n",
    "                    self.update()\n",
    "                \n",
    "                ########################################################################################\n",
    "                ###TODO 6: Sincronitzar xarxa principal i xarxa objectiu segons la freqüència establerta\n",
    "                if self.step_count % dnn_sync_frequency == 0:\n",
    "                    self.target_network.load_state_dict(self.main_network.state_dict())                                        \n",
    "                                       \n",
    "                if gamedone:\n",
    "                    episode += 1\n",
    "                    ##################################################################\n",
    "                    ########TODO: Emmagatzemar epsilon, training rewards i loss#######\n",
    "                    self.sync_eps.append(self.epsilon)\n",
    "                    self.training_rewards.append(self.total_reward)                                                  \n",
    "                    self.training_update_loss.append(np.mean(self.update_loss))                                         \n",
    "                    self.update_loss = []\n",
    "\n",
    "                    #######################################################################################\n",
    "                    ###TODO 7: Calcular la mitjana de recompensa dels últims X episodis, i emmagatzemar####\n",
    "                    mean_rewards = np.mean(self.training_rewards[-self.nblock:])\n",
    "                    self.mean_training_rewards.append(mean_rewards)\n",
    "\n",
    "                    ##################################################################\n",
    "                    end_time = datetime.now()\n",
    "                    # get difference time\n",
    "                    delta = end_time - start_time \n",
    "                    # time difference in minutes\n",
    "                    total_minutes = delta.total_seconds() / 60\n",
    "                    estimated_remain_time = total_minutes / episode * (max_episodes - episode)                    \n",
    "                    print(\"\\rEpisode {:d} Mean Rewards {:.2f} Epsilon {} Time {} minutes Remaining Time {} minutes\\t\\t\"\n",
    "                          .format(episode, mean_rewards, round(self.epsilon,4),round(total_minutes,2), round(estimated_remain_time,2)), end=\"\")                    \n",
    "\n",
    "\n",
    "                    # Comprovar si s'ha arribat al màxim d'episodis\n",
    "                    if episode >= max_episodes:\n",
    "                        training = False\n",
    "                        print('\\nEpisode limit reached.')\n",
    "                        break\n",
    "\n",
    "\n",
    "                    # Acaba el joc si la mitjana de recompenses ha arribat al llindar fixat per a aquest joc\n",
    "                    # i s'ha entrenat un mínim d'episodis\n",
    "                    if mean_rewards >= self.reward_threshold and min_episodios <  episode:\n",
    "                        training = False\n",
    "                        print('\\nEnvironment solved in {} episodes!'.format(\n",
    "                            episode))\n",
    "                        break\n",
    "\n",
    "                    #################################################################################\n",
    "                    ######TODO 8: Actualitzar epsilon ########\n",
    "                    # actualitzar epsilon segons la velocitat de descens fixada on no pot ser inferior a min_epsilon\n",
    "                    self.epsilon = max(self.epsilon * self.eps_decay, min_epsilon)\n",
    "\n",
    "\n",
    "    ####################################\n",
    "    ####TODO 5: Càlcul de la pèrdua ####\n",
    "    def calculate_loss(self, batch):\n",
    "        # Separem les variables de l'experiència i les convertim a tensors\n",
    "        states, actions, rewards, dones, next_states = [i for i in batch]\n",
    "        rewards_vals = torch.FloatTensor(rewards).to(device=self.device)\n",
    "        actions_vals = torch.LongTensor(np.array(actions)).to(device=self.device).reshape(-1,1)\n",
    "        dones_t = torch.ByteTensor(dones).to(device=self.device)\n",
    "\n",
    "        # Obtenim els valors de Q de la xarxa principal\n",
    "        qvals = torch.gather(self.main_network.get_qvals(states), 1, actions_vals)\n",
    "        # Obtenim els valors de Q de la xarxa objectiu\n",
    "        # El paràmetre detach() evita que aquests valors actualitzin la xarxa objectiu\n",
    "        qvals_next = torch.max(self.target_network.get_qvals(next_states), dim=-1)[0].detach()\n",
    "        qvals_next[dones_t] = 0 # 0 en estats terminals\n",
    "\n",
    "        #################################################################################\n",
    "        ###TODO: Calcular l'equació de Bellman\n",
    "        expected_qvals = rewards_vals + self.gamma * qvals_next\n",
    "        \n",
    "        loss = torch.nn.MSELoss()(qvals, expected_qvals.reshape(-1,1))\n",
    "        return loss\n",
    "\n",
    "    def update(self):\n",
    "        self.main_network.optimizer.zero_grad()  # eliminem qualsevol gradient passat\n",
    "        batch = self.buffer.sample_batch(batch_size=self.batch_size) # seleccionem un conjunt del buffer\n",
    "        loss = self.calculate_loss(batch)# calculem la pèrdua\n",
    "        loss.backward() # calculem la diferència per obtenir els gradients\n",
    "        self.main_network.optimizer.step() # apliquem els gradients a la xarxa neuronal\n",
    "        # Guardem els valors de pèrdua\n",
    "        if self.device == 'cuda':\n",
    "            self.update_loss.append(loss.detach().cpu().numpy())\n",
    "        else:\n",
    "            self.update_loss.append(loss.detach().numpy())"
   ]
  },
  {
   "cell_type": "markdown",
   "metadata": {},
   "source": [
    "### 2.3 Entrenament\n",
    "A continuació entrenarem el model amb els següents hiperparàmetres:\n",
    "   <ul>\n",
    "        <li>Velocitat d'aprenentatge: 0.001 </li>\n",
    "        <li>Mida del batch: 32</li>\n",
    "        <li>Capacitat màxima del buffer: 8000</li>\n",
    "        <li>Gamma: 0.99</li>\n",
    "        <li>Epsilon: 1, amb decaïment de 0.995 amb un mínim de 0.01</li>\n",
    "        <li>Nombre d'experiències per emplenar inicialment el buffer: 100</li>\n",
    "        <li>Nombre màxim d'episodis: 5000</li>\n",
    "        <li>Nombre mínim d'episodis: 250</li>\n",
    "        <li>Freqüència d'actualització de la xarxa neuronal: 100 </li>\n",
    "        <li>Freqüència de sincronització amb la xarxa objectiu: 5000</li>\n",
    "    </ul>\n",
    "\n",
    "És probable que amb els hiperparàmetres proposats no s'arribi a solucionar l'entorn (aconseguir una puntuació de 350 a la mitjana de 100 partides). L'objectiu principal és millorar els resultats de l'agent aleatori.\n",
    "\n",
    "Està permès realitzar modificacions als paràmetres presentats encara que, el darrer exercici d'aquesta PAC, consisteix a millorar els resultats obtinguts amb aquest entrenament. Per tant, encara que sigui permès, no és recomanable.\n",
    "\n",
    "Si l'alumne no disposa de temps suficient pot escurçar el temps d'entrenament fixant el nombre màxim d'episodis = 3000 en lloc dels 5000 proposats.\n"
   ]
  },
  {
   "cell_type": "markdown",
   "metadata": {},
   "source": [
    "<div style=\"background-color: #EDF7FF; border-color: #7C9DBF; border-left: 5px solid #7C9DBF; padding: 0.5em;\">\n",
    "<strong>2.8 Exercici (0.1 pts):</strong> Declarar els hiperparàmetres, carregueu el model de xarxa neuronal i entreneu l'agent\n",
    "</div>"
   ]
  },
  {
   "cell_type": "code",
   "execution_count": 155,
   "metadata": {},
   "outputs": [],
   "source": [
    "lr = 0.001          #Velocitat d'aprenentatge\n",
    "BATCH_SIZE = 32     #Conjunt a agafar del buffer per a la xarxa neuronal\n",
    "MEMORY_SIZE = 8000  #Màxima capacitat del buffer\n",
    "GAMMA = 0.99        #Valor gamma de l'equació de Bellman\n",
    "EPSILON = 1         #Valor inicial d'epsilon\n",
    "EPSILON_DECAY = 0.995 #Decaïment d'epsilon\n",
    "EPSILON_MIN = 0.01  #Valor mínim d'epsilon\n",
    "BURN_IN = 100       #Nombre d'episodis inicials utilitzats per emplenar el buffer abans d'entrenar\n",
    "MAX_EPISODES = 5000 #Nombre màxim d'episodis (l'agent ha d'aprendre abans d'arribar a aquest valor)\n",
    "MIN_EPISODES = 250  #Nombre mínim d'episodis\n",
    "DNN_UPD = 100       #Freqüència d'actualització de la xarxa neuronal\n",
    "DNN_SYNC = 5000     #Freqüència de sincronització de pesos entre la xarxa neuronal i la xarxa objectiu\n",
    "\n",
    "REWARD_THRESHOLD = 350 #Llindar de recompensa on es considera que s'ha assolit el problema"
   ]
  },
  {
   "cell_type": "code",
   "execution_count": 156,
   "metadata": {},
   "outputs": [
    {
     "name": "stdout",
     "output_type": "stream",
     "text": [
      "Filling replay buffer...\n",
      "Training...\n",
      "Episode 5000 Mean Rewards 169.70 Epsilon 0.01 Time 400.85 minutes Remaining Time 0.0 minutes\t\t\t\t\t\n",
      "Episode limit reached.\n"
     ]
    }
   ],
   "source": [
    "# instanciem la classe del buffer\n",
    "buffer = experienceReplayBuffer(memory_size=MEMORY_SIZE, burn_in=BURN_IN)\n",
    "\n",
    "# instanciem el model de xarxa neuronal\n",
    "dqn = DQN_CNN(env, learning_rate=lr)\n",
    "\n",
    "# instanciem l'agent\n",
    "agentDQN = DQNAgent(env, dqn, buffer, REWARD_THRESHOLD, EPSILON, EPSILON_DECAY, BATCH_SIZE)\n",
    "\n",
    "# entrenem\n",
    "agentDQN.train(gamma=GAMMA, max_episodes=MAX_EPISODES, batch_size=BATCH_SIZE, dnn_update_frequency=DNN_UPD, dnn_sync_frequency=DNN_SYNC)"
   ]
  },
  {
   "cell_type": "markdown",
   "metadata": {},
   "source": [
    "<div style=\"background-color: #EDF7FF; border-color: #7C9DBF; border-left: 5px solid #7C9DBF; padding: 0.5em;\">\n",
    "<strong>2.9 Exercici (0.1 pts):</strong> Representar:\n",
    "    <ol>\n",
    "        <li>Gràfic amb les recompenses obtingudes al llarg de l'entrenament, l'evolució de les recompenses mitjanes i el llindar de recompensa establert per l'entorn.</li>\n",
    "        <li>Gràfic amb l'evolució de la pèrdua al llarg de l'entrenament</li>\n",
    "        <li>Gràfic amb l'evolució d'epsilon durant l'entrenament</li>\n",
    "    </ol>\n",
    "</div>"
   ]
  },
  {
   "cell_type": "code",
   "execution_count": 157,
   "metadata": {},
   "outputs": [],
   "source": [
    " def plot_rewards(agent):\n",
    "        plt.figure(figsize=(12,8))\n",
    "        plt.plot(agent.training_rewards, label='Rewards')\n",
    "        plt.plot(agent.mean_training_rewards, label='Mean Rewards')\n",
    "        plt.axhline(agent.reward_threshold, color='r', label=\"Reward threshold\")\n",
    "        plt.xlabel('Episodes')\n",
    "        plt.ylabel('Rewards')\n",
    "        plt.legend(loc=\"upper left\")\n",
    "        plt.show()\n",
    "\n",
    " def plot_loss(agent):\n",
    "        plt.figure(figsize=(12,8))\n",
    "        plt.plot(agent.training_update_loss, label='Loss')\n",
    "        plt.xlabel('Episodes')\n",
    "        plt.ylabel('Loss')\n",
    "        plt.legend(loc=\"upper left\")\n",
    "        plt.show()\n",
    "        \n",
    " def plot_epsilon(agent):\n",
    "        plt.figure(figsize=(12,8))\n",
    "        plt.plot(agent.sync_eps, label='Epsilon')\n",
    "        plt.xlabel('Episodes')\n",
    "        plt.ylabel('Epsilon')\n",
    "        plt.legend(loc=\"upper left\")\n",
    "        plt.show()\n",
    "    "
   ]
  },
  {
   "cell_type": "code",
   "execution_count": 158,
   "metadata": {},
   "outputs": [
    {
     "data": {
      "image/png": "[encoded data removed]",
      "text/plain": [
       "<Figure size 864x576 with 1 Axes>"
      ]
     },
     "metadata": {
      "needs_background": "light"
     },
     "output_type": "display_data"
    }
   ],
   "source": [
    "plot_rewards(agentDQN)    "
   ]
  },
  {
   "cell_type": "code",
   "execution_count": 159,
   "metadata": {},
   "outputs": [
    {
     "data": {
      "image/png": "[encoded data removed]",
      "text/plain": [
       "<Figure size 864x576 with 1 Axes>"
      ]
     },
     "metadata": {
      "needs_background": "light"
     },
     "output_type": "display_data"
    }
   ],
   "source": [
    "plot_loss(agentDQN)"
   ]
  },
  {
   "cell_type": "markdown",
   "metadata": {},
   "source": [
    "No es veu gaire cap patró degut a valors extrems que \"embruten\" la gràfica. Anem a mostrar un altre graf sense aquests valors."
   ]
  },
  {
   "cell_type": "code",
   "execution_count": 160,
   "metadata": {},
   "outputs": [],
   "source": [
    "def reject_outliers(data, m=2):\n",
    "    return data[abs(data - np.mean(data)) < m * np.std(data)]\n",
    "\n",
    "def plot_loss_no_outliers(data):\n",
    "        plt.figure(figsize=(12,8))\n",
    "        plt.plot(data, label='Loss')\n",
    "        plt.xlabel('Episodes')\n",
    "        plt.ylabel('Loss')\n",
    "        plt.legend(loc=\"upper left\")\n",
    "        plt.show()    "
   ]
  },
  {
   "cell_type": "code",
   "execution_count": 161,
   "metadata": {},
   "outputs": [
    {
     "data": {
      "image/png": "[encoded data removed]",
      "text/plain": [
       "<Figure size 864x576 with 1 Axes>"
      ]
     },
     "metadata": {
      "needs_background": "light"
     },
     "output_type": "display_data"
    }
   ],
   "source": [
    "loss_no_outliers = reject_outliers(np.array(agentDQN.training_update_loss))\n",
    "plot_loss_no_outliers(loss_no_outliers)"
   ]
  },
  {
   "cell_type": "code",
   "execution_count": 162,
   "metadata": {},
   "outputs": [
    {
     "data": {
      "image/png": "[encoded data removed]",
      "text/plain": [
       "<Figure size 864x576 with 1 Axes>"
      ]
     },
     "metadata": {
      "needs_background": "light"
     },
     "output_type": "display_data"
    }
   ],
   "source": [
    "plot_epsilon(agentDQN)"
   ]
  },
  {
   "cell_type": "code",
   "execution_count": 163,
   "metadata": {
    "scrolled": true
   },
   "outputs": [
    {
     "name": "stdout",
     "output_type": "stream",
     "text": [
      "La mitjana global de les recompenses és de: 186.26095187052317 \n"
     ]
    }
   ],
   "source": [
    "print(\"La mitjana global de les recompenses és de: {} \".format(np.mean(agentDQN.mean_training_rewards)))"
   ]
  },
  {
   "cell_type": "markdown",
   "metadata": {},
   "source": [
    "<div style=\"background-color: #EDF7FF; border-color: #7C9DBF; border-left: 5px solid #7C9DBF; padding: 0.5em;\">\n",
    "    <strong>2.10 Exercici (0.1 pts):</strong> Comenta els resultats\n",
    "</div>"
   ]
  },
  {
   "cell_type": "markdown",
   "metadata": {},
   "source": [
    "<div style=\"background-color: #fcf2f2; border-color: #dfb5b4; border-left: 5px solid #dfb5b4; padding: 0.5em;\">\n",
    "<strong>Solució:</strong>\n",
    "\n",
    "Podem observar que en cap moment tenim valors per sobre del threshold. El que si podem dir és que la mitjana de les recompenses està per sobre de l'exercici anterior on teniem només valors aleatoris. \n",
    "    \n",
    "El gràfic de la pèrdua no sembla que que tingui bona representació ja que és una mesura quant s'allunya la sortida de la xarxa neuronal del que s'espera que sigui la sortida correcta, per tant al principi aquest valor hauria de ser més alt i conforme anés entrenant hauria d'anar disminuint fins a estabilitzar-se. He tret valors extrems per veure si podem veure un patró en la pèrdua. \n",
    "\n",
    "La epsilon comença al valor màxim i va disminuint conforme es van jugant les partides. Al principi agafa tot accions aleatories amb epsilon quasi amb valor 1. Conforme va disminuint de 1 de forma progrtessiva, cada cop agafa menys aleatories i fa servir el model d'aprenentatge fins que amb el valor mínim de epsilon agafa quasi totes del model.  \n",
    "</div>"
   ]
  },
  {
   "cell_type": "markdown",
   "metadata": {},
   "source": [
    "<div style=\"background-color: #EDF7FF; border-color: #7C9DBF; border-left: 5px solid #7C9DBF; padding: 0.5em;\">\n",
    "    <strong>2.11 Exercici (0.1 pts):</strong> Guardar el model entrenat en format \".pth\" amb el nom \"agentDQN_Trained_Model_dqn_cnn.pth\".\n",
    "</div>"
   ]
  },
  {
   "cell_type": "code",
   "execution_count": 164,
   "metadata": {},
   "outputs": [],
   "source": [
    "torch.save(agentDQN.main_network.state_dict(), 'agentDQN_Trained_Model_dqn_cnn.pth')"
   ]
  },
  {
   "cell_type": "markdown",
   "metadata": {},
   "source": [
    "### 2.4 Test de l'agent entrenat\n",
    "\n",
    "Un cop entrenat l'agent, ens interessa comprovar com ha après de bé, si el \"robot\" és capaç de realitzar les tasques apreses. Per això, recuperem el model entrenat i deixem que l'agent prengui accions aleatòries segons aquest model i n'observem el comportament."
   ]
  },
  {
   "cell_type": "markdown",
   "metadata": {},
   "source": [
    "<div style=\"background-color: #EDF7FF; border-color: #7C9DBF; border-left: 5px solid #7C9DBF; padding: 0.5em;\">\n",
    "<strong>2.12 Exercici (0.2 pts):</strong> Carregar el model entrenat i executar l'agent entrenat durant 20 episodis consecutius. Calcular la suma de recompenses per a cada episodi. Mostrar en un gràfic la suma de les recompenses respecte dels episodis, incloent-hi el llindar de recompensa establert per l'entorn.\n",
    "</div>"
   ]
  },
  {
   "cell_type": "code",
   "execution_count": 165,
   "metadata": {},
   "outputs": [
    {
     "name": "stdout",
     "output_type": "stream",
     "text": [
      "Episode 19/20."
     ]
    },
    {
     "data": {
      "image/png": "[encoded data removed]",
      "text/plain": [
       "<Figure size 864x576 with 1 Axes>"
      ]
     },
     "metadata": {
      "needs_background": "light"
     },
     "output_type": "display_data"
    }
   ],
   "source": [
    "env = gym.make('SpaceInvaders-v4', render_mode='rgb_array')\n",
    "\n",
    "def play_games(env, ag, num_games):    \n",
    "    total_reward_list = []    \n",
    "    for i_game in range(num_games): \n",
    "        if i_game % 1 == 0:\n",
    "            print(\"\\rEpisode {}/{}.\".format(i_game, num_games), end=\"\")\n",
    "            sys.stdout.flush()\n",
    "            \n",
    "        env.reset()\n",
    "        observation = env.reset()\n",
    "        start_game = preprocess_observation(observation)\n",
    "        state= stack_frame(None, start_game, True)\n",
    "        total_reward = 0\n",
    "        done = False\n",
    "        while not done:\n",
    "            action = ag.main_network.get_action(state,epsilon=0.0)\n",
    "            observation, reward, done, info = env.step(action)\n",
    "            total_reward += reward\n",
    "            state= stack_frame(state, preprocess_observation(observation), False)\n",
    "            if done:    \n",
    "                total_reward_list.append(total_reward)\n",
    "    env.close()\n",
    "    return total_reward_list      \n",
    "          \n",
    "total_reward_list = play_games(env, agentDQN, 20)\n",
    "\n",
    "\n",
    "def plot_rewards_min(agent, total_reward_list):\n",
    "        plt.figure(figsize=(12,8))\n",
    "        plt.plot(total_reward_list, label='Rewards')\n",
    "        plt.axhline(agent.reward_threshold, color='r', label=\"Reward threshold\")\n",
    "        plt.xlabel('Episodes')\n",
    "        plt.ylabel('Rewards')\n",
    "        plt.legend(loc=\"upper left\")\n",
    "        plt.show()\n",
    "\n",
    "plot_rewards_min(agentDQN, total_reward_list)\n"
   ]
  },
  {
   "cell_type": "markdown",
   "metadata": {},
   "source": [
    "<div style=\"background-color: #EDF7FF; border-color: #7C9DBF; border-left: 5px solid #7C9DBF; padding: 0.5em;\">\n",
    "<strong>2.13 Anàlisi (0.1 pts):</strong> Emmagatzema una partida d'exemple de l'agent a la carpeta vídeos en format GIF per poder visualitzar-ne el comportament (es dóna el codi fet) i comenta el comportament de l'agent entrenat.\n",
    "</div>"
   ]
  },
  {
   "cell_type": "code",
   "execution_count": 166,
   "metadata": {},
   "outputs": [],
   "source": [
    "env = gym.make('SpaceInvaders-v4', render_mode='rgb_array')\n",
    "\n",
    "# Funció per a jugar i enmagatzemar una partida en format GIF amb un agent entrenat\n",
    "def save_agent_gif(env, ag, nombre_fichero):\n",
    "    '''\n",
    "    :param env:  entorn GYM\n",
    "    :param ag:  agent entrenat\n",
    "    :param nombre_fichero:  nom del fitxer\n",
    "    :return:\n",
    "    '''\n",
    "    frames = []\n",
    "    env.reset()\n",
    "    observation = env.reset()\n",
    "    incio_juego = preprocess_observation(observation)\n",
    "    state= stack_frame(None, incio_juego, True)\n",
    "    total_reward = 0 \n",
    "    t=0\n",
    "    while True:\n",
    "            state= stack_frame(state, preprocess_observation(observation), False)\n",
    "            frame = env.render(mode='rgb_array')\n",
    "            frames.append(_label_with_text(frame))                \n",
    "            action = ag.main_network.get_action(state,epsilon=0.0)\n",
    "            observation, reward, done, info = env.step(action)\n",
    "            total_reward += reward\n",
    "            t=t+1\n",
    "            if done:\n",
    "                break\n",
    "\n",
    "    env.close()\n",
    "    try:\n",
    "        os.makedirs('videos')\n",
    "    except:\n",
    "        pass\n",
    "    imageio.mimwrite(os.path.join('./videos/', nombre_fichero), frames, fps=60)\n",
    "\n",
    "# Juguem i enmagatzemem una partida amb l'agent entrenat \n",
    "save_agent_gif(env,agentDQN, 'agent_dqn.gif')"
   ]
  },
  {
   "cell_type": "markdown",
   "metadata": {},
   "source": [
    "<div style=\"background-color: #fcf2f2; border-color: #dfb5b4; border-left: 5px solid #dfb5b4; padding: 0.5em;\">\n",
    "<strong>Resposta (comentaris):</strong>\n",
    "<br><br>\n",
    "L'agent entrenat te un comportament repetitiu i similar al exemple que han facilitat a l'exercici. No es mou de la seva posició fins que finalitza la partida.\n",
    "![title](videos/agent_dqn.gif)    \n",
    "</div>\n"
   ]
  },
  {
   "cell_type": "markdown",
   "metadata": {},
   "source": [
    "Pot ser que el resultat sigui molt semblant al següent GIF. No us preocupeu, amb els paràmetres escollits és difícil obtenir un millor rendiment.\n",
    "    \n",
    "![title](videos/space_invader_dqn_comportamiento_continuo.gif)"
   ]
  },
  {
   "cell_type": "markdown",
   "metadata": {},
   "source": [
    "## 3. Agent Dueling DQN (2.2 pts)\n",
    "\n",
    "En aquest apartat resoldrem el mateix entorn amb les mateixes característiques per a l'agent, però usant una dueling DQN. Com en el cas anterior, primer definirem el model de xarxa neuronal, després descriurem el comportament de l'agent, l'entrenarem i, finalment, en testejarem el funcionament.\n",
    "\n",
    "### 3.1 Definició de l'arquitectura de la xarxa neuronal\n",
    "\n",
    "\n",
    "L'objectiu principal de les dueling DQN és \"estalviar-se\" el càlcul del valor de Q en aquells estats on és irrellevant l'acció que es prengui. Per això es descompon la funció Q en dos components:\n",
    "\n",
    "\n",
    "$$Q(s, a) = A(s, a) + V (s)$$\n",
    "\n",
    "\n",
    "Aquesta descomposició es fa a nivell de l'arquitectura de la xarxa neuronal. Les primeres capes que teníem a la DQN seran comuns, i després la xarxa es dividirà en dues parts separades definides per la resta de capes."
   ]
  },
  {
   "cell_type": "markdown",
   "metadata": {},
   "source": [
    "La descomposició en subxarxes del model de la DQN implementada a l'apartat anterior serà llavors:\n",
    "<ol>\n",
    "     <li>Bloc comú, la xarxa CNN</li>\n",
    "     <li>Xarxa advantage A(s,a):</li>\n",
    "          <ul>\n",
    "              <li>Una primera capa completament connectada (representada en pytorch per nn.Lineal) de 512 neurones, amb activació ReLU</li>\n",
    "              <li>Una darrera capa completament connectada. Aquesta serà la nostra capa de sortida i, per tant, el nombre de neurones de sortida dependrà del tipus de xarxa, A(s,a) en aquest cas, i tindrà tantes neurones com dimensions tingui l'espai d'accions.</li>\n",
    "              </ul>\n",
    "     <li>Xarxa value V(s):</li>\n",
    "             <ul>\n",
    "              <li>Una primera capa completament connectada (representada en pytorch per nn.Lineal) de 512 neurones, amb activació ReLU</li>\n",
    "              <li>Una darrera capa completament connectada. Aquesta serà la nostra capa de sortida amb un valor per estat.</li>\n",
    "              </ul>\n",
    "</ol>"
   ]
  },
  {
   "cell_type": "markdown",
   "metadata": {},
   "source": [
    "<div style=\"background-color: #EDF7FF; border-color: #7C9DBF; border-left: 5px solid #7C9DBF; padding: 0.5em;\">\n",
    "<strong>3.1 Exercici (0.75 pts):</strong> Implementar la classe <code>duelingDQN()</code>. Inicialitzar les variables necessàries i definir el model funcional de xarxa neuronal indicat.\n",
    "\n",
    "    -----------------------------------------------------------------------------------------------------------\n",
    "<b>Nota</b>: se us proporciona el codi pre-implementat. La implementació que es demana a l'enunciat està indicada als blocs <i>TODO</i> i/o amb variables igualades a <i>None</i>.\n",
    "</div>"
   ]
  },
  {
   "cell_type": "code",
   "execution_count": 167,
   "metadata": {},
   "outputs": [],
   "source": [
    "import torch\n",
    "import numpy as np\n",
    "import torch.nn as nn\n",
    "import torch.autograd as autograd\n",
    "import torch.optim as optim\n",
    "\n",
    "class DuelingDQN(torch.nn.Module):\n",
    "    ###################################\n",
    "    ###TODO: inicialització i model ###\n",
    "    def __init__(self, env, learning_rate=1e-3):\n",
    "        \"\"\"\n",
    "        Params\n",
    "        ======\n",
    "        input_shape: mida de l'espai d'estats\n",
    "        n_outputs: mida de l'espai d'accions\n",
    "        actions: array d'accions possibles\n",
    "        device: cpu o cuda\n",
    "        red_cnn: definició de la xarxa convolucional\n",
    "        value: definició de la xarxa neuronal value\n",
    "        advantage: definició de la xarxa neuronal advantage\n",
    "        \"\"\"\n",
    "        ###################################\n",
    "        ###TODO: Inicialitzar variables####\n",
    "        super(DuelingDQN, self).__init__()\n",
    "        self.input_shape = (4,84,84)\n",
    "        self.n_outputs = env.action_space.n\n",
    "        self.actions = np.arange(env.action_space.n)\n",
    "        \n",
    "        if torch.cuda.is_available():\n",
    "            self.device = 'cuda'\n",
    "        else:\n",
    "            self.device = 'cpu'\n",
    "            \n",
    "        ########################################\n",
    "        ##TODO: Construcció de la xarxa neuronal\n",
    "        self.red_cnn = nn.Sequential(\n",
    "            nn.Conv2d(in_channels=4, out_channels=32, kernel_size=8, stride=4),\n",
    "            nn.ReLU(),\n",
    "            nn.Conv2d(in_channels=32, out_channels=64, kernel_size=4, stride=2),\n",
    "            nn.ReLU(),\n",
    "            nn.Conv2d(in_channels=64, out_channels=64, kernel_size=3, stride=1),\n",
    "            nn.ReLU()\n",
    "        )\n",
    "\n",
    "        if torch.cuda.is_available():\n",
    "            self.red_cnn.cuda()\n",
    "\n",
    "\n",
    "        self.fc_layer_inputs = self.feature_size()\n",
    "\n",
    "        self.advantage = nn.Sequential(\n",
    "            nn.Linear(self.fc_layer_inputs, 512),\n",
    "            nn.ReLU(),\n",
    "            nn.Linear(512, self.n_outputs)\n",
    "        )\n",
    "\n",
    "        self.value = nn.Sequential(\n",
    "            nn.Linear(self.fc_layer_inputs, 512),\n",
    "            nn.ReLU(),\n",
    "            nn.Linear(512, 1)\n",
    "        )\n",
    "\n",
    "        ### S'ofereix l'opció de treballar amb cuda\n",
    "        if self.device == 'cuda':\n",
    "            self.value.cuda()\n",
    "            self.advantage.cuda()\n",
    "\n",
    "        ### Inicialitzem l'optimitzador\n",
    "        self.optimizer = optim.Adam(self.parameters(), lr=learning_rate)\n",
    "\n",
    "    #######################################\n",
    "    #####TODO: funció forward#############\n",
    "    def forward(self, x):\n",
    "        \"\"\"  \n",
    "        x: estat de l'entorn\n",
    "        \"\"\"   \n",
    "        if len(x.shape) == 3:\n",
    "            x = x.unsqueeze(0) # afegim una dimensió per a poder passar-la a la xarxa convolucional en cas que sigui un estat i no un batch d'estats\n",
    "                                    \n",
    "        x = self.red_cnn(x) # x: sortida de la xarxa convolucional\n",
    "        x = x.view(x.size(0), -1) # aplana la xarxa convolucional per a poder passar-la a la xarxa neuronal avantatge i value\n",
    "        advantage = self.advantage(x) # advantage: sortida de la xarxa neuronal advantage\n",
    "        value = self.value(x) # value: sortida de la xarxa neuronal value\n",
    "        return value + advantage - advantage.mean() # sortida de la xarxa neuronal\n",
    "        \n",
    "\n",
    "    ### Métode e-greedy\n",
    "    def get_action(self, state, epsilon=0.05):\n",
    "        if np.random.random() < epsilon:\n",
    "            action = np.random.choice(self.actions)  # acció aleatòria\n",
    "        else:\n",
    "            qvals = self.get_qvals(state)  # acció a partir del càlcul del valor de Q per a aquesta acció\n",
    "            action= torch.max(qvals, dim=-1)[1].item()\n",
    "        return action\n",
    "\n",
    "\n",
    "    def get_qvals(self, state):\n",
    "        if type(state) is tuple:\n",
    "            state = np.array(state)\n",
    "        state_t = torch.FloatTensor(state).to(device=self.device)\n",
    "        return self.forward(state_t)\n",
    "\n",
    "\n",
    "    def feature_size(self):\n",
    "        return self.red_cnn(autograd.Variable( torch.zeros(1, * self.input_shape)).to(device=self.device)).view(1, -1).size(1)\n"
   ]
  },
  {
   "cell_type": "markdown",
   "metadata": {},
   "source": [
    "Per al buffer de repetició d'experiències podem fer servir exactament la mateixa classe 'experienceReplayBuffer' descrita a l'apartat anterior de la DQN."
   ]
  },
  {
   "cell_type": "markdown",
   "metadata": {},
   "source": [
    "### 3.2 Definició de l'agent"
   ]
  },
  {
   "cell_type": "markdown",
   "metadata": {},
   "source": [
    "La diferència entre la DQN i la dueling DQN se centra, com hem vist, a la definició de l'arquitectura de la xarxa. Però el procés daprenentatge i actualització és exactament el mateix. Així, podem recuperar la classe implementada a l'apartat anterior, DQNAgent() i reutilitzar-la aquí sota el nom de duelingDQNAgent(). L'únic que cal fer és afegir l'optimitzador entre les variables a declarar i adaptar la funció de pèrdua al format Functional de pytorch."
   ]
  },
  {
   "cell_type": "markdown",
   "metadata": {},
   "source": [
    "<div style=\"background-color: #EDF7FF; border-color: #7C9DBF; border-left: 5px solid #7C9DBF; padding: 0.5em;\">\n",
    "<strong>3.2 Exercici (0.5 pts):</strong> Implementar la classe <code>duelingDQNAgent()</code> com la <code>DQNAgent()</code>\n",
    "<p>\n",
    "</p>\n",
    "De nou, durant el procés s'han d'emmagatzemar (*):\n",
    "     <ul>\n",
    "         <li>Les recompenses obtingudes a cada pas de l'entrenament</li>\n",
    "         <li>Les recompenses mitjanes dels 100 episodis anteriors</li>\n",
    "         <li>La pèrdua durant l'entrenament</li>\n",
    "         <li>L'evolució d'epsilon durant l'entrenament</li>\n",
    "     </ul>\n",
    "\n",
    "    -----------------------------------------------------------------------------------------------------------\n",
    "<b>Nota</b>: se us proporciona el codi pre-implementat. La implementació que es demana a l'enunciat està indicada als blocs <i>TODO</i> i/o amb variables igualades a <i>None</i>, excepte en quin moment emmagatzemar les variables que s'indiquen a (*).\n",
    "</div>"
   ]
  },
  {
   "cell_type": "code",
   "execution_count": 168,
   "metadata": {},
   "outputs": [],
   "source": [
    "class DuelingDQNAgent:\n",
    " ###################################################\n",
    "    ######TODO 1: declarar variables ##################\n",
    "    def __init__(self, env, main_network,\n",
    "                 buffer, reward_threshold,\n",
    "                 epsilon=0.1, eps_decay=0.99, batch_size=32, nblock = 100):\n",
    "        \"\"\"\"\n",
    "        Params\n",
    "        ======\n",
    "        env: entorn\n",
    "        dnnetwork: classe amb la xarxa neuronal dissenyada\n",
    "        target_network: xarxa objectiu\n",
    "        buffer: classe amb el buffer de repetició d'experiències\n",
    "        reward_threshold: llindar de recompensa definit a l'entorn\n",
    "        epsilon: epsilon\n",
    "        eps_decay: epsilon decay\n",
    "        batch_size: batch size\n",
    "        nblock: bloc dels X darrers episodis dels quals es calcularà la mitjana de recompensa        \n",
    "        \"\"\"\n",
    "        if torch.cuda.is_available():\n",
    "            self.device = 'cuda'\n",
    "        else:\n",
    "            self.device = 'cpu'\n",
    "        self.env = env\n",
    "        self.main_network = main_network\n",
    "        self.target_network = deepcopy(main_network) # xarxa objectiu (còpia de la principal)\n",
    "        self.buffer = buffer\n",
    "        self.epsilon = epsilon\n",
    "        self.eps_decay = eps_decay\n",
    "        self.batch_size = batch_size\n",
    "        self.nblock = nblock\n",
    "        self.reward_threshold = reward_threshold\n",
    "        self.initialize()\n",
    "\n",
    "    ###############################################################\n",
    "    ####TODO 2: inicialitzar variables extra que es necessiten ####\n",
    "    def initialize(self):\n",
    "        self.total_reward = 0\n",
    "        self.step_count = 0\n",
    "        self.state0 = stack_frame(None, preprocess_observation(self.env.reset()), True) # inicialitzem l'stack d'estats amb el valor inicial de la primera observació\n",
    "\n",
    "        self.update_loss = [] # loss de l'actualització de la xarxa\n",
    "        self.training_update_loss = [] # pérdues de l'entrenament\n",
    "        self.training_rewards = [] # recompenses de l'entrenament\n",
    "        self.mean_training_rewards = [] # mitjana de recompenses de l'entrenament\n",
    "        self.sync_eps = [] # epsilon de sincronització\n",
    "\n",
    "\n",
    "    #################################################################################\n",
    "    ######TODO 3: Prendre una nova acció ############################################\n",
    "    def take_step(self, eps, mode='train'):\n",
    "        if mode == 'explore':\n",
    "            action = self.env.action_space.sample()  # acció aleatòria al burn-in\n",
    "        else:\n",
    "            action = self.main_network.get_action(self.state0, eps)# acció a partir del valor de Q (elecció de lacció amb millor Q)\n",
    "            self.step_count += 1\n",
    "\n",
    "        #TODO: Realització de l'acció i l'obtenció del nou estat i la recompensa\n",
    "        new_state, reward, done, _ = self.env.step(action)                  \n",
    "        new_state = stack_frame(self.state0, preprocess_observation(new_state), False)\n",
    "\n",
    "        self.total_reward += reward\n",
    "        self.buffer.append(self.state0, action, reward, done, new_state) # guardar experiència al buffer\n",
    "        self.state0 = new_state.copy()\n",
    "        \n",
    "        #TODO: resetejar entorn 'if done'\n",
    "        if done:\n",
    "            self.state0 = stack_frame(None, preprocess_observation(self.env.reset()), True)\n",
    "        return done\n",
    "\n",
    "    ## calcula la diferencia entre dos tiempos\n",
    "    def time_diff(self, start_time, end_time):\n",
    "        diff = end_time - start_time\n",
    "        return diff.seconds + diff.microseconds / 1e6\n",
    "\n",
    "    ## Entrenament\n",
    "    def train(self, gamma=0.99, max_episodes=50000,\n",
    "              batch_size=32,\n",
    "              dnn_update_frequency=4,\n",
    "              dnn_sync_frequency=2000, min_episodios=250, min_epsilon = 0.01):\n",
    "        self.gamma = gamma\n",
    "        # Omplim el buffer amb N experiències aleatòries ()\n",
    "        print(\"Filling replay buffer...\")\n",
    "        while self.buffer.burn_in_capacity() < 1:\n",
    "            self.take_step(self.epsilon, mode='explore')\n",
    "\n",
    "        episode = 0\n",
    "        training = True\n",
    "        print(\"Training...\")\n",
    "        start_time = datetime.now()\n",
    "        while training:\n",
    "            self.state0 = stack_frame(None, preprocess_observation(self.env.reset()), True)\n",
    "            self.total_reward = 0\n",
    "            gamedone = False\n",
    "            while gamedone == False:\n",
    "                # L'agent pren una acció\n",
    "                gamedone = self.take_step(self.epsilon, mode='train')\n",
    "\n",
    "                #################################################################################\n",
    "                #####TODO 4: Actualitzar la xarxa principal segons la freqüència establerta #####\n",
    "                if self.step_count % dnn_update_frequency == 0:\n",
    "                     self.update()\n",
    "\n",
    "                ########################################################################################\n",
    "                ###TODO 6: Sincronitzar xarxa principal i xarxa objectiu segons la freqüència establerta\n",
    "                if self.step_count % dnn_sync_frequency == 0:\n",
    "                    self.target_network.load_state_dict(self.main_network.state_dict())\n",
    "\n",
    "                if gamedone:\n",
    "                    episode += 1\n",
    "                    ##################################################################\n",
    "                    ########TODO: Emmagatzemar epsilon, training rewards i loss#######\n",
    "                    self.sync_eps.append(self.epsilon) # emmagatzemar epsilon de sincronització per a cada episodi \n",
    "                    self.training_rewards.append(self.total_reward) # emmagatzemar recompensa de cada episodi\n",
    "                    \n",
    "                    self.training_update_loss.append(np.mean(self.update_loss))                                             \n",
    "                    self.update_loss = []\n",
    "\n",
    "                    #######################################################################################\n",
    "                    ###TODO 7: calcular la mitjana de recompensa dels últims X episodis, i emmagatzemar####\n",
    "                    mean_rewards = np.mean(self.training_rewards[-self.nblock:]) # mitjana de recompenses de l'entrenament dels últims X episodis\n",
    "                    self.mean_training_rewards.append(mean_rewards) # emmagatzemar mitjana de recompenses de l'entrenament\n",
    "\n",
    "\n",
    "                    ##################################################################\n",
    "                    end_time = datetime.now()\n",
    "                    # get difference time\n",
    "                    delta = end_time - start_time \n",
    "                    # time difference in minutes\n",
    "                    total_minutes = delta.total_seconds() / 60 # temps total d'entrenament en minuts\n",
    "                    estimated_remain_time = total_minutes / episode * (max_episodes - episode) # temps estimat que resta per a acabar l'entrenament en minuts               \n",
    "                    print(\"\\rEpisode {:d} Mean Rewards {:.2f} Epsilon {} Time {} minutes Remaining Time {} minutes\\t\\t\".format(episode, mean_rewards, self.epsilon,round(total_minutes,2), round(estimated_remain_time,2)), end=\"\")                    \n",
    "\n",
    "\n",
    "                    # Comprovar si s'ha arribat al màxim d'episodis\n",
    "                    if episode >= max_episodes:\n",
    "                        training = False\n",
    "                        print('\\nEpisode limit reached.')\n",
    "                        break\n",
    "\n",
    "\n",
    "                    # Acaba el joc si la mitjana de recompenses ha arribat al llindar fixat per a aquest joc\n",
    "                    # i s'ha entrenat un mínim d'episodis\n",
    "                    if mean_rewards >= self.reward_threshold and min_episodios <  episode:\n",
    "                        training = False\n",
    "                        print('\\nEnvironment solved in {} episodes!'.format(episode))\n",
    "                        break\n",
    "\n",
    "                    #################################################################################\n",
    "                    ######TODO 8: Actualitzar epsilon ########\n",
    "                    self.epsilon = max(self.epsilon * self.eps_decay, min_epsilon) # actualitzar epsilon\n",
    "\n",
    "\n",
    "     ## Càlcul de la pèrdua\n",
    "    def calculate_loss(self, batch):\n",
    "        # Separem les variables de l'experiència i les convertim a tensors\n",
    "        states, actions, rewards, dones, next_states = [i for i in batch]\n",
    "        rewards_vals = torch.FloatTensor(rewards).to(device=self.device).reshape(-1,1)\n",
    "        actions_vals = torch.LongTensor(np.array(actions)).reshape(-1,1).to(device=self.device)\n",
    "        dones_t = torch.ByteTensor(dones).to(device=self.device)\n",
    "\n",
    "        # Obtenim els valors de Q de la xarxa principal\n",
    "        qvals = torch.gather(self.main_network.get_qvals(states), 1, actions_vals)\n",
    "\n",
    "        #DQN update#\n",
    "        next_actions = torch.max(self.main_network.get_qvals(next_states), dim=-1)[1]\n",
    "        if self.device == 'cuda':\n",
    "            next_actions_vals = next_actions.reshape(-1,1).to(device=self.device)\n",
    "        else:\n",
    "            next_actions_vals = torch.LongTensor(next_actions).reshape(-1,1).to(device=self.device)\n",
    "        # Obtenim els valors de Q de la xarxa objectiu\n",
    "        target_qvals = self.target_network.get_qvals(next_states)\n",
    "        qvals_next = torch.gather(target_qvals, 1, next_actions_vals).detach()\n",
    "        #####\n",
    "\n",
    "        qvals_next[dones_t] = 0 # 0 en estats terminals\n",
    "\n",
    "        #TODO: Calculem l'equació de Bellman\n",
    "        expected_qvals = rewards_vals + self.gamma * qvals_next\n",
    "        \n",
    "        # Modifiquem la funció de Loss per al mode Functional######\n",
    "        loss = torch.nn.MSELoss()(qvals, expected_qvals.reshape(-1,1))\n",
    "      \n",
    "        return loss\n",
    "\n",
    "\n",
    "\n",
    "    def update(self):\n",
    "        self.main_network.optimizer.zero_grad()  # eliminem qualsevol gradient passat\n",
    "        batch = self.buffer.sample_batch(batch_size=self.batch_size) # seleccionem un conjunt del buffer\n",
    "        loss = self.calculate_loss(batch) # calculem la pèrdua\n",
    "        loss.backward() # calculem la diferència per obtenir els gradients\n",
    "        self.main_network.optimizer.step() # apliquem els gradients a la xarxa neuronal\n",
    "        # Desem els valors de pèrdua\n",
    "        if self.device == 'cuda':\n",
    "            self.update_loss.append(loss.detach().cpu().numpy())\n",
    "        else:\n",
    "            self.update_loss.append(loss.detach().numpy())\n",
    "\n",
    "\n",
    "\n",
    "\n"
   ]
  },
  {
   "cell_type": "markdown",
   "metadata": {},
   "source": [
    "### 3.3 Entrenament\n",
    "A continuació entrenarem el model dueling DQN amb els mateixos hiperparàmetres amb què entrenem la DQN.\n"
   ]
  },
  {
   "cell_type": "markdown",
   "metadata": {},
   "source": [
    "<div style=\"background-color: #EDF7FF; border-color: #7C9DBF; border-left: 5px solid #7C9DBF; padding: 0.5em;\">\n",
    "<strong>3.3 Exercici (0.1 pts):</strong> Carregar el model de xarxa neuronal i entrenar l'agent amb els mateixos hiperparàmetres usats per a la DQN\n",
    "</div>"
   ]
  },
  {
   "cell_type": "code",
   "execution_count": 169,
   "metadata": {},
   "outputs": [],
   "source": [
    "lr = 0.001          #Velocitat d'aprenentatge\n",
    "BATCH_SIZE = 32     #Conjunt a agafar del buffer per a la xarxa neuronal\n",
    "MEMORY_SIZE = 8000  #Màxima capacitat del buffer\n",
    "GAMMA = 0.99        #Valor gamma de l'equació de Bellman\n",
    "EPSILON = 1         #Valor inicial d'epsilon\n",
    "EPSILON_DECAY = 0.995 #Decaïment d'epsilon\n",
    "EPSILON_MIN = 0.01  #Valor mínim d'epsilon\n",
    "BURN_IN = 100       #Nombre d'episodis inicials utilitzats per emplenar el buffer abans d'entrenar\n",
    "MAX_EPISODES = 5000 #Nombre màxim d'episodis (l'agent ha d'aprendre abans d'arribar a aquest valor)\n",
    "MIN_EPISODES = 250  #Nombre mínim d'episodis\n",
    "DNN_UPD = 100       #Freqüència d'actualització de la xarxa neuronal\n",
    "DNN_SYNC = 5000     #Freqüència de sincronització de pesos entre la xarxa neuronal i la xarxa objectiu\n",
    "\n",
    "REWARD_THRESHOLD = 350 #Llindar de recompensa on es considera que s'ha assolit el problema"
   ]
  },
  {
   "cell_type": "code",
   "execution_count": 170,
   "metadata": {
    "scrolled": true
   },
   "outputs": [
    {
     "name": "stdout",
     "output_type": "stream",
     "text": [
      "Filling replay buffer...\n",
      "Training...\n",
      "Episode 5000 Mean Rewards 249.25 Epsilon 0.01 Time 696.6 minutes Remaining Time 0.0 minutes\t\t\t\t\t\t0.4 minutes\t\t\t\n",
      "Episode limit reached.\n"
     ]
    }
   ],
   "source": [
    "# instanciem la classe del buffer\n",
    "buffer = experienceReplayBuffer(memory_size=MEMORY_SIZE, burn_in=BURN_IN)\n",
    "\n",
    "# instanciem el model de xarxa neuronal\n",
    "ddqn = DuelingDQN(env, learning_rate=lr)\n",
    "\n",
    "# instanciem l'agent\n",
    "agentDDQN = DuelingDQNAgent(env, ddqn, buffer, REWARD_THRESHOLD, EPSILON, EPSILON_DECAY, BATCH_SIZE)\n",
    "\n",
    "# entrenem\n",
    "agentDDQN.train(gamma=GAMMA, max_episodes=MAX_EPISODES, batch_size=BATCH_SIZE, dnn_update_frequency=DNN_UPD, dnn_sync_frequency=DNN_SYNC)"
   ]
  },
  {
   "cell_type": "markdown",
   "metadata": {},
   "source": [
    "<div style=\"background-color: #EDF7FF; border-color: #7C9DBF; border-left: 5px solid #7C9DBF; padding: 0.5em;\">\n",
    "<strong>3.4 Exercici (0.2 ptos):</strong> Mostrar els mateixos gràfics que amb la DQN:\n",
    "     <ol>\n",
    "         <li>Recompenses obtingudes al llarg de l'entrenament i l'evolució de les recompenses mitjanes cada 100 episodis, juntament amb el llindar de recompensa establert per l'entorn</li>\n",
    "         <li>Pèrdua durant l'entrenament</li>\n",
    "         <li>Evolució d'epsilon durant l'entrenament</li>\n",
    "     </ol>\n",
    "</div>"
   ]
  },
  {
   "cell_type": "code",
   "execution_count": 171,
   "metadata": {},
   "outputs": [
    {
     "data": {
      "image/png": "[encoded data removed]",
      "text/plain": [
       "<Figure size 864x576 with 1 Axes>"
      ]
     },
     "metadata": {
      "needs_background": "light"
     },
     "output_type": "display_data"
    }
   ],
   "source": [
    "plot_rewards(agentDDQN)"
   ]
  },
  {
   "cell_type": "code",
   "execution_count": 172,
   "metadata": {},
   "outputs": [
    {
     "data": {
      "image/png": "[encoded data removed]",
      "text/plain": [
       "<Figure size 864x576 with 1 Axes>"
      ]
     },
     "metadata": {
      "needs_background": "light"
     },
     "output_type": "display_data"
    }
   ],
   "source": [
    "plot_loss(agentDDQN)"
   ]
  },
  {
   "cell_type": "code",
   "execution_count": 173,
   "metadata": {},
   "outputs": [
    {
     "data": {
      "image/png": "[encoded data removed]",
      "text/plain": [
       "<Figure size 864x576 with 1 Axes>"
      ]
     },
     "metadata": {
      "needs_background": "light"
     },
     "output_type": "display_data"
    }
   ],
   "source": [
    "plot_epsilon(agentDDQN)"
   ]
  },
  {
   "cell_type": "code",
   "execution_count": 174,
   "metadata": {},
   "outputs": [
    {
     "data": {
      "image/png": "[encoded data removed]",
      "text/plain": [
       "<Figure size 864x576 with 1 Axes>"
      ]
     },
     "metadata": {
      "needs_background": "light"
     },
     "output_type": "display_data"
    }
   ],
   "source": [
    "loss_no_outliers = reject_outliers(np.array(agentDDQN.training_update_loss))\n",
    "plot_loss_no_outliers(loss_no_outliers)"
   ]
  },
  {
   "cell_type": "code",
   "execution_count": 175,
   "metadata": {},
   "outputs": [
    {
     "name": "stdout",
     "output_type": "stream",
     "text": [
      "La mitjana global de les recompenses és de: 258.1010596543692 \n"
     ]
    }
   ],
   "source": [
    "print(\"La mitjana global de les recompenses és de: {} \".format(np.mean(agentDDQN.mean_training_rewards)))"
   ]
  },
  {
   "cell_type": "markdown",
   "metadata": {},
   "source": [
    "<div style=\"background-color: #EDF7FF; border-color: #7C9DBF; border-left: 5px solid #7C9DBF; padding: 0.5em;\">\n",
    "<strong>3.5 Exercici (0.1 pts):</strong> Guardar el model entrenat en format “.pth”.\n",
    "</div>"
   ]
  },
  {
   "cell_type": "code",
   "execution_count": 176,
   "metadata": {},
   "outputs": [],
   "source": [
    "torch.save(agentDDQN.main_network.state_dict(), 'agentDDQN_Trained_Model_ddqn_cnn.pth')"
   ]
  },
  {
   "cell_type": "markdown",
   "metadata": {},
   "source": [
    "<div style=\"background-color: #EDF7FF; border-color: #7C9DBF; border-left: 5px solid #7C9DBF; padding: 0.5em;\">\n",
    "<strong>3.6 Anàlisi (0.1 pto):</strong> Comenta els resultats obtinguts\n",
    "</div>"
   ]
  },
  {
   "cell_type": "markdown",
   "metadata": {},
   "source": [
    "<div style=\"background-color: #fcf2f2; border-color: #dfb5b4; border-left: 5px solid #dfb5b4; padding: 0.5em;\">\n",
    "<strong>Solució (Comentaris):</strong>\n",
    "Visualment sembla que amb Dueling DQN tenim pitjors resultats en les recompenses mitjanes que amb DQN. Si fem una mitjana global veiem que realment és així ja que estem lleugerament per sota dels 200 amb Dueling DQN contra més de 250 amb DQN.  \n",
    "    \n",
    "El temps d'execució global és similar pero si que sembla que arribar al màxim de la recompensa en Dueling és menor. Per sota de les 500 execucions ja ha convergit. Té sentit ja que Dueling és un model on al tenir en compte no només el valor de l'estat sino el valor de l'acció donat l'estat hauriem de tenir millor rendiment en precissió i velocitat d'aprenentatge. \n",
    "    \n",
    "De totes formes els resultats en quant a resultats són pitjors.\n",
    "<br><br>\n",
    "</div>"
   ]
  },
  {
   "cell_type": "markdown",
   "metadata": {},
   "source": [
    "### 3.4 Test de l'agent\n",
    "Finalment, analitzem el comportament de l'agent entrenat.\n",
    "<div style=\"background-color: #EDF7FF; border-color: #7C9DBF; border-left: 5px solid #7C9DBF; padding: 0.5em;\">\n",
    "<strong>3.7 Exercici (0.2 pts):</strong> Carregar el model entrenat i executar l'agent entrenat durant 20 episodis consecutius. Calculeu la suma de recompenses per cada episodi. Mostrar en un gràfic la suma de les recompenses respecte dels episodis, incloent-hi el llindar de recompensa establert per l'entorn.\n",
    "</div>"
   ]
  },
  {
   "cell_type": "code",
   "execution_count": 177,
   "metadata": {},
   "outputs": [
    {
     "name": "stdout",
     "output_type": "stream",
     "text": [
      "Episode 19/20."
     ]
    },
    {
     "data": {
      "image/png": "[encoded data removed]",
      "text/plain": [
       "<Figure size 864x576 with 1 Axes>"
      ]
     },
     "metadata": {
      "needs_background": "light"
     },
     "output_type": "display_data"
    }
   ],
   "source": [
    "env = gym.make('SpaceInvaders-v4', render_mode='rgb_array')   \n",
    "\n",
    "total_reward_list = play_games(env, agentDDQN, 20)\n",
    "plot_rewards_min(agentDDQN, total_reward_list)"
   ]
  },
  {
   "cell_type": "markdown",
   "metadata": {},
   "source": [
    "<div style=\"background-color: #EDF7FF; border-color: #7C9DBF; border-left: 5px solid #7C9DBF; padding: 0.5em;\">\n",
    "<strong>3.8 Anàlisi (0.25 pts):</strong> Emmagatzema una partida d'exemple de l'agent a la carpeta de vídeos en format GIF per poder visualitzar el seu comportament i comenta el comportament de l'agent entrenat.\n",
    "</div>"
   ]
  },
  {
   "cell_type": "code",
   "execution_count": 178,
   "metadata": {},
   "outputs": [],
   "source": [
    "env = gym.make('SpaceInvaders-v4', render_mode='rgb_array')\n",
    "\n",
    "# Juguem i enmagatzemem una partida amb l'agent entrenat \n",
    "save_agent_gif(env, agentDDQN, 'space_invader_duelingDQNAgent_comportamiento.gif')"
   ]
  },
  {
   "cell_type": "markdown",
   "metadata": {},
   "source": [
    "<div style=\"background-color: #fcf2f2; border-color: #dfb5b4; border-left: 5px solid #dfb5b4; padding: 0.5em;\">\n",
    "<strong>Resposta (comentaris):</strong>\n",
    "<br><br>\n",
    "TODO\n",
    "    \n",
    "    \n",
    "![title](videos/space_invader_duelingDQNAgent_comportamiento.gif)    \n",
    "</div>"
   ]
  },
  {
   "cell_type": "markdown",
   "metadata": {},
   "source": [
    "## 4. REINFORCE with baseline (2 pts)"
   ]
  },
  {
   "cell_type": "markdown",
   "metadata": {},
   "source": [
    "### 4.1 Definició de l'arquitectura de la xarxa neuronal\n",
    "Utilitzarem un model Seqüencial amb la configuració següent:\n",
    "\n",
    "<ul>\n",
    "    <li>Una primera capa del tipus Conv2d amb els paràmetres següents in_channels=(8,64,64), out_channels=32, kernel_size=8, stride=4 amb activació ReLU.</li>\n",
    "    <li>Una segona capa del tipus Conv2d amb els paràmetres següents in_channels=32, out_channels=64, kernel_size=4, stride=2 amb activació ReLU.</li>\n",
    "    <li>Una tercera capa del tipus Conv2d amb els paràmetres següents in_channels=64, out_channels=64, kernel_size=3, stride=1 amb activació ReLU.</li>\n",
    "</ul>\n",
    "\n",
    "El resultat d´aquesta primera xarxa el connectarem amb un model complementament connectat amb la següent estructura:\n",
    "\n",
    "* Una primera capa completament connectada (representada en pytorch per nn.Lineal) de 512 neurones, bias=True i amb activació Tanh\n",
    "* Una darrera capa completament connectada. Aquesta serà la nostra capa de sortida i, per tant, tindrà tantes neurones com dimensions tingui el nostre espai d‟accions (una sortida per cada acció possible), bias=True i activació Softmax (dim=-1).\n",
    "\n",
    "Finalment, farem servir l'optimitzador Adam per entrenar la xarxa."
   ]
  },
  {
   "cell_type": "markdown",
   "metadata": {},
   "source": [
    "<div style=\"background-color: #EDF7FF; border-color: #7C9DBF; border-left: 5px solid #7C9DBF; padding: 0.5em;\">\n",
    "<strong>Ejercicio 4.1 (0.5 ptos):</strong> Implementar la classe <code>PGReinforce()</code>. Inicialitzar les variables necessàries i definir el model Seqüencial de xarxa neuronal indicat.\n",
    "\n",
    "    -----------------------------------------------------------------------------------------------------------\n",
    "<b>Nota</b>: se us proporciona el codi pre-implementat. La implementació que es demana a l'enunciat està indicada als blocs <i>TODO</i> i/o amb variables igualades a <i>None</i>.\n",
    "</div>"
   ]
  },
  {
   "cell_type": "code",
   "execution_count": 45,
   "metadata": {},
   "outputs": [],
   "source": [
    "class PGReinforce(torch.nn.Module):\n",
    "\n",
    "    def __init__(self, env, learning_rate=1e-3, device='cpu'):\n",
    "        print(\"init\")\n",
    "        \"\"\"\n",
    "        Params\n",
    "        ======\n",
    "        n_inputs: mida de l'espai d'estats\n",
    "        n_outputs: mida de l'espai d'accions\n",
    "        actions: array d'accions possibles\n",
    "        \"\"\"\n",
    "        super(PGReinforce, self).__init__()\n",
    "         ###################################\n",
    "        ####TODO: Inicialitzar variables####\n",
    "        self.input_shape = (4,84,84)\n",
    "        self.n_outputs = env.action_space.n\n",
    "        self.actions = np.arange(env.action_space.n)\n",
    "        self.device = 'cpu'\n",
    "        self.learning_rate = learning_rate\n",
    "        ######\n",
    "\n",
    "        ########################################\n",
    "\n",
    "        ##TODO: Construcció de la xarxa neuronal\n",
    "        self.red_cnn = nn.Sequential(\n",
    "            nn.Conv2d(in_channels=4, out_channels=32, kernel_size=8, stride=4),\n",
    "            nn.ReLU(),\n",
    "            nn.Conv2d(in_channels=32, out_channels=64, kernel_size=4, stride=2),\n",
    "            nn.ReLU(),\n",
    "            nn.Conv2d(in_channels=64, out_channels=64, kernel_size=3, stride=1),\n",
    "            nn.ReLU()\n",
    "        )\n",
    "\n",
    "        if self.device == 'cuda':\n",
    "            self.red_cnn.cuda()\n",
    "\n",
    "        self.fc_layer_inputs = self.feature_size()\n",
    "        self.red_lineal = nn.Sequential(\n",
    "            nn.Linear(self.fc_layer_inputs, 512, bias=True),\n",
    "            nn.Tanh(),\n",
    "            nn.Linear(512, self.n_outputs, bias=True),\n",
    "            nn.Softmax(dim=-1)\n",
    "        )\n",
    "\n",
    "        ### S'ofereix l'opció de treballar amb cuda\n",
    "        if self.device == 'cuda':\n",
    "            self.red_lineal.cuda()\n",
    "\n",
    "\n",
    "        #######################################\n",
    "        ##TODO: Inicialitzar l'optimizador\n",
    "        self.optimizer = torch.optim.Adam(self.parameters(), lr=self.learning_rate)\n",
    "        #####\n",
    "\n",
    "    # Obtenció de les probabilitats de les possibles accions\n",
    "    def get_action_prob(self, state):\n",
    "        if type(state) is tuple:\n",
    "            state = np.array(state)        \n",
    "        state_t = torch.FloatTensor(state).to(device=self.device)\n",
    "        cnn_out = self.red_cnn(state_t).reshape(-1,  self.fc_layer_inputs)   \n",
    "        cnn_lineal_out = self.red_lineal(cnn_out)\n",
    "        # clipped per evitar NaNs.          \n",
    "        cnn_lineal_out_clamped = torch.clamp(cnn_lineal_out, 1e-8, 1-1e-8)  \n",
    "        return cnn_lineal_out_clamped\n",
    "\n",
    "    def feature_size(self):\n",
    "        return self.red_cnn(autograd.Variable( torch.zeros(1, * self.input_shape)).to(device=self.device)).view(1, -1).size(1)"
   ]
  },
  {
   "cell_type": "markdown",
   "metadata": {},
   "source": [
    "La funció torch.clamp() de PyTorch rep els valors del tensor, un valor mínim i un valor màxim. A continuació, substitueix tots els valors del tensor que siguin menors al valor mínim pel valor mínim, i tots els valors del tensor que siguin majors al valor màxim pel valor màxim. D'aquesta manera, es garanteix que tots els valors del tensor estiguin compresos entre 0 i 1. \n",
    "Això és útil amb xarxes neuronals basades en probabilitats com la nostre i ens evitem tenir NaN. En el meu cas, quan els valors eran molt petit acababen convertits en NaN i amb aquesta forma evitem el problema."
   ]
  },
  {
   "cell_type": "markdown",
   "metadata": {},
   "source": [
    "### 4.2 Definición del agente\n",
    "<p></p>\n",
    "<div style=\"background-color: #EDF7FF; border-color: #7C9DBF; border-left: 5px solid #7C9DBF; padding: 0.5em;\">\n",
    "<strong>4.2 Exercici (0.55 pts):</strong> Implementar els punts següents de la classe <code>reinforceAgent()</code>:\n",
    "<ol>\n",
    "         <li>Declarar les variables de la classe</li>\n",
    "         <li>Inicialitzar les variables necessàries</li>\n",
    "         <li>Implementar l'acció que cal prendre</li>\n",
    "         <li>Calcular el <i>discounted reward</i> usant com a línia de base la mitjana estandarditzada del retorn\n",
    "                $$ \\frac{x_i - \\bar{x}}{\\sigma_x}$$</li>\n",
    "         <li>Calcular la mitjana de recompenses dels últims 100 episodis</li>\n",
    "         <li>Implementar la pèrdua per actualització</li>\n",
    "     </ol>\n",
    "A més, durant el procés s'han d'emmagatzemar (*):\n",
    "     <ul>\n",
    "         <li>Les recompenses obtingudes a cada pas de l'entrenament</li>\n",
    "         <li>Les recompenses mitjanes dels 100 episodis anteriors</li>\n",
    "         <li>La pèrdua durant l'entrenament</li>\n",
    "     </ul>\n",
    "\n",
    "    -----------------------------------------------------------------------------------------------------------\n",
    "<b>Nota</b>: se us proporciona el codi pre-implementat. La implementació que es demana a l'enunciat està indicada als blocs <i>TODO</i> i/o amb variables igualades a <i>None</i>, excepte en quin moment emmagatzemar les variables que s'indiquen a (*).\n",
    "</div>"
   ]
  },
  {
   "cell_type": "code",
   "execution_count": 46,
   "metadata": {},
   "outputs": [],
   "source": [
    "class ReinforceAgent:\n",
    "\n",
    "    ###################################################\n",
    "    ######TODO 1: declarar variables ##################\n",
    "    def __init__(self, env, dnnetwork, nblock=100, reward_threshold=350):\n",
    "        \"\"\"\n",
    "        Params\n",
    "        ======\n",
    "        env: entorno\n",
    "        dnnetwork: clase con la red neuronal diseñada\n",
    "        nblock: bloque de los X últimos episodios de los que se calculará la media de recompensa\n",
    "        reward_threshold: umbral de recompensa definido en el entorno\n",
    "        \"\"\"\n",
    "        self.env = env\n",
    "        self.dnnetwork = dnnetwork\n",
    "        self.nblock = nblock\n",
    "        self.reward_threshold = reward_threshold\n",
    "        self.initialize()\n",
    "     #######\n",
    "\n",
    "    ###############################################################\n",
    "    ####TODO 2: inicialitzar variables extra que es necessitin ####\n",
    "    def initialize(self):\n",
    "        self.batch_rewards = []\n",
    "        self.batch_actions = []\n",
    "        self.batch_states = []\n",
    "        self.batch_counter = 1\n",
    "\n",
    "        self.training_update_loss = []\n",
    "        self.training_rewards = []\n",
    "        self.mean_training_rewards = []\n",
    "        self.update_loss = []       \n",
    "\n",
    "    ######\n",
    "\n",
    "    ## Entrenament\n",
    "    def train(self, gamma=0.99, max_episodes=2000, batch_size=10):\n",
    "        self.gamma = gamma\n",
    "        self.batch_size = batch_size\n",
    "\n",
    "        episode = 0\n",
    "        action_space = np.arange(self.env.action_space.n)\n",
    "        training = True\n",
    "        start_time = datetime.now()\n",
    "        print(\"Training...\")\n",
    "        while training:\n",
    "            start_game = preprocess_observation(self.env.reset())\n",
    "            state0 = stack_frame(None, start_game, True)\n",
    "            episode_states = []\n",
    "            episode_rewards = []\n",
    "            episode_actions = []\n",
    "            gamedone = False\n",
    "\n",
    "            while gamedone == False:\n",
    "                ##########################################################\n",
    "                ######TODO 3: Prendre una nova acció #####################\n",
    "                action_probs = self.dnnetwork.get_action_prob(state0).detach().numpy()   #distribució de probabilitat de les accions donat l'estat actual                                             \n",
    "                action_probs = np.squeeze(action_probs)                    \n",
    "                action = np.random.choice(action_space, p=action_probs) #acció aleatòria de la distribució de probabilitat\n",
    "                next_state, reward, gamedone, _ = self.env.step(action)\n",
    "                #######\n",
    "\n",
    "                # Emmagatzemem experiències que es van obtenint en aquest episodi\n",
    "                episode_states.append(state0)\n",
    "                episode_rewards.append(reward)\n",
    "                episode_actions.append(action)\n",
    "                next_state = stack_frame(state0, preprocess_observation(next_state), False)\n",
    "                state0 = next_state\n",
    "\n",
    "                if gamedone:\n",
    "                    episode += 1\n",
    "                    # Calculem el terme del retorn menys la línia de base\n",
    "                    self.batch_rewards.extend(self.discount_rewards(episode_rewards))\n",
    "                    self.batch_states.extend(episode_states)\n",
    "                    self.batch_actions.extend(episode_actions)\n",
    "                    self.batch_counter += 1\n",
    "\n",
    "                    #####################################################################################\n",
    "                    ###TODO 5: calcular mitjana de recompenses dels últims X episodis, i emmagatzemar####\n",
    "                    self.training_rewards.append(sum(episode_rewards)) # guardamos las recompensas obtenidas   \n",
    "                    mean_rewards = np.mean(self.training_rewards[-self.nblock:])\n",
    "                    self.mean_training_rewards.append(mean_rewards)\n",
    "                    ######\n",
    "\n",
    "\n",
    "                    # Actualitzem la xarxa quan es completa la mida del batch\n",
    "                    if self.batch_counter == self.batch_size:\n",
    "                        self.update(self.batch_states, self.batch_rewards, self.batch_actions)\n",
    "\n",
    "                        #######################################\n",
    "                        ###TODO : emmagatzemar training_loss###\n",
    "                        ###########\n",
    "                        self.training_update_loss.append(np.mean(self.update_loss))                                         \n",
    "                        self.update_loss = []\n",
    "\n",
    "                        # Resetejem les variables de l'episodi\n",
    "                        self.batch_rewards = []\n",
    "                        self.batch_actions = []\n",
    "                        self.batch_states = []\n",
    "                        self.batch_counter = 1\n",
    "\n",
    "                    end_time = datetime.now()\n",
    "                    # get difference time\n",
    "                    delta = end_time - start_time \n",
    "                    # time difference in minutes\n",
    "                    total_minutes = delta.total_seconds() / 60 # temps total d'entrenament en minuts\n",
    "                    estimated_remain_time = total_minutes / episode * (max_episodes - episode) # temps estimat que resta per a acabar l'entrenament en minuts               \n",
    "                    print(\"\\rEpisode {:d} Mean Rewards {:.2f} Time {} minutes Remaining Time {} minutes\\t\\t\".format(episode, mean_rewards, round(total_minutes,2), round(estimated_remain_time,2)), end=\"\")\n",
    "\n",
    "                    # Comprovem que encara queden episodis\n",
    "                    if episode >= max_episodes:\n",
    "                        training = False\n",
    "                        print('\\nEpisode limit reached.')\n",
    "                        break\n",
    "\n",
    "                    # Acaba el joc si la mitjana de recompenses ha arribat al llindar fixat per a aquest joc\n",
    "                    if mean_rewards >= self.reward_threshold:\n",
    "                        training = False\n",
    "                        print('\\nEnvironment solved in {} episodes!'.format(episode))\n",
    "                        break\n",
    "\n",
    "    ########################################################\n",
    "    ###TODO 4: càlcul del retorn menys la línia de base ####\n",
    "    def discount_rewards(self, rewards):\n",
    "        discount_r = np.zeros_like(rewards)\n",
    "        timesteps = range(len(rewards))\n",
    "        reward_sum = 0\n",
    "        for i in reversed(timesteps):\n",
    "            reward_sum = rewards[i] + self.gamma*reward_sum\n",
    "            discount_r[i] = reward_sum\n",
    "        baseline = (discount_r - np.mean(discount_r)) / np.std(discount_r) # línia de base del retorn (normalitzat)     \n",
    "        return baseline                          \n",
    "\n",
    "    ##########\n",
    "\n",
    "\n",
    "    ## Actualizació\n",
    "    def update(self, batch_s, batch_r, batch_a):\n",
    "        self.dnnetwork.optimizer.zero_grad()  # eliminem qualsevol gradient passat\n",
    "        state_t = torch.FloatTensor(batch_s)\n",
    "        reward_t = torch.FloatTensor(batch_r)\n",
    "        action_t = torch.LongTensor(batch_a)\n",
    "        loss = self.calculate_loss(state_t, action_t, reward_t) # calculem la pèrdua\n",
    "        loss.backward() # calculem la diferència per obtenir els gradients\n",
    "        self.dnnetwork.optimizer.step() # apliquem els gradients a la xarxa neuronal\n",
    "        #Desem els valors de pèrdua\n",
    "        if self.dnnetwork.device == 'cuda':\n",
    "            self.update_loss.append(loss.detach().cpu().numpy())\n",
    "        else:\n",
    "            self.update_loss.append(loss.detach().numpy())\n",
    "\n",
    "    #################################################\n",
    "    ###TODO 6: Càlcul de la pèrdua ##################\n",
    "    # Recordatori: cada actualització és proporcional al producte del retorn i el gradient de la probabilitat\n",
    "    # de prendre l'acció presa, dividit per la probabilitat de prendre aquesta acció (logaritme natural)\n",
    "    def calculate_loss(self, state_t, action_t, reward_t):\n",
    "        logprob = torch.log(self.dnnetwork.get_action_prob(state_t)) # logaritme natural de la probabilitat de les accions\n",
    "        selected_logprobs = reward_t * logprob[np.arange(len(action_t)), action_t] # producte del retorn i el gradient de la probabilitat\n",
    "        loss = -selected_logprobs.mean()\n",
    "        return loss # retornem la pèrdua\n",
    "     ########\n",
    "\n",
    "\n"
   ]
  },
  {
   "cell_type": "markdown",
   "metadata": {},
   "source": [
    "### 4.3 Entrenament\n",
    "A continuació entrenarem el model amb els següents hiperparàmetres:\n",
    "<ul>\n",
    "     <li>Velocitat d'aprenentatge: 0.005</li>\n",
    "     <li>Mida del batch: 8</li>\n",
    "     <li>Gamma: 0.99</li>\n",
    "     <li>Nombre màxim d'episodis: 5000</li>\n",
    "</ul>"
   ]
  },
  {
   "cell_type": "markdown",
   "metadata": {},
   "source": [
    "<div style=\"background-color: #EDF7FF; border-color: #7C9DBF; border-left: 5px solid #7C9DBF; padding: 0.5em;\">\n",
    "<strong>4.3 Exercici (0.2 pts):</strong> Definir els hiperparàmetres, carregar el model de xarxa neuronal i entrenar l'agent.\n",
    "</div>"
   ]
  },
  {
   "cell_type": "code",
   "execution_count": 47,
   "metadata": {},
   "outputs": [],
   "source": [
    "lr = 0.005          #Velocitat d'aprenentatge\n",
    "BATCH_SIZE = 8      #Conjunt a agafar del buffer per a la xarxa neuronal \n",
    "GAMMA = 0.99        #Valor gamma de l'equació de Bellman\n",
    "MAX_EPISODES = 3000 #Nombre màxim d'episodis (l'agent ha d'aprendre abans d'arribar a aquest valor)"
   ]
  },
  {
   "cell_type": "code",
   "execution_count": null,
   "metadata": {},
   "outputs": [
    {
     "name": "stdout",
     "output_type": "stream",
     "text": [
      "init\n",
      "Training...\n",
      "Episode 211 Mean Rewards 285.00 Time 20.35 minutes Remaining Time 269.0 minutes\t\t\t"
     ]
    }
   ],
   "source": [
    "import gym\n",
    "env = gym.make('SpaceInvaders-v4')\n",
    "\n",
    "pgrNetwork = PGReinforce(env, learning_rate=lr)\n",
    "agentPGR = ReinforceAgent(env, pgrNetwork)\n",
    "agentPGR.train(gamma=GAMMA, max_episodes=MAX_EPISODES, batch_size=BATCH_SIZE)"
   ]
  },
  {
   "cell_type": "markdown",
   "metadata": {},
   "source": [
    "<div style=\"background-color: #EDF7FF; border-color: #7C9DBF; border-left: 5px solid #7C9DBF; padding: 0.5em;\">\n",
    "<strong>4.4 Exercici (0.1 pts):</strong> Mostra els gràfics següents:\n",
    "     <ol>\n",
    "         <li>Recompenses obtingudes al llarg de l'entrenament i l'evolució de les recompenses mitjanes cada 100 episodis, juntament amb el llindar de recompensa establert per l'entorn</li>\n",
    "         <li>Pèrdua durant l'entrenament</li>\n",
    "     </ol>\n",
    "</div>"
   ]
  },
  {
   "cell_type": "code",
   "execution_count": null,
   "metadata": {},
   "outputs": [],
   "source": [
    "plot_rewards(agentPGR)"
   ]
  },
  {
   "cell_type": "code",
   "execution_count": null,
   "metadata": {},
   "outputs": [],
   "source": [
    "plot_loss(agentPGR)"
   ]
  },
  {
   "cell_type": "markdown",
   "metadata": {},
   "source": [
    "<div style=\"background-color: #EDF7FF; border-color: #7C9DBF; border-left: 5px solid #7C9DBF; padding: 0.5em;\">\n",
    "<strong>4.5 Anàlisi (0.2 ptos):</strong> Guardar el model entrenat en format “.pth” i comentar els resultats obtinguts. Què ha passat amb aquest model?\n",
    "</div>"
   ]
  },
  {
   "cell_type": "code",
   "execution_count": null,
   "metadata": {},
   "outputs": [],
   "source": [
    "torch.save(agentPGR.dnnetwork.state_dict(), 'reinforceAgent_Trained_Model_PGReinforce.pth')"
   ]
  },
  {
   "cell_type": "markdown",
   "metadata": {},
   "source": [
    "<div style=\"background-color: #fcf2f2; border-color: #dfb5b4; border-left: 5px solid #dfb5b4; padding: 0.5em;\">\n",
    "<strong>Comentaris:</strong>\n",
    "<br><br>\n",
    "</div>"
   ]
  },
  {
   "cell_type": "markdown",
   "metadata": {},
   "source": [
    "<div style=\"background-color: #EDF7FF; border-color: #7C9DBF; border-left: 5px solid #7C9DBF; padding: 0.5em;\">\n",
    "<strong>4.6 Exercici (0.15 pts):</strong> Carregar el model entrenat i executar l'agent entrenat durant 20 episodis consecutius. Calculeu la suma de recompenses per cada episodi. Mostrar en un gràfic la suma de les recompenses respecte dels episodis, incloent-hi el llindar de recompensa establert per l'entorn. Comentar-ne els resultats.\n",
    "<p>Emmagatzema una partida d'exemple de l'agent a la carpeta de vídeos en format GIF per poder visualitzar el seu comportament i comenta'l.</p>\n",
    "</div>"
   ]
  },
  {
   "cell_type": "code",
   "execution_count": null,
   "metadata": {},
   "outputs": [],
   "source": [
    "env = gym.make('SpaceInvaders-v4', render_mode='rgb_array')\n",
    "\n",
    "def play_games(env, ag, num_games):    \n",
    "    total_reward_list = []    \n",
    "    for i_game in range(num_games): \n",
    "        if i_game % 1 == 0:\n",
    "            print(\"\\rEpisode {}/{}.\".format(i_game, num_games), end=\"\")\n",
    "            sys.stdout.flush()        \n",
    "        action_space = np.arange(env.action_space.n)\n",
    "        observation = env.reset()\n",
    "        start_game = preprocess_observation(observation)\n",
    "        state= stack_frame(None, start_game, True)\n",
    "        total_reward = 0\n",
    "        done = False\n",
    "    \n",
    "        while not done:\n",
    "            action_probs = ag.dnnetwork.get_action_prob(state).detach().numpy()                                             \n",
    "            action_probs = np.squeeze(action_probs)                    \n",
    "            action = np.random.choice(action_space, p=action_probs)            \n",
    "            observation, reward, done, info = env.step(action)\n",
    "            total_reward += reward\n",
    "            state= stack_frame(state, preprocess_observation(observation), False)\n",
    "            if done:    \n",
    "                total_reward_list.append(total_reward)\n",
    "    env.close()\n",
    "    return total_reward_list      \n",
    "          \n",
    "\n",
    "total_reward_list = play_games(env, agentPGR, 20)\n",
    "plot_rewards_min(agentPGR, total_reward_list)"
   ]
  },
  {
   "cell_type": "code",
   "execution_count": null,
   "metadata": {},
   "outputs": [],
   "source": [
    "env = gym.make('SpaceInvaders-v4', render_mode='rgb_array')\n",
    "\n",
    "# Funció per a jugar i enmagatzemar una partida en format GIF amb un agent entrenat\n",
    "def save_agentpgr_gif(env, ag, nombre_fichero):\n",
    "    '''\n",
    "    :param env:  entorn GYM\n",
    "    :param ag:  agent entrenat\n",
    "    :param nombre_fichero:  nom del fitxer\n",
    "    :return:\n",
    "    '''\n",
    "    frames = []\n",
    "    env.reset()\n",
    "    observation = env.reset()\n",
    "    action_space = np.arange(env.action_space.n)\n",
    "    incio_juego = preprocess_observation(observation)\n",
    "    state= stack_frame(None, incio_juego, True)\n",
    "    total_reward = 0 \n",
    "    t=0\n",
    "    while True:\n",
    "            state= stack_frame(state, preprocess_observation(observation), False)\n",
    "            frame = env.render(mode='rgb_array')\n",
    "            frames.append(_label_with_text(frame))                            \n",
    "            action_probs = ag.dnnetwork.get_action_prob(state).detach().numpy()                                                         \n",
    "            action_probs = np.squeeze(action_probs)                    \n",
    "            action = np.random.choice(action_space, p=action_probs)\n",
    "            observation, reward, done, info = env.step(action)            \n",
    "            total_reward += reward\n",
    "            t=t+1\n",
    "            if done:\n",
    "                break\n",
    "\n",
    "    env.close()\n",
    "    try:\n",
    "        os.makedirs('videos')\n",
    "    except:\n",
    "        pass\n",
    "    imageio.mimwrite(os.path.join('./videos/', nombre_fichero), frames, fps=60)\n",
    "\n",
    "\n",
    "# Juguem i enmagatzemem una partida amb l'agent entrenat \n",
    "save_agentpgr_gif(env, agentPGR, 'space_invader_PGRAgent_comportamiento.gif')"
   ]
  },
  {
   "cell_type": "markdown",
   "metadata": {},
   "source": [
    "<div style=\"background-color: #fcf2f2; border-color: #dfb5b4; border-left: 5px solid #dfb5b4; padding: 0.5em;\">\n",
    "<strong>Comentaris:</strong>\n",
    "    \n",
    "![title](videos/space_invader_PGRAgent_comportamiento.gif)  \n",
    "<br><br>\n",
    "</div>"
   ]
  },
  {
   "cell_type": "markdown",
   "metadata": {},
   "source": [
    "## 5. Comparació de models (1 pt)\n",
    "<p></p>\n",
    "<div style=\"background-color: #EDF7FF; border-color: #7C9DBF; border-left: 5px solid #7C9DBF; padding: 0.5em;\">\n",
    "<strong>5.1 Exercici (0.5 pts):</strong> Mostra en un mateix gràfic l'evolució de la mitjana de recompenses dels tres models juntament amb el llindar de recompensa.\n",
    "</div>"
   ]
  },
  {
   "cell_type": "code",
   "execution_count": null,
   "metadata": {},
   "outputs": [],
   "source": [
    " def plot_comparing_rewards(agentDQN, agentDDQN, agentPGR):\n",
    "        plt.figure(figsize=(12,8))\n",
    "        plt.plot(agentDQN.mean_training_rewards, color='y', label='DQN Mean Rewards')\n",
    "        plt.plot(agentDDQN.mean_training_rewards, color='g', label='DDQN Mean Rewards')\n",
    "        plt.plot(agentPGR.mean_training_rewards, color='b', label=\"PGR Mean , color='g'eshold\")\n",
    "        plt.axhline(agentPGR.reward_threshold, color='r', label=\"Reward threshold\")\n",
    "        plt.xlabel('Episodes')\n",
    "        plt.ylabel('Rewards')\n",
    "        plt.legend(loc=\"upper left\")\n",
    "        plt.show()    "
   ]
  },
  {
   "cell_type": "code",
   "execution_count": null,
   "metadata": {},
   "outputs": [],
   "source": [
    "plot_comparing_rewards(agentDQN, agentDDQN, agentPGR)"
   ]
  },
  {
   "cell_type": "markdown",
   "metadata": {},
   "source": [
    "<div style=\"background-color: #EDF7FF; border-color: #7C9DBF; border-left: 5px solid #7C9DBF; padding: 0.5em;\">\n",
    "<strong>5.2 Anàlisi (0.5 pts):</strong> Analitzar els resultats obtinguts tenint en compte el nombre depisodis, el temps dentrenament i el rendiment dels tres agents entrenats observat en apartats anteriors. Quin agent presenta un comportament millor? Per què?\n",
    "</div>"
   ]
  },
  {
   "cell_type": "markdown",
   "metadata": {},
   "source": [
    "<div style=\"background-color: #fcf2f2; border-color: #dfb5b4; border-left: 5px solid #dfb5b4; padding: 0.5em;\">\n",
    "<strong>Solució (Comentaris):</strong>\n",
    "<br><br>\n",
    "</div>"
   ]
  },
  {
   "cell_type": "markdown",
   "metadata": {},
   "source": [
    "## 6. Optimizació (1 pto)\n",
    "\n",
    "En aquest apartat volem trobar la millor arquitectura i hiperparàmetres per optimitzar la precisió del model. Els punts que volem tenir en compte per a la cerca del millor model són els següents:\n",
    "<ul>\n",
    "     <li>Nombre d'unitats de les capes</li>\n",
    "     <li>Learning rate</li>\n",
    "     <li>Actualització de la xarxa principal</li>\n",
    "     <li>Sincronització de la xarxa objectiu</li>\n",
    "     <li>Batch size</li>\n",
    "     <li>Gamma</li>\n",
    "     <li>Nombre de partides de l'entrenament</li>\n",
    "<ul>"
   ]
  },
  {
   "cell_type": "markdown",
   "metadata": {},
   "source": [
    "Podeu modificar o adaptar la configuració com considereu oportú sempre que justifiqueu el benefici i el canvi."
   ]
  },
  {
   "cell_type": "markdown",
   "metadata": {},
   "source": [
    "<div style=\"background-color: #EDF7FF; border-color: #7C9DBF; border-left: 5px solid #7C9DBF; padding: 0.5em;\">\n",
    "<strong>6.1 Exercici (1 pt):</strong> Triar un dels dos models de DQN implementats (DQN o dueling DQN) i experimentar amb diferents combinacions de valors per als paràmetres especificats. L'objectiu és aconseguir un model amb millors resultats que el presentat a la PAC. <b>Indicar</b> les proves realitzades, però presentar <b>únicament</b> l'execució i els resultats de la millor opció. Justificar els valors escollits d'hiperparàmetres per a les diferents proves realitzades i comentar els resultats d'entrenament i rendiment de l'agent entrenat.\n",
    "</div>"
   ]
  },
  {
   "cell_type": "code",
   "execution_count": null,
   "metadata": {},
   "outputs": [],
   "source": []
  },
  {
   "cell_type": "markdown",
   "metadata": {},
   "source": [
    "<div style=\"background-color: #fcf2f2; border-color: #dfb5b4; border-left: 5px solid #dfb5b4; padding: 0.5em;\">\n",
    "<strong>Solució (Comentaris):</strong>\n",
    "\n",
    "    \n",
    "\n",
    "\n",
    "\n",
    "\n",
    "\n",
    "\n",
    "\n",
    "\n",
    "<br><br>\n",
    "</div>"
   ]
  },
  {
   "cell_type": "code",
   "execution_count": null,
   "metadata": {},
   "outputs": [],
   "source": []
  }
 ],
 "metadata": {
  "accelerator": "GPU",
  "colab": {
   "collapsed_sections": [],
   "name": "space_invader.ipynb",
   "provenance": [],
   "toc_visible": true
  },
  "kernelspec": {
   "display_name": "Python 3 (ipykernel)",
   "language": "python",
   "name": "python3"
  },
  "language_info": {
   "codemirror_mode": {
    "name": "ipython",
    "version": 3
   },
   "file_extension": ".py",
   "mimetype": "text/x-python",
   "name": "python",
   "nbconvert_exporter": "python",
   "pygments_lexer": "ipython3",
   "version": "3.9.7"
  }
 },
 "nbformat": 4,
 "nbformat_minor": 4
}
