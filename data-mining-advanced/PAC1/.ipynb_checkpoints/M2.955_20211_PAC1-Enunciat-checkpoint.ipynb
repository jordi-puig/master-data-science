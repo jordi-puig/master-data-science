{
 "cells": [
  {
   "cell_type": "markdown",
   "metadata": {},
   "source": [
    "<div style=\"width: 100%; clear: both;\">\n",
    "<div style=\"float: left; width: 50%;\">\n",
    "<img src=\"http://www.uoc.edu/portal/_resources/common/imatges/marca_UOC/UOC_Masterbrand.jpg\" align=\"left\">\n",
    "</div>\n",
    "<div style=\"float: right; width: 50%;\">\n",
    "<p style=\"margin: 0; padding-top: 22px; text-align:right;\">M2.955 · Models avançats de mineria de dades · PAC1</p>\n",
    "<p style=\"margin: 0; text-align:right;\">2021-1 · Màster universitari en Ciència de dades (Data science)</p>\n",
    "<p style=\"margin: 0; text-align:right; padding-button: 100px;\">Estudis d'Informàtica, Multimèdia i Telecomunicació</p>\n",
    "</div>\n",
    "</div>\n",
    "<div style=\"width:100%;\">&nbsp;</div>\n",
    "\n",
    "\n",
    "# PAC 1: Preparació de dades\n",
    "\n",
    "En aquesta activitat pràctica veurem com aplicar diferents tècniques per a la càrrega i preparació de dades:\n",
    "\n",
    " <ol start=\"1\">\n",
    "  <li>Càrrega del conjunt de dades</li>\n",
    "  <li>Anàlisi de les dades\n",
    "  <br>2.1 Anàlisi estadístic bàsic\n",
    "  <br>2.2 Anàlisi exploratori de les dades\n",
    "  <li>Reducció de la dimensionalitat</li>\n",
    "  <li>Entrenament i test</li>\n",
    "</ol>\n",
    "\n",
    "**Important:** Cada un dels exercicis pot suposar diversos minuts d'execució, de manera que el lliurament s'ha de fer en format notebook i en format html, on es vegi el codi, els resultats i comentaris de cada exercici. Es pot exportar el notebook a html des del menú File $\\to$ Download as $\\to$ HTML.\n",
    "\n",
    "**Important:** Hi ha un tipus de cel·la especial per albergar text. Aquest tipus de cel·la us serà molt útil per respondre a les diferents preguntes teòriques plantejades al llarg de cada PAC. Per canviar el tipus de cel·la a aquest tipus, al menú: Cell $\\to$ Cell Type $\\to$ Markdown.\n",
    "   \n",
    "Per a això, necessitarem les següents llibreries:"
   ]
  },
  {
   "cell_type": "code",
   "execution_count": null,
   "metadata": {},
   "outputs": [],
   "source": [
    "from six import StringIO\n",
    "\n",
    "from IPython.display import Image \n",
    "from sklearn import datasets\n",
    "from sklearn.decomposition import PCA\n",
    "from sklearn.model_selection import train_test_split, cross_val_score\n",
    "from sklearn.metrics import accuracy_score, confusion_matrix, classification_report\n",
    "from sklearn.tree import DecisionTreeClassifier, export_graphviz\n",
    "import pydotplus\n",
    "import numpy as np\n",
    "import seaborn as sns\n",
    "import matplotlib.pyplot as plt\n",
    "%matplotlib inline\n",
    "import pandas as pd\n",
    "pd.set_option('display.max_columns', None)"
   ]
  },
  {
   "cell_type": "markdown",
   "metadata": {},
   "source": [
    "# 1. Càrrega del conjunt de dades (1 punt)\n",
    "\n",
    "En primer lloc, haureu de carregar el conjunt de dades Breast Cancer Wisconsin (més informació a https://archive.ics.uci.edu/ml/datasets/Breast+Cancer+Wisconsin+(Diagnostic)). Aquest es pot descarregar d'Internet o es pot carregar directament usant una llibreria de ``scikit-learn``, que incorpora un conjunt de datasets molt coneguts i emprats per mineria de dades i machine learning (https://scikit-learn.org/stable /datasets.html)."
   ]
  },
  {
   "cell_type": "markdown",
   "metadata": {},
   "source": [
    "<div style=\"background-color: #EDF7FF; border-color: #7C9DBF; border-left: 5px solid #7C9DBF; padding: 0.5em;\">\n",
    "<strong>Exercici:</strong> carregueu el conjunt de dades \"Breast Cancer Wisconsin\" i mostreu:\n",
    "  <br> - El nombre i nom dels atributs (variables que podrien ser usades per a predir la resposta \"Diagnosi\")\n",
    "  <br> - El nombre de files obtingudes\n",
    "  <br> - Verifiqueu si hi ha o no dades que falten ( \"missing values\") i en quines columnes\n",
    "</div>\n",
    "\n",
    "**Suggeriment**: si feu servir ``sklearn`` (sklearn.datasets.load_breast_cancer), exploreu les diferents keys de l'objecte obtingut.\n",
    "    \n",
    "**Suggeriment**: potser us resulta útil passar les dades (atributs + target) a un dataframe de ``pandas``."
   ]
  },
  {
   "cell_type": "code",
   "execution_count": null,
   "metadata": {},
   "outputs": [],
   "source": []
  },
  {
   "cell_type": "markdown",
   "metadata": {},
   "source": [
    "# 2. Anàlisi de les dades (3 punts)"
   ]
  },
  {
   "cell_type": "markdown",
   "metadata": {},
   "source": [
    "## 2.1 Anàlisi estadístic bàsic"
   ]
  },
  {
   "cell_type": "markdown",
   "metadata": {},
   "source": [
    "<div style=\"background-color: #EDF7FF; border-color: #7C9DBF; border-left: 5px solid #7C9DBF; padding: 0.5em;\">\n",
    "<strong>Exercici:</strong> feu un anàlisi estadístic bàsic:\n",
    "    <br> - Il·lustreu gràficament la freqüència d'aparició de les variables categòriques, indicant el nombre.\n",
    "    <br> - Calculeu per a cada atribut numèric del conjunt de dades, el seu valor mitjà i desviació estàndard. \n",
    "</div>\n",
    "\n",
    "**Consell**: podeu fer servir la llibreria ``pandas`` i les seves funcions ``describe`` i ``value_counts``."
   ]
  },
  {
   "cell_type": "code",
   "execution_count": null,
   "metadata": {},
   "outputs": [],
   "source": []
  },
  {
   "cell_type": "markdown",
   "metadata": {},
   "source": [
    "<div style=\"background-color: #EDF7FF; border-color: #7C9DBF; border-left: 5px solid #7C9DBF; padding: 0.5em;\">\n",
    "<strong>Anàlisi:</strong> comenteu els resultats.\n",
    "</div>"
   ]
  },
  {
   "cell_type": "code",
   "execution_count": null,
   "metadata": {},
   "outputs": [],
   "source": []
  },
  {
   "cell_type": "markdown",
   "metadata": {},
   "source": [
    "## 2.2 Anàlisi exploratori de les dades"
   ]
  },
  {
   "cell_type": "markdown",
   "metadata": {},
   "source": [
    "En aquest exercici anem a explorar la relació d'alguns dels atributs numèrics amb la variable resposta (\"Diagnosi\"), tant gràficament com quantitativament i analitzarem les diferents correlacions. Per començar, seleccioneu els 4 atributs que voleu explorar. Si heu fet servir els noms de columnes proporcionats per ``sklearn``, una llista de possibles noms d'atributs serien:"
   ]
  },
  {
   "cell_type": "code",
   "execution_count": null,
   "metadata": {},
   "outputs": [],
   "source": [
    "feats_to_explore = ['mean radius', 'mean texture', 'mean smoothness', 'mean symmetry']"
   ]
  },
  {
   "cell_type": "markdown",
   "metadata": {},
   "source": [
    "<div style=\"background-color: #EDF7FF; border-color: #7C9DBF; border-left: 5px solid #7C9DBF; padding: 0.5em;\">\n",
    "<strong>Exercici:</strong> utilitzant una llibreria gràfica, com ara \"matplotlib\", feu un gràfic del histograma de valors per a cada un dels atributs seleccionats, separats pels valors de classe de la resposta (\"Diagnosi\").\n",
    "\n",
    "La finalitat és observar com es distribueix cada un dels atributs en funció de la valor de classe que prenen, per poder identificar de forma visual i ràpida si alguns atributs permeten diferenciar de forma clara els diferents diagnòstics dels tumors.\n",
    "</div>\n",
    "\n",
    "**Consell**: podeu fer servir el paràmetre ``alpha`` en els gràfics perquè s'aprecien els tres histogrames."
   ]
  },
  {
   "cell_type": "code",
   "execution_count": null,
   "metadata": {},
   "outputs": [],
   "source": []
  },
  {
   "cell_type": "markdown",
   "metadata": {},
   "source": [
    "<div style=\"background-color: #EDF7FF; border-color: #7C9DBF; border-left: 5px solid #7C9DBF; padding: 0.5em;\">\n",
    "<strong>Anàlisi:</strong> mirant els gràfics, quins atributs creus que tenen valors clarament diferents per a diagnòstics benignes i malignes? Quins atributs no?</div>"
   ]
  },
  {
   "cell_type": "code",
   "execution_count": null,
   "metadata": {},
   "outputs": [],
   "source": []
  },
  {
   "cell_type": "markdown",
   "metadata": {},
   "source": [
    "<div style=\"background-color: #EDF7FF; border-color: #7C9DBF; border-left: 5px solid #7C9DBF; padding: 0.5em;\">\n",
    "<strong>Exercici:</strong> per a cada un dels atributs representats en l'exercici anterior, mostreu la mitjana i la desviació estàndard per a cada valor de classe de la resposta.\n",
    "</div>\n",
    "    \n",
    "La finalitat és verificar numèricament les diferències identificades anteriorment de forma visual."
   ]
  },
  {
   "cell_type": "code",
   "execution_count": null,
   "metadata": {},
   "outputs": [],
   "source": []
  },
  {
   "cell_type": "markdown",
   "metadata": {},
   "source": [
    "<div style=\"background-color: #EDF7FF; border-color: #7C9DBF; border-left: 5px solid #7C9DBF; padding: 0.5em;\">\n",
    "<strong>Anàlisi:</strong> mirant als valors mitjans i desviacions estàndard calculades, creus que són significatives les diferències per diagnòstics benignes i malignes?</div>"
   ]
  },
  {
   "cell_type": "code",
   "execution_count": null,
   "metadata": {},
   "outputs": [],
   "source": []
  },
  {
   "cell_type": "markdown",
   "metadata": {},
   "source": [
    "<div style=\"background-color: #EDF7FF; border-color: #7C9DBF; border-left: 5px solid #7C9DBF; padding: 0.5em;\">\n",
    "<strong>Exercici:</strong> calculeu i mostreu la correlació entre totes les variables del conjunt de dades.\n",
    "</div>"
   ]
  },
  {
   "cell_type": "code",
   "execution_count": null,
   "metadata": {},
   "outputs": [],
   "source": []
  },
  {
   "cell_type": "markdown",
   "metadata": {},
   "source": [
    "<div style=\"background-color: #EDF7FF; border-color: #7C9DBF; border-left: 5px solid #7C9DBF; padding: 0.5em;\">\n",
    "<strong>Exercici:</strong> representeu gràficament les relacions entre totes les parelles de les variables \"mean\" del conjunt de dades.\n",
    "    \n",
    "La finalitat d'aquest exercici és poder observar i analitzar les correlacions de manera gràfica entre algunes de les variables.\n",
    "</div>\n",
    "\n",
    "**Consell**: podeu utilitzar la funció ``pairplot`` de la llibreria ``Seaborn``."
   ]
  },
  {
   "cell_type": "code",
   "execution_count": null,
   "metadata": {},
   "outputs": [],
   "source": []
  },
  {
   "cell_type": "markdown",
   "metadata": {},
   "source": [
    "<div style=\"background-color: #EDF7FF; border-color: #7C9DBF; border-left: 5px solid #7C9DBF; padding: 0.5em;\">\n",
    "<strong>Exercici:</strong> determineu quines són les variables amb una correlació superior al 90% i creeu un nou conjunt de dades (dataframe) eliminant aquestes variables.</div>"
   ]
  },
  {
   "cell_type": "code",
   "execution_count": null,
   "metadata": {},
   "outputs": [],
   "source": []
  },
  {
   "cell_type": "markdown",
   "metadata": {},
   "source": [
    "<div style=\"background-color: #EDF7FF; border-color: #7C9DBF; border-left: 5px solid #7C9DBF; padding: 0.5em;\">\n",
    "<strong>Anàlisi:</strong> mirant les correlacions, quines variables són les que tenen una correlació més forta i han estat eliminades? Quin efecte pot tenir en el resultat final eliminar aquestes variables?\n",
    "</div>"
   ]
  },
  {
   "cell_type": "code",
   "execution_count": null,
   "metadata": {},
   "outputs": [],
   "source": []
  },
  {
   "cell_type": "markdown",
   "metadata": {},
   "source": [
    "<div style=\"background-color: #EDF7FF; border-color: #7C9DBF; border-left: 5px solid #7C9DBF; padding: 0.5em;\">\n",
    "<strong>Bonus:</strong> Quin test estadístic podries fer servir per comparar les distribucions dels valors dels atributs quan els diagnòstics són benignes o malignes? Fes-lo servir per avaluar quins atributs (d'entre tots els del conjunt de dades) tenen valors més semblants a tumors benignes i malignes. Interpreta el resultat.\n",
    "</div>"
   ]
  },
  {
   "cell_type": "code",
   "execution_count": null,
   "metadata": {},
   "outputs": [],
   "source": []
  },
  {
   "cell_type": "markdown",
   "metadata": {},
   "source": [
    "# 3. Reducció de dimensionalitat (3 punts)\n",
    "\n",
    "En aquest exercici haureu aplicar mètodes de reducció de dimensionalitat al conjunt original de dades. L'objectiu és reduir el conjunt d'atributs a un nou conjunt amb menys dimensions."
   ]
  },
  {
   "cell_type": "markdown",
   "metadata": {},
   "source": [
    "<div style=\"background-color: #EDF7FF; border-color: #7C9DBF; border-left: 5px solid #7C9DBF; padding: 0.5em;\">\n",
    "<strong>Exercici:</strong> apliqueu el mètode de reducció de dimensionalitat Principal Component Analysis (PCA) per reduir a 2 dimensions:\n",
    "<br>- El conjunt de dades original\n",
    "<br>- El conjunt de dades a el qual se li han extret les variables fortament correlacionades\n",
    "</div>\n",
    "\n",
    "**Nota**: Tingueu cura i no inclogueu la variable objectiu \"Diagnosi\" a la reducció de dimensionalitat. Volem poder explicar la variable objectiu en funció de la resta de variables reduïdes a dues dimensions.\n",
    "\n",
    "**Consell**: no cal que programeu els algoritmes, podeu fer ús de les implementacions disponibles a la llibreria ``scikit-learn``."
   ]
  },
  {
   "cell_type": "code",
   "execution_count": null,
   "metadata": {},
   "outputs": [],
   "source": []
  },
  {
   "cell_type": "markdown",
   "metadata": {},
   "source": [
    "<div style=\"background-color: #EDF7FF; border-color: #7C9DBF; border-left: 5px solid #7C9DBF; padding: 0.5em;\">\n",
    "<strong>Exercici:</strong> genereu un gràfic (en 2D) amb el resultat del PCA usant colors diferents per a cada classe de la resposta, amb l'objectiu de visualitzar si és possible separar les classes emprant aquest mètode.</div>"
   ]
  },
  {
   "cell_type": "code",
   "execution_count": null,
   "metadata": {},
   "outputs": [],
   "source": []
  },
  {
   "cell_type": "markdown",
   "metadata": {},
   "source": [
    "<div style=\"background-color: #EDF7FF; border-color: #7C9DBF; border-left: 5px solid #7C9DBF; padding: 0.5em;\">\n",
    "<strong>Anàlisi:</strong> comenteu el resultat.</div>"
   ]
  },
  {
   "cell_type": "code",
   "execution_count": null,
   "metadata": {},
   "outputs": [],
   "source": []
  },
  {
   "cell_type": "markdown",
   "metadata": {},
   "source": [
    "<div style=\"background-color: #EDF7FF; border-color: #7C9DBF; border-left: 5px solid #7C9DBF; padding: 0.5em;\">\n",
    "<strong>Pregunta:</strong> Quin altre mètode o mètodes de reducció de dimensionalitat es podrien aplicar?</div>"
   ]
  },
  {
   "cell_type": "code",
   "execution_count": null,
   "metadata": {},
   "outputs": [],
   "source": []
  },
  {
   "cell_type": "markdown",
   "metadata": {},
   "source": [
    "<div style=\"background-color: #EDF7FF; border-color: #7C9DBF; border-left: 5px solid #7C9DBF; padding: 0.5em;\">\n",
    "<strong>Exercici:</strong> escull un mètode de reducció i genera el gràfic (2D) amb el resultat.</div>"
   ]
  },
  {
   "cell_type": "code",
   "execution_count": null,
   "metadata": {},
   "outputs": [],
   "source": []
  },
  {
   "cell_type": "markdown",
   "metadata": {},
   "source": [
    "<div style=\"background-color: #EDF7FF; border-color: #7C9DBF; border-left: 5px solid #7C9DBF; padding: 0.5em;\">\n",
    "<strong>Anàlisi:</strong> en comparació amb el PCA, quin mètode ha resultat més efectiu per a visualitzar les dues classes de diagnòstic de forma separada? Quan és més adequat fer servir PCA o l'altre mètode escollit?</div>"
   ]
  },
  {
   "cell_type": "code",
   "execution_count": null,
   "metadata": {},
   "outputs": [],
   "source": []
  },
  {
   "cell_type": "markdown",
   "metadata": {},
   "source": [
    "# 4. Entrenament i test (3 punts)\n",
    "\n",
    "En aquest últim exercici, aplicarem un mètode d'aprenentatge supervisat, concretament el classificador Decision Tree (un arbre de decisió), per predir el diagnòstic de càncer de mama (tumor benigne o maligne) i avaluar la precisió obtinguda amb el model. \n",
    "\n",
    "Per a això farem servir:\n",
    "- El conjunt de dades original amb tots els atributs\n",
    "- El conjunt de dades reduït a només 2 atributs amb PCA\n",
    "- El conjunt de dades sense les variables fortament correlacionada i reduït a només 2 atributs amb el mètode PCA"
   ]
  },
  {
   "cell_type": "markdown",
   "metadata": {},
   "source": [
    "<div style=\"background-color: #EDF7FF; border-color: #7C9DBF; border-left: 5px solid #7C9DBF; padding: 0.5em;\">\n",
    "<strong>Exercici:</strong> usant el conjunt de dades original:\n",
    "  - Dividiu el dataset en train i test.\n",
    "  - Definiu un model Decision Tree (fixant max_depth=5 per mantenir el model simple).\n",
    "  - Apliqueu validació creuada amb el model definit i el dataset de train (amb cv=5 ja és suficient).\n",
    "  - Calculeu la mitjana i la desviació estàndard de la validació creuada.\n",
    "</div>\n",
    "\n",
    "**Notes**: \n",
    "- Per separar entre train i test podeu fer servir ``train_test_split`` de ``sklearn``.\n",
    "- Per entrenar un model _decision tree_ podeu fer servir ``DecisionTreeClassifier`` de ``sklearn``.\n",
    "- Per aplicar validació creuada podeu fer servir ``cross_val_score`` de ``sklearn``."
   ]
  },
  {
   "cell_type": "code",
   "execution_count": null,
   "metadata": {},
   "outputs": [],
   "source": []
  },
  {
   "cell_type": "markdown",
   "metadata": {},
   "source": [
    "<div style=\"background-color: #EDF7FF; border-color: #7C9DBF; border-left: 5px solid #7C9DBF; padding: 0.5em;\">\n",
    "    <strong>Exercici:</strong> feu el <i>fit</i> amb tot el conjunt de train, i genereu l'arbre de decisió corresponent.</div>\n",
    "\n",
    "**Nota**: per dibuixar arbres de decisió, podeu consultar:\n",
    "- https://towardsdatascience.com/visualizing-decision-trees-with-python-scikit-learn-graphviz-matplotlib-1c50b4aa68dc"
   ]
  },
  {
   "cell_type": "code",
   "execution_count": null,
   "metadata": {},
   "outputs": [],
   "source": []
  },
  {
   "cell_type": "markdown",
   "metadata": {},
   "source": [
    "<div style=\"background-color: #EDF7FF; border-color: #7C9DBF; border-left: 5px solid #7C9DBF; padding: 0.5em;\">\n",
    "<strong>Exercici:</strong> repetiu el mateix procediment que en l'exercici anterior amb el dataset reduït a 2 dimensions amb PCA.</div>"
   ]
  },
  {
   "cell_type": "code",
   "execution_count": null,
   "metadata": {},
   "outputs": [],
   "source": []
  },
  {
   "cell_type": "markdown",
   "metadata": {},
   "source": [
    "<div style=\"background-color: #EDF7FF; border-color: #7C9DBF; border-left: 5px solid #7C9DBF; padding: 0.5em;\">\n",
    "<strong>Exercici:</strong> repetiu el mateix procediment que en l'exercici anterior amb el conjunt de dades sense les variables fortament correlacionades i reduït a només 2 atributs amb el mètode PCA.\n",
    "</div>"
   ]
  },
  {
   "cell_type": "code",
   "execution_count": null,
   "metadata": {},
   "outputs": [],
   "source": []
  },
  {
   "cell_type": "markdown",
   "metadata": {},
   "source": [
    "<div style=\"background-color: #EDF7FF; border-color: #7C9DBF; border-left: 5px solid #7C9DBF; padding: 0.5em;\">\n",
    "<strong>Anàlisi:</strong> Amb quines dades ha funcionat millor? Té sentit? És coherent amb els resultats que hem vist en l'exercici 3?\n",
    "</div>"
   ]
  },
  {
   "cell_type": "code",
   "execution_count": null,
   "metadata": {},
   "outputs": [],
   "source": []
  },
  {
   "cell_type": "markdown",
   "metadata": {},
   "source": [
    "<div style=\"background-color: #EDF7FF; border-color: #7C9DBF; border-left: 5px solid #7C9DBF; padding: 0.5em;\">\n",
    "<strong>Exercici:</strong> amb el millor model que hagueu obtingut:\n",
    "  - Genereu prediccions sobre el dataset de test.\n",
    "  - Calculeu la precisió de les prediccions obtingudes i la matriu de confusió associada.\n",
    "</div>\n",
    "\n",
    "**Nota**: per calcular la precisió i la matriu de confusió podeu fer servir les funcions dins del mòdul ``metrics`` de ``sklearn``."
   ]
  },
  {
   "cell_type": "code",
   "execution_count": null,
   "metadata": {},
   "outputs": [],
   "source": []
  }
 ],
 "metadata": {
  "kernelspec": {
   "display_name": "Python 3",
   "language": "python",
   "name": "python3"
  },
  "language_info": {
   "codemirror_mode": {
    "name": "ipython",
    "version": 3
   },
   "file_extension": ".py",
   "mimetype": "text/x-python",
   "name": "python",
   "nbconvert_exporter": "python",
   "pygments_lexer": "ipython3",
   "version": "3.7.6"
  },
  "toc": {
   "base_numbering": 1,
   "nav_menu": {},
   "number_sections": true,
   "sideBar": true,
   "skip_h1_title": false,
   "title_cell": "Table of Contents",
   "title_sidebar": "Contents",
   "toc_cell": false,
   "toc_position": {},
   "toc_section_display": true,
   "toc_window_display": false
  }
 },
 "nbformat": 4,
 "nbformat_minor": 2
}
