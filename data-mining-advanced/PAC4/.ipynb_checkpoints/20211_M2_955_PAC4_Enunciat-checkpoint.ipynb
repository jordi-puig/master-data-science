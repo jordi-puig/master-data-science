{
 "cells": [
  {
   "cell_type": "markdown",
   "metadata": {
    "id": "ufIapjtVdA5H"
   },
   "source": [
    "<div style=\"width: 100%; clear: both;\">\n",
    "<div style=\"float: left; width: 50%;\">\n",
    "<img src=\"http://www.uoc.edu/portal/_resources/common/imatges/marca_UOC/UOC_Masterbrand.jpg\", align=\"left\">\n",
    "</div>\n",
    "<div style=\"float: right; width: 50%;\">\n",
    "<p style=\"margin: 0; padding-top: 22px; text-align:right;\">M2.955 · Models avançats de mineria de dades · PEC4</p>\n",
    "<p style=\"margin: 0; text-align:right;\">2021-1 · Master universitari en Ciencia de dades (Data science)</p>\n",
    "<p style=\"margin: 0; text-align:right; padding-button: 100px;\">Estudis de Informàtica, Multimedia i Telecomunicació</p>\n",
    "</div>\n",
    "</div>\n",
    "<div style=\"width:100%;\">&nbsp;</div>\n",
    "\n",
    "\n",
    "# PAC 4: Sèries temporals i Combinació de classificadors\n",
    "Aquesta pràctica està dividida en dues parts:\n",
    "\n",
    "En el primer exercici veurem com **descompondre i compondre sèries temporals per fer prediccions a futur**.\n",
    "\n",
    "Al segon exercici estudiarem **diferents mètodes de combinació de classificadors**. \n"
   ]
  },
  {
   "cell_type": "markdown",
   "metadata": {
    "id": "1fbIUIiE-ZfR"
   },
   "source": [
    "1. Descomposició i composició de sèries temporals per fer prediccions\n",
    "        1.1. Components de la sèrie temporal\n",
    "           1.1.a Heterocedasticitat\n",
    "           1.1.b Tendència\n",
    "           1.1.c Estacionalitat\n",
    "        1.2. Prediccions\n",
    "           1.2.a Predicció SARIMA\n",
    "           1.2.b Tendència\n",
    "           1.3.c Heterocedasticitat\n",
    "2. Mètodes de combinació de classificadors\n",
    "        2.1. Combinació paral·lela de classificadors\n",
    "           2.1.1 Arbres de decisió\n",
    "           2.1.2.a Bagging\n",
    "           2.1.2.b Boosting\n",
    "        2.2. Combinació seqüencial de classificadors de base diferent\n",
    "           2.2.1 KNN\n",
    "           2.2.2 SVM\n",
    "           2.2.3 Stacking\n",
    "           2.2.4 Cascading\n",
    "\n",
    "**Important: L'exportació del notebook a html es pot fer des del menú File $\\to$ Download as $\\to$ HTML.** "
   ]
  },
  {
   "cell_type": "markdown",
   "metadata": {
    "id": "M1pLnFkN-M-c"
   },
   "source": [
    "<div class=\"alert alert-block alert-info\">\n",
    "<strong>Nom i cognoms:</strong>\n",
    "</div>"
   ]
  },
  {
   "cell_type": "markdown",
   "metadata": {
    "id": "c8_2TTpb_hUh"
   },
   "source": [
    "# Introducció\n",
    "Una sèrie temporal (time series) és una successió de dades ordenades cronològicament, espaiades a intervals iguals o desiguals. El procés de Forecasting consisteix a predir el valor futur d'una sèrie temporal, bé modelant la sèrie temporal únicament en funció del seu comportament passat (autoregressiu) o emprant altres variables externes a la sèrie temporal.\n",
    "\n",
    "Al llarg d'aquest document, es descriu com utilitzar models de regressió de Scikit-learn per fer forecasting sobre sèries temporals "
   ]
  },
  {
   "cell_type": "code",
   "execution_count": null,
   "metadata": {
    "id": "sDD3Tpi5LX6_"
   },
   "outputs": [],
   "source": [
    "pip install session-info"
   ]
  },
  {
   "cell_type": "code",
   "execution_count": null,
   "metadata": {
    "id": "K9ESJDjZDfQP"
   },
   "outputs": [],
   "source": [
    "# Tractament de dades\n",
    "# ==============================================================================\n",
    "import numpy as np\n",
    "import pandas as pd\n",
    "import statsmodels\n",
    "import math\n",
    "\n",
    "from statsmodels.graphics.tsaplots import plot_acf\n",
    "from sklearn.linear_model import LinearRegression\n",
    "from sklearn import svm\n",
    "from sklearn.decomposition import PCA\n",
    "from sklearn.tree import DecisionTreeClassifier\n",
    "from sklearn.linear_model import LinearRegression\n",
    "from sklearn.neighbors import KNeighborsClassifier\n",
    "from sklearn.metrics import accuracy_score\n",
    "from sklearn.metrics import mean_squared_error\n",
    "from sklearn.preprocessing import OneHotEncoder\n",
    "from sklearn.model_selection import cross_val_score\n",
    "from sklearn.model_selection import train_test_split\n",
    "from sklearn import ensemble\n",
    "\n",
    "\n",
    "\n",
    "# Gràfics\n",
    "# ==============================================================================\n",
    "import matplotlib.pyplot as plt\n",
    "\n",
    "from statsmodels.graphics.tsaplots import plot_acf\n",
    "from statsmodels.graphics.tsaplots import plot_pacf\n",
    "plt.style.use('fivethirtyeight')\n",
    "\n",
    "%matplotlib inline\n",
    "\n",
    "# Configuració warnings\n",
    "# ==============================================================================\n",
    "import warnings\n",
    "warnings.filterwarnings('ignore')"
   ]
  },
  {
   "cell_type": "markdown",
   "metadata": {
    "id": "07UnuNsT_zWS"
   },
   "source": [
    "El dataset (corticoides.csv) que s'utilitzarà en aquest primer exercici s'ha obtingut del llibre de forecasting de sèries temporals: [Principles and Practice by Rob J Hyndman and George Athanasopoulos](https://otexts.com/fpp3/).\n",
    "\n",
    "Es disposa d'una sèrie temporal amb la despesa mensual (milions de dòlars) en fàrmacs amb corticoides que va tenir el sistema de salut Australià entre el 1991 i el 2008. Es pretén crear un model autoregressiu capaç de predir la futura despesa mensual. "
   ]
  },
  {
   "cell_type": "code",
   "execution_count": null,
   "metadata": {
    "id": "ueKFrAyALAqD"
   },
   "outputs": [],
   "source": [
    "datos = pd.read_csv('corticoides.csv', sep=',')\n",
    "datos.head()"
   ]
  },
  {
   "cell_type": "markdown",
   "metadata": {
    "id": "EOykxYIb1pxa"
   },
   "source": [
    "La columna data s'ha emmagatzemat com a string. Per convertir-la en datetime, es fa servir la funció pd.to_datetime(). Un cop en format datetime, i per fer ús de les funcionalitats de pandes, s'estableix com a índex. A més, atès que les dades són mensuals, se n'indica la freqüència (Monthly Started 'MS'). "
   ]
  },
  {
   "cell_type": "code",
   "execution_count": null,
   "metadata": {
    "id": "PHo9IdfG12r-"
   },
   "outputs": [],
   "source": [
    "# Preparació de dades\n",
    "# ==============================================================================\n",
    "datos['fecha'] = pd.to_datetime(datos['fecha'], format='%Y/%m/%d')\n",
    "datos = datos.set_index('fecha')\n",
    "datos = datos.rename(columns={'x': 'y'})\n",
    "datos = datos.asfreq('MS')\n",
    "datos = datos['y']\n",
    "datos = datos.sort_index()"
   ]
  },
  {
   "cell_type": "markdown",
   "metadata": {
    "id": "9hY5EisGEDWg"
   },
   "source": [
    "Verifiquem que la sèrie temporal estigui completa."
   ]
  },
  {
   "cell_type": "code",
   "execution_count": null,
   "metadata": {
    "id": "dBbSnIjILTTn"
   },
   "outputs": [],
   "source": [
    "# Verificar que un índex temporal està complet\n",
    "# ==============================================================================\n",
    "(datos.index == pd.date_range(start=datos.index.min(),\n",
    "                              end=datos.index.max(),\n",
    "                              freq=datos.index.freq)).all()"
   ]
  },
  {
   "cell_type": "markdown",
   "metadata": {
    "id": "tEad5nv8D9Bl"
   },
   "source": [
    "Utilitzarem els darrers 36 mesos com a conjunt de tests per avaluar la capacitat predictiva del model. "
   ]
  },
  {
   "cell_type": "code",
   "execution_count": null,
   "metadata": {
    "id": "0L2pgLJZLKJ5"
   },
   "outputs": [],
   "source": [
    "TEST_SIZE = 36\n",
    "train, test = datos.iloc[:-TEST_SIZE], datos.iloc[-TEST_SIZE:]\n",
    "x_train, x_test = np.array(range(train.shape[0])), np.array(range(train.shape[0], datos.shape[0]))\n",
    "train.shape, x_train.shape, test.shape, x_test.shape"
   ]
  },
  {
   "cell_type": "code",
   "execution_count": null,
   "metadata": {
    "id": "HO1PE5W-LJuA"
   },
   "outputs": [],
   "source": [
    "fig, ax = plt.subplots(1, 1, figsize=(15, 5))\n",
    "ax.plot(x_train, train)\n",
    "ax.plot(x_test, test)"
   ]
  },
  {
   "cell_type": "markdown",
   "metadata": {
    "id": "4R8ForaWEZh6"
   },
   "source": [
    "# Sèries temporals (5 punts)\n",
    "## 1.1 Components de la sèrie temporal (2.5 punts)\n",
    "### 1.1.a. Heterocedasticitat\n",
    "Es diu que una sèrie temporal té [heterocedasticitat](https://es.wikipedia.org/wiki/Heterocedasticidad) quan la variància varia amb el temps .\n",
    "\n",
    "El funcionament correcte del model de regressió lineal està basat en el compliment d'una sèrie d'hipòtesis entre les quals destaquen les relacionades amb l'error, que són:\n",
    "\n",
    "El terme error és completament aleatori i segueix una distribució normal, d'esperança 0. La variància de l'error és constant al llarg de les observacions del model (Var[εi]=σ2). El terme error no està correlacionat entre els elements del model i també és independent de la variable explicativa. L'heteroscedasticitat és un problema que sorgeix amb l'incompliment de la segona hipòtesi, la qual cosa implica que la variància de l'error ha de ser constant al llarg de les observacions.\n",
    "\n",
    "En el nostre cas, observem que tenim heterocedasticitat, ja que l'amplitud d'ona varia amb el temps. En aquest primer apartat heu d'eliminar l'heterocedasticitat de la sèrie temporal. És a dir, que la diferència entre el mínim i el màxim de l'estacionalitat (anual) sigui més o menys al llarg del temps.\n",
    "\n",
    "**Ajuda**: Per saber quina transformació elimina millor l'heterocedasticitat, hem de veure tant numèricament com visualment quina presenta la menor variància. "
   ]
  },
  {
   "cell_type": "markdown",
   "metadata": {
    "id": "h9rNKctyEoj7"
   },
   "source": [
    "<div class=\"alert alert-block alert-info\">\n",
    "<strong>Implementació:</strong> Transformació de les dades per eliminar l'heterocedasticitat. Per fer això heu de transformar les dades aplicant la funció que considereu que elimina millor l'heterocedasticitat al dataset (exponencial, logarítmica, ...). Aquestes funcions ja estan implementades a numpy. Graficar les dades originals juntament amb les dades transformades.\n",
    "</div> "
   ]
  },
  {
   "cell_type": "markdown",
   "metadata": {
    "id": "46tiy1X7FW6u"
   },
   "source": [
    "<div class=\"alert alert-block alert-info\">\n",
    "<strong>Solució:</strong> \n",
    "</div>"
   ]
  },
  {
   "cell_type": "markdown",
   "metadata": {
    "id": "nco9By_dFkIr"
   },
   "source": [
    "### 1.1.b. Tendència\n",
    "\n",
    "La [tendència](https://miro.medium.com/max/1872/1*rDQL2fAp_X_dgAHNZuwRfw.png) és el comportament que té les dades a llarg termini.\n",
    "\n",
    "A la nostra sèrie temporal tenim una tendència lineal creixent. En aquest apartat heu d'eliminar la tendència, quedant una sèrie temporal amb tendència constant. "
   ]
  },
  {
   "cell_type": "markdown",
   "metadata": {
    "id": "byeq0MvQFkFt"
   },
   "source": [
    "<div class=\"alert alert-block alert-info\">\n",
    "<strong>Implementació:</strong> Eliminar la tendència de les dades. Si observem la sèrie podem apreciar que tenim una tendència lineal, podem ajustar una regressió lineal (usant scikit-learn) i sostreure-la a les dades originals (sense heterocedasticitat). Graficar les dades amb tendència juntament amb les dades sense tendència.\n",
    "</div> "
   ]
  },
  {
   "cell_type": "markdown",
   "metadata": {
    "id": "0KYGhbeZFkCQ"
   },
   "source": [
    "<div class=\"alert alert-block alert-info\">\n",
    "<strong>Solució:</strong>\n",
    "</div>"
   ]
  },
  {
   "cell_type": "markdown",
   "metadata": {
    "id": "spAxBrMVFj_m"
   },
   "source": [
    "### 1.1.c. Estacionalitat\n",
    "\n",
    "Definim [estacionalitat](https://analisisdedatos.net/analisis/ST/estacionariedad.php) com la variació cíclica que es produeix a les dades. En aquest apartat cal trobar i eliminar l'estacionalitat. "
   ]
  },
  {
   "cell_type": "markdown",
   "metadata": {
    "id": "34idxJt_Fj9E"
   },
   "source": [
    "#### 1.1.c.a. Trobar el període de l'estacionalitat\n",
    "\n",
    "<div class=\"alert alert-block alert-info\">\n",
    "<strong>Implementació:</strong> En primer lloc heu de trobar el cicle, és a dir, cada quan es repeteixen les dades. Per això podem fer servir l'autocorrelació (numpy et permet obtenir els coeficients de correlació). Graficar els coeficients per als 24 primers valors d'autocorrelació i determinar-ne el valor màxim, aquesta serà la nostra estacionalitat. Donar una interpretació semàntica del resultat obtingut.\n",
    "</div> "
   ]
  },
  {
   "cell_type": "markdown",
   "metadata": {
    "id": "8tpZpysiJzX9"
   },
   "source": [
    "<div class=\"alert alert-block alert-info\">\n",
    "<strong>Solució:</strong> \n",
    "</div>"
   ]
  },
  {
   "cell_type": "markdown",
   "metadata": {
    "id": "soGq1B9yFj6p"
   },
   "source": [
    "#### 1.1.c.b. Aplicar un model SARIMA\n",
    "\n",
    "Per tractar l´estacionalitat aplicarem un model SARIMA. Les sigles corresponen a “stationality ARIMA”, és a dir, un model ARIMA amb estacionalitat (la que acabem de trobar).\n",
    "\n",
    "El model [ARIMA](https://otexts.com/fpp2/arima.html) ens permetrà tractar el soroll que queda en eliminar l'heterocedasticitat, tendència i estacionalitat. Per fer-ho té en compte els components següents:\n",
    "\n",
    "- AR: auto-regressive, es denomina *p*. Té en compte la correlació amb els seus lags, és a dir, mira si les observacions passades afecten per calcular el punt següent.\n",
    "- I: integrated, s'anomena *d*. És l'ordre de diferenciació, en el nostre cas no cal, ja que la sèrie ja no té heterocedasticitat ni tendència. Per tant la nostra *d* = 0\n",
    "- MA: moving-average, s'anomena *q*. Té en compte la correlació amb els lags dels errors, és a dir, un cop s'ha aplicat el model, mira els errors del model vers les dades reals.\n",
    "\n",
    "Els models SARIMA depenen de diversos paràmetres (p,d,q)(P,D,Q)s, on els primers (minúscules) corresponen a AR, I, MA de la sèrie normal, o els segons (majúscules) a AR, I, MA amb estacionalitat.\n",
    "\n",
    "Per trobar aquests paràmetres hem de mirar els gràfics PACF (<i>partial autocorrelation function</i>) i ACF (<i>autocorrelation function</i>).\n",
    "\n",
    "El gràfic PACF ens determina el paràmetre *p*, és a dir, l'AR. "
   ]
  },
  {
   "cell_type": "markdown",
   "metadata": {
    "id": "4gwa3rMgTBhE"
   },
   "source": [
    "Descriurem cadascuna de les parts:\n",
    "\n",
    "#### Què entenem per autocorrelació a les sèries temporals?\n",
    "És un terme estadístic que s'utilitza per descriure la presència o absència de correlació a les dades de les sèries temporals, indicant, si les observacions passades influeixen en les actuals.\n",
    "\n",
    "Per tant, podem dir que l'autocorrelació fa referència quan els valors que prenen una variable en el temps no són independents entre si, sinó que un valor determinat depèn dels valors anteriors.\n",
    "\n",
    "El problema de l'autocorrelació s'anomena sovint de **“correlació serial”**.\n",
    "\n",
    "Per mesurar l'autocorrelació se sol fer servir:\n",
    "\n",
    "\n",
    "La **funció d'autocorrelació (ACF)**:\n",
    "- Mesura la correlació entre dues variables separades per k períodes.\n",
    "- Mesura el grau d'associació lineal que hi ha entre dues variables del mateix procés estocàstic.\n",
    "\n",
    "La **funció d'autocorrelació parcial (PACF)**\n",
    "- Mesura la correlació entre dues variables separades per k períodes quan no es considera la dependència creada pels retards intermedis existents entre ambdues.\n",
    "- Mesura l'autocorrelació que hi ha entre dues variables separades k períodes descomptant els possibles efectes deguts a variables intermèdies.\n",
    "\n",
    "Per tant, la funció ACF és usada per identificar el procés de mitjana mòbil (MA) en un model ARIMA; mentre que la funció PACF es fa servir per identificar els valors de la part del procés autoregressiu (AR).\n",
    "\n",
    "Els gràfics generats a partir d'aquestes funcions es denominen **correlogrames**, els quals contenen bandes amb un interval de confiança del 95%. "
   ]
  },
  {
   "cell_type": "code",
   "execution_count": null,
   "metadata": {
    "colab": {
     "base_uri": "https://localhost:8080/",
     "height": 281
    },
    "id": "UirlLYlTLJM2",
    "outputId": "c68ee507-234b-4cd3-bfe3-2d5f9758151b"
   },
   "outputs": [
    {
     "data": {
      "image/png": "[encoded data removed]",
      "text/plain": [
       "<Figure size 432x288 with 1 Axes>"
      ]
     },
     "metadata": {
      "needs_background": "light"
     },
     "output_type": "display_data"
    }
   ],
   "source": [
    "# Suposem que les dades sense heterocedasticitat ni tendència s'anomene train_sqrt_trend\n",
    "plot_pacf(train_sqrt_trend)\n",
    "plt.show()"
   ]
  },
  {
   "cell_type": "markdown",
   "metadata": {
    "id": "9HcFHwLWFj4B"
   },
   "source": [
    "Per llegir aquest gràfic, simplement hem de fixar-nos en els valors que surten fora de l'interval de confiança (zona blava).\n",
    "\n",
    "Només començar hi ha dos valors fora de l'interval. De totes maneres, el primer no s'ha de tenir en compte, ja que mira la correlació d'un valor amb si mateix (lag0), i aquesta sempre serà 1. Si no tenim en compte aquest primer valor, només hi ha un valor fora de l'interval de confiança abans que aquest canviï de signe, de manera que p = 1.\n",
    "\n",
    "Quan es repeteix el cicle, és a dir, a partir del valor 12 (recordem que aquest és el lag11, hi torna a haver un valor fora de l'interval abans que aquest canviï de signe, amb la qual cosa P = 2).\n",
    "\n",
    "Vegem ara el gràfic ACF, aquest determinarà el valor de q. "
   ]
  },
  {
   "cell_type": "code",
   "execution_count": null,
   "metadata": {
    "colab": {
     "base_uri": "https://localhost:8080/",
     "height": 281
    },
    "id": "Vjz8fqiEVDKL",
    "outputId": "88a53e96-ba53-4458-91f5-e961a7923157"
   },
   "outputs": [
    {
     "data": {
      "image/png": "[encoded data removed]",
      "text/plain": [
       "<Figure size 432x288 with 1 Axes>"
      ]
     },
     "metadata": {
      "needs_background": "light"
     },
     "output_type": "display_data"
    }
   ],
   "source": [
    "# Suposem que les dades sense heterocedasticitat ni tendència s'anomene train_sqrt_trend\n",
    "plot_acf(train_sqrt_trend)\n",
    "plt.show()"
   ]
  },
  {
   "cell_type": "markdown",
   "metadata": {
    "id": "wTlrBkXWFj1W"
   },
   "source": [
    "Aquest gràfic es llegeix com l'anterior. Només començar hi ha dos valors fora de l'interval (recordem que el lag0 no ho comptem), amb la qual cosa q = 2. Quan es repeteix el cicle, és a dir, a partir del valor 11, hi ha dos valors fora de l'interval, amb això qual Q = 2.\n",
    "\n",
    "Com que les dades no tenen ni tendència ni heterocedasticitat (se l'hem treta en apartats anteriors), d = D = 0.\n",
    "\n",
    "Com hem vist a l'apartat anterior, el cicle és 12, de manera que s = 12. "
   ]
  },
  {
   "cell_type": "markdown",
   "metadata": {
    "id": "caBs8Fs2ZLAY"
   },
   "source": [
    "## 1.2 Prediccions\n"
   ]
  },
  {
   "cell_type": "markdown",
   "metadata": {
    "id": "zpx-aN33Fjyz"
   },
   "source": [
    "<div class=\"alert alert-block alert-info\">\n",
    "<strong>Implementació:</strong> Aplica un model SARIMA a les dades sense heterocedasticitat ni tendència. Pots fer servir SARIMAX (de <i>statsmodels.tsa.statespace.sarimax</i>) amb els paràmetres que acabem de veure. Mostra gràficament el resultat del model juntament amb la sèrie original per comparar si s'ajusta bé.\n",
    "</div> "
   ]
  },
  {
   "cell_type": "markdown",
   "metadata": {
    "id": "G1APJD3fFjwT"
   },
   "source": [
    "<div class=\"alert alert-block alert-info\">\n",
    "<strong>Solució:</strong> \n",
    "</div>"
   ]
  },
  {
   "cell_type": "markdown",
   "metadata": {
    "id": "-pvNHIXOWcJo"
   },
   "source": [
    "<div class=\"alert alert-block alert-info\">\n",
    "<strong>Anàlisi:</strong> Comenta els resultats que t'han sortit del model SARIMAX\n",
    "</div> "
   ]
  },
  {
   "cell_type": "markdown",
   "metadata": {
    "id": "U32DJeYWZ_ao"
   },
   "source": [
    "### 1.2.a. Predicció SARIMA (2.5 punts)\n",
    "\n",
    "Utilitzarem el model SARIMA que hem filtrat abans per predir els tres propers anys (que són els anys que hem tret anteriorment). "
   ]
  },
  {
   "cell_type": "markdown",
   "metadata": {
    "id": "plLZh6kJZ_Tt"
   },
   "source": [
    "<div class=\"alert alert-block alert-info\">\n",
    "<strong>Implementació:</strong> Genera tres anys de dades predites mitjançant el model SARIMA realitzat a l'apartat anterior. Grafica tota la sèrie (sense heterocedasticitat ni tendència), diferenciant amb colors diferents la sèrie real dels tres anys de predicció.\n",
    "</div>"
   ]
  },
  {
   "cell_type": "markdown",
   "metadata": {
    "id": "02slSisRakz0"
   },
   "source": [
    "<div class=\"alert alert-block alert-info\">\n",
    "<strong>Solució:</strong> \n",
    "</div>"
   ]
  },
  {
   "cell_type": "markdown",
   "metadata": {
    "id": "jwaNKnqyWcHG"
   },
   "source": [
    "### 1.2.b. Tendència\n",
    "\n",
    "Anteriorment hem vist que les dades de la sèrie temporal tenen una tendència lineal i l'hem calculada mitjançant una regressió lineal. Afegim aquesta tendència a la nostra predicció. "
   ]
  },
  {
   "cell_type": "markdown",
   "metadata": {
    "id": "UXZ-ao1fWcEn"
   },
   "source": [
    "<div class=\"alert alert-block alert-info\">\n",
    "<strong>Implementació:</strong> Afegeix a la sèrie anterior, la tendència trobada a l'apartat 1.1.b. Mostrar gràficament tota la sèrie (sense heterocedasticitat), diferenciant amb colors diferents la sèrie real dels dos anys de predicció.\n",
    "</div> "
   ]
  },
  {
   "cell_type": "markdown",
   "metadata": {
    "id": "aGgv8UwKWcCJ"
   },
   "source": [
    "<div class=\"alert alert-block alert-info\">\n",
    "<strong>Solució:</strong> .\n",
    "</div>"
   ]
  },
  {
   "cell_type": "markdown",
   "metadata": {
    "id": "SirQ3jzEWb_u"
   },
   "source": [
    "### 1.2.c. Heterocedasticitat\n",
    "\n",
    "Al primer apartat d'aquesta pràctica hem vist que la sèrie temporal té heterocedasticitat i l'hem eliminat transformant les dades. En aquest apartat farem la transfromació inversa per afegir heterocedasticitat a la nostra predicció. "
   ]
  },
  {
   "cell_type": "markdown",
   "metadata": {
    "id": "q7vFReDs0u1H"
   },
   "source": [
    "<div class=\"alert alert-block alert-info\">\n",
    "<strong>Implementació:</strong> Afegeix a la sèrie anterior, l'heterocedasticitat aplicant la funció inversa a la trobada a l'apartat 1.1.a. Mostrar gràficament tota la sèrie, diferenciant amb colors diferents la sèrie real dels anys de predicció.\n",
    "</div> "
   ]
  },
  {
   "cell_type": "markdown",
   "metadata": {
    "id": "2z9T52dG1AnH"
   },
   "source": [
    "<div class=\"alert alert-block alert-info\">\n",
    "<strong>Solució:</strong> \n",
    "</div>"
   ]
  },
  {
   "cell_type": "markdown",
   "metadata": {
    "id": "nlMzQks7Wb9M"
   },
   "source": [
    "<div class=\"alert alert-block alert-info\">\n",
    "<strong>Implementació:</strong> Afegeix al gràfic anterior les dades de test per veure si coincideixen amb la predicció.\n",
    "</div> "
   ]
  },
  {
   "cell_type": "markdown",
   "metadata": {
    "id": "N_HMDia32cUq"
   },
   "source": [
    "<div class=\"alert alert-block alert-info\">\n",
    "<strong>Solució:</strong> \n",
    "</div>"
   ]
  },
  {
   "cell_type": "markdown",
   "metadata": {
    "id": "4MNLluWX2Yhs"
   },
   "source": [
    "<div class=\"alert alert-block alert-info\">\n",
    "<strong>Implementació:</strong> Calcula l'error comès en test (per exemple, calcula l'MSE).\n",
    "</div> "
   ]
  },
  {
   "cell_type": "markdown",
   "metadata": {
    "id": "AZVJdfCtEnHP"
   },
   "source": [
    "## 2. Combinació de classificadors (5 punts)\n",
    "\n",
    "L'ensemble learning és una estratègia en què es fa servir un grup de models per resoldre un problema mitjançant la combinació estratègica de diversos models d'aprenentatge automàtic en un sol model predictiu.\n",
    "\n",
    "En general, els mètodes d'ensemble s'utilitzen principalment per millorar la precisió del rendiment general d'un model i combinar diversos models diferents, també coneguts com a aprenents bàsics, per predir els resultats, en lloc d'utilitzar un sol model.\n",
    "\n",
    "Per què entrenem tants classificadors diferents en lloc d'un de sol? Bé, l'ús de diversos models per predir el resultat final en realitat redueix la probabilitat de sospesar les decisions preses per models deficients (sobreentrenats, no degudament ajustats...).\n",
    "\n",
    "Com més diversos siguin aquests aprenents bàsics, més poderós serà el model final.\n",
    "\n",
    "Tinguem en compte que en qualsevol model daprenentatge automàtic, lerror de generalització ve donat per la suma de quadrats de bias + variància + error irreductible.\n",
    "\n",
    "Els errors irreductibles són una cosa que està més enllà de nosaltres! No podem reduir-los.\n",
    "\n",
    "Tot i això, utilitzant ensembles, podem reduir el biaix (bias) i la variància d'un model. Això redueix lerror de generalització general.\n",
    "\n",
    "La **compensació de biaix-variança** és el punt de referència més important que diferencia un model robust d'un inferior (entenguem per inferior un model no gaire generalitzable).\n",
    "\n",
    "Encara que no és una regla exacta, en l'aprenentatge automàtic, els models que tenen un biaix alt tendeixen a tenir una variància més baixa i viceversa.\n",
    "\n",
    "Hem estat parlant de bias i variància. Vegem, però, que entenem per biaix d'un model i per variància d'un model.\n",
    "\n",
    "1. **Sesgo**: El biaix és un error que sorgeix degut a suposicions falses realitzades en la fase d'aprenentatge d'un model. Un biaix alt pot fer que un algoritme daprenentatge ometi informació important i correlacions entre les variables independents i les etiquetes de classe, per la qual cosa no sajusta al model.\n",
    "\n",
    "2. **Variança**: la variància ens diu que tan sensible és un model als petits canvis en les dades d'entrenament. És a dir, quant canvia el model. Una gran variació en un model ho farà propens al soroll aleatori present al conjunt de dades, per la qual cosa s'ajustarà massa al model.\n",
    "\n",
    "Per comprendre amb més detall la compensació de biaix i variància en els models d'aprenentatge automàtic, podeu consultar aquest [article](https://towardsdatascience.com/understanding-the-bias-variance-tradeoff-165e6942b229).\n",
    "\n",
    "\n",
    "Un cop arribats a aquest punt, podem dividir els ensembles en quatre categories:\n",
    "\n",
    "1. **Bagging**: El bagging es fa servir principalment per reduir la variació en un model. Un exemple simple de bagging és l'algorisme Random Forest.\n",
    "\n",
    "2. **Boosting**: El boosting s'utilitza principalment per reduir el biaix en un model. Exemples d'algorismes d'impuls són Ada-Boost, XGBoost, arbres de decisió millorats per gradient, etc.\n",
    "\n",
    "3. **Stacking**: el stacking es fa servir principalment per augmentar la precisió de predicció d'un model. Per implementar el stacking farem servir la biblioteca mlextend proporcionada per scikit learn.\n",
    "\n",
    "4. **Cascading**: aquesta classe de models són molt precisos. La connexió en cascada s'usa principalment en escenaris on no es pot permetre cometre un error. Per exemple, una tècnica en cascada es fa servir principalment per detectar transaccions fraudulentes amb targetes de crèdit.\n",
    "\n",
    "## Dades\n",
    "\n",
    "Per a aquest exercici farem servir el dataset *diabetes.csv*. Aquest conjunt de dades és original de l'Institut Nacional de Diabetis i Malalties Digestives i Renals. L'objectiu d'aquest dataset és predir basant-se en els mesuraments de diagnòstic si un pacient té diabetis.\n",
    "\n",
    "En particular, tots els pacients són aquí dones d'almenys 21 anys d'ascendència índia Pima.\n",
    "\n",
    "El dataset conté la següent informació\n",
    "\n",
    "Embarassos: nombre d'embarassos\n",
    "Glucosa: concentració de glucosa en plasma a 2 hores en una prova de tolerància a la glucosa oral\n",
    "Pressió arterial: pressió arterial diastòlica (mm Hg)\n",
    "SkinThickness: Gruix del plec cutani del tríceps (mm)\n",
    "Insulina: insulina sèrica de 2 hores (mu U/ml)\n",
    "IMC: índex de massa corporal (pes en kg / (alçada en m) ^ 2)\n",
    "DiabetisPedigreeFunction: funció del pedigrí de la diabetis\n",
    "Edat: Edat (anys)\n",
    "Resultat (variable objectiu): variable de classe (0 o 1)\n",
    "\n",
    "A la primera part d'aquest exercici veurem la combinació de classificadors en paral·lel mitjançant les tècniques de\n",
    "**_Bagging_** i **_Boosting_**.\n",
    "\n",
    "A la segona part intentarem millorar els resultats aplicant tècniques de combinació seqüencial de classificadors: **_Stacking_** i **_Cascading_**.\n",
    "\n",
    "Per començar, vegem com és el dataset. "
   ]
  },
  {
   "cell_type": "code",
   "execution_count": null,
   "metadata": {
    "colab": {
     "base_uri": "https://localhost:8080/",
     "height": 224
    },
    "executionInfo": {
     "elapsed": 632,
     "status": "ok",
     "timestamp": 1639310319323,
     "user": {
      "displayName": "Hector Espinos Morato",
      "photoUrl": "https://lh3.googleusercontent.com/a-/AOh14Ggyy-x6B4aqtvFDpMuAdauBg4KVJx5Jbekpt9iq=s64",
      "userId": "10538199844483009173"
     },
     "user_tz": -60
    },
    "id": "QVu-lXoK_L_d",
    "outputId": "321fb4c5-6b75-4eb9-cc6e-51b4e8a03d19"
   },
   "outputs": [
    {
     "name": "stdout",
     "output_type": "stream",
     "text": [
      "Hay 768 filas y 9 columnas\n"
     ]
    },
    {
     "data": {
      "text/html": [
       "<div>\n",
       "<style scoped>\n",
       "    .dataframe tbody tr th:only-of-type {\n",
       "        vertical-align: middle;\n",
       "    }\n",
       "\n",
       "    .dataframe tbody tr th {\n",
       "        vertical-align: top;\n",
       "    }\n",
       "\n",
       "    .dataframe thead th {\n",
       "        text-align: right;\n",
       "    }\n",
       "</style>\n",
       "<table border=\"1\" class=\"dataframe\">\n",
       "  <thead>\n",
       "    <tr style=\"text-align: right;\">\n",
       "      <th></th>\n",
       "      <th>Pregnancies</th>\n",
       "      <th>Glucose</th>\n",
       "      <th>BloodPressure</th>\n",
       "      <th>SkinThickness</th>\n",
       "      <th>Insulin</th>\n",
       "      <th>BMI</th>\n",
       "      <th>DiabetesPedigreeFunction</th>\n",
       "      <th>Age</th>\n",
       "      <th>Outcome</th>\n",
       "    </tr>\n",
       "  </thead>\n",
       "  <tbody>\n",
       "    <tr>\n",
       "      <th>763</th>\n",
       "      <td>10</td>\n",
       "      <td>101</td>\n",
       "      <td>76</td>\n",
       "      <td>48</td>\n",
       "      <td>180</td>\n",
       "      <td>32.9</td>\n",
       "      <td>0.171</td>\n",
       "      <td>63</td>\n",
       "      <td>0</td>\n",
       "    </tr>\n",
       "    <tr>\n",
       "      <th>764</th>\n",
       "      <td>2</td>\n",
       "      <td>122</td>\n",
       "      <td>70</td>\n",
       "      <td>27</td>\n",
       "      <td>0</td>\n",
       "      <td>36.8</td>\n",
       "      <td>0.340</td>\n",
       "      <td>27</td>\n",
       "      <td>0</td>\n",
       "    </tr>\n",
       "    <tr>\n",
       "      <th>765</th>\n",
       "      <td>5</td>\n",
       "      <td>121</td>\n",
       "      <td>72</td>\n",
       "      <td>23</td>\n",
       "      <td>112</td>\n",
       "      <td>26.2</td>\n",
       "      <td>0.245</td>\n",
       "      <td>30</td>\n",
       "      <td>0</td>\n",
       "    </tr>\n",
       "    <tr>\n",
       "      <th>766</th>\n",
       "      <td>1</td>\n",
       "      <td>126</td>\n",
       "      <td>60</td>\n",
       "      <td>0</td>\n",
       "      <td>0</td>\n",
       "      <td>30.1</td>\n",
       "      <td>0.349</td>\n",
       "      <td>47</td>\n",
       "      <td>1</td>\n",
       "    </tr>\n",
       "    <tr>\n",
       "      <th>767</th>\n",
       "      <td>1</td>\n",
       "      <td>93</td>\n",
       "      <td>70</td>\n",
       "      <td>31</td>\n",
       "      <td>0</td>\n",
       "      <td>30.4</td>\n",
       "      <td>0.315</td>\n",
       "      <td>23</td>\n",
       "      <td>0</td>\n",
       "    </tr>\n",
       "  </tbody>\n",
       "</table>\n",
       "</div>"
      ],
      "text/plain": [
       "     Pregnancies  Glucose  ...  Age  Outcome\n",
       "763           10      101  ...   63        0\n",
       "764            2      122  ...   27        0\n",
       "765            5      121  ...   30        0\n",
       "766            1      126  ...   47        1\n",
       "767            1       93  ...   23        0\n",
       "\n",
       "[5 rows x 9 columns]"
      ]
     },
     "execution_count": 3,
     "metadata": {},
     "output_type": "execute_result"
    }
   ],
   "source": [
    "diabetes = pd.read_csv('diabetes.csv')\n",
    "\n",
    "nRow, nCol = diabetes.shape\n",
    "print(f'Hi ha {nRow} files i {nCol} columnes')\n",
    "diabetes.tail()"
   ]
  },
  {
   "cell_type": "markdown",
   "metadata": {
    "id": "jTF33Hwv6fe-"
   },
   "source": [
    "Per poder provar diversos models, primer dividirem el dataset entre train i test.\n",
    "\n",
    "Perquè tots obtingueu els mateixos resultats i poder comentar dubtes pel fòrum, fixarem la seed per obtenir els mateixos datasets de train i test.\n",
    "\n",
    "Com que en aquest exercici tractarem stacking i cascading, i tots dos s'apliquen sobre el conjunt de test, farem un split del 50% per tenir una mica més de base en aplicar aquestes dues tècniques"
   ]
  },
  {
   "cell_type": "code",
   "execution_count": null,
   "metadata": {
    "id": "D97ORws3_-_5"
   },
   "outputs": [],
   "source": [
    "X = diabetes.drop(columns = 'Outcome')\n",
    "y = diabetes['Outcome']\n",
    "\n",
    "myseed= 38\n",
    "X_train, X_test, y_train, y_test = train_test_split(X, y, test_size=0.5,\n",
    "                                                    random_state=myseed)"
   ]
  },
  {
   "cell_type": "markdown",
   "metadata": {
    "id": "80Jw5L8A6fbu"
   },
   "source": [
    "## 2.1. Combinació paral·lela de classificadors (2 punts)\n",
    "\n",
    "### 2.1.1. Arbres de decisió\n",
    "\n",
    "Per poder comparar l'augment de performance obtingut a mesura que anem aplicant tècniques noves, utilitzarem com baseline un simple arbre de decisió. "
   ]
  },
  {
   "cell_type": "markdown",
   "metadata": {
    "id": "3daM2M6K6fYt"
   },
   "source": [
    "<div class=\"alert alert-block alert-info\">\n",
    "<strong>Implementació:</strong> Entrena un arbre de decisió sobre el conjunt de dades de train amb profunditat màxima de 3 nivells (aplicarem la mateixa restricció a les seccions següents). A continuació avalua sobre test i calcula'n la precisió aplicant validació creuada amb 5 conjunts.\n",
    "\n",
    "<u>Suggeriment</u>: utilitzar el mòdul [*cross_val_score*](http://scikit-learn.org/stable/modules/generated/sklearn.model_selection.cross_val_score.html) de *sklearn*. Per aprendre més sobre [*cross validation](http://scikit-learn.org/stable/modules/cross_validation.html) i sobre com fer servir aquests mòduls, us recomanem els següents enllaços:\n",
    "</div> "
   ]
  },
  {
   "cell_type": "markdown",
   "metadata": {
    "id": "J04CEws_B9qR"
   },
   "source": [
    "<div style=\"background-color: #EDF7FF; border-color: #7C9DBF; border-left: 5px solid #7C9DBF; padding: 0.5em;\">\n",
    "<strong>Solució:</strong>  \n",
    "</div>"
   ]
  },
  {
   "cell_type": "markdown",
   "metadata": {
    "id": "pdYghdb16fVq"
   },
   "source": [
    "<div class=\"alert alert-block alert-info\">\n",
    "<strong>Anàlisi:</strong> Analitzeu els resultats obtinguts\n",
    "</div> "
   ]
  },
  {
   "cell_type": "markdown",
   "metadata": {
    "id": "Lney04IhUuiQ"
   },
   "source": [
    "<div class=\"alert alert-block alert-info\">\n",
    "<strong>Solució:</strong> \n",
    "</div> "
   ]
  },
  {
   "cell_type": "markdown",
   "metadata": {
    "id": "UrUZJBCo6fTA"
   },
   "source": [
    "### 2.1.2.a. *Bagging*\n",
    "\n",
    "La idea central del bagging és fer servir rèpliques del conjunt de dades original i utilitzar-les per entrenar diferents classificadors.\n",
    "\n",
    "Crearem subconjunts mostrant aleatòriament un munt de punts del conjunt de dades d'entrenament amb reemplaçament.\n",
    "\n",
    "Ara entrenarem classificadors individuals a cadascun d'aquests subconjunts bootstrap.\n",
    "\n",
    "Cadascun daquests classificadors base predirà letiqueta de classe per a un problema donat. Aquí és on combinem les prediccions de tots els models base. Aquesta part s'anomena etapa d'agregació. És per això que trobareu els ensembles bagging pel nom d'ensembles d'agregació.\n",
    "\n",
    "En general, es fa servir un vot de majoria simple en un sistema de classificació i es pren la mitjana de totes les prediccions per als models de regressió per combinar tots els classificadors base en un sol model i proporcionar el resultat final del model de conjunt.\n",
    "\n",
    "Un exemple simple d'aquest enfocament és l'algorisme Random Forest. El bagging redueix l'alta variació (variància) d'un model, reduint així l'error de generalització. És un mètode molt eficaç, especialment quan tenim dades molt limitades amb el nostre cas.\n",
    "\n",
    "Mitjançant lús de mostres de bootstrap, podem obtenir una estimació afegint les puntuacions de moltes mostres. \n",
    "\n",
    "\n"
   ]
  },
  {
   "cell_type": "markdown",
   "metadata": {
    "id": "8RUXUdU16fP3"
   },
   "source": [
    "**Com faríem el bagging?**\n",
    "\n",
    "Suposem que tenim un conjunt d´entrenament que conté 100.000 punts de dades.\n",
    "\n",
    "Crearíem N subconjunts mostrant a l'atzar 50K punts de dades per a cada subconjunt.\n",
    "\n",
    "Cadascun daquests N subconjunts sutilitzarà per entrenar N classificadors diferents.\n",
    "\n",
    "A l'etapa d'agregació, totes aquestes N prediccions es combinaran en un sol model, també anomenat metaclassificador.\n",
    "\n",
    "Dels 100.000 punts presents originalment al conjunt de dades, si eliminem 1000 punts, l'impacte que tindrà als conjunts de dades mostrades serà molt inferior.\n",
    "\n",
    "Si pensem intuïtivament, és possible que alguns d'aquests 1000 punts no siguin presents a tots els conjunts de dades mostrades i, per tant, la quantitat de punts que s'eliminaran de cada conjunt de dades mostrades serà molt inferior. Fins i tot zero en alguns casos! En resum, l'impacte d'eliminar 1000 punts d'aquest tipus serà en realitat menor als classificadors base, cosa que reduirà la variació en un model i ho farà més sòlid.\n",
    "\n",
    "La variància no és més que sensibilitat al soroll, com hem comentat anteriorment. "
   ]
  },
  {
   "cell_type": "markdown",
   "metadata": {
    "id": "z6rzIA586fMm"
   },
   "source": [
    "<div class=\"alert alert-block alert-info\">\n",
    "<strong>Implementació:</strong> Entrena un <i>random forest</i> sobre el conjunt de dades de train amb <b>20 arbres</b> de decisió i <b>profunditat màxima de 3</b > nivells. A continuació avalua sobre test i calcula'n la precisió aplicant validació creuada amb 5 conjunts.\n",
    "\n",
    "<u>Suggeriment</u>: utilitzar el mòdul [*RandomForestClassifier*](http://scikit-learn.org/stable/modules/generated/sklearn.ensemble.RandomForestClassifier.html) de *sklearn*. Per a aprendre a utilitzar aquest mòdul us recomanem el següent enllaç:\n",
    "</div> "
   ]
  },
  {
   "cell_type": "markdown",
   "metadata": {
    "id": "PxRkemq26fJa"
   },
   "source": [
    "<div class=\"alert alert-block alert-info\">\n",
    "<strong>Solució:</strong> \n",
    "</div>"
   ]
  },
  {
   "cell_type": "markdown",
   "metadata": {
    "id": "UpMyZMpJZdE6"
   },
   "source": [
    "### 2.1.2.b. *Boosting*\n",
    "\n",
    "El boosting s'utilitza per convertir els classificadors de base feble en forts. Els classificadors febles generalment tenen una correlació molt feble amb les etiquetes de classe veritables i els classificadors forts tenen una correlació molt alta entre el model i les etiquetes de classe veritables.\n",
    "\n",
    "El boosting capacita els classificadors febles de manera iterativa, cadascun tractant de corregir l'error comès pel model anterior. Això s'aconsegueix entrenant un model feble en totes les dades d'entrenament, tot construint un segon model que té com a objectiu corregir els errors comesos pel primer model. Després construïm un tercer model que intenta corregir els errors comesos pel segon model i així successivament. Els models s'afegeixen de manera iterativa fins que el model final ha corregit tots els errors comesos per tots els models anteriors.\n",
    "\n",
    "Quan s'afegeixen els models a cada etapa, s'assignen alguns pesos al model relacionat amb la precisió del model anterior. Després d'afegir un classificador feble, els pesos es tornen a ajustar. Els punts classificats incorrectament reben pesos més alts i els punts classificats correctament reben pesos més baixos. Aquest enfocament farà que el següent classificador se centri en els errors comesos pel model anterior.\n",
    "\n",
    "El boosting redueix l'error de generalització prenent un model d'alt bias i baixa variància i reduint el bias en un nivell significatiu. Recordeu, el bagging redueix la variància. Com el bagging, el boosting també ens permet treballar amb models de classificació i regressió."
   ]
  },
  {
   "cell_type": "markdown",
   "metadata": {
    "id": "DRIgEhOxZtVx"
   },
   "source": [
    "<div class=\"alert alert-block alert-info\">\n",
    "<strong>Implementació:</strong> Entrena un gradient boosting sobre el conjunt de dades de train amb 20 arbres de decisió i profunditat màxima de 3 nivells. A continuació avalua sobre test i calcula'n la precisió aplicant validació creuada amb 5 conjunts. Finalment, dibuixa la frontera de decisió.\n",
    "\n",
    "Consell: utilitzar el mòdul [*GradientBoostingClassifier*](http://scikit-learn.org/stable/modules/generated/sklearn.ensemble.GradientBoostingClassifier.html) de sklearn.\n",
    "</div> "
   ]
  },
  {
   "cell_type": "markdown",
   "metadata": {
    "id": "QqfyKvrUaJkd"
   },
   "source": [
    "<div class=\"alert alert-block alert-info\">\n",
    "<strong>Solució:</strong> \n",
    "</div> "
   ]
  },
  {
   "cell_type": "markdown",
   "metadata": {
    "id": "RgW_YpqdaOrE"
   },
   "source": [
    "<div class=\"alert alert-block alert-info\">\n",
    "<strong>Anàlisi:</strong> \n",
    "</div>"
   ]
  },
  {
   "cell_type": "markdown",
   "metadata": {
    "id": "9vra3Yb6arRv"
   },
   "source": [
    "## 2.2. Combinació seqüencial de classificadors base diferents (3 punts)\n",
    "\n",
    "Per poder fer combinació seqüencial de models, necessitem tenir diversos models diferents entrenats.\n",
    "\n",
    "En el nostre cas ja tenim un arbre de decisió. Entrenarem un parell de models més. "
   ]
  },
  {
   "cell_type": "markdown",
   "metadata": {
    "id": "KzZB1fmBa7DE"
   },
   "source": [
    "### 2.2.1 KNN (k veïns més propers)\n",
    "<div style=\"background-color: #EDF7FF; border-color: #7C9DBF; border-left: 5px solid #7C9DBF; padding: 0.5em;\">\n",
    "<strong>Implementació:</strong> Entrena un <i>k-neighbors</i> amb 2 veïns sobre el conjunt de dades de train. A continuació avalua sobre test i calcula'n la precisió aplicant validació creuada amb 5 conjunts.\n",
    "</div> "
   ]
  },
  {
   "cell_type": "markdown",
   "metadata": {
    "id": "qVbfoT66bs8t"
   },
   "source": [
    "<div style=\"background-color: #EDF7FF; border-color: #7C9DBF; border-left: 5px solid #7C9DBF; padding: 0.5em;\">\n",
    "<strong>Solució:</strong>\n",
    "</div> "
   ]
  },
  {
   "cell_type": "markdown",
   "metadata": {
    "id": "0FkdLuIvbYXu"
   },
   "source": [
    "### 2.2.2 SVM (Support Vector Machines)\n",
    "<div class=\"alert alert-block alert-info\">\n",
    "<strong>Implementació:</strong> Entrena un SVM amb gamma = 0.01 sobre el conjunt de dades de train. A continuació avalua sobre test i calcula'n la precisió aplicant validació creuada amb 5 conjunts.\n",
    "</div> "
   ]
  },
  {
   "cell_type": "markdown",
   "metadata": {
    "id": "kjK24KS_b1f7"
   },
   "source": [
    "<div class=\"alert alert-block alert-info\">\n",
    "<strong>Solució:</strong>\n",
    "</div> "
   ]
  },
  {
   "cell_type": "markdown",
   "metadata": {
    "id": "foZmCAGKcMib"
   },
   "source": [
    "### 2.2.3 *Stacking*\n",
    "Tots els models individuals s'entrenen per separat en el conjunt complet de dades d'entrenament i s'ajusten per aconseguir més precisió. La compensació de bias i variància es té en compte per a cada model. El model final, també conegut com a metaclassificador, s'alimenta de les etiquetes de classe predites pels models base o de les probabilitats predites per a cada etiqueta de classe. Després, el metaclassificador s'entrena en funció dels resultats donats pels models base.\n",
    "\n",
    "Al stacking, s'entrena un nou model en funció de les prediccions realitzades pels models anteriors.\n",
    "Aquest procés es duu a terme de manera seqüencial. Això significa que diversos models s'entrenen a l'etapa 1 i s'ajusten amb precisió. Les probabilitats pronosticades de cada model de l'etapa 1 s'alimenten com a entrada a tots els models a l'etapa 2. Els models a l'etapa 2 després s'ajusten amb precisió i les sortides corresponents s'alimenten als models a l'etapa 3 i així successivament . Aquest procés es produeix diverses vegades en funció de la quantitat de capes d'apilament que voleu utilitzar.\n",
    "\n",
    "L'etapa final consisteix en un únic model que ens dóna el resultat final en combinar el resultat de tots els models presents a les capes anteriors.\n",
    "\n",
    "Sovint, lús de classificadors apilables augmenta la precisió de predicció dun model. Però de cap manera no es pot garantir que l'ús d'apilament augmenti la precisió de la predicció en tot moment!\n",
    "Feu una ullada al següent [link](http://rasbt.github.io/mlxtend/user_guide/classifier/StackingClassifier/) "
   ]
  },
  {
   "cell_type": "markdown",
   "metadata": {
    "id": "rfureSnUcSWn"
   },
   "source": [
    "<div class=\"alert alert-block alert-info\">\n",
    "<strong>Implementació:</strong> Construeix un classificador de <i>stacking</i> usant un <i>Gradient Boosting</i> (amb <b>20 arbres</b> de decisió i <b>profunditat màxima de 3</b> nivells) que utilitzi com a atributs les prediccions fetes al conjunt de test pels algorismes: arbre de decisió, knn, svm. Calcula la precisió del model resultant amb *cross-validation* en el conjunt de test (en aquest cas no tenim conjunt de train, amb la qual cosa es fa directament cross-validation sobre test).\n",
    "\n",
    "<u>Suggeriment</u>: utilitzar la funció [column_stack](https://docs.scipy.org/doc/numpy-1.14.0/reference/generated/numpy.column_stack.html) de numpy per ajuntar totes les prediccions.\n",
    "</div> "
   ]
  },
  {
   "cell_type": "markdown",
   "metadata": {
    "id": "0jsjSVYOcte4"
   },
   "source": [
    "<div class=\"alert alert-block alert-info\">\n",
    "<strong>Solució:</strong> \n",
    "</div>"
   ]
  },
  {
   "cell_type": "markdown",
   "metadata": {
    "id": "i7Gd8knpdGP2"
   },
   "source": [
    "<div class=\"alert alert-block alert-info\">\n",
    "     <strong>Anàlisi:</strong> Has aconseguit millorar la precisió gràcies a l'<i>stacking</i>? Comenta'n els resultats.\n",
    "</div> "
   ]
  },
  {
   "cell_type": "markdown",
   "metadata": {
    "id": "vKA8Nx7wdJcw"
   },
   "source": [
    "<div class=\"alert alert-block alert-info\">\n",
    "<strong>Solució:</strong> \n",
    "</div> "
   ]
  },
  {
   "cell_type": "markdown",
   "metadata": {
    "id": "9fY9VUwhdzBX"
   },
   "source": [
    "### 2.2.4 *Cascading*\n",
    "\n",
    "El cas de cascading és semblant al de stacking però utilitzant no només les prediccions parcials dels classificadors base, sinó també les dades originals.\n",
    "\n",
    "<div style=\"background-color: #EDF7FF; border-color: #7C9DBF; border-left: 5px solid #7C9DBF; padding: 0.5em;\">\n",
    "<strong>Implementació:</strong> Per això construïm un classificador de cascading usant un Gradient Boosting (amb 20 arbres de decisió i profunditat màxima de 3 nivells) que utilitza com a atributs les prediccions obtingudes amb els models anteriors en el conjunt de test ( igual que amb el stacking), i també les variables originals.\n",
    "Calcula la precisió del model resultant amb *cross-validation* al conjunt de test. Suggeriment: Fes servir el mateix conjunt de dades que a l'exercici anterior però afegeix `X_test`.\n",
    "</div> "
   ]
  },
  {
   "cell_type": "markdown",
   "metadata": {
    "id": "LVrUx_-1eZR2"
   },
   "source": [
    "<div class=\"alert alert-block alert-info\">\n",
    "     <strong>Anàlisi:</strong> Has aconseguit millorar la precisió gràcies al <i>cascading</i>? Comenta'n els resultats.\n",
    "</div> "
   ]
  },
  {
   "cell_type": "markdown",
   "metadata": {
    "id": "gt3jyBiCemMt"
   },
   "source": [
    "<div class=\"alert alert-block alert-info\">\n",
    "     <strong>Solució:</strong> \n",
    "</div> "
   ]
  },
  {
   "cell_type": "markdown",
   "metadata": {
    "id": "rBw8cxes6fFa"
   },
   "source": [
    "# Bibliografia utilitzada \n",
    "\n",
    "- [Hyndman, R.J., & Athanasopoulos, G. (2021) Forecasting: principles and practice, 3rd edition, OTexts: Melbourne, Australia](https://otexts.com/fpp3/) \n",
    "\n",
    "- [Time Series Analysis and Forecasting with ADAM Ivan Svetunkov](https://openforecast.org/adam/)\n",
    "\n",
    "- [Python Data Science Handbook by Jake VanderPlas](https://www.amazon.es/gp/product/1491912057/ref=as_li_qf_asin_il_tl?ie=UTF8&tag=cienciadedato-21&creative=24630&linkCode=as2&creativeASIN=1491912057&linkId=73620d22f9d4a0a76d27592dabf13c83) \n",
    "\n",
    "- [Python for Finance: Mastering Data-Driven Finance](https://www.amazon.es/gp/product/1492024333/ref=as_li_qf_asin_il_tl?ie=UTF8&tag=cienciadedato-21&creative=24630&linkCode=as2&creativeASIN=1492024333&linkId=70c3175ad015970cd1c2328b7a40a055) "
   ]
  }
 ],
 "metadata": {
  "colab": {
   "name": "20211_M2_955_PAC4_Enunciat.ipynb",
   "provenance": []
  },
  "kernelspec": {
   "display_name": "Python 3 (ipykernel)",
   "language": "python",
   "name": "python3"
  },
  "language_info": {
   "codemirror_mode": {
    "name": "ipython",
    "version": 3
   },
   "file_extension": ".py",
   "mimetype": "text/x-python",
   "name": "python",
   "nbconvert_exporter": "python",
   "pygments_lexer": "ipython3",
   "version": "3.9.1"
  },
  "toc": {
   "base_numbering": 1,
   "nav_menu": {},
   "number_sections": false,
   "sideBar": true,
   "skip_h1_title": true,
   "title_cell": "Tabla de contenidos",
   "title_sidebar": "Tabla de contenidos",
   "toc_cell": false,
   "toc_position": {
    "height": "calc(100% - 180px)",
    "left": "10px",
    "top": "150px",
    "width": "284.75px"
   },
   "toc_section_display": true,
   "toc_window_display": false
  },
  "varInspector": {
   "cols": {
    "lenName": 16,
    "lenType": 16,
    "lenVar": 40
   },
   "kernels_config": {
    "python": {
     "delete_cmd_postfix": "",
     "delete_cmd_prefix": "del ",
     "library": "var_list.py",
     "varRefreshCmd": "print(var_dic_list())"
    },
    "r": {
     "delete_cmd_postfix": ") ",
     "delete_cmd_prefix": "rm(",
     "library": "var_list.r",
     "varRefreshCmd": "cat(var_dic_list()) "
    }
   },
   "position": {
    "height": "144.391px",
    "left": "1478px",
    "right": "20px",
    "top": "126px",
    "width": "350px"
   },
   "types_to_exclude": [
    "module",
    "function",
    "builtin_function_or_method",
    "instance",
    "_Feature"
   ],
   "window_display": false
  }
 },
 "nbformat": 4,
 "nbformat_minor": 1
}
