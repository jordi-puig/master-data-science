{
 "cells": [
  {
   "cell_type": "markdown",
   "metadata": {},
   "source": [
    "<div style=\"width: 100%; clear: both;\">\n",
    "<div style=\"float: left; width: 50%;\">\n",
    "<img src=\"http://www.uoc.edu/portal/_resources/common/imatges/marca_UOC/UOC_Masterbrand.jpg\", align=\"left\">\n",
    "</div>\n",
    "<div style=\"float: right; width: 50%;\">\n",
    "<p style=\"margin: 0; padding-top: 22px; text-align:right;\">M2.955 · Models avançats de mineria de dades.\n",
    "   · PAC2</p>\n",
    "<p style=\"margin: 0; text-align:right;\">2021-1 · Màster universitari en Ciència de dades (Data science)</p>\n",
    "<p style=\"margin: 0; text-align:right; padding-button: 100px;\">Estudis de Informàtica, Multimedia i Telecomunicacions</p>\n",
    "</div>\n",
    "</div>\n",
    "<div style=\"width:100%;\">&nbsp;</div>\n",
    "\n",
    "\n",
    "# PAC 2: Mètodes no supervisats\n",
    "\n",
    "Al llarg d'aquesta pràctica veurem com aplicar diferents tècniques no supervisades, així com algunes de les seves aplicacions reals:\n",
    "\n",
    " - **[Clustering amb diferents estratègies](#ej1)**: k-means i regla del colze, basades en densitat i jeràrquiques.\n",
    " - **[Aplicació: generació d'imatges amb reducció de dimensionalitat](#ej2)**. PCA i UMAP.\n",
    " - **[Aplicació: identificació de punts d'interès turístics](#ej3)**."
   ]
  },
  {
   "cell_type": "markdown",
   "metadata": {},
   "source": [
    "<div class=\"alert alert-block alert-info\">\n",
    "<strong>Nom i cognoms:</strong>\n",
    "</div>"
   ]
  },
  {
   "cell_type": "code",
   "execution_count": null,
   "metadata": {},
   "outputs": [],
   "source": []
  },
  {
   "cell_type": "markdown",
   "metadata": {},
   "source": [
    "---\n",
    "\n",
    "Per a això necessitarem les següents llibreries:"
   ]
  },
  {
   "cell_type": "code",
   "execution_count": null,
   "metadata": {},
   "outputs": [],
   "source": [
    "import random\n",
    "\n",
    "import umap\n",
    "import numpy as np\n",
    "import pandas as pd\n",
    "import sklearn\n",
    "from sklearn import cluster        # Algorismes de clustering.\n",
    "from sklearn import datasets       # Crear datasets.\n",
    "from sklearn import decomposition  # Algorismes de reducció de dimensionalitat.\n",
    "\n",
    "# Visualizació.\n",
    "import matplotlib\n",
    "import matplotlib.pyplot as plt\n",
    "\n",
    "%matplotlib inline"
   ]
  },
  {
   "cell_type": "markdown",
   "metadata": {},
   "source": [
    "<a id=\"ej1\"></a>\n",
    "\n",
    "## 1. Mètodes de *clustering* (4 punts)\n",
    "\n",
    "Aquest exercici tracta d'explorar diferents tècniques d'agrupament ajustant-les a diferents conjunts de dades.\n",
    "\n",
    "L'objectiu és doble: entendre la influència dels paràmetres en el seu comportament, i conèixer les seves limitacions en la cerca d'estructures de dades."
   ]
  },
  {
   "cell_type": "markdown",
   "metadata": {},
   "source": [
    "### Generació dels conjunts de dades"
   ]
  },
  {
   "cell_type": "code",
   "execution_count": null,
   "metadata": {},
   "outputs": [],
   "source": [
    "X_blobs, y_blobs = datasets.make_blobs(n_samples=1000, n_features=2, centers=4, cluster_std=1.6, random_state=42)\n",
    "X_moons, y_moons = datasets.make_moons(n_samples=1000, noise=.07, random_state=42)\n",
    "X_circles, y_circles = datasets.make_circles(n_samples=1000, factor=.5, noise=.05, random_state=42)"
   ]
  },
  {
   "cell_type": "markdown",
   "metadata": {},
   "source": [
    "Cada dataset té 2 variables: una variable *X* que conté 2 features (columnes) i tantes files com mostres. I una variable *y* que conté les etiquetes que identifiquen cada cluster.\n",
    "\n",
    "Al llarg de l'exercici no s'usarà la variable *y* (només amb l'objectiu de visualitzar). L'objectiu és aconseguir trobar les estructures descrites per les variables *y* a través dels diferents models de *clustering*."
   ]
  },
  {
   "cell_type": "code",
   "execution_count": null,
   "metadata": {},
   "outputs": [],
   "source": [
    "fig, axis = plt.subplots(2, 3, figsize=(13, 8))\n",
    "for i, (X, y, ax, name) in enumerate(zip([X_blobs, X_moons, X_circles] * 2,\n",
    "                                         [None] * 3 + [y_blobs, y_moons, y_circles],\n",
    "                                         axis.reshape(-1),\n",
    "                                         ['Blob', 'Moons', 'Circles'] * 2)):\n",
    "    ax.set_title('Dataset: {}, '.format(name) + ('el que analitzaràs' if i < 3 else 'els grups a trobar'))\n",
    "    ax.scatter(X[:,0], X[:,1], s=15, c=y, alpha=.3, cmap='jet')\n",
    "    ax.axis('equal')\n",
    "plt.tight_layout()"
   ]
  },
  {
   "cell_type": "markdown",
   "metadata": {},
   "source": [
    "### 1 a. K-means\n",
    "\n",
    "En aquest apartat es demana provar l'algorisme k-*means* sobre els tres datasets presentats anteriorment, ajustant amb els paràmetres adequats, i analitzar els seus resultats."
   ]
  },
  {
   "cell_type": "code",
   "execution_count": null,
   "metadata": {},
   "outputs": [],
   "source": [
    "X, y = X_blobs, y_blobs"
   ]
  },
  {
   "cell_type": "markdown",
   "metadata": {},
   "source": [
    "És habitual indicar amb $k$ el nombre de clusters a detectar per k-*means*. Una tècnica per a estimar $k$ és, com s'explica en la teoria:\n",
    "\n",
    "> Els criteris anteriors (minimització de distàncies intra grup o maximització de distàncies inter grup) poden usar-se per a establir un valor adequat per al paràmetre k. Valors de k per als quals ja no s'aconsegueixen millores significatives en l'homogeneïtat interna dels segments o l'heterogeneïtat entre segments diferents, haurien de descartar-se.\n",
    "\n",
    "El que popularment es conèixer com a *regla del colze*.\n",
    "\n",
    "En primer lloc és necessari calcular la suma dels errors quadràtics ([*SSE*](https://bl.ocks.org/rpgove/0060ff3b656618e9136b)) que consisteix en la suma de tots els errors (distància de cada punt al seu centroide assignat) al quadrat.\n",
    "\n",
    "$$SSE = \\sum_{i=1}^{K} \\sum_{x \\in C_i} euclidean(x, c_i)^2$$\n",
    "\n",
    "On $K$ és el nombre de clusters a buscar per *k-means*, $x \\in C_i$ són els punts que pertanyen i-èsim cluster, $c_i$ és el centroide del cluster $C_i$ (al que pertany el punt $x$), y $euclidean$ és la [distància euclidiana](https://en.wikipedia.org/wiki/Euclidean_distance).\n",
    "\n",
    "Aquest procediment realitzat per a cada possible valor $k$, resulta en una funció monòtona decreixent, on l'eix $x$ representa els diferents valors de $k$, i l'eix $y$ el $SSE$. Intuïtivament es pot observar un significatiu descens de l'error, que indicarà el valor idoni de $k$.\n",
    "\n",
    "**Es demana realitzar la representació gràfica de la regla del colze junt amb la seva interpretació, utilitzant la llibreria ```matplotlib``` i la implementació en ```scikit-learn``` de [*k-means*](http://scikit-learn.org/stable/modules/generated/sklearn.cluster.KMeans.html).**"
   ]
  },
  {
   "cell_type": "markdown",
   "metadata": {},
   "source": [
    "<div class=\"alert alert-block alert-info\">\n",
    "    <strong>Implementació:</strong> càlcul i visualització de la regla del colze en el dataset Blobs.\n",
    "</div>"
   ]
  },
  {
   "cell_type": "code",
   "execution_count": null,
   "metadata": {},
   "outputs": [],
   "source": []
  },
  {
   "cell_type": "markdown",
   "metadata": {},
   "source": [
    "<div class=\"alert alert-block alert-info\">\n",
    "<strong>Anàlisi:</strong> Què s'interpreta en la gràfica? Com podria millorar-se l'elecció de $k$?.\n",
    "</div>"
   ]
  },
  {
   "cell_type": "code",
   "execution_count": null,
   "metadata": {},
   "outputs": [],
   "source": []
  },
  {
   "cell_type": "markdown",
   "metadata": {},
   "source": [
    "<div class=\"alert alert-block alert-info\">\n",
    "<strong>Implementació:</strong> càlcul i visualització dels grups en el dataset Blobs.\n",
    "</div>"
   ]
  },
  {
   "cell_type": "code",
   "execution_count": null,
   "metadata": {},
   "outputs": [],
   "source": []
  },
  {
   "cell_type": "markdown",
   "metadata": {},
   "source": [
    "<div class=\"alert alert-block alert-info\">\n",
    "<strong>Anàlisi:</strong> Què ha succeït? Explica els motius pels quals creus que s'ha produït aquest resultat.\n",
    "</div>"
   ]
  },
  {
   "cell_type": "code",
   "execution_count": null,
   "metadata": {},
   "outputs": [],
   "source": []
  },
  {
   "cell_type": "code",
   "execution_count": null,
   "metadata": {},
   "outputs": [],
   "source": [
    "X, y = X_moons, y_moons"
   ]
  },
  {
   "cell_type": "markdown",
   "metadata": {},
   "source": [
    "<div class=\"alert alert-block alert-info\">\n",
    "    <strong>Implementació:</strong> càlcul i visualització de la regla del colze en el dataset Moons.\n",
    "</div>"
   ]
  },
  {
   "cell_type": "code",
   "execution_count": null,
   "metadata": {},
   "outputs": [],
   "source": []
  },
  {
   "cell_type": "markdown",
   "metadata": {},
   "source": [
    "<div class=\"alert alert-block alert-info\">\n",
    "<strong>Anàlisi:</strong> Què s'interpreta en la gràfica? Com podria millorar-se l'elecció de $k$?.  \n",
    "</div>"
   ]
  },
  {
   "cell_type": "code",
   "execution_count": null,
   "metadata": {},
   "outputs": [],
   "source": []
  },
  {
   "cell_type": "markdown",
   "metadata": {},
   "source": [
    "<div class=\"alert alert-block alert-info\">\n",
    "<strong>Implementació:</strong> càlcul i visualització dels grups en el dataset Moons.\n",
    "</div>"
   ]
  },
  {
   "cell_type": "code",
   "execution_count": null,
   "metadata": {},
   "outputs": [],
   "source": []
  },
  {
   "cell_type": "markdown",
   "metadata": {},
   "source": [
    "<div class=\"alert alert-block alert-info\">\n",
    "<strong>Anàlisi:</strong> Què ha succeït? Explica els motius pels quals creus que s'ha produït aquest resultat.\n",
    "</div>"
   ]
  },
  {
   "cell_type": "code",
   "execution_count": null,
   "metadata": {},
   "outputs": [],
   "source": []
  },
  {
   "cell_type": "code",
   "execution_count": null,
   "metadata": {},
   "outputs": [],
   "source": [
    "X, y = X_circles, y_circles"
   ]
  },
  {
   "cell_type": "markdown",
   "metadata": {},
   "source": [
    "<div class=\"alert alert-block alert-info\">\n",
    "<strong>Implementació:</strong> càlcul i visualització de la regla del colze en el dataset Circles.\n",
    "</div>"
   ]
  },
  {
   "cell_type": "code",
   "execution_count": null,
   "metadata": {},
   "outputs": [],
   "source": []
  },
  {
   "cell_type": "markdown",
   "metadata": {},
   "source": [
    "<div class=\"alert alert-block alert-info\">\n",
    "<strong>Anàlisi:</strong> Què s'interpreta en la gràfica? Com podria millorar-se l'elecció de $k$?.  \n",
    "</div>"
   ]
  },
  {
   "cell_type": "code",
   "execution_count": null,
   "metadata": {},
   "outputs": [],
   "source": []
  },
  {
   "cell_type": "markdown",
   "metadata": {},
   "source": [
    "<div class=\"alert alert-block alert-info\">\n",
    "<strong>Implementació:</strong> càlcul i visualització dels grups en el dataset Circles.\n",
    "</div>"
   ]
  },
  {
   "cell_type": "code",
   "execution_count": null,
   "metadata": {},
   "outputs": [],
   "source": []
  },
  {
   "cell_type": "markdown",
   "metadata": {},
   "source": [
    "<div class=\"alert alert-block alert-info\">\n",
    "<strong>Anàlisi:</strong> Què ha succeït? Explica els motius pels quals creus que s'ha produït aquest resultat.\n",
    "</div>"
   ]
  },
  {
   "cell_type": "code",
   "execution_count": null,
   "metadata": {},
   "outputs": [],
   "source": []
  },
  {
   "cell_type": "markdown",
   "metadata": {},
   "source": [
    "### 1 b. Algorismes basats en densitat: DBScan\n",
    "\n",
    "En aquest apartat es demana aplicar clustering per densitat, com [DBSCAN](https://en.wikipedia.org/wiki/DBSCAN), als datasets anteriors per detectar els grups subjacents."
   ]
  },
  {
   "cell_type": "code",
   "execution_count": null,
   "metadata": {},
   "outputs": [],
   "source": [
    "X, y = X_blobs, y_blobs"
   ]
  },
  {
   "cell_type": "markdown",
   "metadata": {},
   "source": [
    "<div class=\"alert alert-block alert-info\">\n",
    "<strong>Implementació:</strong> prova la implementació de <a href=\"http://scikit-learn.org/stable/modules/generated/sklearn.cluster.DBSCAN.html\">DBSCAN en scikit-learn</a> jugant amb els \n",
    "paràmetres <i>eps</i> i <i>min_samples</i> per trobar els grups (i <i>outliers</i>) del dataset Blobs.\n",
    "</div>"
   ]
  },
  {
   "cell_type": "code",
   "execution_count": null,
   "metadata": {},
   "outputs": [],
   "source": []
  },
  {
   "cell_type": "markdown",
   "metadata": {},
   "source": [
    "<div class=\"alert alert-block alert-info\">\n",
    "<strong>Anàlisi:</strong> Què ha succeït? Explica els motius pels quals creus que s'ha produït aquest resultat.\n",
    "</div>"
   ]
  },
  {
   "cell_type": "code",
   "execution_count": null,
   "metadata": {},
   "outputs": [],
   "source": []
  },
  {
   "cell_type": "code",
   "execution_count": null,
   "metadata": {},
   "outputs": [],
   "source": [
    "X, y = X_moons, y_moons"
   ]
  },
  {
   "cell_type": "markdown",
   "metadata": {},
   "source": [
    "<div class=\"alert alert-block alert-info\">\n",
    "<strong>Implementació:</strong> prova la implementació de DBScan jugant amb els paràmetres <i>eps</i> i <i>min_samples</i> per trobar els grups (i <i>outliers</i>) del dataset Moons.\n",
    "</div>"
   ]
  },
  {
   "cell_type": "code",
   "execution_count": null,
   "metadata": {},
   "outputs": [],
   "source": []
  },
  {
   "cell_type": "markdown",
   "metadata": {},
   "source": [
    "<div class=\"alert alert-block alert-info\">\n",
    "<strong>Anàlisi:</strong> Què ha succeït? Explica els motius pels quals creus que s'ha produït aquest resultat.\n",
    "</div>"
   ]
  },
  {
   "cell_type": "code",
   "execution_count": null,
   "metadata": {},
   "outputs": [],
   "source": []
  },
  {
   "cell_type": "code",
   "execution_count": null,
   "metadata": {},
   "outputs": [],
   "source": [
    "X, y = X_circles, y_circles"
   ]
  },
  {
   "cell_type": "markdown",
   "metadata": {},
   "source": [
    "<div class=\"alert alert-block alert-info\">\n",
    "<strong>Implementació:</strong> prova la implementació de DBScan jugant amb els paràmetres <i>eps</i> i <i>min_samples</i> per trobar els grups (i <i>outliers</i>) del dataset Circles.\n",
    "</div>"
   ]
  },
  {
   "cell_type": "code",
   "execution_count": null,
   "metadata": {},
   "outputs": [],
   "source": []
  },
  {
   "cell_type": "markdown",
   "metadata": {},
   "source": [
    "<div class=\"alert alert-block alert-info\">\n",
    "<strong>Anàlisi:</strong> Què ha succeït? Explica els motius pels quals creus que s'ha produït aquest resultat.\n",
    "</div>"
   ]
  },
  {
   "cell_type": "code",
   "execution_count": null,
   "metadata": {},
   "outputs": [],
   "source": []
  },
  {
   "cell_type": "markdown",
   "metadata": {},
   "source": [
    "### 1 c.  Algorismes jeràrquics\n",
    "\n",
    "En aquest apartat es demana visualitzar mitjançant un [dendrograma](https://en.wikipedia.org/wiki/Dendrogram) la construcció progressiva dels grups mitjançant un algorisme jeràrquic aglomeratiu (estratègia *bottom-up*). Amb això es pretén trobar un mètode gràfic per a entendre el comportament de l'algorisme i trobar els *clusters* desitjats en cada dataset."
   ]
  },
  {
   "cell_type": "code",
   "execution_count": null,
   "metadata": {},
   "outputs": [],
   "source": [
    "X, y = X_blobs, y_blobs"
   ]
  },
  {
   "cell_type": "markdown",
   "metadata": {},
   "source": [
    "<div class=\"alert alert-block alert-info\">\n",
    "<strong>Implementació:</strong> prova la implementació de <a href=\"https://docs.scipy.org/doc/scipy/reference/cluster.hierarchy.html\">clustering jeràrquic de scipy</a> provant diferents <a href=\"https://en.wikipedia.org/wiki/Hierarchical_clustering#Linkage_criteria\">criteris d'enllaç o <i>linkage</i></a> permetent identificar els clusters subjacents (mostrant el seu resultat) i el seu dendrograma per al dataset Blobs.<br>\n",
    "Pots importar les llibreries necessàries per a això.\n",
    "</div>"
   ]
  },
  {
   "cell_type": "code",
   "execution_count": null,
   "metadata": {},
   "outputs": [],
   "source": []
  },
  {
   "cell_type": "markdown",
   "metadata": {},
   "source": [
    "<div class=\"alert alert-block alert-info\">\n",
    "<strong>Anàlisi:</strong> Interpreta el dendrograma i comenta quin criteri d'enllaç s'ha comportat millor. Per què?\n",
    "</div>"
   ]
  },
  {
   "cell_type": "code",
   "execution_count": null,
   "metadata": {},
   "outputs": [],
   "source": []
  },
  {
   "cell_type": "code",
   "execution_count": null,
   "metadata": {},
   "outputs": [],
   "source": [
    "X, y = X_moons, y_moons"
   ]
  },
  {
   "cell_type": "markdown",
   "metadata": {},
   "source": [
    "<div class=\"alert alert-block alert-info\">\n",
    "<strong>Implementació:</strong>\n",
    "prova la implementació de <a href=\"https://docs.scipy.org/doc/scipy/reference/cluster.hierarchy.html\">clustering jeràrquic de scipy</a> provant diferents <a href=\"https://en.wikipedia.org/wiki/Hierarchical_clustering#Linkage_criteria\">criteris d'enllaç o <i>linkage</i></a> permetent identificar els clusters subjacents (mostrant el seu resultat) i el seu dendrograma per al dataset Moons.<br>\n",
    "Pots importar les llibreries necessàries per a això.\n",
    "</div>"
   ]
  },
  {
   "cell_type": "code",
   "execution_count": null,
   "metadata": {},
   "outputs": [],
   "source": []
  },
  {
   "cell_type": "markdown",
   "metadata": {},
   "source": [
    "<div class=\"alert alert-block alert-info\">\n",
    "<strong>Anàlisi:</strong> Interpreta el dendrograma i comenta quin criteri d'enllaç s'ha comportat millor. Per què?\n",
    "</div>"
   ]
  },
  {
   "cell_type": "code",
   "execution_count": null,
   "metadata": {},
   "outputs": [],
   "source": []
  },
  {
   "cell_type": "code",
   "execution_count": null,
   "metadata": {},
   "outputs": [],
   "source": [
    "X, y = X_circles, y_circles"
   ]
  },
  {
   "cell_type": "markdown",
   "metadata": {},
   "source": [
    "<div class=\"alert alert-block alert-info\">\n",
    "<strong>Implementació:</strong>\n",
    "prova la interpretació de <a href=\"https://docs.scipy.org/doc/scipy/reference/cluster.hierarchy.html\">clustering jeràrquic de scipy</a> provant diferents <a href=\"https://en.wikipedia.org/wiki/Hierarchical_clustering#Linkage_criteria\">criteris d'enllaç o <i>linkage</i></a> permetent identificar els clusters subjacents (mostrant el seu resultat) i el seu dendrograma per al dataset Circles.<br>\n",
    "Pots importar les llibreries necessàries per a això.\n",
    "</div>"
   ]
  },
  {
   "cell_type": "code",
   "execution_count": null,
   "metadata": {},
   "outputs": [],
   "source": []
  },
  {
   "cell_type": "markdown",
   "metadata": {},
   "source": [
    "<div class=\"alert alert-block alert-info\">\n",
    "<strong>Anàlisi:</strong> Interpreta el dendrograma i comenta quin criteri d'enllaç s'ha comportat millor. Per què?\n",
    "</div>"
   ]
  },
  {
   "cell_type": "code",
   "execution_count": null,
   "metadata": {},
   "outputs": [],
   "source": []
  },
  {
   "cell_type": "markdown",
   "metadata": {},
   "source": [
    "<a id=\"ej2\"></a>\n",
    "\n",
    "## 2. Aplicació: generació d'imatges amb reducció de dimensionalitat (3 punts)\n",
    "\n",
    "És possible aplicar una àmplia varietat d'algorismes per a la reducció de dimensionalitat. Per a aquest exercici s'emprarà el dataset MNIST, compost de milers de dígits manuscrits del 0 al 9. Cadascuna de les imatges està formada per 784 píxels (imatges de 28 x 28) i, per tat, es parteix d'un nombre alt de dimensions."
   ]
  },
  {
   "cell_type": "code",
   "execution_count": null,
   "metadata": {},
   "outputs": [],
   "source": [
    "X, y = sklearn.datasets.fetch_openml('mnist_784', version=1, return_X_y=True, as_frame=False)"
   ]
  },
  {
   "cell_type": "markdown",
   "metadata": {},
   "source": [
    "Pel que cada mostra (les 70k files del dataset) es componen de 784 dimensions:"
   ]
  },
  {
   "cell_type": "code",
   "execution_count": null,
   "metadata": {},
   "outputs": [],
   "source": [
    "X.shape"
   ]
  },
  {
   "cell_type": "code",
   "execution_count": null,
   "metadata": {},
   "outputs": [],
   "source": [
    "fig, axis = plt.subplots(1, 10, figsize=(12, 6))\n",
    "for i, ax in enumerate(axis):\n",
    "    ax.imshow(X[y == str(i)][0].reshape(28, 28), cmap='gray_r')\n",
    "    ax.set_title(str(i))\n",
    "    ax.axis('off')\n",
    "plt.tight_layout()"
   ]
  },
  {
   "cell_type": "markdown",
   "metadata": {},
   "source": [
    "Si cada algorisme obté resultats diferents a l'hora de reduir la dimensionalitat, quina representació és més fidel a la distribució original?\n",
    "\n",
    "Abans de reduir les 784 dimensions originals de cada mostra a 2 per a poder visualitzar-les en 2 dimensions, és molt útil conèixer, o almenys intuir, l'estructura en alta dimensionalitat de les dades.\n",
    "\n",
    "Per a això es pot fer ús del dendrograma com a heurística per a conèixer la disposició original de les dades i comprovar si la projecció és similar al mostrat pel dendrograma."
   ]
  },
  {
   "cell_type": "markdown",
   "metadata": {},
   "source": [
    "<div class=\"alert alert-block alert-info\">\n",
    "<strong>Implementació:</strong> aprendre una projecció a 2 dimensions de les mostres de X amb <a href=\"https://scikit-learn.org/stable/modules/generated/sklearn.decomposition.PCA.html\">PCA</a> i projectar el conjunt X a dos dimensions. Després visualizar-ho en un scatter plot.\n",
    "\n",
    "Utilitza les etiquetes de y (el número manuscrit al qual es correspon cada mostra), en el paràmetre *label* (en l'anomenada a scatter) i la funció *legend* en la visualització per a saber la classe corresponent a cada punt i interpretar el resultat de la reducció de dimensionalitat i, finalment, poder interpretar el resultat de la projecció.\n",
    "</div>"
   ]
  },
  {
   "cell_type": "code",
   "execution_count": null,
   "metadata": {},
   "outputs": [],
   "source": []
  },
  {
   "cell_type": "markdown",
   "metadata": {},
   "source": [
    "<div class=\"alert alert-block alert-info\">\n",
    "<strong>Anàlisi:</strong> Què pots interpretar de la projecció? Les classes han quedat visiblement separades? Per què?\n",
    "</div>"
   ]
  },
  {
   "cell_type": "code",
   "execution_count": null,
   "metadata": {},
   "outputs": [],
   "source": []
  },
  {
   "cell_type": "markdown",
   "metadata": {},
   "source": [
    "En la gràfica anterior, cada punt representa una mostra en 2 dimensions. Amb PCA és possible <a href=\"https://scikit-learn.org/stable/modules/generated/sklearn.decomposition.PCA.html#sklearn.decomposition.PCA.inverse_transform\">invertir la transformació</a> perquè, a partir de cada punt 2D, s'obtingui de nou (aproximadament) la imatge original (784 dimensions).\n",
    "\n",
    "Per la qual cosa és possible \"generar\" noves imatges triant punts aleatòriament del pla 2D, i demanar-li al model PCA après que inverteixi la transformació per a obtenir les \"teòriques\" imatges que haurien estat projectades a aquests punts de l'espai projectat."
   ]
  },
  {
   "cell_type": "markdown",
   "metadata": {},
   "source": [
    "<div class=\"alert alert-block alert-info\">\n",
    "<strong>Implementació:</strong> calcular el màxim i mínim de cadascuna de les dues dimensions i, per a cadascuna d'elles, <a href=\"https://numpy.org/doc/stable/reference/generated/numpy.linspace.html\">generar una \n",
    "seqüència</a> de 10 valors amb igual separació.\n",
    "</div>"
   ]
  },
  {
   "cell_type": "code",
   "execution_count": null,
   "metadata": {},
   "outputs": [],
   "source": []
  },
  {
   "cell_type": "markdown",
   "metadata": {},
   "source": [
    "Amb les dues seqüències de 10 (una per cada dimensió del pla de projecció) valors és possible combinar els punts de totes dues seqüències per a generar 100 combinacions (punts 2D) que divideixen el pla sobre el qual PCA ha projectat les mostres."
   ]
  },
  {
   "cell_type": "markdown",
   "metadata": {},
   "source": [
    "<div class=\"alert alert-block alert-info\">\n",
    "<strong>Implementació:</strong> invertir la transformació per a cadascun dels 100 punts i visualitzar la seva imatge associada en una matriu de 10 x 10 imatges (tractant de preservar la seva posició en l'espai projectat).\n",
    "</div>"
   ]
  },
  {
   "cell_type": "code",
   "execution_count": null,
   "metadata": {},
   "outputs": [],
   "source": []
  },
  {
   "cell_type": "markdown",
   "metadata": {},
   "source": [
    "<div class=\"alert alert-block alert-info\">\n",
    "<strong>Anàlisi:</strong> Què pots interpretar de les imatges reconstruïdes / interpolades? Genera números o transicions entre números visualment creïbles? Per què?\n",
    "</div>"
   ]
  },
  {
   "cell_type": "code",
   "execution_count": null,
   "metadata": {},
   "outputs": [],
   "source": []
  },
  {
   "cell_type": "markdown",
   "metadata": {},
   "source": [
    "<div class=\"alert alert-block alert-info\">\n",
    "<strong>Anàlisi:</strong> Podria haver-se aconseguit el mateix amb <a href=\"https://scikit-learn.org/stable/modules/generated/sklearn.manifold.TSNE.html\">t-SNE</a>? ¿Per què?\n",
    "</div>"
   ]
  },
  {
   "cell_type": "code",
   "execution_count": null,
   "metadata": {},
   "outputs": [],
   "source": []
  },
  {
   "cell_type": "markdown",
   "metadata": {},
   "source": [
    "<div class=\"alert alert-block alert-info\">\n",
    "<strong>Implementació:</strong> aprendre una projecció a 2 dimensions de les mostres de X amb <a href=\"https://towardsdatascience.com/how-exactly-umap-works-13e3040e1668\">UMAP</a> (amb els paràmetres per defecte) utilitzant la llibreria <a href=\"https://umap-learn.readthedocs.io/en/latest/\">umap-learn</a> i projectar el conjunt X a dues dimensions. Després visualitza-ho en un scatter plot.\n",
    "\n",
    "Utilitza les etiquetes de y (el número manuscrit al qual es correspon cada mostra), en el paràmetre *label* (en l'anomenada a scatter) i la funció *legend* en la visualització per a saber la classe corresponent a cada punt i interpretar el resultat de la reducció de dimensionalitat i, finalment, poder interpretar el resultat de la projecció.\n",
    "</div>"
   ]
  },
  {
   "cell_type": "code",
   "execution_count": null,
   "metadata": {},
   "outputs": [],
   "source": []
  },
  {
   "cell_type": "markdown",
   "metadata": {},
   "source": [
    "<div class=\"alert alert-block alert-info\">\n",
    "<strong>Anàlisi:</strong> Què pots interpretar de la projecció? Les classes han quedat visiblement separades? Per què?\n",
    "</div>"
   ]
  },
  {
   "cell_type": "code",
   "execution_count": null,
   "metadata": {},
   "outputs": [],
   "source": []
  },
  {
   "cell_type": "markdown",
   "metadata": {},
   "source": [
    "<div class=\"alert alert-block alert-info\">\n",
    "<strong>Implementació:</strong> igual que anteriorment amb PCA, calcula el màxim i mínim per a cadascuna de les dues dimensions i inverteix la transformació amb el model après per UMAP per a cadascun dels 100 punts i visualitza la seva imatge associada en una matriu de 10 x 10 imatges (tractant de preservar la seva posició en l'espai projectat).\n",
    "    \n",
    "<strong>Consell</strong>: la inversió de la transformació en UMAP és més costosa computacionalment que amb PCA, per la qual cosa recomano que només la invoquis una vegada amb les 100 mostres en lloc de fer 100 crides (una per cada mostra). Això redueix dràsticament el temps d'execució.\n",
    "</div>"
   ]
  },
  {
   "cell_type": "code",
   "execution_count": null,
   "metadata": {},
   "outputs": [],
   "source": []
  },
  {
   "cell_type": "markdown",
   "metadata": {},
   "source": [
    "<div class=\"alert alert-block alert-info\">\n",
    "<strong>Anàlisi:</strong> \n",
    "Què pots interpretar de les imatges reconstruïdes / interpolades? Genera números o transicions entre números visualment creïbles? Per què?\n",
    "</div>"
   ]
  },
  {
   "cell_type": "code",
   "execution_count": null,
   "metadata": {},
   "outputs": [],
   "source": []
  },
  {
   "cell_type": "markdown",
   "metadata": {},
   "source": [
    "<a id=\"ej3\"></a>\n",
    "\n",
    "## 3. Aplicació: identificació de punts d'interès turístics (3 punts)\n",
    "\n",
    "En aquest exercici es busca automatitzar la localització de llocs turístics a través de les metadades de les fotografies de flickr.\n",
    "\n",
    "Per això s'entrega junt a PEC el dataset: ``barcelona.csv``. Ja que es demana trobar els punts de major interès turístic d'aquesta ciutat.\n",
    "\n",
    "**Opcional: si vols fer-ho per a una altra regió**\n",
    "\n",
    "1. Però si vols fer-ho per a una altra part del món, pots descarregar-te el dataset complet [aquí](https://drive.google.com/file/d/0B-mRR4rjwHPONVFfX2VmTmxZcHM/view?usp=sharing) i descomprimir per extraure el *CSV*.\n",
    "\n",
    "2. Per a seleccionar les coordenades de la zona d'interès pots usar l'opció *Export* manual de [OpenStreetMaps](https://www.openstreetmap.org/).\n",
    "\n",
    "3. Finalment, per a filtrar les dades que es corresponen a la zona desitjada pots usar el programa *AWK* mitjançant la següent línia:\n",
    "\n",
    "``awk -F\",\" 'NR == 1 {print $5\",\"$6} (NR > 1 && $5 > 41.3560 && $5 < 41.4267 && $6 > 2.1300 && $6 < 2.2319) {print $5\",\"$6}' photo_metadata.csv``\n",
    "\n",
    "On ``$5`` fa referència a la latitud, i ``$6`` a la longitud. Substitueix els valors mínim i màxim per a obtenir les dades de localització referents a la teva àrea d'interès."
   ]
  },
  {
   "cell_type": "code",
   "execution_count": null,
   "metadata": {},
   "outputs": [],
   "source": [
    "geo_df = pd.read_csv('barcelona.csv', header=0)\n",
    "geo_df.sample(5)"
   ]
  },
  {
   "cell_type": "markdown",
   "metadata": {},
   "source": [
    "<div class=\"alert alert-block alert-info\">\n",
    "<strong>Implementació:</strong> sempre que tractem un problema real, és necessari entendre les dades a tractar. \n",
    "Visualitza les localitzacions de les fotografies mitjançant un scatter plot. Prova diferents paràmetres de grandària (<i>size</i>) <i>s</i>, i opacitat <i>alpha</i> fins aconseguir un resultat fàcil d'interpretar. \n",
    "</div>"
   ]
  },
  {
   "cell_type": "code",
   "execution_count": null,
   "metadata": {},
   "outputs": [],
   "source": []
  },
  {
   "cell_type": "markdown",
   "metadata": {},
   "source": [
    "<div class=\"alert alert-block alert-info\">\n",
    "<strong>Anàlisi:</strong> \n",
    "després d'haver provat els algorismes d'agrupament en l'exercici 1. Quin algorisme creus que seria més adequat després de visualitzar les dades? Per què?\n",
    "</div>"
   ]
  },
  {
   "cell_type": "code",
   "execution_count": null,
   "metadata": {},
   "outputs": [],
   "source": []
  },
  {
   "cell_type": "markdown",
   "metadata": {},
   "source": [
    "<div class=\"alert alert-block alert-info\">\n",
    "<strong>Implementació:</strong> per a fer prototips de modelatge primer es recomana triar un subconjunt de les dades que sigui representatiu. Selecciona una mostra del DataFrame original i visualitza com en el punt anterior, per a comprovar la seva similitud.\n",
    "</div>"
   ]
  },
  {
   "cell_type": "code",
   "execution_count": null,
   "metadata": {},
   "outputs": [],
   "source": []
  },
  {
   "cell_type": "markdown",
   "metadata": {},
   "source": [
    "<div class=\"alert alert-block alert-info\">\n",
    "<strong>Implementació:</strong> ajusta l'algorisme de clustering triat per a trobar els diferents grups sobre el conjunt reduït, i visualitza el resultat colorejant cada punt sobre la base del grup al qual pertany. Com a pista, al voltant de 20 clusters és un número raonable, i és possible donar-los un color diferent a cadascun amb el <i>colormap: tab20</i>.\n",
    "</div>"
   ]
  },
  {
   "cell_type": "code",
   "execution_count": null,
   "metadata": {},
   "outputs": [],
   "source": []
  },
  {
   "cell_type": "markdown",
   "metadata": {},
   "source": [
    "<div class=\"alert alert-block alert-info\">\n",
    "<strong>Implementació:</strong> si has utilitzat el mètode de <i>clustering</i> que permet la detecció de <i>outliers</i>, representa només els punts que no has consdiderat <i>outliers</i>, és a dir, els que pertanyen a algun <i>cluster</i>.\n",
    "</div>"
   ]
  },
  {
   "cell_type": "code",
   "execution_count": null,
   "metadata": {},
   "outputs": [],
   "source": []
  },
  {
   "cell_type": "markdown",
   "metadata": {},
   "source": [
    "<div class=\"alert alert-block alert-info\">\n",
    "<strong>Anàlisi:</strong> interpreta com és el lloc que representa cada <i>cluster</i> (si trobes una associació lògica).\n",
    "</div>"
   ]
  },
  {
   "cell_type": "code",
   "execution_count": null,
   "metadata": {},
   "outputs": [],
   "source": []
  },
  {
   "cell_type": "markdown",
   "metadata": {},
   "source": [
    "<div class=\"alert alert-block alert-info\">\n",
    "<strong>OPCIONAL Implementació:</strong> representa els punts sense sorrol sobre un mapa utilitzant la llibreria <a href=\"https://pypi.org/project/smopy/\">Smopy</a>. Per a facilitar la interpretació, pots representar cada cluster com el punt mitjà de tots els punts que el conformen.\n",
    "</div>"
   ]
  },
  {
   "cell_type": "code",
   "execution_count": null,
   "metadata": {},
   "outputs": [],
   "source": []
  }
 ],
 "metadata": {
  "celltoolbar": "Raw Cell Format",
  "kernelspec": {
   "display_name": "Python 3",
   "language": "python",
   "name": "python3"
  },
  "language_info": {
   "codemirror_mode": {
    "name": "ipython",
    "version": 3
   },
   "file_extension": ".py",
   "mimetype": "text/x-python",
   "name": "python",
   "nbconvert_exporter": "python",
   "pygments_lexer": "ipython3",
   "version": "3.7.6"
  }
 },
 "nbformat": 4,
 "nbformat_minor": 2
}
