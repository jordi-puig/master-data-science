{
 "cells": [
  {
   "cell_type": "markdown",
   "metadata": {},
   "source": [
    "<!--Header-->\n",
    "<div>\n",
    "    <div class=\"row\" style=\"color: #4D4D4D;font-size: 15px;padding-bottom: 20px\">\n",
    "        <div class=\"col-md-7\">\n",
    "            <img src=\"http://materials.cv.uoc.edu/cdocent/common/img/logo-uoc.png\" alt=\"Logo UOC\" class=\"img-responsive\" style=\"margin:20px 0px 0px\">\n",
    "        </div>\n",
    "        <div class=\"col-md-5\">\n",
    "            <h1 style=\"margin:15px 0px 0px;font-size: 40px;\"></h1>\n",
    "            <h2>Global Observatory on Donation and Transplantation</h2>\n",
    "            <div style=\"text-align:left;margin-top: 5px;\"></div>\n",
    "        </div>\n",
    "    </div>\n",
    "    <div class=\"row\" style=\"background: #FCB517;padding: 10px 20px;\">\n",
    "        <div class=\"col-md-6\">\n",
    "            <div style=\"text-align:right;\">Autor: Jordi Puig Ovejero</div>\n",
    "        </div>\n",
    "    </div>\n",
    "</div>\n",
    "<!--/Header-->"
   ]
  },
  {
   "cell_type": "markdown",
   "metadata": {},
   "source": [
    "## Índex ##\n",
    "- [Selecció de les dades](#selecci%C3%B3-de-les-dades)\n",
    "- [Relevància de les dades](#relev%C3%A0ncia-de-les-dades)\n",
    "- [Diccionari de les variables](#diccionari-de-les-variables)\n",
    "- [Dades Noves](#dades-noves)\n",
    "- [Preguntes a respondre](#preguntes-a-respon)\n",
    "- [Altres Visualitzacions](#altres-visualitzacions)\n"
   ]
  },
  {
   "cell_type": "markdown",
   "metadata": {
    "_cell_guid": "25b1e1db-8bc5-7029-f719-91da523bd121",
    "_uuid": "ceab5914b6a59811f7ef6dd8d7643b793ab6433d"
   },
   "source": [
    "## Selecció de les dades ##\n",
    "\n",
    "La meva selecció del conjunt de dades sobre els trasplantaments es basa en motius personals. Tinc familiars molt propers que han passat per aquest procés i sempre m'ha interessat entendre millor com funciona, quins són els factors que influeixen en l'èxit d'un trasplantament i com es distribueixen aquests procediments a nivell mundial. A més, crec que és un tema que pot generar consciència sobre la importància de la donació d'òrgans i pot ajudar a identificar àrees on es poden millorar les polítiques de salut. \n",
    "\n",
    "A nivell professional, com a estudiant de ciències de dades, aquest conjunt de dades presenta una oportunitat interessant per aplicar les habilitats que he après en l'anàlisi i visualització de dades. El conjunt de dades conté una gran quantitat d'informació que pot ser analitzada des de diferents perspectives, com ara per país, per tipus de trasplantament, per any, etc. Això permetrà desenvolupar visualitzacions de dades complexes i informatives. \n",
    "\n",
    "Finalment, crec que aquesta selecció és rellevant per a la societat en general, ja que els trasplantaments són procediments mèdics vitals que afecten a moltes persones arreu del món. Entendre millor aquesta temàtica pot contribuir a millorar la salut i el benestar de moltes persones.\n"
   ]
  },
  {
   "cell_type": "markdown",
   "metadata": {},
   "source": [
    "## Rellevància de les dades ##\n",
    "\n",
    "Les dades que utilitzo provenen de la font https://www.transplant-observatory.org/. Aquestes dades estan força actualitzades, ja que tenim registres fins a l'any 2023. Tot i que no hi ha molta informació històrica, ja que els registres més antics que tenim daten del 2000, són suficients per comprendre la situació del procés de trasplantament d'òrgans en els diferents països del món i quina incidència té."
   ]
  },
  {
   "cell_type": "markdown",
   "metadata": {},
   "source": [
    "## Descripció de les dades ##\n",
    "\n",
    "#### Lectura del fitxer de dades ####"
   ]
  },
  {
   "cell_type": "code",
   "execution_count": 1,
   "metadata": {
    "_cell_guid": "2ce68358-02ec-556d-ba88-e773a50bc18b",
    "_uuid": "780db18d574123b6850d09c83e4b777d53a660cf",
    "scrolled": true
   },
   "outputs": [],
   "source": [
    "import numpy as np\n",
    "import pandas as pd\n",
    "import re as re\n",
    "from scipy.stats import norm\n",
    "import seaborn as sns"
   ]
  },
  {
   "cell_type": "code",
   "execution_count": 2,
   "metadata": {
    "scrolled": true
   },
   "outputs": [],
   "source": [
    "df = pd.read_csv('GODT.csv', header = 0)"
   ]
  },
  {
   "cell_type": "code",
   "execution_count": 3,
   "metadata": {},
   "outputs": [
    {
     "name": "stdout",
     "output_type": "stream",
     "text": [
      "<class 'pandas.core.frame.DataFrame'>\n",
      "RangeIndex: 3639 entries, 0 to 3638\n",
      "Data columns (total 24 columns):\n",
      " #   Column              Non-Null Count  Dtype  \n",
      "---  ------              --------------  -----  \n",
      " 0   REGION              3639 non-null   object \n",
      " 1   COUNTRY             3639 non-null   object \n",
      " 2   REPORTYEAR          3639 non-null   int64  \n",
      " 3   POPULATION          3639 non-null   object \n",
      " 4   TOTAL Actual DD     1758 non-null   float64\n",
      " 5   Actual DBD          1645 non-null   float64\n",
      " 6   Actual DCD          1418 non-null   float64\n",
      " 7   Total Utilized DD   957 non-null    float64\n",
      " 8   Utilized DBD        975 non-null    float64\n",
      " 9   Utilized DCD        981 non-null    float64\n",
      " 10  DD Kidney Tx        1780 non-null   float64\n",
      " 11  LD Kidney Tx        1838 non-null   float64\n",
      " 12  TOTAL Kidney Tx     1872 non-null   float64\n",
      " 13  DD Liver Tx         1675 non-null   float64\n",
      " 14  DOMINO Liver Tx     1318 non-null   float64\n",
      " 15  LD Liver Tx         1552 non-null   float64\n",
      " 16  TOTAL Liver TX      1713 non-null   float64\n",
      " 17  Total Heart TX      1594 non-null   float64\n",
      " 18  DD Lung Tx          1035 non-null   float64\n",
      " 19  LD Lung Tx          1010 non-null   float64\n",
      " 20  TOTAL Lung Tx       1468 non-null   float64\n",
      " 21  Pancreas Tx         1365 non-null   float64\n",
      " 22  Kidney Pancreas Tx  1470 non-null   float64\n",
      " 23  Small Bowel Tx      1322 non-null   float64\n",
      "dtypes: float64(20), int64(1), object(3)\n",
      "memory usage: 682.4+ KB\n"
     ]
    }
   ],
   "source": [
    "df.info()"
   ]
  },
  {
   "cell_type": "code",
   "execution_count": 4,
   "metadata": {
    "scrolled": true
   },
   "outputs": [
    {
     "data": {
      "text/html": [
       "<div>\n",
       "<style scoped>\n",
       "    .dataframe tbody tr th:only-of-type {\n",
       "        vertical-align: middle;\n",
       "    }\n",
       "\n",
       "    .dataframe tbody tr th {\n",
       "        vertical-align: top;\n",
       "    }\n",
       "\n",
       "    .dataframe thead th {\n",
       "        text-align: right;\n",
       "    }\n",
       "</style>\n",
       "<table border=\"1\" class=\"dataframe\">\n",
       "  <thead>\n",
       "    <tr style=\"text-align: right;\">\n",
       "      <th></th>\n",
       "      <th>REGION</th>\n",
       "      <th>COUNTRY</th>\n",
       "      <th>REPORTYEAR</th>\n",
       "      <th>POPULATION</th>\n",
       "      <th>TOTAL Actual DD</th>\n",
       "      <th>Actual DBD</th>\n",
       "      <th>Actual DCD</th>\n",
       "      <th>Total Utilized DD</th>\n",
       "      <th>Utilized DBD</th>\n",
       "      <th>Utilized DCD</th>\n",
       "      <th>...</th>\n",
       "      <th>DOMINO Liver Tx</th>\n",
       "      <th>LD Liver Tx</th>\n",
       "      <th>TOTAL Liver TX</th>\n",
       "      <th>Total Heart TX</th>\n",
       "      <th>DD Lung Tx</th>\n",
       "      <th>LD Lung Tx</th>\n",
       "      <th>TOTAL Lung Tx</th>\n",
       "      <th>Pancreas Tx</th>\n",
       "      <th>Kidney Pancreas Tx</th>\n",
       "      <th>Small Bowel Tx</th>\n",
       "    </tr>\n",
       "  </thead>\n",
       "  <tbody>\n",
       "    <tr>\n",
       "      <th>0</th>\n",
       "      <td>Eastern Mediterranean</td>\n",
       "      <td>Afghanistan</td>\n",
       "      <td>2000</td>\n",
       "      <td>22,7</td>\n",
       "      <td>NaN</td>\n",
       "      <td>NaN</td>\n",
       "      <td>NaN</td>\n",
       "      <td>NaN</td>\n",
       "      <td>NaN</td>\n",
       "      <td>NaN</td>\n",
       "      <td>...</td>\n",
       "      <td>NaN</td>\n",
       "      <td>NaN</td>\n",
       "      <td>NaN</td>\n",
       "      <td>NaN</td>\n",
       "      <td>NaN</td>\n",
       "      <td>NaN</td>\n",
       "      <td>NaN</td>\n",
       "      <td>NaN</td>\n",
       "      <td>NaN</td>\n",
       "      <td>NaN</td>\n",
       "    </tr>\n",
       "    <tr>\n",
       "      <th>1</th>\n",
       "      <td>Eastern Mediterranean</td>\n",
       "      <td>Afghanistan</td>\n",
       "      <td>2001</td>\n",
       "      <td>22,5</td>\n",
       "      <td>NaN</td>\n",
       "      <td>NaN</td>\n",
       "      <td>NaN</td>\n",
       "      <td>NaN</td>\n",
       "      <td>NaN</td>\n",
       "      <td>NaN</td>\n",
       "      <td>...</td>\n",
       "      <td>NaN</td>\n",
       "      <td>NaN</td>\n",
       "      <td>NaN</td>\n",
       "      <td>NaN</td>\n",
       "      <td>NaN</td>\n",
       "      <td>NaN</td>\n",
       "      <td>NaN</td>\n",
       "      <td>NaN</td>\n",
       "      <td>NaN</td>\n",
       "      <td>NaN</td>\n",
       "    </tr>\n",
       "    <tr>\n",
       "      <th>2</th>\n",
       "      <td>Eastern Mediterranean</td>\n",
       "      <td>Afghanistan</td>\n",
       "      <td>2002</td>\n",
       "      <td>23,3</td>\n",
       "      <td>NaN</td>\n",
       "      <td>NaN</td>\n",
       "      <td>NaN</td>\n",
       "      <td>NaN</td>\n",
       "      <td>NaN</td>\n",
       "      <td>NaN</td>\n",
       "      <td>...</td>\n",
       "      <td>NaN</td>\n",
       "      <td>NaN</td>\n",
       "      <td>NaN</td>\n",
       "      <td>NaN</td>\n",
       "      <td>NaN</td>\n",
       "      <td>NaN</td>\n",
       "      <td>NaN</td>\n",
       "      <td>NaN</td>\n",
       "      <td>NaN</td>\n",
       "      <td>NaN</td>\n",
       "    </tr>\n",
       "    <tr>\n",
       "      <th>3</th>\n",
       "      <td>Eastern Mediterranean</td>\n",
       "      <td>Afghanistan</td>\n",
       "      <td>2003</td>\n",
       "      <td>23,9</td>\n",
       "      <td>NaN</td>\n",
       "      <td>NaN</td>\n",
       "      <td>NaN</td>\n",
       "      <td>NaN</td>\n",
       "      <td>NaN</td>\n",
       "      <td>NaN</td>\n",
       "      <td>...</td>\n",
       "      <td>NaN</td>\n",
       "      <td>NaN</td>\n",
       "      <td>NaN</td>\n",
       "      <td>NaN</td>\n",
       "      <td>NaN</td>\n",
       "      <td>NaN</td>\n",
       "      <td>NaN</td>\n",
       "      <td>NaN</td>\n",
       "      <td>NaN</td>\n",
       "      <td>NaN</td>\n",
       "    </tr>\n",
       "    <tr>\n",
       "      <th>4</th>\n",
       "      <td>Eastern Mediterranean</td>\n",
       "      <td>Afghanistan</td>\n",
       "      <td>2004</td>\n",
       "      <td>24,9</td>\n",
       "      <td>NaN</td>\n",
       "      <td>NaN</td>\n",
       "      <td>NaN</td>\n",
       "      <td>NaN</td>\n",
       "      <td>NaN</td>\n",
       "      <td>NaN</td>\n",
       "      <td>...</td>\n",
       "      <td>NaN</td>\n",
       "      <td>NaN</td>\n",
       "      <td>NaN</td>\n",
       "      <td>NaN</td>\n",
       "      <td>NaN</td>\n",
       "      <td>NaN</td>\n",
       "      <td>NaN</td>\n",
       "      <td>NaN</td>\n",
       "      <td>NaN</td>\n",
       "      <td>NaN</td>\n",
       "    </tr>\n",
       "  </tbody>\n",
       "</table>\n",
       "<p>5 rows × 24 columns</p>\n",
       "</div>"
      ],
      "text/plain": [
       "                  REGION      COUNTRY  REPORTYEAR POPULATION  TOTAL Actual DD  \\\n",
       "0  Eastern Mediterranean  Afghanistan        2000       22,7              NaN   \n",
       "1  Eastern Mediterranean  Afghanistan        2001       22,5              NaN   \n",
       "2  Eastern Mediterranean  Afghanistan        2002       23,3              NaN   \n",
       "3  Eastern Mediterranean  Afghanistan        2003       23,9              NaN   \n",
       "4  Eastern Mediterranean  Afghanistan        2004       24,9              NaN   \n",
       "\n",
       "   Actual DBD  Actual DCD  Total Utilized DD  Utilized DBD  Utilized DCD  ...  \\\n",
       "0         NaN         NaN                NaN           NaN           NaN  ...   \n",
       "1         NaN         NaN                NaN           NaN           NaN  ...   \n",
       "2         NaN         NaN                NaN           NaN           NaN  ...   \n",
       "3         NaN         NaN                NaN           NaN           NaN  ...   \n",
       "4         NaN         NaN                NaN           NaN           NaN  ...   \n",
       "\n",
       "   DOMINO Liver Tx  LD Liver Tx  TOTAL Liver TX  Total Heart TX  DD Lung Tx  \\\n",
       "0              NaN          NaN             NaN             NaN         NaN   \n",
       "1              NaN          NaN             NaN             NaN         NaN   \n",
       "2              NaN          NaN             NaN             NaN         NaN   \n",
       "3              NaN          NaN             NaN             NaN         NaN   \n",
       "4              NaN          NaN             NaN             NaN         NaN   \n",
       "\n",
       "   LD Lung Tx  TOTAL Lung Tx  Pancreas Tx  Kidney Pancreas Tx  Small Bowel Tx  \n",
       "0         NaN            NaN          NaN                 NaN             NaN  \n",
       "1         NaN            NaN          NaN                 NaN             NaN  \n",
       "2         NaN            NaN          NaN                 NaN             NaN  \n",
       "3         NaN            NaN          NaN                 NaN             NaN  \n",
       "4         NaN            NaN          NaN                 NaN             NaN  \n",
       "\n",
       "[5 rows x 24 columns]"
      ]
     },
     "execution_count": 4,
     "metadata": {},
     "output_type": "execute_result"
    }
   ],
   "source": [
    "df.head()"
   ]
  },
  {
   "cell_type": "markdown",
   "metadata": {},
   "source": [
    "El nostre conjunt de dades té 24 columnes o variables. El nombre total de registres és de 3639. \n",
    "Podem comprovar també que tenim un gran nombre de valors NaN. Haurem de veure com tractem aquests valors.    \n",
    "També podem veure que tenim tant dades categòriques (REGION, COUNTRY o YEAR) i numèriques (tota la resta). YEAR la considerarem categòrica, no tindrà un significat numèric."
   ]
  },
  {
   "cell_type": "markdown",
   "metadata": {
    "_cell_guid": "f9595646-65c9-6fc4-395f-0befc4d122ce",
    "_uuid": "5b1f0ef3e9f2445a178fd08cab9efc728be5d88c"
   },
   "source": [
    "## Diccionari de les variables"
   ]
  },
  {
   "cell_type": "markdown",
   "metadata": {
    "_cell_guid": "5e70f81c-d4e2-1823-f0ba-a7c9b46984ff",
    "_uuid": "9e94f377872ad527e9686b5bcfffb29c19d37330"
   },
   "source": [
    "#### `REGION`  \n",
    "Dada categòrica (que podem fer servir com a geogràfica). Identifica la regió mundial del registre. Per exemple tenim Africa, Europe, Eastern Mediterranean..."
   ]
  },
  {
   "cell_type": "markdown",
   "metadata": {
    "_cell_guid": "5e70f81c-d4e2-1823-f0ba-a7c9b46984ff",
    "_uuid": "9e94f377872ad527e9686b5bcfffb29c19d37330"
   },
   "source": [
    "#### `COUNTRY`  \n",
    "Dada categòrica (també pot fer-se servir com a geogràfica). És el país del registre. "
   ]
  },
  {
   "cell_type": "markdown",
   "metadata": {
    "_cell_guid": "5e70f81c-d4e2-1823-f0ba-a7c9b46984ff",
    "_uuid": "9e94f377872ad527e9686b5bcfffb29c19d37330"
   },
   "source": [
    "#### `REPORTYEAR`  \n",
    "Dada que encara que sigui un nombre, la farem servir com a categòrica. Any del registre."
   ]
  },
  {
   "cell_type": "markdown",
   "metadata": {
    "_cell_guid": "5e70f81c-d4e2-1823-f0ba-a7c9b46984ff",
    "_uuid": "9e94f377872ad527e9686b5bcfffb29c19d37330"
   },
   "source": [
    "**Nota: A partir d'ara totes les dades són numèriques.**"
   ]
  },
  {
   "cell_type": "markdown",
   "metadata": {
    "_cell_guid": "5e70f81c-d4e2-1823-f0ba-a7c9b46984ff",
    "_uuid": "9e94f377872ad527e9686b5bcfffb29c19d37330"
   },
   "source": [
    "#### `POPULATION`  \n",
    "Població del país en milions d'habitants"
   ]
  },
  {
   "cell_type": "markdown",
   "metadata": {
    "_cell_guid": "5e70f81c-d4e2-1823-f0ba-a7c9b46984ff",
    "_uuid": "9e94f377872ad527e9686b5bcfffb29c19d37330"
   },
   "source": [
    "#### `TOTAL Actual DD`  \n",
    "Total de donants difunts."
   ]
  },
  {
   "cell_type": "markdown",
   "metadata": {
    "_cell_guid": "5e70f81c-d4e2-1823-f0ba-a7c9b46984ff",
    "_uuid": "9e94f377872ad527e9686b5bcfffb29c19d37330"
   },
   "source": [
    "#### `Actual DBD`  \n",
    "Total de donants difunts per mort cerebral (Deceased Donor Brain Dead). "
   ]
  },
  {
   "cell_type": "markdown",
   "metadata": {
    "_cell_guid": "5e70f81c-d4e2-1823-f0ba-a7c9b46984ff",
    "_uuid": "9e94f377872ad527e9686b5bcfffb29c19d37330"
   },
   "source": [
    "#### `Actual DCD`  \n",
    "Total de donants difunts per aturada cardíaca (Deceased Donor Cardiac Death)."
   ]
  },
  {
   "cell_type": "markdown",
   "metadata": {
    "_cell_guid": "5e70f81c-d4e2-1823-f0ba-a7c9b46984ff",
    "_uuid": "9e94f377872ad527e9686b5bcfffb29c19d37330"
   },
   "source": [
    "#### `Total Utilized DD`  \n",
    "Total de donants difunts utilitzats."
   ]
  },
  {
   "cell_type": "markdown",
   "metadata": {
    "_cell_guid": "5e70f81c-d4e2-1823-f0ba-a7c9b46984ff",
    "_uuid": "9e94f377872ad527e9686b5bcfffb29c19d37330"
   },
   "source": [
    "#### `Utilized DBD`\n",
    "Donants difunts per mort cerebral usats."
   ]
  },
  {
   "cell_type": "markdown",
   "metadata": {
    "_cell_guid": "5e70f81c-d4e2-1823-f0ba-a7c9b46984ff",
    "_uuid": "9e94f377872ad527e9686b5bcfffb29c19d37330",
    "jp-MarkdownHeadingCollapsed": true
   },
   "source": [
    "#### `Utilized DCD`\n",
    "Donants difunts per aturada cardíaca usats."
   ]
  },
  {
   "cell_type": "markdown",
   "metadata": {
    "_cell_guid": "5e70f81c-d4e2-1823-f0ba-a7c9b46984ff",
    "_uuid": "9e94f377872ad527e9686b5bcfffb29c19d37330"
   },
   "source": [
    "#### `DD Kidney Tx`\n",
    "Trasplantaments de ronyó de donants difunts."
   ]
  },
  {
   "cell_type": "markdown",
   "metadata": {
    "_cell_guid": "5e70f81c-d4e2-1823-f0ba-a7c9b46984ff",
    "_uuid": "9e94f377872ad527e9686b5bcfffb29c19d37330"
   },
   "source": [
    "#### `LD Kidney Tx`\n",
    "Trasplantaments de ronyó de donants vius."
   ]
  },
  {
   "cell_type": "markdown",
   "metadata": {
    "_cell_guid": "5e70f81c-d4e2-1823-f0ba-a7c9b46984ff",
    "_uuid": "9e94f377872ad527e9686b5bcfffb29c19d37330"
   },
   "source": [
    "#### `TOTAL Kidney Tx`\n",
    "Total de trasplantaments de ronyó"
   ]
  },
  {
   "cell_type": "markdown",
   "metadata": {
    "_cell_guid": "5e70f81c-d4e2-1823-f0ba-a7c9b46984ff",
    "_uuid": "9e94f377872ad527e9686b5bcfffb29c19d37330"
   },
   "source": [
    "#### `DD Liver Tx`\n",
    "Trasplantaments de fetge de donants difunts."
   ]
  },
  {
   "cell_type": "markdown",
   "metadata": {
    "_cell_guid": "5e70f81c-d4e2-1823-f0ba-a7c9b46984ff",
    "_uuid": "9e94f377872ad527e9686b5bcfffb29c19d37330"
   },
   "source": [
    "#### `DOMINO Liver Tx` \n",
    "Trasplantaments de fetge tipus domino. Dos receptors per un sol fetge."
   ]
  },
  {
   "cell_type": "markdown",
   "metadata": {
    "_cell_guid": "5e70f81c-d4e2-1823-f0ba-a7c9b46984ff",
    "_uuid": "9e94f377872ad527e9686b5bcfffb29c19d37330"
   },
   "source": [
    "#### `LD Liver Tx`  \n",
    "Trasplantaments de fetge de donants vius."
   ]
  },
  {
   "cell_type": "markdown",
   "metadata": {
    "_cell_guid": "5e70f81c-d4e2-1823-f0ba-a7c9b46984ff",
    "_uuid": "9e94f377872ad527e9686b5bcfffb29c19d37330"
   },
   "source": [
    "#### `TOTAL Liver TX`  \n",
    "Total de trasplantaments de fetge."
   ]
  },
  {
   "cell_type": "markdown",
   "metadata": {
    "_cell_guid": "5e70f81c-d4e2-1823-f0ba-a7c9b46984ff",
    "_uuid": "9e94f377872ad527e9686b5bcfffb29c19d37330"
   },
   "source": [
    "#### `Total Heart TX`  \n",
    "Total de trasplantaments de cor."
   ]
  },
  {
   "cell_type": "markdown",
   "metadata": {
    "_cell_guid": "5e70f81c-d4e2-1823-f0ba-a7c9b46984ff",
    "_uuid": "9e94f377872ad527e9686b5bcfffb29c19d37330"
   },
   "source": [
    "#### `DD Lung Tx`  \n",
    "Trasplantaments de pulmó de donants difunts."
   ]
  },
  {
   "cell_type": "markdown",
   "metadata": {
    "_cell_guid": "5e70f81c-d4e2-1823-f0ba-a7c9b46984ff",
    "_uuid": "9e94f377872ad527e9686b5bcfffb29c19d37330"
   },
   "source": [
    "#### `LD Lung Tx`  \n",
    "Trasplantaments de pulmó de donants vius."
   ]
  },
  {
   "cell_type": "markdown",
   "metadata": {
    "_cell_guid": "5e70f81c-d4e2-1823-f0ba-a7c9b46984ff",
    "_uuid": "9e94f377872ad527e9686b5bcfffb29c19d37330"
   },
   "source": [
    "#### `TOTAL Lung Tx` \n",
    "Total de trasplantaments de pulmó."
   ]
  },
  {
   "cell_type": "markdown",
   "metadata": {
    "_cell_guid": "5e70f81c-d4e2-1823-f0ba-a7c9b46984ff",
    "_uuid": "9e94f377872ad527e9686b5bcfffb29c19d37330"
   },
   "source": [
    "#### `Pancreas Tx`  \n",
    "Trasplantaments de pàncrees."
   ]
  },
  {
   "cell_type": "markdown",
   "metadata": {
    "_cell_guid": "5e70f81c-d4e2-1823-f0ba-a7c9b46984ff",
    "_uuid": "9e94f377872ad527e9686b5bcfffb29c19d37330"
   },
   "source": [
    "#### `Kidney Pancreas Tx`  \n",
    "Trasplantaments de ronyó i pàncrees."
   ]
  },
  {
   "cell_type": "markdown",
   "metadata": {
    "_cell_guid": "5e70f81c-d4e2-1823-f0ba-a7c9b46984ff",
    "_uuid": "9e94f377872ad527e9686b5bcfffb29c19d37330"
   },
   "source": [
    "#### `Small Bowel Tx`  \n",
    "Trasplantaments d'intestí prim."
   ]
  },
  {
   "cell_type": "markdown",
   "metadata": {},
   "source": [
    "## Noves dades:\n"
   ]
  },
  {
   "cell_type": "markdown",
   "metadata": {
    "_cell_guid": "5e70f81c-d4e2-1823-f0ba-a7c9b46984ff",
    "_uuid": "9e94f377872ad527e9686b5bcfffb29c19d37330"
   },
   "source": [
    "#### `Transplant Rate per 100k`  \n",
    "Total de trasplantaments de cor."
   ]
  },
  {
   "cell_type": "markdown",
   "metadata": {
    "_cell_guid": "5e70f81c-d4e2-1823-f0ba-a7c9b46984ff",
    "_uuid": "9e94f377872ad527e9686b5bcfffb29c19d37330"
   },
   "source": [
    "#### `Transplant Rate per 100k`  \n",
    "Taxa de trasplantaments d'òrgans per cada 100.000 habitants a cada país o regió."
   ]
  },
  {
   "cell_type": "markdown",
   "metadata": {
    "_cell_guid": "5e70f81c-d4e2-1823-f0ba-a7c9b46984ff",
    "_uuid": "9e94f377872ad527e9686b5bcfffb29c19d37330"
   },
   "source": [
    "#### `Donor Ratio by Transplant Type`  \n",
    "Proporció d'utilització de donants (sigui DBD o DCD) per a cada tipus de trasplantament d'òrgan (ronyó, fetge, cor, etc.)."
   ]
  },
  {
   "cell_type": "markdown",
   "metadata": {
    "_cell_guid": "5e70f81c-d4e2-1823-f0ba-a7c9b46984ff",
    "_uuid": "9e94f377872ad527e9686b5bcfffb29c19d37330"
   },
   "source": [
    "#### `Total Utilized LD`  \n",
    "Total de donants difunts utilitzats, sumant LD Kidney Tx, LD Liver Tx i LD Lung Tx"
   ]
  },
  {
   "cell_type": "markdown",
   "metadata": {
    "_cell_guid": "f9595646-65c9-6fc4-395f-0befc4d122ce",
    "_uuid": "5b1f0ef3e9f2445a178fd08cab9efc728be5d88c"
   },
   "source": [
    "## Preguntes a respondre\n",
    "\n",
    "Les preguntes que volem respondre en la o les visualitzacions:\n",
    "\n",
    "1. **Distribució geogràfica dels trasplantaments**: que mostri la quantitat de trasplantaments d'òrgans diferents en diferents països o regions. Això ens ajudarà a identificar disparitats en l'accés als trasplantaments.\n",
    "\n",
    "2. **Tendències temporals**: com ha variat el nombre de trasplantaments en el temps. Això ens permetrà identificar tendències al llarg dels anys.\n",
    "\n",
    "3. **Proporció de tipus de donants i trasplantaments**: trobar la proporció de trasplantaments realitzats amb donants difunts per mort cerebral versus donants difunts per atur cardíac, així com la proporció de trasplantaments de diferents òrgans.\n",
    "\n",
    "4. **Relació entre la població i el nombre de trasplantaments**: relació entre la població d'un país o regió i el nombre de trasplduts a termerealitzats en aquesta àrea.\n",
    "\n",
    "5. **Comparació de diferents tipus de trasplantaments**: comparació entre la quantitat de trasplantaments de ronyó, fetge, cor, pduts a terme, realitzats en diferents països o regions.\n",
    "\n",
    "6. **Eficiència en la utilització de donants**: comparació entre els totals de donants disponibles amb els trduts a terments realitzats per avaluar l'eficiència en la utilització dels òrgans donats en iferents països o regions."
   ]
  },
  {
   "cell_type": "markdown",
   "metadata": {},
   "source": [
    "## Altres visualitzacions:"
   ]
  },
  {
   "cell_type": "markdown",
   "metadata": {},
   "source": [
    "Respecte d'aquestes dades, només he trobat algunes respostes de forma numèrica i visual a la pròpia web de [GODT](https://www.transplant-observatory.org/).\n",
    "\n",
    "Per exemple podem veure de forma numèrica:\n",
    "\n",
    "1. El nombre de trasplantaments totals del 2022.\n",
    "2. L'increment respecte a l'any anterior.\n",
    "3. Trasplantaments per hora al 2022.\n",
    "\n",
    "De forma gràfica mitjançant un slide de Choropleth Maps:\n",
    "\n",
    "1. Trasplantaments globals per regió.\n",
    "2. Trasplantaments de cor, pulmó, ronyó... per regió.\n",
    "3. Trasplantaments de donants vius per regió.\n"
   ]
  },
  {
   "cell_type": "markdown",
   "metadata": {},
   "source": [
    "Les dades seran enriquides, però no amb noves dades sinó calculant altres dades a partir de les que tenim."
   ]
  },
  {
   "cell_type": "markdown",
   "metadata": {},
   "source": [
    "## Cita de les dades"
   ]
  },
  {
   "cell_type": "markdown",
   "metadata": {},
   "source": [
    "* Those 2023 data are based on the Global Observatory on Donation and Transplantation (GODT) data, produced by the WHO-ONT collaboration.\n",
    "* Data of the WHO-ONT Global Observatory on Donation and Transplantation.\n",
    "* [Use of the Data](https://www.transplant-observatory.org/uses-of-dataquoting-data/)"
   ]
  },
  {
   "cell_type": "markdown",
   "metadata": {},
   "source": [
    "<!--Footer-->\n",
    " <div style=\"background: #333333;padding: 35px 0px;margin-top: 25px;\">\n",
    "    <div class=\"row\">\n",
    "     <div class=\"col-sm-12\">\n",
    "        <img src=\"http://materials.cv.uoc.edu/cdocent/common/img/logo-uoc-bottom.png\" alt=\"Logo UOC\" class=\"img-responsive\" style=\"margin: 0 auto; display: block;\">\n",
    "    </div>\n",
    "</div>\n",
    "</div>\n",
    "<!--/Footer-->"
   ]
  }
 ],
 "metadata": {
  "_change_revision": 0,
  "_is_fork": false,
  "kernelspec": {
   "display_name": "Python 3 (ipykernel)",
   "language": "python",
   "name": "python3"
  },
  "language_info": {
   "codemirror_mode": {
    "name": "ipython",
    "version": 3
   },
   "file_extension": ".py",
   "mimetype": "text/x-python",
   "name": "python",
   "nbconvert_exporter": "python",
   "pygments_lexer": "ipython3",
   "version": "3.10.6"
  }
 },
 "nbformat": 4,
 "nbformat_minor": 4
}
