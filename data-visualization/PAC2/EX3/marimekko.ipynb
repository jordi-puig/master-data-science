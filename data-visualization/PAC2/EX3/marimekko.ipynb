{
 "cells": [
  {
   "cell_type": "code",
   "execution_count": 6,
   "metadata": {},
   "outputs": [
    {
     "data": {
      "application/vnd.plotly.v1+json": {
       "config": {
        "plotlyServerURL": "https://plot.ly"
       },
       "data": [
        {
         "customdata": [
          [
           1965,
           22.57830253058157
          ],
          [
           1970,
           32.71298782930079
          ],
          [
           1975,
           39.84088894787088
          ],
          [
           1980,
           44.202033703939115
          ],
          [
           1985,
           63.739124797531275
          ],
          [
           1990,
           55.681849543430836
          ],
          [
           1995,
           66.3799239784319
          ],
          [
           2000,
           59.829307215845255
          ],
          [
           2005,
           56.89710007700184
          ],
          [
           2010,
           65.85586603152771
          ],
          [
           2015,
           71.90325657410698
          ],
          [
           2020,
           53.741151179292906
          ]
         ],
         "hovertemplate": "Lustrum: %{customdata[0]}<br>Total consumption: %{width}<br>Percentage%: %{y}<br>Area: %{customdata[1]}",
         "name": "S. & Cent. America",
         "offset": 0,
         "textangle": 0,
         "textfont": {
          "color": "white"
         },
         "textposition": "inside",
         "texttemplate": "%{y} x %{width} =<br>%{customdata[1]}",
         "type": "bar",
         "width": [
          3.4674552028431194,
          4.8918089501794135,
          5.744420180786134,
          6.878324744744507,
          7.409859953636047,
          8.363011160179365,
          9.094505438064408,
          9.896174335869372,
          10.875460376974463,
          11.693135167402215,
          12.699786248156983,
          8.98605824116396
         ],
         "x": [
          0,
          3.4674552028431194,
          8.359264153022533,
          14.103684333808669,
          20.982009078553176,
          28.391869032189224,
          36.75488019236859,
          45.84938563043299,
          55.745559966302366,
          66.62102034327683,
          78.31415551067904,
          91.01394175883603
         ],
         "y": [
          6.511490764774301,
          6.687298740091026,
          6.935580562356875,
          6.426278976972173,
          8.601933801225789,
          6.658110156370592,
          7.29890420435656,
          6.0457006096780015,
          5.231695772389043,
          5.632011012334725,
          5.661769038399502,
          5.980503323816856
         ]
        },
        {
         "customdata": [
          [
           1965,
           98.41221747686794
          ],
          [
           1970,
           129.23988761065394
          ],
          [
           1975,
           144.37324584127512
          ],
          [
           1980,
           174.45986190865162
          ],
          [
           1985,
           161.8688185958232
          ],
          [
           1990,
           243.34941351804702
          ],
          [
           1995,
           329.39427930796984
          ],
          [
           2000,
           314.7285077776301
          ],
          [
           2005,
           323.6548183845024
          ],
          [
           2010,
           357.9700283399854
          ],
          [
           2015,
           395.535410474092
          ],
          [
           2020,
           265.92271827291654
          ]
         ],
         "hovertemplate": "Lustrum: %{customdata[0]}<br>Total consumption: %{width}<br>Percentage%: %{y}<br>Area: %{customdata[1]}",
         "name": "North America",
         "offset": 0,
         "textangle": 0,
         "textfont": {
          "color": "white"
         },
         "textposition": "inside",
         "texttemplate": "%{y} x %{width} =<br>%{customdata[1]}",
         "type": "bar",
         "width": [
          3.4674552028431194,
          4.8918089501794135,
          5.744420180786134,
          6.878324744744507,
          7.409859953636047,
          8.363011160179365,
          9.094505438064408,
          9.896174335869372,
          10.875460376974463,
          11.693135167402215,
          12.699786248156983,
          8.98605824116396
         ],
         "x": [
          0,
          3.4674552028431194,
          8.359264153022533,
          14.103684333808669,
          20.982009078553176,
          28.391869032189224,
          36.75488019236859,
          45.84938563043299,
          55.745559966302366,
          66.62102034327683,
          78.31415551067904,
          91.01394175883603
         ],
         "y": [
          28.38168389202993,
          26.41965148821151,
          25.13277951431425,
          25.363714041264252,
          21.845057748546722,
          29.0983007025938,
          36.21904253631137,
          31.803048036136023,
          29.76010276031576,
          30.613691128613986,
          31.145044707464493,
          29.59281045550754
         ]
        },
        {
         "customdata": [
          [
           1965,
           88.4190846738528
          ],
          [
           1970,
           136.33321069084704
          ],
          [
           1975,
           177.40677030405587
          ],
          [
           1980,
           223.3885950130519
          ],
          [
           1985,
           248.75871983254598
          ],
          [
           1990,
           198.72005634898593
          ],
          [
           1995,
           93.77608353525794
          ],
          [
           2000,
           129.60315475766436
          ],
          [
           2005,
           158.5569301796016
          ],
          [
           2010,
           186.67457542108218
          ],
          [
           2015,
           225.40345050252452
          ],
          [
           2020,
           186.3111635649365
          ]
         ],
         "hovertemplate": "Lustrum: %{customdata[0]}<br>Total consumption: %{width}<br>Percentage%: %{y}<br>Area: %{customdata[1]}",
         "name": "Asia Pacific",
         "offset": 0,
         "textangle": 0,
         "textfont": {
          "color": "white"
         },
         "textposition": "inside",
         "texttemplate": "%{y} x %{width} =<br>%{customdata[1]}",
         "type": "bar",
         "width": [
          3.4674552028431194,
          4.8918089501794135,
          5.744420180786134,
          6.878324744744507,
          7.409859953636047,
          8.363011160179365,
          9.094505438064408,
          9.896174335869372,
          10.875460376974463,
          11.693135167402215,
          12.699786248156983,
          8.98605824116396
         ],
         "x": [
          0,
          3.4674552028431194,
          8.359264153022533,
          14.103684333808669,
          20.982009078553176,
          28.391869032189224,
          36.75488019236859,
          45.84938563043299,
          55.745559966302366,
          66.62102034327683,
          78.31415551067904,
          91.01394175883603
         ],
         "y": [
          25.49970497134443,
          27.869692393822298,
          30.883320634768996,
          32.477180607637855,
          33.571311926142286,
          23.761782992135085,
          10.311290061223648,
          13.096288561521064,
          14.57933040842101,
          15.964458868267272,
          17.748601913298778,
          20.733358115961163
         ]
        },
        {
         "customdata": [
          [
           1965,
           57.88660354228718
          ],
          [
           1970,
           73.41410745000442
          ],
          [
           1975,
           73.64398600217658
          ],
          [
           1980,
           80.99552405868454
          ],
          [
           1985,
           95.70024345213353
          ],
          [
           1990,
           149.37826165328846
          ],
          [
           1995,
           164.57677240937764
          ],
          [
           2000,
           180.94244132767759
          ],
          [
           2005,
           194.9092956887331
          ],
          [
           2010,
           211.14116497719712
          ],
          [
           2015,
           244.0553947413659
          ],
          [
           2020,
           167.27473778466603
          ]
         ],
         "hovertemplate": "Lustrum: %{customdata[0]}<br>Total consumption: %{width}<br>Percentage%: %{y}<br>Area: %{customdata[1]}",
         "name": "Europe",
         "offset": 0,
         "textangle": 0,
         "textfont": {
          "color": "white"
         },
         "textposition": "inside",
         "texttemplate": "%{y} x %{width} =<br>%{customdata[1]}",
         "type": "bar",
         "width": [
          3.4674552028431194,
          4.8918089501794135,
          5.744420180786134,
          6.878324744744507,
          7.409859953636047,
          8.363011160179365,
          9.094505438064408,
          9.896174335869372,
          10.875460376974463,
          11.693135167402215,
          12.699786248156983,
          8.98605824116396
         ],
         "x": [
          0,
          3.4674552028431194,
          8.359264153022533,
          14.103684333808669,
          20.982009078553176,
          28.391869032189224,
          36.75488019236859,
          45.84938563043299,
          55.745559966302366,
          66.62102034327683,
          78.31415551067904,
          91.01394175883603
         ],
         "y": [
          16.69426139804875,
          15.007558185057873,
          12.820090398070125,
          11.77547252629653,
          12.915256705381193,
          17.86177954234425,
          18.09628610705462,
          18.28407980565168,
          17.921935157926306,
          18.05684805267713,
          19.217283659146915,
          18.614918053658087
         ]
        },
        {
         "customdata": [
          [
           1965,
           25.35207151951756
          ],
          [
           1970,
           38.17966409363749
          ],
          [
           1975,
           45.603055245443876
          ],
          [
           1980,
           53.03079418156094
          ],
          [
           1985,
           59.55897473997869
          ],
          [
           1990,
           60.631144901845936
          ],
          [
           1995,
           120.87102551061373
          ],
          [
           2000,
           132.08846955461314
          ],
          [
           2005,
           164.38325493689527
          ],
          [
           2010,
           199.29555586056586
          ],
          [
           2015,
           169.42556701878712
          ],
          [
           2020,
           93.53201575408505
          ]
         ],
         "hovertemplate": "Lustrum: %{customdata[0]}<br>Total consumption: %{width}<br>Percentage%: %{y}<br>Area: %{customdata[1]}",
         "name": "CIS",
         "offset": 0,
         "textangle": 0,
         "textfont": {
          "color": "white"
         },
         "textposition": "inside",
         "texttemplate": "%{y} x %{width} =<br>%{customdata[1]}",
         "type": "bar",
         "width": [
          3.4674552028431194,
          4.8918089501794135,
          5.744420180786134,
          6.878324744744507,
          7.409859953636047,
          8.363011160179365,
          9.094505438064408,
          9.896174335869372,
          10.875460376974463,
          11.693135167402215,
          12.699786248156983,
          8.98605824116396
         ],
         "x": [
          0,
          3.4674552028431194,
          8.359264153022533,
          14.103684333808669,
          20.982009078553176,
          28.391869032189224,
          36.75488019236859,
          45.84938563043299,
          55.745559966302366,
          66.62102034327683,
          78.31415551067904,
          91.01394175883603
         ],
         "y": [
          7.311434477576027,
          7.804815045411208,
          7.93866984138389,
          7.709841589273603,
          8.03780032451934,
          7.249917970998565,
          13.290555086669873,
          13.347427508006735,
          15.115061729701823,
          17.043808440370746,
          13.340820365647845,
          10.408569947346557
         ]
        },
        {
         "customdata": [
          [
           1965,
           39.95725399455782
          ],
          [
           1970,
           58.03886795058089
          ],
          [
           1975,
           71.04559851720087
          ],
          [
           1980,
           88.02272810067112
          ],
          [
           1985,
           78.01567670644253
          ],
          [
           1990,
           95.16217644099157
          ],
          [
           1995,
           99.80408184222746
          ],
          [
           2000,
           129.9696509040461
          ],
          [
           2005,
           145.73837765970092
          ],
          [
           2010,
           107.29522845839006
          ],
          [
           2015,
           116.90829374003013
          ],
          [
           2020,
           95.63515227008342
          ]
         ],
         "hovertemplate": "Lustrum: %{customdata[0]}<br>Total consumption: %{width}<br>Percentage%: %{y}<br>Area: %{customdata[1]}",
         "name": "Middle East",
         "offset": 0,
         "textangle": 0,
         "textfont": {
          "color": "white"
         },
         "textposition": "inside",
         "texttemplate": "%{y} x %{width} =<br>%{customdata[1]}",
         "type": "bar",
         "width": [
          3.4674552028431194,
          4.8918089501794135,
          5.744420180786134,
          6.878324744744507,
          7.409859953636047,
          8.363011160179365,
          9.094505438064408,
          9.896174335869372,
          10.875460376974463,
          11.693135167402215,
          12.699786248156983,
          8.98605824116396
         ],
         "x": [
          0,
          3.4674552028431194,
          8.359264153022533,
          14.103684333808669,
          20.982009078553176,
          28.391869032189224,
          36.75488019236859,
          45.84938563043299,
          55.745559966302366,
          66.62102034327683,
          78.31415551067904,
          91.01394175883603
         ],
         "y": [
          11.523509795251314,
          11.86450013516007,
          12.367757977529797,
          12.797117229442573,
          10.52863039174714,
          11.378936918571634,
          10.974107665547656,
          13.133322685410064,
          13.400662832468074,
          9.175916204022391,
          9.205532396814638,
          10.642614336950464
         ]
        },
        {
         "customdata": [
          [
           1965,
           14.139986546647071
          ],
          [
           1970,
           21.26216939291685
          ],
          [
           1975,
           22.528473220590204
          ],
          [
           1980,
           23.732937507891517
          ],
          [
           1985,
           33.34443723914956
          ],
          [
           1990,
           33.378213611346744
          ],
          [
           1995,
           34.64837722256236
          ],
          [
           2000,
           42.45590204946058
          ],
          [
           2005,
           43.406260771011105
          ],
          [
           2010,
           41.08109765147313
          ],
          [
           2015,
           46.747251764791706
          ],
          [
           2020,
           36.18888529041555
          ]
         ],
         "hovertemplate": "Lustrum: %{customdata[0]}<br>Total consumption: %{width}<br>Percentage%: %{y}<br>Area: %{customdata[1]}",
         "name": "Africa",
         "offset": 0,
         "textangle": 0,
         "textfont": {
          "color": "white"
         },
         "textposition": "inside",
         "texttemplate": "%{y} x %{width} =<br>%{customdata[1]}",
         "type": "bar",
         "width": [
          3.4674552028431194,
          4.8918089501794135,
          5.744420180786134,
          6.878324744744507,
          7.409859953636047,
          8.363011160179365,
          9.094505438064408,
          9.896174335869372,
          10.875460376974463,
          11.693135167402215,
          12.699786248156983,
          8.98605824116396
         ],
         "x": [
          0,
          3.4674552028431194,
          8.359264153022533,
          14.103684333808669,
          20.982009078553176,
          28.391869032189224,
          36.75488019236859,
          45.84938563043299,
          55.745559966302366,
          66.62102034327683,
          78.31415551067904,
          91.01394175883603
         ],
         "y": [
          4.077914700975249,
          4.346484012246028,
          3.9218010715760596,
          3.450395029113018,
          4.500009102437532,
          3.99117171698607,
          3.8098143388362864,
          4.290132793596432,
          3.991211338777979,
          3.5132662937137535,
          3.680947919227834,
          4.027225766759333
         ]
        }
       ],
       "layout": {
        "barmode": "stack",
        "template": {
         "data": {
          "bar": [
           {
            "error_x": {
             "color": "#2a3f5f"
            },
            "error_y": {
             "color": "#2a3f5f"
            },
            "marker": {
             "line": {
              "color": "#E5ECF6",
              "width": 0.5
             },
             "pattern": {
              "fillmode": "overlay",
              "size": 10,
              "solidity": 0.2
             }
            },
            "type": "bar"
           }
          ],
          "barpolar": [
           {
            "marker": {
             "line": {
              "color": "#E5ECF6",
              "width": 0.5
             },
             "pattern": {
              "fillmode": "overlay",
              "size": 10,
              "solidity": 0.2
             }
            },
            "type": "barpolar"
           }
          ],
          "carpet": [
           {
            "aaxis": {
             "endlinecolor": "#2a3f5f",
             "gridcolor": "white",
             "linecolor": "white",
             "minorgridcolor": "white",
             "startlinecolor": "#2a3f5f"
            },
            "baxis": {
             "endlinecolor": "#2a3f5f",
             "gridcolor": "white",
             "linecolor": "white",
             "minorgridcolor": "white",
             "startlinecolor": "#2a3f5f"
            },
            "type": "carpet"
           }
          ],
          "choropleth": [
           {
            "colorbar": {
             "outlinewidth": 0,
             "ticks": ""
            },
            "type": "choropleth"
           }
          ],
          "contour": [
           {
            "colorbar": {
             "outlinewidth": 0,
             "ticks": ""
            },
            "colorscale": [
             [
              0,
              "#0d0887"
             ],
             [
              0.1111111111111111,
              "#46039f"
             ],
             [
              0.2222222222222222,
              "#7201a8"
             ],
             [
              0.3333333333333333,
              "#9c179e"
             ],
             [
              0.4444444444444444,
              "#bd3786"
             ],
             [
              0.5555555555555556,
              "#d8576b"
             ],
             [
              0.6666666666666666,
              "#ed7953"
             ],
             [
              0.7777777777777778,
              "#fb9f3a"
             ],
             [
              0.8888888888888888,
              "#fdca26"
             ],
             [
              1,
              "#f0f921"
             ]
            ],
            "type": "contour"
           }
          ],
          "contourcarpet": [
           {
            "colorbar": {
             "outlinewidth": 0,
             "ticks": ""
            },
            "type": "contourcarpet"
           }
          ],
          "heatmap": [
           {
            "colorbar": {
             "outlinewidth": 0,
             "ticks": ""
            },
            "colorscale": [
             [
              0,
              "#0d0887"
             ],
             [
              0.1111111111111111,
              "#46039f"
             ],
             [
              0.2222222222222222,
              "#7201a8"
             ],
             [
              0.3333333333333333,
              "#9c179e"
             ],
             [
              0.4444444444444444,
              "#bd3786"
             ],
             [
              0.5555555555555556,
              "#d8576b"
             ],
             [
              0.6666666666666666,
              "#ed7953"
             ],
             [
              0.7777777777777778,
              "#fb9f3a"
             ],
             [
              0.8888888888888888,
              "#fdca26"
             ],
             [
              1,
              "#f0f921"
             ]
            ],
            "type": "heatmap"
           }
          ],
          "heatmapgl": [
           {
            "colorbar": {
             "outlinewidth": 0,
             "ticks": ""
            },
            "colorscale": [
             [
              0,
              "#0d0887"
             ],
             [
              0.1111111111111111,
              "#46039f"
             ],
             [
              0.2222222222222222,
              "#7201a8"
             ],
             [
              0.3333333333333333,
              "#9c179e"
             ],
             [
              0.4444444444444444,
              "#bd3786"
             ],
             [
              0.5555555555555556,
              "#d8576b"
             ],
             [
              0.6666666666666666,
              "#ed7953"
             ],
             [
              0.7777777777777778,
              "#fb9f3a"
             ],
             [
              0.8888888888888888,
              "#fdca26"
             ],
             [
              1,
              "#f0f921"
             ]
            ],
            "type": "heatmapgl"
           }
          ],
          "histogram": [
           {
            "marker": {
             "pattern": {
              "fillmode": "overlay",
              "size": 10,
              "solidity": 0.2
             }
            },
            "type": "histogram"
           }
          ],
          "histogram2d": [
           {
            "colorbar": {
             "outlinewidth": 0,
             "ticks": ""
            },
            "colorscale": [
             [
              0,
              "#0d0887"
             ],
             [
              0.1111111111111111,
              "#46039f"
             ],
             [
              0.2222222222222222,
              "#7201a8"
             ],
             [
              0.3333333333333333,
              "#9c179e"
             ],
             [
              0.4444444444444444,
              "#bd3786"
             ],
             [
              0.5555555555555556,
              "#d8576b"
             ],
             [
              0.6666666666666666,
              "#ed7953"
             ],
             [
              0.7777777777777778,
              "#fb9f3a"
             ],
             [
              0.8888888888888888,
              "#fdca26"
             ],
             [
              1,
              "#f0f921"
             ]
            ],
            "type": "histogram2d"
           }
          ],
          "histogram2dcontour": [
           {
            "colorbar": {
             "outlinewidth": 0,
             "ticks": ""
            },
            "colorscale": [
             [
              0,
              "#0d0887"
             ],
             [
              0.1111111111111111,
              "#46039f"
             ],
             [
              0.2222222222222222,
              "#7201a8"
             ],
             [
              0.3333333333333333,
              "#9c179e"
             ],
             [
              0.4444444444444444,
              "#bd3786"
             ],
             [
              0.5555555555555556,
              "#d8576b"
             ],
             [
              0.6666666666666666,
              "#ed7953"
             ],
             [
              0.7777777777777778,
              "#fb9f3a"
             ],
             [
              0.8888888888888888,
              "#fdca26"
             ],
             [
              1,
              "#f0f921"
             ]
            ],
            "type": "histogram2dcontour"
           }
          ],
          "mesh3d": [
           {
            "colorbar": {
             "outlinewidth": 0,
             "ticks": ""
            },
            "type": "mesh3d"
           }
          ],
          "parcoords": [
           {
            "line": {
             "colorbar": {
              "outlinewidth": 0,
              "ticks": ""
             }
            },
            "type": "parcoords"
           }
          ],
          "pie": [
           {
            "automargin": true,
            "type": "pie"
           }
          ],
          "scatter": [
           {
            "fillpattern": {
             "fillmode": "overlay",
             "size": 10,
             "solidity": 0.2
            },
            "type": "scatter"
           }
          ],
          "scatter3d": [
           {
            "line": {
             "colorbar": {
              "outlinewidth": 0,
              "ticks": ""
             }
            },
            "marker": {
             "colorbar": {
              "outlinewidth": 0,
              "ticks": ""
             }
            },
            "type": "scatter3d"
           }
          ],
          "scattercarpet": [
           {
            "marker": {
             "colorbar": {
              "outlinewidth": 0,
              "ticks": ""
             }
            },
            "type": "scattercarpet"
           }
          ],
          "scattergeo": [
           {
            "marker": {
             "colorbar": {
              "outlinewidth": 0,
              "ticks": ""
             }
            },
            "type": "scattergeo"
           }
          ],
          "scattergl": [
           {
            "marker": {
             "colorbar": {
              "outlinewidth": 0,
              "ticks": ""
             }
            },
            "type": "scattergl"
           }
          ],
          "scattermapbox": [
           {
            "marker": {
             "colorbar": {
              "outlinewidth": 0,
              "ticks": ""
             }
            },
            "type": "scattermapbox"
           }
          ],
          "scatterpolar": [
           {
            "marker": {
             "colorbar": {
              "outlinewidth": 0,
              "ticks": ""
             }
            },
            "type": "scatterpolar"
           }
          ],
          "scatterpolargl": [
           {
            "marker": {
             "colorbar": {
              "outlinewidth": 0,
              "ticks": ""
             }
            },
            "type": "scatterpolargl"
           }
          ],
          "scatterternary": [
           {
            "marker": {
             "colorbar": {
              "outlinewidth": 0,
              "ticks": ""
             }
            },
            "type": "scatterternary"
           }
          ],
          "surface": [
           {
            "colorbar": {
             "outlinewidth": 0,
             "ticks": ""
            },
            "colorscale": [
             [
              0,
              "#0d0887"
             ],
             [
              0.1111111111111111,
              "#46039f"
             ],
             [
              0.2222222222222222,
              "#7201a8"
             ],
             [
              0.3333333333333333,
              "#9c179e"
             ],
             [
              0.4444444444444444,
              "#bd3786"
             ],
             [
              0.5555555555555556,
              "#d8576b"
             ],
             [
              0.6666666666666666,
              "#ed7953"
             ],
             [
              0.7777777777777778,
              "#fb9f3a"
             ],
             [
              0.8888888888888888,
              "#fdca26"
             ],
             [
              1,
              "#f0f921"
             ]
            ],
            "type": "surface"
           }
          ],
          "table": [
           {
            "cells": {
             "fill": {
              "color": "#EBF0F8"
             },
             "line": {
              "color": "white"
             }
            },
            "header": {
             "fill": {
              "color": "#C8D4E3"
             },
             "line": {
              "color": "white"
             }
            },
            "type": "table"
           }
          ]
         },
         "layout": {
          "annotationdefaults": {
           "arrowcolor": "#2a3f5f",
           "arrowhead": 0,
           "arrowwidth": 1
          },
          "autotypenumbers": "strict",
          "coloraxis": {
           "colorbar": {
            "outlinewidth": 0,
            "ticks": ""
           }
          },
          "colorscale": {
           "diverging": [
            [
             0,
             "#8e0152"
            ],
            [
             0.1,
             "#c51b7d"
            ],
            [
             0.2,
             "#de77ae"
            ],
            [
             0.3,
             "#f1b6da"
            ],
            [
             0.4,
             "#fde0ef"
            ],
            [
             0.5,
             "#f7f7f7"
            ],
            [
             0.6,
             "#e6f5d0"
            ],
            [
             0.7,
             "#b8e186"
            ],
            [
             0.8,
             "#7fbc41"
            ],
            [
             0.9,
             "#4d9221"
            ],
            [
             1,
             "#276419"
            ]
           ],
           "sequential": [
            [
             0,
             "#0d0887"
            ],
            [
             0.1111111111111111,
             "#46039f"
            ],
            [
             0.2222222222222222,
             "#7201a8"
            ],
            [
             0.3333333333333333,
             "#9c179e"
            ],
            [
             0.4444444444444444,
             "#bd3786"
            ],
            [
             0.5555555555555556,
             "#d8576b"
            ],
            [
             0.6666666666666666,
             "#ed7953"
            ],
            [
             0.7777777777777778,
             "#fb9f3a"
            ],
            [
             0.8888888888888888,
             "#fdca26"
            ],
            [
             1,
             "#f0f921"
            ]
           ],
           "sequentialminus": [
            [
             0,
             "#0d0887"
            ],
            [
             0.1111111111111111,
             "#46039f"
            ],
            [
             0.2222222222222222,
             "#7201a8"
            ],
            [
             0.3333333333333333,
             "#9c179e"
            ],
            [
             0.4444444444444444,
             "#bd3786"
            ],
            [
             0.5555555555555556,
             "#d8576b"
            ],
            [
             0.6666666666666666,
             "#ed7953"
            ],
            [
             0.7777777777777778,
             "#fb9f3a"
            ],
            [
             0.8888888888888888,
             "#fdca26"
            ],
            [
             1,
             "#f0f921"
            ]
           ]
          },
          "colorway": [
           "#636efa",
           "#EF553B",
           "#00cc96",
           "#ab63fa",
           "#FFA15A",
           "#19d3f3",
           "#FF6692",
           "#B6E880",
           "#FF97FF",
           "#FECB52"
          ],
          "font": {
           "color": "#2a3f5f"
          },
          "geo": {
           "bgcolor": "white",
           "lakecolor": "white",
           "landcolor": "#E5ECF6",
           "showlakes": true,
           "showland": true,
           "subunitcolor": "white"
          },
          "hoverlabel": {
           "align": "left"
          },
          "hovermode": "closest",
          "mapbox": {
           "style": "light"
          },
          "paper_bgcolor": "white",
          "plot_bgcolor": "#E5ECF6",
          "polar": {
           "angularaxis": {
            "gridcolor": "white",
            "linecolor": "white",
            "ticks": ""
           },
           "bgcolor": "#E5ECF6",
           "radialaxis": {
            "gridcolor": "white",
            "linecolor": "white",
            "ticks": ""
           }
          },
          "scene": {
           "xaxis": {
            "backgroundcolor": "#E5ECF6",
            "gridcolor": "white",
            "gridwidth": 2,
            "linecolor": "white",
            "showbackground": true,
            "ticks": "",
            "zerolinecolor": "white"
           },
           "yaxis": {
            "backgroundcolor": "#E5ECF6",
            "gridcolor": "white",
            "gridwidth": 2,
            "linecolor": "white",
            "showbackground": true,
            "ticks": "",
            "zerolinecolor": "white"
           },
           "zaxis": {
            "backgroundcolor": "#E5ECF6",
            "gridcolor": "white",
            "gridwidth": 2,
            "linecolor": "white",
            "showbackground": true,
            "ticks": "",
            "zerolinecolor": "white"
           }
          },
          "shapedefaults": {
           "line": {
            "color": "#2a3f5f"
           }
          },
          "ternary": {
           "aaxis": {
            "gridcolor": "white",
            "linecolor": "white",
            "ticks": ""
           },
           "baxis": {
            "gridcolor": "white",
            "linecolor": "white",
            "ticks": ""
           },
           "bgcolor": "#E5ECF6",
           "caxis": {
            "gridcolor": "white",
            "linecolor": "white",
            "ticks": ""
           }
          },
          "title": {
           "x": 0.05
          },
          "xaxis": {
           "automargin": true,
           "gridcolor": "white",
           "linecolor": "white",
           "ticks": "",
           "title": {
            "standoff": 15
           },
           "zerolinecolor": "white",
           "zerolinewidth": 2
          },
          "yaxis": {
           "automargin": true,
           "gridcolor": "white",
           "linecolor": "white",
           "ticks": "",
           "title": {
            "standoff": 15
           },
           "zerolinecolor": "white",
           "zerolinewidth": 2
          }
         }
        },
        "title": {
         "text": "Energy consumption by region and 5 year period"
        },
        "uniformtext": {
         "minsize": 10,
         "mode": "hide"
        },
        "xaxis": {
         "range": [
          0,
          100
         ],
         "ticktext": [
          "1965<br>3",
          "1970<br>4",
          "1975<br>5",
          "1980<br>6",
          "1985<br>7",
          "1990<br>8",
          "1995<br>9",
          "2000<br>9",
          "2005<br>10",
          "2010<br>11",
          "2015<br>12",
          "2020<br>8"
         ],
         "tickvals": [
          1.7337276014215597,
          5.913359677932826,
          11.231474243415601,
          17.542846706180924,
          24.686939055371198,
          32.573374612278904,
          41.3021329114008,
          50.79747279836768,
          61.183290154789596,
          72.46758792697794,
          84.66404863475753,
          95.506970879418
         ]
        },
        "yaxis": {
         "range": [
          0,
          100
         ]
        }
       }
      }
     },
     "metadata": {},
     "output_type": "display_data"
    }
   ],
   "source": [
    "import pandas as pd\n",
    "import plotly.graph_objs as go\n",
    "import numpy as np\n",
    "\n",
    "# Load the data\n",
    "df = pd.read_csv('./data/energy.csv')\n",
    "\n",
    "# Convert 'Year' to a 5 year period\n",
    "df['Year'] = df['Year'].div(5).astype(int).mul(5)\n",
    "\n",
    "# Group the data by 'Region' and 'Year' (5 years) and sum the 'Value' column\n",
    "grouped = df.groupby(['Region', 'Year'])['Value'].sum()\n",
    "\n",
    "# Create a new DataFrame with the total energy consumption by 5 years\n",
    "total = grouped.groupby('Year').sum()\n",
    "regions = {}\n",
    "for region in df['Region'].unique():\n",
    "    values = []\n",
    "    for year in df['Year'].unique():\n",
    "        try:\n",
    "            # Calculate the percentage of energy consumption by region and 5 year period\n",
    "            value = grouped[region, year] / total[year] * 100\n",
    "            values.append(value)\n",
    "        except:\n",
    "            # If there is no data for a region and 5 year period, append 0\n",
    "            values.append(0)\n",
    "    regions[region] = values\n",
    "\n",
    "decades = sorted(df['Year'].unique())\n",
    "widths = total / total.sum() * 100\n",
    "\n",
    "\n",
    "# Delete the nan values from the dictionary\n",
    "# Convert dict_keys object to a list\n",
    "keys_list = list(regions.keys())\n",
    "\n",
    "# Check if there are at least two elements in the dictionary\n",
    "if len(keys_list) >= 2:\n",
    "    # Delete the second element (index 1) from the dictionary\n",
    "    del regions[keys_list[1]]\n",
    "\n",
    "\n",
    "fig = go.Figure()\n",
    "for key in regions:\n",
    "    fig.add_trace(go.Bar(\n",
    "        name=key,\n",
    "        y=regions[key],\n",
    "        x=np.cumsum(widths)-widths,\n",
    "        width=widths,\n",
    "        offset=0,\n",
    "        customdata=np.transpose([decades, widths*regions[key]]),\n",
    "        texttemplate=\"%{y} x %{width} =<br>%{customdata[1]}\",\n",
    "        textposition=\"inside\",\n",
    "        textangle=0,\n",
    "        textfont_color=\"white\",\n",
    "        hovertemplate=\"<br>\".join([\n",
    "            \"Lustrum: %{customdata[0]}\",\n",
    "            \"Total consumption: %{width}\",\n",
    "            \"Percentage%: %{y}\",\n",
    "            \"Area: %{customdata[1]}\",\n",
    "        ])\n",
    "    ))\n",
    "\n",
    "fig.update_xaxes(\n",
    "    tickvals=np.cumsum(widths)-widths/2,\n",
    "    ticktext= [\"%s<br>%d\" % (l, w) for l, w in zip(decades, widths)]\n",
    ")\n",
    "\n",
    "fig.update_xaxes(range=[0,100])\n",
    "fig.update_yaxes(range=[0,100])\n",
    "\n",
    "fig.update_layout(\n",
    "    title_text=\"Energy consumption by region and 5 year period\",\n",
    "    barmode=\"stack\",\n",
    "    uniformtext=dict(mode=\"hide\", minsize=10),\n",
    ")\n",
    "\n",
    "fig.show()\n"
   ]
  }
 ],
 "metadata": {
  "kernelspec": {
   "display_name": "base",
   "language": "python",
   "name": "python3"
  },
  "language_info": {
   "codemirror_mode": {
    "name": "ipython",
    "version": 3
   },
   "file_extension": ".py",
   "mimetype": "text/x-python",
   "name": "python",
   "nbconvert_exporter": "python",
   "pygments_lexer": "ipython3",
   "version": "3.9.7"
  }
 },
 "nbformat": 4,
 "nbformat_minor": 2
}
