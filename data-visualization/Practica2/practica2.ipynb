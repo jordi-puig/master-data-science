{
 "cells": [
  {
   "cell_type": "markdown",
   "metadata": {},
   "source": [
    "<!--Header-->\n",
    "<div>\n",
    "    <div class=\"row\" style=\"color: #4D4D4D;font-size: 15px;padding-bottom: 20px\">\n",
    "        <div class=\"col-md-7\">\n",
    "            <img src=\"http://materials.cv.uoc.edu/cdocent/common/img/logo-uoc.png\" alt=\"Logo UOC\" class=\"img-responsive\" style=\"margin:20px 0px 0px\">\n",
    "        </div>\n",
    "        <div class=\"col-md-5\">\n",
    "            <h1 style=\"margin:15px 0px 0px;font-size: 40px;\"></h1>\n",
    "            <h2>Global Observatory on Donation and Transplantation (Part II)</h2>\n",
    "            <div style=\"text-align:left;margin-top: 5px;\"></div>\n",
    "        </div>\n",
    "    </div>\n",
    "    <div class=\"row\" style=\"background: #FCB517;padding: 10px 20px;\">\n",
    "        <div class=\"col-md-6\">\n",
    "            <div style=\"text-align:right;\">Autor: Jordi Puig Ovejero</div>\n",
    "        </div>\n",
    "    </div>\n",
    "</div>\n",
    "<!--/Header-->"
   ]
  },
  {
   "cell_type": "markdown",
   "metadata": {},
   "source": [
    "## Índex ##\n",
    "- [1. Creació de les noves dades](#importaci%C3%B3,-neteja-i-creaci%C3%B3-de-les-dades)\n",
    "- [2. Procés de creació seguit](#el-proc%C3%A9s-de-creaci%C3%B3-seguit)\n",
    "- [3. Característiquesdel joc de dades](#descripci%C3%B3-de-les-dades)\n",
    "- [4, Les preguntes que respon la visualització](#an%C3%A0lisi-de-les-dades)\n",
    "- [5. Reflexió: Aprenentatge i limitacions](#conclusions)\n",
    "-  [6. Diccionari de les variables](#diccionari)\n"
   ]
  },
  {
   "cell_type": "markdown",
   "metadata": {},
   "source": [
    "## 1. Creació de les noves dades ##"
   ]
  },
  {
   "cell_type": "markdown",
   "metadata": {},
   "source": [
    "#### Lectura del fitxer de dades ####"
   ]
  },
  {
   "cell_type": "markdown",
   "metadata": {},
   "source": [
    "### Transplant Rate per 100k population al 2021 ###\n",
    "Total de trasplantaments per cada 100.000 habitants."
   ]
  },
  {
   "cell_type": "code",
   "execution_count": 112,
   "metadata": {},
   "outputs": [],
   "source": [
    "import warnings\n",
    "import pandas as pd\n",
    "\n",
    "warnings.filterwarnings(\"ignore\")"
   ]
  },
  {
   "cell_type": "code",
   "execution_count": 113,
   "metadata": {},
   "outputs": [
    {
     "name": "stdout",
     "output_type": "stream",
     "text": [
      "Index(['REGION', 'COUNTRY', 'REPORTYEAR', 'POPULATION', 'TOTAL Actual DD',\n",
      "       'Actual DBD', 'Actual DCD', 'Total Utilized DD', 'Utilized DBD',\n",
      "       'Utilized DCD', 'DD Kidney Tx', 'LD Kidney Tx', 'TOTAL Kidney Tx',\n",
      "       'DD Liver Tx', 'DOMINO Liver Tx', 'LD Liver Tx', 'TOTAL Liver TX',\n",
      "       'Total Heart TX', 'DD Lung Tx', 'LD Lung Tx', 'TOTAL Lung Tx',\n",
      "       'Pancreas Tx', 'Kidney Pancreas Tx', 'Small Bowel Tx'],\n",
      "      dtype='object')\n",
      "   Total Transplants  Average Population  Transplants per Capita\n",
      "0           142107.0              308.45                  460.71\n"
     ]
    }
   ],
   "source": [
    "import pandas as pd\n",
    "\n",
    "# Cargar el dataset\n",
    "df = pd.read_csv('./data/GODT.csv')\n",
    "\n",
    "# Verificar los nombres de las columnas\n",
    "print(df.columns)\n",
    "\n",
    "# Filtrar el DataFrame para incluir solo el año 2021\n",
    "df_2021 = df[df['REPORTYEAR'] == 2021]\n",
    "\n",
    "# Definir las columnas requeridas para el cálculo\n",
    "required_columns = ['TOTAL Liver TX', 'TOTAL Kidney Tx', 'TOTAL Lung Tx', 'Total Heart TX']\n",
    "\n",
    "# Calcular el número total de trasplantes por fila\n",
    "df_2021['Total Transplants'] = df_2021[required_columns].sum(axis=1)\n",
    "\n",
    "# Convertir la población a formato numérico (eliminando comas si existen)\n",
    "df_2021['POPULATION'] = df_2021['POPULATION'].str.replace(',', '').astype(float)\n",
    "\n",
    "# Calcular la media de la población\n",
    "average_population = df_2021['POPULATION'].mean()\n",
    "\n",
    "# Calcular el número total de trasplantes\n",
    "total_transplants = df_2021['Total Transplants'].sum()\n",
    "\n",
    "# Calcular el ratio de trasplantes por persona y redondear a 2 decimales\n",
    "transplants_per_capita = round(total_transplants / average_population, 2)\n",
    "\n",
    "# Crear un DataFrame para almacenar el resultado\n",
    "result_df = pd.DataFrame({\n",
    "    'Total Transplants': [round(total_transplants, 2)],\n",
    "    'Average Population': [round(average_population, 2)],\n",
    "    'Transplants per Capita': [transplants_per_capita]\n",
    "})\n",
    "\n",
    "# Definir la ruta de salida\n",
    "path = './data/out/world/'\n",
    "\n",
    "# Guardar el resultado en un archivo CSV\n",
    "result_df.to_csv(path + 'transplants_per_capita_overall_2021.csv', index=False)\n",
    "\n",
    "# Mostrar los resultados\n",
    "print(result_df)\n"
   ]
  },
  {
   "cell_type": "markdown",
   "metadata": {},
   "source": [
    "### Transplant Rate per 100k x country al 2021\n",
    "Taxa de trasplantaments d'òrgans per cada 100.000 habitants a cada país o regió."
   ]
  },
  {
   "cell_type": "code",
   "execution_count": 114,
   "metadata": {},
   "outputs": [
    {
     "name": "stdout",
     "output_type": "stream",
     "text": [
      "Index(['REGION', 'COUNTRY', 'REPORTYEAR', 'POPULATION', 'TOTAL Actual DD',\n",
      "       'Actual DBD', 'Actual DCD', 'Total Utilized DD', 'Utilized DBD',\n",
      "       'Utilized DCD', 'DD Kidney Tx', 'LD Kidney Tx', 'TOTAL Kidney Tx',\n",
      "       'DD Liver Tx', 'DOMINO Liver Tx', 'LD Liver Tx', 'TOTAL Liver TX',\n",
      "       'Total Heart TX', 'DD Lung Tx', 'LD Lung Tx', 'TOTAL Lung Tx',\n",
      "       'Pancreas Tx', 'Kidney Pancreas Tx', 'Small Bowel Tx'],\n",
      "      dtype='object')\n",
      "                     COUNTRY  Transplants per Capita\n",
      "0                    Albania                    0.72\n",
      "1                  Argentina                    4.01\n",
      "2                    Armenia                    6.00\n",
      "3                  Australia                    5.41\n",
      "4                    Austria                   71.89\n",
      "..                       ...                     ...\n",
      "86                  Türkiye                    58.21\n",
      "87      United Arab Emirates                   17.90\n",
      "88            United Kingdom                    5.88\n",
      "89  United States of America                   12.36\n",
      "90                   Uruguay                    3.46\n",
      "\n",
      "[91 rows x 2 columns]\n"
     ]
    }
   ],
   "source": [
    "import pandas as pd\n",
    "\n",
    "# Cargar el dataset\n",
    "df = pd.read_csv('./data/GODT.csv')\n",
    "\n",
    "# Verificar los nombres de las columnas\n",
    "print(df.columns)\n",
    "\n",
    "# Filtrar el DataFrame para incluir solo el año 2021\n",
    "df_2021 = df[df['REPORTYEAR'] == 2021]\n",
    "\n",
    "# Definir las columnas requeridas para el cálculo\n",
    "required_columns = ['TOTAL Liver TX', 'TOTAL Kidney Tx', 'TOTAL Lung Tx', 'Total Heart TX']\n",
    "\n",
    "# Calcular el número total de trasplantes por fila\n",
    "df_2021['Total Transplants'] = df_2021[required_columns].sum(axis=1)\n",
    "\n",
    "# Convertir la población a formato numérico (eliminando comas si existen)\n",
    "df_2021['POPULATION'] = df_2021['POPULATION'].str.replace(',', '').astype(float)\n",
    "\n",
    "# Calcular la media de la población por país\n",
    "average_population_by_country = df_2021.groupby('COUNTRY')['POPULATION'].mean().reset_index()\n",
    "\n",
    "# Calcular el número total de trasplantes por país\n",
    "total_transplants_by_country = df_2021.groupby('COUNTRY')['Total Transplants'].sum().reset_index()\n",
    "\n",
    "# Combinar los dataframes de total de trasplantes y población media\n",
    "combined_df = pd.merge(total_transplants_by_country, average_population_by_country, on='COUNTRY')\n",
    "\n",
    "# Calcular el ratio de trasplantes por persona\n",
    "combined_df['Transplants per Capita'] = combined_df['Total Transplants'] / combined_df['POPULATION']\n",
    "\n",
    "# Path de salida\n",
    "path = './data/out/world/'\n",
    "\n",
    "# Guardar el resultado en un archivo CSV\n",
    "combined_df.to_csv(path + 'transplants_per_capita_by_country.csv', index=False)\n",
    "\n",
    "# Filtrar solo COUNTRY y Transplants per Capita para generar el archivo CSV y redondear a 2 decimales\n",
    "combined_df = combined_df.round({'Transplants per Capita': 2})\n",
    "combined_df = combined_df[['COUNTRY', 'Transplants per Capita']]\n",
    "combined_df.to_csv(path + 'transplants_per_capita_by_country_filtered.csv', index=False)\n",
    "\n",
    "# Mostrar los resultados\n",
    "print(combined_df)\n"
   ]
  },
  {
   "cell_type": "markdown",
   "metadata": {},
   "source": [
    "### Donor Ratio by Transplant Type, Region and 2021\n",
    "Proporció d'utilització de donants (sigui DBD o DCD) per a cada tipus de trasplantament d'òrgan (ronyó, fetge, cor, etc.)."
   ]
  },
  {
   "cell_type": "code",
   "execution_count": 115,
   "metadata": {},
   "outputs": [
    {
     "name": "stdout",
     "output_type": "stream",
     "text": [
      "                  REGION  Kidney Donor Utilization Ratio  \\\n",
      "0                 Africa                             1.0   \n",
      "1                America                             1.0   \n",
      "2  Eastern Mediterranean                             1.0   \n",
      "3                 Europe                             1.0   \n",
      "4        South-East Asia                             1.0   \n",
      "5        Western Pacific                             1.0   \n",
      "\n",
      "   Liver Donor Utilization Ratio  Heart Donor Utilization Ratio  \\\n",
      "0                            NaN                            NaN   \n",
      "1                            1.0                            1.0   \n",
      "2                            1.0                            1.0   \n",
      "3                            1.0                            1.0   \n",
      "4                            1.0                            1.0   \n",
      "5                            1.0                            1.0   \n",
      "\n",
      "   Lung Donor Utilization Ratio  \n",
      "0                           NaN  \n",
      "1                           1.0  \n",
      "2                           1.0  \n",
      "3                           1.0  \n",
      "4                           1.0  \n",
      "5                           1.0  \n"
     ]
    }
   ],
   "source": [
    "import pandas as pd\n",
    "\n",
    "# Cargar el dataset\n",
    "df = pd.read_csv('./data/GODT.csv')\n",
    "\n",
    "# Filtrar el DataFrame para incluir solo el año 2021\n",
    "df_2021 = df[df['REPORTYEAR'] == 2021]\n",
    "\n",
    "# Convertir la población a formato numérico (eliminando comas si existen)\n",
    "df_2021['POPULATION'] = df_2021['POPULATION'].str.replace(',', '').astype(float)\n",
    "\n",
    "# Reemplazar NaN con 0 para evitar errores en los cálculos\n",
    "df_2021.fillna(0, inplace=True)\n",
    "\n",
    "# Agrupar por región y sumar las columnas relevantes\n",
    "grouped_df_2021 = df_2021.groupby('REGION').sum().reset_index()\n",
    "\n",
    "# Calcular las proporciones de utilización de donantes para cada tipo de trasplante, manejando valores nulos y ceros\n",
    "grouped_df_2021['Kidney Donor Utilization Ratio'] = (grouped_df_2021['DD Kidney Tx'] + grouped_df_2021['LD Kidney Tx']) / grouped_df_2021['TOTAL Kidney Tx']\n",
    "grouped_df_2021['Liver Donor Utilization Ratio'] = (grouped_df_2021['DD Liver Tx'] + grouped_df_2021['LD Liver Tx']) / grouped_df_2021['TOTAL Liver TX']\n",
    "grouped_df_2021['Heart Donor Utilization Ratio'] = grouped_df_2021['Total Heart TX'] / grouped_df_2021['Total Heart TX']\n",
    "grouped_df_2021['Lung Donor Utilization Ratio'] = (grouped_df_2021['DD Lung Tx'] + grouped_df_2021['LD Lung Tx']) / grouped_df_2021['TOTAL Lung Tx']\n",
    "\n",
    "# Reemplazar proporciones infinitas o indefinidas con 0\n",
    "grouped_df_2021.replace([float('inf'), float('-inf'), pd.NA, pd.NaT], 0, inplace=True)\n",
    "\n",
    "# Crear un DataFrame con las proporciones calculadas y redondear a 2 decimales\n",
    "utilization_ratios_2021 = grouped_df_2021[['REGION', 'Kidney Donor Utilization Ratio', 'Liver Donor Utilization Ratio', 'Heart Donor Utilization Ratio', 'Lung Donor Utilization Ratio']].round(2)\n",
    "\n",
    "# Path de salida\n",
    "path = './data/out/world/'\n",
    "\n",
    "# Guardar el resultado en un archivo CSV\n",
    "utilization_ratios_2021.to_csv(path + 'donor_utilization_ratios_by_region_2021.csv', index=False)\n",
    "\n",
    "# Mostrar los resultados\n",
    "print(utilization_ratios_2021)\n"
   ]
  },
  {
   "cell_type": "markdown",
   "metadata": {},
   "source": [
    "### Total Utilized LD al 2021\n",
    "Total de donants difunts utilitzats, sumant LD Kidney Tx, LD Liver Tx i LD Lung Tx"
   ]
  },
  {
   "cell_type": "code",
   "execution_count": 116,
   "metadata": {},
   "outputs": [
    {
     "name": "stdout",
     "output_type": "stream",
     "text": [
      "                  REGION  Total Utilized LD  Kidney Donor Utilization Ratio  \\\n",
      "0                 Africa              359.0                             1.0   \n",
      "1                America             9774.0                             1.0   \n",
      "2  Eastern Mediterranean             4118.0                             1.0   \n",
      "3                 Europe             9048.0                             1.0   \n",
      "4        South-East Asia            11154.0                             1.0   \n",
      "5        Western Pacific             8663.0                             1.0   \n",
      "\n",
      "   Liver Donor Utilization Ratio  Heart Donor Utilization Ratio  \\\n",
      "0                            NaN                            NaN   \n",
      "1                            1.0                            1.0   \n",
      "2                            1.0                            1.0   \n",
      "3                            1.0                            1.0   \n",
      "4                            1.0                            1.0   \n",
      "5                            1.0                            1.0   \n",
      "\n",
      "   Lung Donor Utilization Ratio  \n",
      "0                           NaN  \n",
      "1                           1.0  \n",
      "2                           1.0  \n",
      "3                           1.0  \n",
      "4                           1.0  \n",
      "5                           1.0  \n"
     ]
    }
   ],
   "source": [
    "import pandas as pd\n",
    "\n",
    "# Cargar el dataset\n",
    "df = pd.read_csv('./data/GODT.csv')\n",
    "\n",
    "# Filtrar el DataFrame para incluir solo el año 2021\n",
    "df_2021 = df[df['REPORTYEAR'] == 2021]\n",
    "\n",
    "# Convertir la población a formato numérico (eliminando comas si existen)\n",
    "df_2021['POPULATION'] = df_2021['POPULATION'].str.replace(',', '').astype(float)\n",
    "\n",
    "# Reemplazar NaN con 0 para evitar errores en los cálculos\n",
    "df_2021.fillna(0, inplace=True)\n",
    "\n",
    "# Calcular el \"Total Utilized LD\"\n",
    "df_2021['Total Utilized LD'] = df_2021['LD Kidney Tx'] + df_2021['LD Liver Tx'] + df_2021['LD Lung Tx']\n",
    "\n",
    "# Agrupar por región y sumar las columnas relevantes\n",
    "grouped_df_2021 = df_2021.groupby('REGION').sum().reset_index()\n",
    "\n",
    "# Calcular las proporciones de utilización de donantes para cada tipo de trasplante, manejando valores nulos y ceros\n",
    "grouped_df_2021['Kidney Donor Utilization Ratio'] = (grouped_df_2021['DD Kidney Tx'] + grouped_df_2021['LD Kidney Tx']) / grouped_df_2021['TOTAL Kidney Tx']\n",
    "grouped_df_2021['Liver Donor Utilization Ratio'] = (grouped_df_2021['DD Liver Tx'] + grouped_df_2021['LD Liver Tx']) / grouped_df_2021['TOTAL Liver TX']\n",
    "grouped_df_2021['Heart Donor Utilization Ratio'] = grouped_df_2021['Total Heart TX'] / grouped_df_2021['Total Heart TX']  # Este cálculo siempre da 1 porque dividimos por sí mismo\n",
    "grouped_df_2021['Lung Donor Utilization Ratio'] = (grouped_df_2021['DD Lung Tx'] + grouped_df_2021['LD Lung Tx']) / grouped_df_2021['TOTAL Lung Tx']\n",
    "\n",
    "# Reemplazar proporciones infinitas o indefinidas con 0\n",
    "grouped_df_2021.replace([float('inf'), float('-inf'), pd.NA, pd.NaT], 0, inplace=True)\n",
    "\n",
    "# Crear un DataFrame con las proporciones calculadas y redondear a 2 decimales\n",
    "utilization_ratios_2021 = grouped_df_2021[['REGION', 'Total Utilized LD', 'Kidney Donor Utilization Ratio', 'Liver Donor Utilization Ratio', 'Heart Donor Utilization Ratio', 'Lung Donor Utilization Ratio']].round(2)\n",
    "\n",
    "# Path de salida\n",
    "path = './data/out/world/'\n",
    "\n",
    "# Guardar el resultado en un archivo CSV\n",
    "utilization_ratios_2021.to_csv(path + 'donor_utilization_LD_ratios_by_region_2021.csv', index=False)\n",
    "\n",
    "# Mostrar los resultados\n",
    "print(utilization_ratios_2021)\n"
   ]
  },
  {
   "cell_type": "markdown",
   "metadata": {
    "_cell_guid": "25b1e1db-8bc5-7029-f719-91da523bd121",
    "_uuid": "ceab5914b6a59811f7ef6dd8d7643b793ab6433d"
   },
   "source": [
    "## 2. Procés de creació seguit  #\n",
    "\n",
    "### 1. Preparació de Dades\n",
    "\n",
    "**Carregar i Netejar les Dades**\n",
    "\n",
    "* Decisió de Disseny: Assegurar que les dades estiguin completes i correctament formatejades per evitar errors en l'anàlisi.\n",
    "* Convertir columnes numèriques amb comes a format numèric.\n",
    "* Omplir valors nuls amb zeros o gestionar-los adequadament.\n"
   ]
  },
  {
   "cell_type": "markdown",
   "metadata": {
    "_cell_guid": "25b1e1db-8bc5-7029-f719-91da523bd121",
    "_uuid": "ceab5914b6a59811f7ef6dd8d7643b793ab6433d"
   },
   "source": [
    "**Calcular Mètriques Rellevants**\n",
    "\n",
    "* Decisió de Disseny: Calcular mètriques que seran útils per a les visualitzacions i l'anàlisi posterior.\n",
    "* Calcular \"Total Utilized LD\".\n",
    "* Crear columna Total Transplants\n"
   ]
  },
  {
   "cell_type": "markdown",
   "metadata": {},
   "source": [
    "### 2. Distribució Geogràfica dels Trasplantaments\n",
    "\n",
    "**Agrupar per Regió i País**\n",
    "\n",
    "* Decisió de Disseny: Utilitzar mapes o gràfics de barres per visualitzar les disparitats geogràfiques.\n",
    "* Agrupar les dades per regió i país per obtenir el total de trasplantaments."
   ]
  },
  {
   "cell_type": "markdown",
   "metadata": {},
   "source": [
    "### 3. Tendències Temporals\n",
    "\n",
    "**Anàlisi per Any**\n",
    "\n",
    "* Decisió de Disseny: Utilitzar gràfics de línies per mostrar les tendències al llarg del temps.\n",
    "* Agrupar per any i calcular el total de trasplantaments."
   ]
  },
  {
   "cell_type": "markdown",
   "metadata": {},
   "source": [
    "### 4. Proporció de Tipus de Donants i Trasplantaments\n",
    "\n",
    "**Proporció de Donants per Tipus**\n",
    "\n",
    "* Decisió de Disseny: Utilitzar gràfics de torta o barres per visualitzar les proporcions.\n",
    "* Calcular les proporcions de trasplantaments realitzats amb diferents tipus de donants."
   ]
  },
  {
   "cell_type": "markdown",
   "metadata": {},
   "source": [
    "### 5. Relació entre la Població i el Nombre de Trasplantaments\n",
    "\n",
    "**Anàlisi de la Relació Població-Trasplantaments**\n",
    "\n",
    "* Decisió de Disseny: Utilitzar gràfics de dispersió per mostrar la relació.\n",
    "* Calcular la relació entre la població i el nombre total de trasplantaments."
   ]
  },
  {
   "cell_type": "markdown",
   "metadata": {},
   "source": [
    "### 6. Comparació de Diferents Tipus de Trasplantaments\n",
    "\n",
    "**Comparar Tipus de Trasplantaments per Regió/País**\n",
    "\n",
    "* Decisió de Disseny: Utilitzar gràfics de barres apilades o comparatius.\n",
    "* Agrupar i comparar els diferents tipus de trasplantaments per regió i país."
   ]
  },
  {
   "cell_type": "markdown",
   "metadata": {},
   "source": [
    "### 7. Eficiència en la Utilització de Donants\n",
    "\n",
    "**Anàlisi d'Eficiència**\n",
    "\n",
    "* Decisió de Disseny: Utilitzar gràfics de barres per comparar l'eficiència.\n",
    "* Calcular l'eficiència en la utilització de donants."
   ]
  },
  {
   "cell_type": "markdown",
   "metadata": {},
   "source": [
    "### 8. Visualització i Creació de l'Infograma\n",
    "\n",
    "**Selecció de Gràfics**\n",
    "\n",
    "* Decisió de Disseny: Escollir el tipus de gràfic adequat per a cada anàlisi:\n",
    "    - Mapes de calor per a la distribució geogràfica.\n",
    "    - Gràfics de línies per a les tendències temporals.\n",
    "     - Gràfics de torta o barres per a les proporcions.\n",
    "     - Gràfics de dispersió per a les relacions.\n",
    "     - Gràfics de barres apilades per a la comparació de tipus de trasplantaments.\n",
    "     - Gràfics de barres per a l'eficiència en la utilització de donants."
   ]
  },
  {
   "cell_type": "markdown",
   "metadata": {},
   "source": [
    "## 3. Característiquesdel joc de dades"
   ]
  },
  {
   "cell_type": "markdown",
   "metadata": {},
   "source": [
    "El joc de dades proporciona informació detallada sobre l'activitat de trasplantaments d'òrgans a nivell mundial, segmentada per regions i països. Aquí es presenta una breu descripció de les característiques més destacades:\n",
    "\n",
    "0. **DIMENSIONS DEL JOC DE DADES:**\n",
    "   - **Nombre de Files:** 3639\n",
    "   - **Nombre de Columnes:** 24\n",
    "\n",
    "1. **VARIABLES CATEGÒRIQUES:**\n",
    "   - **REGION**: Aquesta variable categoritza els registres en funció de la regió geogràfica, per exemple, Africa, Europe, Eastern Mediterranean, entre d'altres.\n",
    "   - **COUNTRY**: Identifica el país específic on s'ha realitzat el registre.\n",
    "   - **REPORTYEAR**: Tot i ser una dada numèrica (any), es pot considerar com a categòrica per identificar el període temporal de cada registre.\n",
    "\n",
    "2. **VARIABLES NUMÈRIQUES:**\n",
    "   - **POPULATION**: Població del país en milions d'habitants.\n",
    "   - **TOTAL Actual DD**: Total de donants difunts.\n",
    "   - **Actual DBD**: Total de donants difunts per mort cerebral.\n",
    "   - **Actual DCD**: Total de donants difunts per at"
   ]
  },
  {
   "cell_type": "markdown",
   "metadata": {},
   "source": [
    "## 4. Les preguntes que respon la visualització  ##\n",
    "\n",
    "Les preguntes que volem respondre en la o les visualitzacions:\n",
    "\n",
    "1. **Distribució geogràfica dels trasplantaments**: que mostri la quantitat de trasplantaments d'òrgans diferents en diferents països o regions. Això ens ajudarà a identificar disparitats en l'accés als trasplantaments.\n",
    "\n",
    "2. **Tendències temporals**: com ha variat el nombre de trasplantaments en el temps. Això ens permetrà identificar tendències al llarg dels anys.\n",
    "\n",
    "3. **Proporció de tipus de donants i trasplantaments**: trobar la proporció de trasplantaments realitzats amb donants difunts per mort cerebral versus donants difunts per atur cardíac, així com la proporció de trasplantaments de diferents òrgans.\n",
    "\n",
    "4. **Relació entre la població i el nombre de trasplantaments**: relació entre la població d'un país o regió i el nombre de trasplants duts a terme en aquesta àrea.\n",
    "\n",
    "5. **Comparació de diferents tipus de trasplantaments**: comparació entre la quantitat de trasplantaments de ronyó, fetge, cor, pduts a terme, realitzats en diferents països o regions.\n",
    "\n",
    "6. **Eficiència en la utilització de donants**: comparació entre els totals de donants disponibles amb els trduts a terments realitzats per avaluar l'eficiència en la utilització dels òrgans donats en iferents països o regions."
   ]
  },
  {
   "cell_type": "markdown",
   "metadata": {},
   "source": [
    "### 4.1. Els Trasplants al món"
   ]
  },
  {
   "cell_type": "markdown",
   "metadata": {},
   "source": [
    "#### Total de trasplants per Regió al 2021"
   ]
  },
  {
   "cell_type": "code",
   "execution_count": 117,
   "metadata": {},
   "outputs": [
    {
     "name": "stdout",
     "output_type": "stream",
     "text": [
      "                   COUNTRY  TOTAL Transplants\n",
      "0                  Albania               21.0\n",
      "1                  Armenia               18.0\n",
      "2                  Austria              647.0\n",
      "3                  Belarus              481.0\n",
      "4                  Belgium              831.0\n",
      "5   Bosnia and Herzegovina               11.0\n",
      "6                 Bulgaria               48.0\n",
      "7                  Croatia              271.0\n",
      "8                   Cyprus               19.0\n",
      "9           Czech Republic              768.0\n",
      "10                 Denmark              348.0\n",
      "11                 Estonia               54.0\n",
      "12                 Finland              389.0\n",
      "13                  France             5214.0\n",
      "14                 Georgia               37.0\n",
      "15                 Germany             3438.0\n",
      "16                  Greece              217.0\n",
      "17                 Hungary              301.0\n",
      "18                 Iceland                9.0\n",
      "19                 Ireland              204.0\n",
      "20                  Israel              651.0\n",
      "21                   Italy             3808.0\n",
      "22              Kazakhstan              171.0\n",
      "23                  Latvia               31.0\n",
      "24               Lithuania              131.0\n",
      "26                   Malta                3.0\n",
      "27             Netherlands             1233.0\n",
      "28                  Norway              376.0\n",
      "29                  Poland             1335.0\n",
      "30                Portugal              714.0\n",
      "31     Republic of Moldova                4.0\n",
      "32                 Romania              213.0\n",
      "33                  Serbia                9.0\n",
      "34                Slovakia              158.0\n",
      "35                Slovenia              105.0\n",
      "36                   Spain             4692.0\n",
      "37                  Sweden              732.0\n",
      "38             Switzerland              588.0\n",
      "39                Türkiye              4948.0\n",
      "40          United Kingdom             4012.0\n"
     ]
    }
   ],
   "source": [
    "import pandas as pd\n",
    "\n",
    "# Cargar el dataset\n",
    "df = pd.read_csv('./data/GODT.csv')\n",
    "\n",
    "# Filtrar el DataFrame para incluir solo el año 2021 y la región 'Europe'\n",
    "df_2021_europe = df[(df['REPORTYEAR'] == 2021) & (df['REGION'] == 'Europe')]\n",
    "\n",
    "# Definir las columnas requeridas para el cálculo\n",
    "required_columns = ['TOTAL Liver TX', 'TOTAL Kidney Tx', 'TOTAL Lung Tx', 'Total Heart TX']\n",
    "\n",
    "# Calcular el número total de trasplantes por país sumando las columnas requeridas\n",
    "df_2021_europe['TOTAL Transplants'] = df_2021_europe[required_columns].sum(axis=1)\n",
    "\n",
    "# Calcular el número total de trasplantes por país\n",
    "total_transplants_by_country = df_2021_europe.groupby('COUNTRY')['TOTAL Transplants'].sum().reset_index()\n",
    "\n",
    "# Filtrar los países que tienen cero trasplantes\n",
    "total_transplants_by_country = total_transplants_by_country[total_transplants_by_country['TOTAL Transplants'] != 0]\n",
    "\n",
    "# Guardar el resultado en un archivo CSV en la carpeta ./data/out/europe/\n",
    "output_folder = './data/out/world/'\n",
    "total_transplants_by_country.to_csv(output_folder + 'total_transplants_by_country_filtered_2021.csv', index=False)\n",
    "\n",
    "# Mostrar los resultados\n",
    "print(total_transplants_by_country)\n"
   ]
  },
  {
   "cell_type": "markdown",
   "metadata": {},
   "source": [
    "#### Total de trasplants per Tipologia (per càpita)"
   ]
  },
  {
   "cell_type": "code",
   "execution_count": 118,
   "metadata": {},
   "outputs": [
    {
     "name": "stdout",
     "output_type": "stream",
     "text": [
      "                   COUNTRY   Liver  Kidney   Lung  Heart\n",
      "0                  Albania     0.0    21.0    0.0    0.0\n",
      "1                  Armenia     2.0    16.0    0.0    0.0\n",
      "2                  Austria   159.0   306.0  123.0   59.0\n",
      "3                  Belarus    91.0   336.0    6.0   48.0\n",
      "4                  Belgium   268.0   417.0   94.0   52.0\n",
      "5   Bosnia and Herzegovina     1.0    10.0    0.0    0.0\n",
      "6                 Bulgaria    13.0    33.0    0.0    2.0\n",
      "7                  Croatia   104.0   124.0    9.0   34.0\n",
      "8                   Cyprus     0.0    19.0    0.0    0.0\n",
      "9           Czech Republic   186.0   456.0   52.0   74.0\n",
      "10                 Denmark    50.0   252.0   22.0   24.0\n",
      "11                 Estonia     4.0    48.0    2.0    0.0\n",
      "12                 Finland    75.0   268.0   24.0   22.0\n",
      "13                  France  1225.0  3252.0  322.0  415.0\n",
      "14                 Georgia    15.0    22.0    0.0    0.0\n",
      "15                 Germany   834.0  1992.0  283.0  329.0\n",
      "16                  Greece    24.0   175.0    5.0   13.0\n",
      "17                 Hungary    59.0   194.0   14.0   34.0\n",
      "18                 Iceland     0.0     9.0    0.0    0.0\n",
      "19                 Ireland    35.0   139.0   20.0   10.0\n",
      "20                  Israel    96.0   476.0   55.0   24.0\n",
      "21                   Italy  1396.0  2043.0  117.0  252.0\n",
      "22              Kazakhstan    40.0   129.0    0.0    2.0\n",
      "23                  Latvia     1.0    28.0    0.0    2.0\n",
      "24               Lithuania    22.0   102.0    1.0    6.0\n",
      "26                   Malta     0.0     3.0    0.0    0.0\n",
      "27             Netherlands   181.0   916.0   92.0   44.0\n",
      "28                  Norway    98.0   231.0   24.0   23.0\n",
      "29                  Poland   297.0   770.0   68.0  200.0\n",
      "30                Portugal   202.0   429.0   34.0   49.0\n",
      "31     Republic of Moldova     4.0     0.0    0.0    0.0\n",
      "32                 Romania    53.0   156.0    1.0    3.0\n",
      "33                  Serbia     3.0     5.0    0.0    1.0\n",
      "34                Slovakia    26.0   115.0    0.0   17.0\n",
      "35                Slovenia    21.0    52.0   15.0   17.0\n",
      "36                   Spain  1078.0  2950.0  362.0  302.0\n",
      "37                  Sweden   170.0   445.0   51.0   66.0\n",
      "38             Switzerland   151.0   362.0   42.0   33.0\n",
      "39                Türkiye   1528.0  3375.0   21.0   24.0\n",
      "40          United Kingdom   821.0  2917.0  105.0  169.0\n"
     ]
    }
   ],
   "source": [
    "import pandas as pd\n",
    "\n",
    "# Cargar el dataset\n",
    "df = pd.read_csv('./data/GODT.csv')\n",
    "\n",
    "# Filtrar el DataFrame para incluir solo el año 2021 y la región 'Europe'\n",
    "df_2021_europe = df[(df['REPORTYEAR'] == 2021) & (df['REGION'] == 'Europe')]\n",
    "\n",
    "# Definir las columnas requeridas para el cálculo\n",
    "required_columns = ['TOTAL Liver TX', 'TOTAL Kidney Tx', 'TOTAL Lung Tx', 'Total Heart TX']\n",
    "\n",
    "# Calcular el número total de trasplantes por país y por tipología\n",
    "total_transplants_by_country = df_2021_europe.groupby('COUNTRY')[required_columns].sum().reset_index()\n",
    "\n",
    "# Filtrar los países que tienen cero trasplantes en todos los tipos de órganos\n",
    "total_transplants_by_country = total_transplants_by_country[(total_transplants_by_country[required_columns] != 0).any(axis=1)]\n",
    "\n",
    "# Renombrar las columnas para mayor claridad\n",
    "total_transplants_by_country.rename(columns={\n",
    "    'TOTAL Liver TX': 'Liver',\n",
    "    'TOTAL Kidney Tx': 'Kidney',\n",
    "    'TOTAL Lung Tx': 'Lung',\n",
    "    'Total Heart TX': 'Heart'\n",
    "}, inplace=True)\n",
    "\n",
    "# Path de salida\n",
    "path = './data/out/world/'\n",
    "\n",
    "# Guardar el resultado en un archivo CSV\n",
    "total_transplants_by_country.to_csv(path+ '/transplants_by_country_filtered_2021.csv', index=False)\n",
    "\n",
    "# Mostrar los resultados\n",
    "print(total_transplants_by_country)\n"
   ]
  },
  {
   "cell_type": "markdown",
   "metadata": {},
   "source": [
    "#### Evoluació temporal dels donants (pmp)"
   ]
  },
  {
   "cell_type": "code",
   "execution_count": 119,
   "metadata": {},
   "outputs": [
    {
     "name": "stdout",
     "output_type": "stream",
     "text": [
      "REPORTYEAR                2000     2001     2002     2003     2004     2005  \\\n",
      "REGION                                                                        \n",
      "Africa                     0.0      0.0      0.0      0.0      0.0    156.0   \n",
      "America                 3677.0  15675.0   3459.0  23322.0  32632.0  12897.0   \n",
      "Eastern Mediterranean     30.0     60.0     72.0    177.0    461.0    973.0   \n",
      "Europe                 57207.0  65415.0  84273.0  77905.0  84589.0  66598.0   \n",
      "South-East Asia            0.0      0.0      0.0      0.0      0.0     72.0   \n",
      "Western Pacific         1032.0    933.0   1056.0   1935.0   2121.0   9025.0   \n",
      "\n",
      "REPORTYEAR                2006     2007      2008     2009  ...      2013  \\\n",
      "REGION                                                      ...             \n",
      "Africa                   139.0    130.0     164.0    279.0  ...     133.0   \n",
      "America                36237.0  11970.0   13457.0  18978.0  ...   13540.0   \n",
      "Eastern Mediterranean   1126.0   1049.0    1279.0   2497.0  ...    2644.0   \n",
      "Europe                 59508.0  90001.0  112374.0  81268.0  ...  129810.0   \n",
      "South-East Asia           97.0    144.0     128.0    148.0  ...    2632.0   \n",
      "Western Pacific         4436.0   2983.0   14543.0   3491.0  ...    3956.0   \n",
      "\n",
      "REPORTYEAR                2014     2015     2016      2017     2018      2019  \\\n",
      "REGION                                                                          \n",
      "Africa                   146.0    159.0   1309.0     160.0    160.0       2.0   \n",
      "America                29067.0  17754.0  21354.0   15630.0  20987.0   28248.0   \n",
      "Eastern Mediterranean   7310.0   2186.0  15922.0    2252.0  12301.0    2689.0   \n",
      "Europe                 83820.0  86162.0  92659.0  110730.0  93473.0  110760.0   \n",
      "South-East Asia          602.0   3537.0   1024.0    4838.0   1023.0     956.0   \n",
      "Western Pacific         4491.0  22891.0   6938.0   18186.0   9633.0    9546.0   \n",
      "\n",
      "REPORTYEAR                2020     2021     2022  \n",
      "REGION                                            \n",
      "Africa                     0.0      0.0      0.0  \n",
      "America                47473.0  25610.0  28584.0  \n",
      "Eastern Mediterranean   8376.0  16686.0  18351.0  \n",
      "Europe                 76169.0  90518.0  82808.0  \n",
      "South-East Asia         1163.0   3268.0   1101.0  \n",
      "Western Pacific         8196.0   8047.0   8225.0  \n",
      "\n",
      "[6 rows x 23 columns]\n"
     ]
    }
   ],
   "source": [
    "import pandas as pd\n",
    "\n",
    "# Cargar el dataset\n",
    "df = pd.read_csv('./data/GODT.csv')\n",
    "\n",
    "# Filtrar columnas relevantes\n",
    "df = df[['REGION', 'REPORTYEAR', 'TOTAL Actual DD', 'POPULATION']]\n",
    "\n",
    "# Convertir la población a formato numérico (eliminar comas si existen)\n",
    "df['POPULATION'] = df['POPULATION'].str.replace(',', '').astype(float)\n",
    "\n",
    "# Calcular los donantes por millón de personas\n",
    "df['Donors per Thousand'] = (df['TOTAL Actual DD'] / df['POPULATION']) * 1_000\n",
    "\n",
    "# Redondear los valores a dos decimales\n",
    "df['Donors per Thousand'] = df['Donors per Thousand'].round(0)  # Redondear a cero decimales\n",
    "\n",
    "# Pivoteo para tener los años como columnas y las regiones como índices\n",
    "pivot_df = df.pivot_table(index='REGION', columns='REPORTYEAR', values='Donors per Thousand', aggfunc='sum', fill_value=0)\n",
    "\n",
    "# Ordenar las columnas por año\n",
    "pivot_df = pivot_df.reindex(sorted(pivot_df.columns), axis=1)\n",
    "\n",
    "# Mostrar los resultados\n",
    "print(pivot_df)\n",
    "\n",
    "# Path de salida\n",
    "path = './data/out/world/'\n",
    "\n",
    "# Guardar el resultado en un archivo CSV\n",
    "pivot_df.to_csv(path + 'total_donors_per_million_by_region_and_year.csv')\n"
   ]
  },
  {
   "cell_type": "markdown",
   "metadata": {},
   "source": [
    "#### Evoluació temporal dels tipus de donants (pMp)"
   ]
  },
  {
   "cell_type": "code",
   "execution_count": 120,
   "metadata": {},
   "outputs": [
    {
     "name": "stdout",
     "output_type": "stream",
     "text": [
      "REPORTYEAR          2000     2001     2002     2003     2004     2005  \\\n",
      "Donor Type                                                              \n",
      "Actual DBD        9703.0  10703.0   9753.0  14776.0  18710.0  19590.0   \n",
      "Actual DCD         118.0    167.0    242.0    518.0    699.0   1493.0   \n",
      "TOTAL Actual DD  11181.0  12207.0  11405.0  15294.0  19409.0  20681.0   \n",
      "\n",
      "REPORTYEAR          2006     2007     2008     2009  ...     2013     2014  \\\n",
      "Donor Type                                           ...                     \n",
      "Actual DBD       10072.0  18700.0  17379.0  17264.0  ...  23889.0  24645.0   \n",
      "Actual DCD        1132.0   1486.0   1573.0   1781.0  ...   2488.0   2542.0   \n",
      "TOTAL Actual DD  21175.0  21446.0  22350.0  22906.0  ...  26929.0  27804.0   \n",
      "\n",
      "REPORTYEAR          2015     2016     2017     2018     2019     2020  \\\n",
      "Donor Type                                                              \n",
      "Actual DBD       26670.0  28239.0  30388.0  30703.0  32453.0  27936.0   \n",
      "Actual DCD        5328.0   6895.0   7985.0   8709.0   9243.0   8167.0   \n",
      "TOTAL Actual DD  32490.0  35134.0  38373.0  39531.0  41696.0  36103.0   \n",
      "\n",
      "REPORTYEAR          2021     2022  \n",
      "Donor Type                         \n",
      "Actual DBD       29611.0  31687.0  \n",
      "Actual DCD        8546.0   9282.0  \n",
      "TOTAL Actual DD  38156.0  40969.0  \n",
      "\n",
      "[3 rows x 23 columns]\n"
     ]
    }
   ],
   "source": [
    "warnings.filterwarnings(\"ignore\", category=pd.errors.SettingWithCopyWarning)\n",
    "import pandas as pd\n",
    "\n",
    "# Cargar el dataset\n",
    "df = pd.read_csv('./data/GODT.csv')\n",
    "\n",
    "# Verificar las columnas de donantes actuales\n",
    "donor_columns = ['TOTAL Actual DD', 'Actual DBD', 'Actual DCD']\n",
    "\n",
    "# Crear un dataframe para almacenar los resultados\n",
    "result_df = pd.DataFrame(columns=['Donor Type', 'REPORTYEAR', 'Total'])\n",
    "\n",
    "# Calcular los totales de donantes por tipo y año\n",
    "for donor_type in donor_columns:\n",
    "    donor_totals_by_year = df.groupby('REPORTYEAR')[donor_type].sum().reset_index()\n",
    "    donor_totals_by_year['Donor Type'] = donor_type\n",
    "    donor_totals_by_year = donor_totals_by_year.rename(columns={donor_type: 'Total'})\n",
    "    \n",
    "    result_df = pd.concat([result_df, donor_totals_by_year], ignore_index=True)\n",
    "\n",
    "# Pivotar el dataframe para tener años como columnas y tipos de donant como filas\n",
    "pivot_df = result_df.pivot(index='Donor Type', columns='REPORTYEAR', values='Total')\n",
    "\n",
    "# Rellenar valores nulos con 0\n",
    "pivot_df = pivot_df.fillna(0)\n",
    "\n",
    "# Mostrar los resultados\n",
    "print(pivot_df)\n",
    "\n",
    "# Path de salida\n",
    "path = './data/out/world/'\n",
    "\n",
    "# Guardar el resultado en un archivo CSV\n",
    "pivot_df.to_csv(path + 'total_actual_donors_by_type_and_year.csv', index=True)"
   ]
  },
  {
   "cell_type": "markdown",
   "metadata": {},
   "source": [
    "#### Trasplants DCD vs Donants (pMp)"
   ]
  },
  {
   "cell_type": "code",
   "execution_count": 121,
   "metadata": {},
   "outputs": [
    {
     "name": "stdout",
     "output_type": "stream",
     "text": [
      "                  REGION  Utilized DCD  Actual DCD\n",
      "0                 Africa           0.0         0.0\n",
      "1                America        3527.0      4423.0\n",
      "2  Eastern Mediterranean           0.0         0.0\n",
      "3                 Europe        1811.0      1992.0\n",
      "4        South-East Asia           0.0         0.0\n",
      "5        Western Pacific        2105.0      2131.0\n"
     ]
    }
   ],
   "source": [
    "import pandas as pd\n",
    "\n",
    "# Cargar el dataset\n",
    "df = pd.read_csv('./data/GODT.csv')\n",
    "\n",
    "# Filtrar datos solo para el año 2021\n",
    "df_2021 = df[df['REPORTYEAR'] == 2021]\n",
    "\n",
    "# Agrupar por región y calcular los totales de DCD utilizados y DCD totales\n",
    "totals_2021 = df_2021.groupby('REGION').agg({\n",
    "    'Utilized DCD': 'sum',\n",
    "    'Actual DCD': 'sum'\n",
    "}).reset_index()\n",
    "\n",
    "# Path de salida\n",
    "path = './data/out/world/'\n",
    "\n",
    "# Guardar los resultados en un archivo CSV\n",
    "totals_2021.to_csv(path + 'totals_dcd_by_region_2021.csv', index=False)\n",
    "\n",
    "# Mostrar los resultados por consola\n",
    "print(totals_2021)\n"
   ]
  },
  {
   "cell_type": "markdown",
   "metadata": {},
   "source": [
    "#### Trasplants DBD vs Donants (pMp)"
   ]
  },
  {
   "cell_type": "code",
   "execution_count": 122,
   "metadata": {},
   "outputs": [
    {
     "name": "stdout",
     "output_type": "stream",
     "text": [
      "                  REGION  Utilized DBD  Actual DBD\n",
      "0                 Africa           0.0         0.0\n",
      "1                America       13602.0     14572.0\n",
      "2  Eastern Mediterranean        1104.0      1158.0\n",
      "3                 Europe        8384.0      8925.0\n",
      "4        South-East Asia         759.0       776.0\n",
      "5        Western Pacific        4153.0      4180.0\n"
     ]
    }
   ],
   "source": [
    "import pandas as pd\n",
    "\n",
    "# Cargar el dataset\n",
    "df = pd.read_csv('./data/GODT.csv')\n",
    "\n",
    "# Filtrar datos solo para el año 2021\n",
    "df_2021 = df[df['REPORTYEAR'] == 2021]\n",
    "\n",
    "# Agrupar por región y calcular los totales de DBD utilizados y DBD totales\n",
    "totals_2021 = df_2021.groupby('REGION').agg({\n",
    "    'Utilized DBD': 'sum',\n",
    "    'Actual DBD': 'sum'\n",
    "}).reset_index()\n",
    "\n",
    " # Path de salida\n",
    "path = './data/out/world/'\n",
    "\n",
    "# Guardar los resultados en un archivo CSV\n",
    "totals_2021.to_csv(path + 'totals_dbd_by_region_2021.csv', index=False)\n",
    "\n",
    "# Mostrar los resultados por consola\n",
    "print(totals_2021)\n"
   ]
  },
  {
   "cell_type": "markdown",
   "metadata": {},
   "source": [
    "### 4.2. Els Trasplants a Europa"
   ]
  },
  {
   "cell_type": "markdown",
   "metadata": {},
   "source": [
    "#### Total de trasplants per Tipologia i País al 2021"
   ]
  },
  {
   "cell_type": "code",
   "execution_count": 123,
   "metadata": {},
   "outputs": [
    {
     "name": "stdout",
     "output_type": "stream",
     "text": [
      "                     COUNTRY   Liver  Kidney   Lung  Heart\n",
      "3469                 Armenia     2.0    16.0    0.0    0.0\n",
      "3470                 Belarus    91.0   336.0    6.0   48.0\n",
      "3474                 Georgia    15.0    22.0    0.0    0.0\n",
      "3475                 Iceland     0.0     9.0    0.0    0.0\n",
      "3476                  Israel    96.0   476.0   55.0   24.0\n",
      "3477     Republic of Moldova     4.0     0.0    NaN    0.0\n",
      "3483                  Norway    98.0   231.0   24.0   23.0\n",
      "3484                  Serbia     3.0     5.0    0.0    1.0\n",
      "3485             Switzerland   151.0   362.0   42.0   33.0\n",
      "3489                 Germany   834.0  1992.0  283.0  329.0\n",
      "3490                 Austria   159.0   306.0  123.0   59.0\n",
      "3491                 Belgium   268.0   417.0   94.0   52.0\n",
      "3492                Bulgaria    13.0    33.0    0.0    2.0\n",
      "3493                  Cyprus     NaN    19.0    NaN    NaN\n",
      "3494                 Estonia     4.0    48.0    2.0    NaN\n",
      "3495                 Finland    75.0   268.0   24.0   22.0\n",
      "3496                  France  1225.0  3252.0  322.0  415.0\n",
      "3497                  Greece    24.0   175.0    5.0   13.0\n",
      "3498                 Hungary    59.0   194.0   14.0   34.0\n",
      "3499                 Ireland    35.0   139.0   20.0   10.0\n",
      "3500                  Latvia     1.0    28.0    0.0    2.0\n",
      "3501               Lithuania    22.0   102.0    1.0    6.0\n",
      "3503                   Malta     0.0     3.0    0.0    0.0\n",
      "3504                  Poland   297.0   770.0   68.0  200.0\n",
      "3505                Portugal   202.0   429.0   34.0   49.0\n",
      "3506             Netherlands   181.0   916.0   92.0   44.0\n",
      "3507                 Romania    53.0   156.0    1.0    3.0\n",
      "3508                  Sweden   170.0   445.0   51.0   66.0\n",
      "3509          United Kingdom   821.0  2917.0  105.0  169.0\n",
      "3510                 Croatia   104.0   124.0    9.0   34.0\n",
      "3511          Czech Republic   186.0   456.0   52.0   74.0\n",
      "3512                 Denmark    50.0   252.0   22.0   24.0\n",
      "3513                Slovakia    26.0   115.0    0.0   17.0\n",
      "3514                Slovenia    21.0    52.0   15.0   17.0\n",
      "3515                   Spain  1078.0  2950.0  362.0  302.0\n",
      "3517                   Italy  1396.0  2043.0  117.0  252.0\n",
      "3519  Bosnia and Herzegovina     1.0    10.0    0.0    0.0\n",
      "3522                Türkiye   1528.0  3375.0   21.0   24.0\n",
      "3529              Kazakhstan    40.0   129.0    0.0    2.0\n",
      "3536                 Albania     NaN    21.0    NaN    NaN\n"
     ]
    }
   ],
   "source": [
    "import pandas as pd\n",
    "import os\n",
    "\n",
    "# Cargar el dataset\n",
    "df = pd.read_csv('./data/GODT.csv')\n",
    "\n",
    "# Filtrar el DataFrame para incluir solo el año 2021 y la región 'Europe'\n",
    "df_2021_europe = df[(df['REPORTYEAR'] == 2021) & (df['REGION'] == 'Europe')]\n",
    "\n",
    "# Definir las columnas requeridas para el cálculo\n",
    "required_columns = ['TOTAL Liver TX', 'TOTAL Kidney Tx', 'TOTAL Lung Tx', 'Total Heart TX']\n",
    "\n",
    "# Renombrar las columnas para que tengan nombres más amigables\n",
    "df_2021_europe = df_2021_europe.rename(columns={\n",
    "    'TOTAL Liver TX': 'Liver',\n",
    "    'TOTAL Kidney Tx': 'Kidney',\n",
    "    'TOTAL Lung Tx': 'Lung',\n",
    "    'Total Heart TX': 'Heart'\n",
    "})\n",
    "\n",
    "# Seleccionar solo las columnas necesarias\n",
    "df_2021_europe = df_2021_europe[['COUNTRY', 'Liver', 'Kidney', 'Lung', 'Heart']]\n",
    "\n",
    "# Calcular el número total de trasplantes por país sumando las columnas requeridas\n",
    "df_2021_europe['Total Transplants'] = df_2021_europe[['Liver', 'Kidney', 'Lung', 'Heart']].sum(axis=1)\n",
    "\n",
    "# Filtrar los países que tienen cero trasplantes en todas las categorías\n",
    "df_2021_europe = df_2021_europe[df_2021_europe['Total Transplants'] != 0]\n",
    "\n",
    "# Eliminar la columna de total de trasplantes ya que no se necesita en el archivo de salida\n",
    "df_2021_europe = df_2021_europe.drop(columns=['Total Transplants'])\n",
    "\n",
    "# Crear una carpeta de salida si no existe\n",
    "output_folder = './data/out/europe/'\n",
    "\n",
    "# Guardar el DataFrame en un archivo CSV\n",
    "output_file = output_folder + 'total_transplants_by_country_and_type_2021.csv'\n",
    "df_2021_europe.to_csv(output_file, index=False)\n",
    "\n",
    "# Mostrar los resultados\n",
    "print(df_2021_europe)\n"
   ]
  },
  {
   "cell_type": "markdown",
   "metadata": {},
   "source": [
    "#### Evoluació temporal dels trasplants per tipus"
   ]
  },
  {
   "cell_type": "code",
   "execution_count": 124,
   "metadata": {},
   "outputs": [
    {
     "name": "stdout",
     "output_type": "stream",
     "text": [
      "REPORTYEAR  Transplant Type    2000    2001    2002     2003     2004  \\\n",
      "0            TOTAL Liver TX  4362.0  5354.0  5547.0   5845.0   6368.0   \n",
      "1           TOTAL Kidney Tx  7754.0  8547.0  8241.0  16336.0  17831.0   \n",
      "2             TOTAL Lung Tx   676.0   796.0  1106.0   1029.0   1100.0   \n",
      "3            Total Heart TX  2019.0  2206.0  2064.0   2137.0   2126.0   \n",
      "\n",
      "REPORTYEAR     2005     2006     2007     2008  ...     2013     2014  \\\n",
      "0            6618.0   6831.0   7300.0   7436.0  ...   9126.0   9349.0   \n",
      "1           18267.0  18580.0  19864.0  19806.0  ...  24834.0  25383.0   \n",
      "2            1210.0   1315.0   1345.0   1411.0  ...   1994.0   1998.0   \n",
      "3               0.0   2227.0   2202.0   2170.0  ...   2393.0   2523.0   \n",
      "\n",
      "REPORTYEAR     2015     2016     2017     2018     2019     2020     2021  \\\n",
      "0            9607.0   9990.0  10365.0  10556.0  10794.0   9257.0   9333.0   \n",
      "1           26165.0  26726.0  27283.0  28080.0  28189.0  22006.0  23593.0   \n",
      "2            2010.0   2090.0   2210.0   2272.0   2331.0   1880.0   1964.0   \n",
      "3            2658.0   2686.0   2644.0   2827.0   2862.0   2515.0   2350.0   \n",
      "\n",
      "REPORTYEAR     2022  \n",
      "0            9840.0  \n",
      "1           25329.0  \n",
      "2            2073.0  \n",
      "3            2444.0  \n",
      "\n",
      "[4 rows x 24 columns]\n"
     ]
    }
   ],
   "source": [
    "import pandas as pd\n",
    "\n",
    "# Cargar el dataset\n",
    "df = pd.read_csv('./data/GODT.csv')\n",
    "\n",
    "# Filtrar el DataFrame para incluir solo la región 'Europe'\n",
    "df_europe = df[df['REGION'] == 'Europe']\n",
    "\n",
    "# Definir las columnas requeridas para el cálculo\n",
    "required_columns = ['TOTAL Liver TX', 'TOTAL Kidney Tx', 'TOTAL Lung Tx', 'Total Heart TX']\n",
    "\n",
    "# Agrupar por año y sumar los trasplantes por tipo\n",
    "transplants_by_year = df_europe.groupby('REPORTYEAR')[required_columns].sum().reset_index()\n",
    "\n",
    "# Transponer los datos para que los tipos de trasplantes sean filas\n",
    "transposed_df = transplants_by_year.set_index('REPORTYEAR').T.reset_index()\n",
    "transposed_df.rename(columns={'index': 'Transplant Type'}, inplace=True)\n",
    "\n",
    "# Guardar el resultado en un archivo CSV\n",
    "output_folder = './data/out/europe/'\n",
    "transposed_df.to_csv(output_folder + 'transplants_by_type_and_year_in_europe_transposed.csv', index=False)\n",
    "\n",
    "# Mostrar los resultados\n",
    "print(transposed_df)\n"
   ]
  },
  {
   "cell_type": "markdown",
   "metadata": {},
   "source": [
    "#### Evoluació temporal dels donants (pmp)"
   ]
  },
  {
   "cell_type": "code",
   "execution_count": 125,
   "metadata": {},
   "outputs": [
    {
     "name": "stdout",
     "output_type": "stream",
     "text": [
      "REGION        Europe\n",
      "REPORTYEAR          \n",
      "2000         57207.0\n",
      "2001         65415.0\n",
      "2002         84273.0\n",
      "2003         77905.0\n",
      "2004         84589.0\n",
      "2005         66598.0\n",
      "2006         59508.0\n",
      "2007         90001.0\n",
      "2008        112374.0\n",
      "2009         81268.0\n",
      "2010         96638.0\n",
      "2011         82780.0\n",
      "2012        130704.0\n",
      "2013        129810.0\n",
      "2014         83820.0\n",
      "2015         86162.0\n",
      "2016         92659.0\n",
      "2017        110730.0\n",
      "2018         93473.0\n",
      "2019        110760.0\n",
      "2020         76169.0\n",
      "2021         90518.0\n",
      "2022         82808.0\n"
     ]
    }
   ],
   "source": [
    "import pandas as pd\n",
    "import os\n",
    "\n",
    "# Cargar el dataset\n",
    "df = pd.read_csv('./data/GODT.csv')\n",
    "\n",
    "# Filtrar columnas relevantes\n",
    "df = df[['REGION', 'REPORTYEAR', 'TOTAL Actual DD', 'POPULATION']]\n",
    "\n",
    "# Filtrar el DataFrame para incluir solo la región 'Europe'\n",
    "df = df[df['REGION'] == 'Europe']\n",
    "\n",
    "# Convertir la población a formato numérico (eliminar comas si existen)\n",
    "df['POPULATION'] = df['POPULATION'].str.replace(',', '').astype(float)\n",
    "\n",
    "# Calcular los donantes por millón de personas\n",
    "df['Donors per Million'] = (df['TOTAL Actual DD'] / df['POPULATION']) * 1_000\n",
    "\n",
    "# Redondear los valores a cero decimales\n",
    "df['Donors per Million'] = df['Donors per Million'].round(0)\n",
    "\n",
    "# Pivoteo para tener los años como columnas y las regiones como índices\n",
    "pivot_df = df.pivot_table(index='REGION', columns='REPORTYEAR', values='Donors per Million', aggfunc='sum', fill_value=0)\n",
    "\n",
    "# Ordenar las columnas por año\n",
    "pivot_df = pivot_df.reindex(sorted(pivot_df.columns), axis=1)\n",
    "\n",
    "# Transponer el DataFrame\n",
    "transposed_df = pivot_df.transpose()\n",
    "\n",
    "# Mostrar los resultados\n",
    "print(transposed_df)\n",
    "\n",
    "# Crear una carpeta de salida si no existe\n",
    "output_folder = './data/out/europe/'\n",
    "os.makedirs(output_folder, exist_ok=True)\n",
    "\n",
    "# Guardar el resultado en un archivo CSV\n",
    "output_file = output_folder + 'total_donors_per_million_by_region_and_year_transposed.csv'\n",
    "transposed_df.to_csv(output_file)\n"
   ]
  },
  {
   "cell_type": "markdown",
   "metadata": {},
   "source": [
    "#### Evoluació temporal dels tipus de donants (pMp)"
   ]
  },
  {
   "cell_type": "code",
   "execution_count": 126,
   "metadata": {},
   "outputs": [
    {
     "name": "stdout",
     "output_type": "stream",
     "text": [
      "REPORTYEAR         2000    2001    2002    2003    2004    2005    2006  \\\n",
      "Donor Type                                                                \n",
      "Actual DBD       3161.0  4149.0  3085.0  7851.0  8356.0  8626.0  1714.0   \n",
      "Actual DCD          0.0     0.0    52.0   247.0   302.0   837.0   367.0   \n",
      "TOTAL Actual DD  4506.0  5484.0  4546.0  8098.0  8658.0  8973.0  9123.0   \n",
      "\n",
      "REPORTYEAR         2007    2008    2009  ...     2013     2014     2015  \\\n",
      "Donor Type                               ...                              \n",
      "Actual DBD       8898.0  8851.0  7040.0  ...  10092.0  10375.0  10447.0   \n",
      "Actual DCD        547.0   543.0   661.0  ...   1150.0   1107.0   1209.0   \n",
      "TOTAL Actual DD  9440.0  9566.0  9769.0  ...  11242.0  11492.0  12013.0   \n",
      "\n",
      "REPORTYEAR          2016     2017     2018     2019     2020     2021     2022  \n",
      "Donor Type                                                                      \n",
      "Actual DBD       10950.0  11335.0  11379.0  11242.0   9053.0   8925.0   9166.0  \n",
      "Actual DCD        1564.0   1763.0   1856.0   2155.0   1679.0   1992.0   2483.0  \n",
      "TOTAL Actual DD  12514.0  13098.0  13235.0  13397.0  10732.0  10917.0  11649.0  \n",
      "\n",
      "[3 rows x 23 columns]\n"
     ]
    }
   ],
   "source": [
    "import pandas as pd\n",
    "\n",
    "# Cargar el dataset\n",
    "df = pd.read_csv('./data/GODT.csv')\n",
    "\n",
    "# Filtrar el DataFrame para incluir solo la región 'Europe'\n",
    "df = df[df['REGION'] == 'Europe']\n",
    "\n",
    "# Verificar las columnas de donantes actuales\n",
    "donor_columns = ['TOTAL Actual DD', 'Actual DBD', 'Actual DCD']\n",
    "\n",
    "# Crear un dataframe para almacenar los resultados\n",
    "result_df = pd.DataFrame(columns=['Donor Type', 'REPORTYEAR', 'Total'])\n",
    "\n",
    "# Calcular los totales de donantes por tipo y año\n",
    "for donor_type in donor_columns:\n",
    "    donor_totals_by_year = df.groupby('REPORTYEAR')[donor_type].sum().reset_index()\n",
    "    donor_totals_by_year['Donor Type'] = donor_type\n",
    "    donor_totals_by_year = donor_totals_by_year.rename(columns={donor_type: 'Total'})\n",
    "    \n",
    "    result_df = pd.concat([result_df, donor_totals_by_year], ignore_index=True)\n",
    "\n",
    "# Pivotar el dataframe para tener años como columnas y tipos de donant como filas\n",
    "pivot_df = result_df.pivot(index='Donor Type', columns='REPORTYEAR', values='Total')\n",
    "\n",
    "# Rellenar valores nulos con 0\n",
    "pivot_df = pivot_df.fillna(0)\n",
    "\n",
    "# Mostrar los resultados\n",
    "print(pivot_df)\n",
    "\n",
    "# Guardar el resultado en un archivo CSV\n",
    "pivot_df.to_csv('./data/out/europe/total_actual_donors_by_type_and_year.csv', index=True)\n"
   ]
  },
  {
   "cell_type": "markdown",
   "metadata": {},
   "source": [
    "#### Trasplants DCD vs Donants (pMp)"
   ]
  },
  {
   "cell_type": "code",
   "execution_count": 127,
   "metadata": {},
   "outputs": [
    {
     "name": "stdout",
     "output_type": "stream",
     "text": [
      "           COUNTRY  Utilized DCD  Actual DCD\n",
      "2          Austria           6.0         9.0\n",
      "4          Belgium         121.0       135.0\n",
      "9   Czech Republic          10.0        13.0\n",
      "12         Finland           4.0         4.0\n",
      "13          France         216.0       222.0\n",
      "19         Ireland           8.0         8.0\n",
      "20          Israel           3.0         3.0\n",
      "21           Italy          80.0        93.0\n",
      "24       Lithuania           4.0         4.0\n",
      "27     Netherlands         172.0       174.0\n",
      "30        Portugal          14.0        17.0\n",
      "36           Spain         582.0       662.0\n",
      "37          Sweden          27.0        27.0\n",
      "38     Switzerland          53.0        57.0\n",
      "40  United Kingdom         511.0       564.0\n"
     ]
    }
   ],
   "source": [
    "import pandas as pd\n",
    "\n",
    "# Cargar el dataset\n",
    "df = pd.read_csv('./data/GODT.csv')\n",
    "\n",
    "# Filtrar datos solo para el año 2021 y la región 'Europe'\n",
    "df_2021_europe = df[(df['REPORTYEAR'] == 2021) & (df['REGION'] == 'Europe')]\n",
    "\n",
    "# Agrupar por país y calcular los totales de DCD utilizados y DCD totales\n",
    "totals_2021_europe = df_2021_europe.groupby('COUNTRY').agg({\n",
    "    'Utilized DCD': 'sum',\n",
    "    'Actual DCD': 'sum'\n",
    "}).reset_index()\n",
    "\n",
    "# Filtrar los países donde ambos valores (Utilized DCD y Actual DCD) son mayores que cero\n",
    "totals_2021_europe = totals_2021_europe[(totals_2021_europe['Utilized DCD'] > 0) | (totals_2021_europe['Actual DCD'] > 0)]\n",
    "\n",
    "# Guardar los resultados en un archivo CSV\n",
    "totals_2021_europe.to_csv('./data/out/europe/totals_dcd_by_country_in_europe_2021_filtered.csv', index=False)\n",
    "\n",
    "# Mostrar los resultados por consola\n",
    "print(totals_2021_europe)\n"
   ]
  },
  {
   "cell_type": "markdown",
   "metadata": {},
   "source": [
    "#### Trasplants DBD vs Donants (pMp)"
   ]
  },
  {
   "cell_type": "code",
   "execution_count": 128,
   "metadata": {},
   "outputs": [
    {
     "name": "stdout",
     "output_type": "stream",
     "text": [
      "                   COUNTRY  Utilized DBD  Actual DBD\n",
      "2                  Austria         162.0       173.0\n",
      "3                  Belarus         211.0       218.0\n",
      "4                  Belgium         159.0       177.0\n",
      "5   Bosnia and Herzegovina           1.0         1.0\n",
      "6                 Bulgaria          14.0        17.0\n",
      "7                  Croatia         112.0       121.0\n",
      "8                   Cyprus           5.0         5.0\n",
      "9           Czech Republic         232.0       255.0\n",
      "10                 Denmark         101.0       105.0\n",
      "11                 Estonia          21.0        21.0\n",
      "12                 Finland         115.0       118.0\n",
      "13                  France        1373.0      1392.0\n",
      "15                 Germany         900.0       933.0\n",
      "16                  Greece          45.0        52.0\n",
      "17                 Hungary         101.0       102.0\n",
      "18                 Iceland          11.0        11.0\n",
      "19                 Ireland          54.0        57.0\n",
      "20                  Israel          88.0        89.0\n",
      "21                   Italy        1307.0      1365.0\n",
      "22              Kazakhstan           4.0         4.0\n",
      "23                  Latvia          16.0        17.0\n",
      "24               Lithuania          47.0        47.0\n",
      "25              Luxembourg           2.0         2.0\n",
      "26                   Malta           3.0         3.0\n",
      "27             Netherlands          99.0        99.0\n",
      "28                  Norway          95.0        96.0\n",
      "29                  Poland         386.0       396.0\n",
      "30                Portugal         274.0       285.0\n",
      "32                 Romania          47.0        47.0\n",
      "33                  Serbia           3.0         3.0\n",
      "34                Slovakia          55.0        60.0\n",
      "35                Slovenia          39.0        41.0\n",
      "36                   Spain        1108.0      1243.0\n",
      "37                  Sweden         165.0       170.0\n",
      "38             Switzerland         108.0       109.0\n",
      "39                Türkiye          165.0       305.0\n",
      "40          United Kingdom         756.0       786.0\n"
     ]
    }
   ],
   "source": [
    "import pandas as pd\n",
    "\n",
    "# Cargar el dataset\n",
    "df = pd.read_csv('./data/GODT.csv')\n",
    "\n",
    "# Filtrar datos solo para el año 2021 y la región 'Europe'\n",
    "df_2021_europe = df[(df['REPORTYEAR'] == 2021) & (df['REGION'] == 'Europe')]\n",
    "\n",
    "# Agrupar por país y calcular los totales de DBD utilizados y DCD totales\n",
    "totals_2021_europe = df_2021_europe.groupby('COUNTRY').agg({\n",
    "    'Utilized DBD': 'sum',\n",
    "    'Actual DBD': 'sum'\n",
    "}).reset_index()\n",
    "\n",
    "# Filtrar los países donde ambos valores (Utilized DBD y Actual DBD) son mayores que cero\n",
    "totals_2021_europe = totals_2021_europe[(totals_2021_europe['Utilized DBD'] > 0) | (totals_2021_europe['Actual DBD'] > 0)]\n",
    "\n",
    "# Guardar los resultados en un archivo CSV\n",
    "totals_2021_europe.to_csv('./data/out/europe/totals_dbd_by_country_in_europe_2021_filtered.csv', index=False)\n",
    "\n",
    "# Mostrar los resultados por consola\n",
    "print(totals_2021_europe)\n"
   ]
  },
  {
   "cell_type": "markdown",
   "metadata": {},
   "source": [
    "#### Total de trasplants vs Donants per País al 2021"
   ]
  },
  {
   "cell_type": "code",
   "execution_count": 129,
   "metadata": {},
   "outputs": [
    {
     "name": "stdout",
     "output_type": "stream",
     "text": [
      "                   COUNTRY  Total Utilized DD  TOTAL Actual DD\n",
      "2                  Austria              168.0            182.0\n",
      "3                  Belarus              211.0            218.0\n",
      "4                  Belgium              280.0            312.0\n",
      "5   Bosnia and Herzegovina                1.0              1.0\n",
      "6                 Bulgaria               14.0             17.0\n",
      "7                  Croatia              112.0            121.0\n",
      "8                   Cyprus                5.0              5.0\n",
      "9           Czech Republic              242.0            268.0\n",
      "10                 Denmark              101.0            105.0\n",
      "11                 Estonia               21.0             21.0\n",
      "12                 Finland              119.0            122.0\n",
      "13                  France             1589.0           1614.0\n",
      "15                 Germany              900.0            933.0\n",
      "16                  Greece               45.0             52.0\n",
      "17                 Hungary              101.0            102.0\n",
      "18                 Iceland               11.0             11.0\n",
      "19                 Ireland               62.0             65.0\n",
      "20                  Israel               91.0             92.0\n",
      "21                   Italy             1387.0           1458.0\n",
      "22              Kazakhstan                4.0              4.0\n",
      "23                  Latvia               16.0             17.0\n",
      "24               Lithuania               51.0             51.0\n",
      "25              Luxembourg                2.0              2.0\n",
      "26                   Malta                3.0              3.0\n",
      "27             Netherlands              271.0            273.0\n",
      "28                  Norway               95.0             96.0\n",
      "29                  Poland              386.0            396.0\n",
      "30                Portugal              288.0            302.0\n",
      "32                 Romania               47.0             47.0\n",
      "33                  Serbia                3.0              3.0\n",
      "34                Slovakia               55.0             60.0\n",
      "35                Slovenia               39.0             41.0\n",
      "36                   Spain             1690.0           1905.0\n",
      "37                  Sweden              192.0            197.0\n",
      "38             Switzerland              161.0            166.0\n",
      "39                Türkiye               165.0            305.0\n",
      "40          United Kingdom             1267.0           1350.0\n"
     ]
    }
   ],
   "source": [
    "import pandas as pd\n",
    "\n",
    "# Cargar el dataset\n",
    "df = pd.read_csv('./data/GODT.csv')\n",
    "\n",
    "# Filtrar datos solo para el año 2021 y la región 'Europe'\n",
    "df_2021_europe = df[(df['REPORTYEAR'] == 2021) & (df['REGION'] == 'Europe')]\n",
    "\n",
    "# Agrupar por país y calcular los totales de DD utilizados y DD totales\n",
    "totals_2021_europe = df_2021_europe.groupby('COUNTRY').agg({\n",
    "    'Total Utilized DD': 'sum',\n",
    "    'TOTAL Actual DD': 'sum'\n",
    "}).reset_index()\n",
    "\n",
    "# Filtrar los países donde ambos valores (Total Utilized DD y TOTAL Actual DD) son mayores que cero\n",
    "totals_2021_europe = totals_2021_europe[(totals_2021_europe['Total Utilized DD'] > 0) | (totals_2021_europe['TOTAL Actual DD'] > 0)]\n",
    "\n",
    "# Guardar los resultados en un archivo CSV\n",
    "totals_2021_europe.to_csv('./data/out/europe/totals_dd_by_country_in_europe_2021_filtered.csv', index=False)\n",
    "\n",
    "# Mostrar los resultados por consola\n",
    "print(totals_2021_europe)\n"
   ]
  },
  {
   "cell_type": "markdown",
   "metadata": {},
   "source": [
    "### 4.3. Els trasplants a Espanya"
   ]
  },
  {
   "cell_type": "markdown",
   "metadata": {},
   "source": [
    "#### Total de trasplants per Tipologia al 2021"
   ]
  },
  {
   "cell_type": "code",
   "execution_count": 130,
   "metadata": {},
   "outputs": [
    {
     "name": "stdout",
     "output_type": "stream",
     "text": [
      "     COUNTRY   Liver  Kidney   Lung  Heart\n",
      "3515   Spain  1078.0  2950.0  362.0  302.0\n"
     ]
    }
   ],
   "source": [
    "import pandas as pd\n",
    "import os\n",
    "\n",
    "# Cargar el dataset\n",
    "df = pd.read_csv('./data/GODT.csv')\n",
    "\n",
    "# Filtrar el DataFrame para incluir solo el año 2021 y el país 'Spain'\n",
    "df_2021_spain = df[(df['REPORTYEAR'] == 2021) & (df['COUNTRY'] == 'Spain')]\n",
    "\n",
    "# Definir las columnas requeridas para el cálculo\n",
    "required_columns = ['TOTAL Liver TX', 'TOTAL Kidney Tx', 'TOTAL Lung Tx', 'Total Heart TX']\n",
    "\n",
    "# Renombrar las columnas para que tengan nombres más amigables\n",
    "df_2021_spain = df_2021_spain.rename(columns={\n",
    "    'TOTAL Liver TX': 'Liver',\n",
    "    'TOTAL Kidney Tx': 'Kidney',\n",
    "    'TOTAL Lung Tx': 'Lung',\n",
    "    'Total Heart TX': 'Heart'\n",
    "})\n",
    "\n",
    "# Seleccionar solo las columnas necesarias\n",
    "df_2021_spain = df_2021_spain[['COUNTRY', 'Liver', 'Kidney', 'Lung', 'Heart']]\n",
    "\n",
    "# Calcular el número total de trasplantes por país sumando las columnas requeridas\n",
    "df_2021_spain['Total Transplants'] = df_2021_spain[['Liver', 'Kidney', 'Lung', 'Heart']].sum(axis=1)\n",
    "\n",
    "# Eliminar la columna de total de trasplantes ya que no se necesita en el archivo de salida\n",
    "df_2021_spain = df_2021_spain.drop(columns=['Total Transplants'])\n",
    "\n",
    "# Crear una carpeta de salida si no existe\n",
    "output_folder = './data/out/spain/'\n",
    "os.makedirs(output_folder, exist_ok=True)\n",
    "\n",
    "# Guardar el DataFrame en un archivo CSV\n",
    "output_file = output_folder + 'total_transplants_by_type_2021_spain.csv'\n",
    "df_2021_spain.to_csv(output_file, index=False)\n",
    "\n",
    "# Mostrar los resultados\n",
    "print(df_2021_spain)\n"
   ]
  },
  {
   "cell_type": "markdown",
   "metadata": {},
   "source": [
    "#### Evolució temporal dels trasplants per tipus"
   ]
  },
  {
   "cell_type": "code",
   "execution_count": 131,
   "metadata": {},
   "outputs": [
    {
     "name": "stdout",
     "output_type": "stream",
     "text": [
      "      REPORTYEAR COUNTRY   Liver  Kidney   Lung  Heart\n",
      "2412        2000   Spain   954.0  1938.0  138.0  353.0\n",
      "2413        2001   Spain   972.0  1924.0  143.0  341.0\n",
      "2414        2002   Spain  1033.0  2032.0  161.0  310.0\n",
      "2415        2003   Spain  1037.0  2051.0  145.0  290.0\n",
      "2416        2004   Spain  1040.0  2126.0  143.0  294.0\n",
      "2417        2005   Spain  1070.0  2200.0  167.0    NaN\n",
      "2418        2006   Spain  1051.0  2157.0  169.0  274.0\n",
      "2419        2007   Spain  1112.0  2211.0  185.0  241.0\n",
      "2420        2008   Spain  1108.0  2229.0  192.0  292.0\n",
      "2421        2009   Spain  1099.0  2328.0  219.0  274.0\n",
      "2422        2010   Spain   971.0  2225.0  235.0  243.0\n",
      "2423        2011   Spain  1137.0  2498.0  230.0  237.0\n",
      "2424        2012   Spain  1084.0  2551.0  238.0  247.0\n",
      "2425        2013   Spain  1093.0  2552.0  285.0  249.0\n",
      "2426        2014   Spain  1068.0  2678.0  262.0  265.0\n",
      "2935        2015   Spain  1162.0  2905.0  294.0  299.0\n",
      "3076        2016   Spain  1159.0  2997.0  307.0  281.0\n",
      "3165        2017   Spain  1247.0  3269.0  363.0  304.0\n",
      "3233        2018   Spain  1230.0  3313.0  369.0  321.0\n",
      "3332        2019   Spain  1227.0  3423.0  419.0  300.0\n",
      "3379        2020   Spain  1034.0  2702.0  336.0  278.0\n",
      "3515        2021   Spain  1078.0  2950.0  362.0  302.0\n",
      "3579        2022   Spain  1159.0  3404.0  415.0  311.0\n"
     ]
    }
   ],
   "source": [
    "import pandas as pd\n",
    "import os\n",
    "\n",
    "# Cargar el dataset\n",
    "df = pd.read_csv('./data/GODT.csv')\n",
    "\n",
    "# Filtrar el DataFrame para incluir solo los años de 2000 a 2022 y el país 'Spain'\n",
    "df_spain = df[(df['REPORTYEAR'] >= 2000) & (df['REPORTYEAR'] <= 2022) & (df['COUNTRY'] == 'Spain')]\n",
    "\n",
    "# Definir las columnas requeridas para el cálculo\n",
    "required_columns = ['TOTAL Liver TX', 'TOTAL Kidney Tx', 'TOTAL Lung Tx', 'Total Heart TX']\n",
    "\n",
    "# Renombrar las columnas para que tengan nombres más amigables\n",
    "df_spain = df_spain.rename(columns={\n",
    "    'TOTAL Liver TX': 'Liver',\n",
    "    'TOTAL Kidney Tx': 'Kidney',\n",
    "    'TOTAL Lung Tx': 'Lung',\n",
    "    'Total Heart TX': 'Heart'\n",
    "})\n",
    "\n",
    "# Seleccionar solo las columnas necesarias\n",
    "df_spain = df_spain[['REPORTYEAR', 'COUNTRY', 'Liver', 'Kidney', 'Lung', 'Heart']]\n",
    "\n",
    "# Calcular el número total de trasplantes por año y por país sumando las columnas requeridas\n",
    "df_spain['Total Transplants'] = df_spain[['Liver', 'Kidney', 'Lung', 'Heart']].sum(axis=1)\n",
    "\n",
    "# Eliminar la columna de total de trasplantes ya que no se necesita en el archivo de salida\n",
    "df_spain = df_spain.drop(columns=['Total Transplants'])\n",
    "\n",
    "# Crear una carpeta de salida si no existe\n",
    "output_folder = './data/out/spain/'\n",
    "os.makedirs(output_folder, exist_ok=True)\n",
    "\n",
    "# Guardar el DataFrame en un archivo CSV\n",
    "output_file = output_folder + 'total_transplants_by_type_spain_2000_2022.csv'\n",
    "df_spain.to_csv(output_file, index=False)\n",
    "\n",
    "# Mostrar los resultados\n",
    "print(df_spain)\n"
   ]
  },
  {
   "cell_type": "markdown",
   "metadata": {},
   "source": [
    "#### Evoluació temporal dels donants (pmp)"
   ]
  },
  {
   "cell_type": "code",
   "execution_count": 132,
   "metadata": {},
   "outputs": [
    {
     "name": "stdout",
     "output_type": "stream",
     "text": [
      "REPORTYEAR       2000       2001       2002       2003       2004       2005  \\\n",
      "COUNTRY                                                                        \n",
      "Spain       3396465.0  3345865.0  3531328.0  3510949.0  3637470.0  3587007.0   \n",
      "\n",
      "REPORTYEAR       2006       2007       2008       2009  ...       2013  \\\n",
      "COUNTRY                                                 ...              \n",
      "Spain       3476959.0  3555046.0  3535874.0  3576837.0  ...  3528785.0   \n",
      "\n",
      "REPORTYEAR       2014       2015       2016       2017       2018       2019  \\\n",
      "COUNTRY                                                                        \n",
      "Spain       3571125.0  4015184.0  4379610.0  4704741.0  4829741.0  4961207.0   \n",
      "\n",
      "REPORTYEAR       2020       2021       2022  \n",
      "COUNTRY                                      \n",
      "Spain       3797009.0  4079229.0  4702355.0  \n",
      "\n",
      "[1 rows x 23 columns]\n"
     ]
    }
   ],
   "source": [
    "import pandas as pd\n",
    "import os\n",
    "\n",
    "# Cargar el dataset\n",
    "df = pd.read_csv('./data/GODT.csv')\n",
    "\n",
    "# Filtrar el DataFrame para incluir solo los años de 2000 a 2022 y el país 'Spain'\n",
    "df_spain = df[(df['REPORTYEAR'] >= 2000) & (df['REPORTYEAR'] <= 2022) & (df['COUNTRY'] == 'Spain')]\n",
    "\n",
    "# Filtrar columnas relevantes\n",
    "df_spain = df_spain[['COUNTRY', 'REPORTYEAR', 'TOTAL Actual DD', 'POPULATION']]\n",
    "\n",
    "# Convertir la población a formato numérico (eliminar comas si existen)\n",
    "df_spain['POPULATION'] = df_spain['POPULATION'].str.replace(',', '').astype(float)\n",
    "\n",
    "# Calcular los donantes por millón de personas\n",
    "df_spain['Donors per Million'] = (df_spain['TOTAL Actual DD'] / df_spain['POPULATION']) * 1_000_000\n",
    "\n",
    "# Redondear los valores a dos decimales\n",
    "df_spain['Donors per Million'] = df_spain['Donors per Million'].round(0)  # Redondear a cero decimales\n",
    "\n",
    "# Pivoteo para tener los años como columnas\n",
    "pivot_df_spain = df_spain.pivot_table(index='COUNTRY', columns='REPORTYEAR', values='Donors per Million', aggfunc='sum', fill_value=0)\n",
    "\n",
    "# Ordenar las columnas por año\n",
    "pivot_df_spain = pivot_df_spain.reindex(sorted(pivot_df_spain.columns), axis=1)\n",
    "\n",
    "# Mostrar los resultados\n",
    "print(pivot_df_spain)\n",
    "\n",
    "# Crear una carpeta de salida si no existe\n",
    "output_folder = './data/out/spain/'\n",
    "os.makedirs(output_folder, exist_ok=True)\n",
    "\n",
    "# Guardar el resultado en un archivo CSV\n",
    "output_file_spain = output_folder + 'total_donors_per_million_by_year_spain.csv'\n",
    "pivot_df_spain.to_csv(output_file_spain)\n"
   ]
  },
  {
   "cell_type": "markdown",
   "metadata": {},
   "source": [
    "#### Evoluació temporal dels tipus de donants (pMp)"
   ]
  },
  {
   "cell_type": "code",
   "execution_count": 133,
   "metadata": {},
   "outputs": [
    {
     "name": "stdout",
     "output_type": "stream",
     "text": [
      "REPORTYEAR         2000    2001    2002    2003    2004    2005    2006  \\\n",
      "Donor Type                                                                \n",
      "Actual DBD          0.0     0.0     0.0  1387.0  1424.0  1475.0     0.0   \n",
      "Actual DCD          0.0     0.0     0.0    56.0    71.0    71.0    76.0   \n",
      "TOTAL Actual DD  1345.0  1335.0  1409.0  1443.0  1495.0  1546.0  1509.0   \n",
      "\n",
      "REPORTYEAR         2007    2008    2009  ...    2013    2014    2015    2016  \\\n",
      "Donor Type                               ...                                   \n",
      "Actual DBD       1462.0  1500.0  1499.0  ...  1496.0  1489.0  1537.0  1524.0   \n",
      "Actual DCD         88.0    77.0   107.0  ...   159.0   193.0   314.0   495.0   \n",
      "TOTAL Actual DD  1550.0  1577.0  1606.0  ...  1655.0  1682.0  1851.0  2019.0   \n",
      "\n",
      "REPORTYEAR         2017    2018    2019    2020    2021    2022  \n",
      "Donor Type                                                       \n",
      "Actual DBD       1610.0  1612.0  1557.0  1156.0  1243.0  1283.0  \n",
      "Actual DCD        573.0   629.0   745.0   621.0   662.0   913.0  \n",
      "TOTAL Actual DD  2183.0  2241.0  2302.0  1777.0  1905.0  2196.0  \n",
      "\n",
      "[3 rows x 23 columns]\n"
     ]
    }
   ],
   "source": [
    "import pandas as pd\n",
    "\n",
    "# Cargar el dataset\n",
    "df = pd.read_csv('./data/GODT.csv')\n",
    "\n",
    "# Filtrar el DataFrame para incluir solo el país 'Spain'\n",
    "df = df[df['COUNTRY'] == 'Spain']\n",
    "\n",
    "# Verificar las columnas de donantes actuales\n",
    "donor_columns = ['TOTAL Actual DD', 'Actual DBD', 'Actual DCD']\n",
    "\n",
    "# Crear un dataframe para almacenar los resultados\n",
    "result_df = pd.DataFrame(columns=['Donor Type', 'REPORTYEAR', 'Total'])\n",
    "\n",
    "# Calcular los totales de donantes por tipo y año\n",
    "for donor_type in donor_columns:\n",
    "    donor_totals_by_year = df.groupby('REPORTYEAR')[donor_type].sum().reset_index()\n",
    "    donor_totals_by_year['Donor Type'] = donor_type\n",
    "    donor_totals_by_year = donor_totals_by_year.rename(columns={donor_type: 'Total'})\n",
    "    \n",
    "    result_df = pd.concat([result_df, donor_totals_by_year], ignore_index=True)\n",
    "\n",
    "# Pivotar el dataframe para tener años como columnas y tipos de donant como filas\n",
    "pivot_df = result_df.pivot(index='Donor Type', columns='REPORTYEAR', values='Total')\n",
    "\n",
    "# Rellenar valores nulos con 0\n",
    "pivot_df = pivot_df.fillna(0)\n",
    "\n",
    "# Mostrar los resultados\n",
    "print(pivot_df)\n",
    "\n",
    "# Crear una carpeta de salida si no existe\n",
    "output_folder = './data/out/spain/'\n",
    "os.makedirs(output_folder, exist_ok=True)\n",
    "\n",
    "# Guardar el resultado en un archivo CSV\n",
    "output_file = output_folder + 'total_actual_donors_by_type_and_year_spain.csv'\n",
    "pivot_df.to_csv(output_file, index=True)\n"
   ]
  },
  {
   "cell_type": "markdown",
   "metadata": {},
   "source": [
    "#### Trasplants DBD vs Donants (pMp) - 2021"
   ]
  },
  {
   "cell_type": "code",
   "execution_count": 134,
   "metadata": {},
   "outputs": [
    {
     "name": "stdout",
     "output_type": "stream",
     "text": [
      "    REPORTYEAR  Utilized DBD  Actual DBD\n",
      "3         2003           0.0      1387.0\n",
      "4         2004           0.0      1424.0\n",
      "5         2005           0.0      1475.0\n",
      "7         2007           0.0      1462.0\n",
      "8         2008           0.0      1500.0\n",
      "9         2009        1317.0      1499.0\n",
      "10        2010           0.0      1372.0\n",
      "11        2011           0.0      1550.0\n",
      "12        2012           0.0      1482.0\n",
      "13        2013        1336.0      1496.0\n",
      "14        2014        1297.0      1489.0\n",
      "15        2015        1350.0      1537.0\n",
      "16        2016        1334.0      1524.0\n",
      "17        2017        1421.0      1610.0\n",
      "18        2018        1398.0      1612.0\n",
      "19        2019        1372.0      1557.0\n",
      "20        2020        1035.0      1156.0\n",
      "21        2021        1108.0      1243.0\n",
      "22        2022        1139.0      1283.0\n"
     ]
    }
   ],
   "source": [
    "import pandas as pd\n",
    "import os\n",
    "\n",
    "# Cargar el dataset\n",
    "df = pd.read_csv('./data/GODT.csv')\n",
    "\n",
    "# Filtrar datos solo para el país 'Spain' y los años entre 2000 y 2022\n",
    "df_spain = df[(df['COUNTRY'] == 'Spain') & (df['REPORTYEAR'].between(2000, 2022))]\n",
    "\n",
    "# Agrupar por año y calcular los totales de DBD utilizados y DBD totales\n",
    "totals_spain = df_spain.groupby('REPORTYEAR').agg({\n",
    "    'Utilized DBD': 'sum',\n",
    "    'Actual DBD': 'sum'\n",
    "}).reset_index()\n",
    "\n",
    "# Filtrar los años donde ambos valores (Utilized DBD y Actual DBD) son mayores que cero\n",
    "totals_spain = totals_spain[(totals_spain['Utilized DBD'] > 0) | (totals_spain['Actual DBD'] > 0)]\n",
    "\n",
    "# Crear una carpeta de salida si no existe\n",
    "output_folder = './data/out/spain/'\n",
    "os.makedirs(output_folder, exist_ok=True)\n",
    "\n",
    "# Guardar los resultados en un archivo CSV\n",
    "output_file = output_folder + 'totals_dbd_by_year_in_spain_filtered.csv'\n",
    "totals_spain.to_csv(output_file, index=False)\n",
    "\n",
    "# Mostrar los resultados por consola\n",
    "print(totals_spain)\n"
   ]
  },
  {
   "cell_type": "markdown",
   "metadata": {},
   "source": [
    "#### Trasplants DCD vs Donants (pMp) - 2021"
   ]
  },
  {
   "cell_type": "code",
   "execution_count": 135,
   "metadata": {},
   "outputs": [
    {
     "name": "stdout",
     "output_type": "stream",
     "text": [
      "    REPORTYEAR  Utilized DCD  Actual DCD\n",
      "3         2003           0.0        56.0\n",
      "4         2004           0.0        71.0\n",
      "5         2005           0.0        71.0\n",
      "6         2006           0.0        76.0\n",
      "7         2007           0.0        88.0\n",
      "8         2008           0.0        77.0\n",
      "9         2009          83.0       107.0\n",
      "10        2010           0.0       130.0\n",
      "11        2011           0.0       117.0\n",
      "12        2012           0.0       161.0\n",
      "13        2013         119.0       159.0\n",
      "14        2014         145.0       193.0\n",
      "15        2015         255.0       314.0\n",
      "16        2016         409.0       495.0\n",
      "17        2017         485.0       573.0\n",
      "18        2018         527.0       629.0\n",
      "19        2019         616.0       745.0\n",
      "20        2020         546.0       621.0\n",
      "21        2021         582.0       662.0\n",
      "22        2022         810.0       913.0\n"
     ]
    }
   ],
   "source": [
    "import pandas as pd\n",
    "\n",
    "# Cargar el dataset\n",
    "df = pd.read_csv('./data/GODT.csv')\n",
    "\n",
    "# Filtrar datos solo para el país 'Spain' y los años entre 2000 y 2022\n",
    "df_spain = df[(df['COUNTRY'] == 'Spain') & (df['REPORTYEAR'].between(2000, 2022))]\n",
    "\n",
    "# Agrupar por año y calcular los totales de DCD utilizados y DCD totales\n",
    "totals_spain = df_spain.groupby('REPORTYEAR').agg({\n",
    "    'Utilized DCD': 'sum',\n",
    "    'Actual DCD': 'sum'\n",
    "}).reset_index()\n",
    "\n",
    "# Filtrar los años donde ambos valores (Utilized DCD y Actual DCD) son mayores que cero\n",
    "totals_spain = totals_spain[(totals_spain['Utilized DCD'] > 0) | (totals_spain['Actual DCD'] > 0)]\n",
    "\n",
    "# Crear una carpeta de salida si no existe\n",
    "output_folder = './data/out/spain/'\n",
    "os.makedirs(output_folder, exist_ok=True)\n",
    "\n",
    "# Guardar los resultados en un archivo CSV\n",
    "output_file = output_folder + 'totals_dcd_by_year_in_spain_filtered.csv'\n",
    "totals_spain.to_csv(output_file, index=False)\n",
    "\n",
    "# Mostrar los resultados por consola\n",
    "print(totals_spain)\n"
   ]
  },
  {
   "cell_type": "markdown",
   "metadata": {},
   "source": [
    "#### Total de trasplants vs Donants per País al 2021"
   ]
  },
  {
   "cell_type": "code",
   "execution_count": 136,
   "metadata": {},
   "outputs": [
    {
     "name": "stdout",
     "output_type": "stream",
     "text": [
      "    REPORTYEAR  Total Utilized DD  TOTAL Actual DD\n",
      "0         2000                0.0           1345.0\n",
      "1         2001                0.0           1335.0\n",
      "2         2002                0.0           1409.0\n",
      "3         2003                0.0           1443.0\n",
      "4         2004                0.0           1495.0\n",
      "5         2005                0.0           1546.0\n",
      "6         2006                0.0           1509.0\n",
      "7         2007                0.0           1550.0\n",
      "8         2008                0.0           1577.0\n",
      "9         2009                0.0           1606.0\n",
      "10        2010                0.0           1502.0\n",
      "11        2011                0.0           1667.0\n",
      "12        2012                0.0           1643.0\n",
      "13        2013             1455.0           1655.0\n",
      "14        2014             1442.0           1682.0\n",
      "15        2015             1605.0           1851.0\n",
      "16        2016             1743.0           2019.0\n",
      "17        2017             1906.0           2183.0\n",
      "18        2018             1925.0           2241.0\n",
      "19        2019             1988.0           2302.0\n",
      "20        2020             1581.0           1777.0\n",
      "21        2021             1690.0           1905.0\n",
      "22        2022             1949.0           2196.0\n"
     ]
    }
   ],
   "source": [
    "import pandas as pd\n",
    "import os\n",
    "\n",
    "# Cargar el dataset\n",
    "df = pd.read_csv('./data/GODT.csv')\n",
    "\n",
    "# Filtrar datos solo para el país 'Spain' y todos los años disponibles\n",
    "df_spain = df[(df['COUNTRY'] == 'Spain')]\n",
    "\n",
    "# Agrupar por año y calcular los totales de DD utilizados y DD totales\n",
    "totals_spain = df_spain.groupby('REPORTYEAR').agg({\n",
    "    'Total Utilized DD': 'sum',\n",
    "    'TOTAL Actual DD': 'sum'\n",
    "}).reset_index()\n",
    "\n",
    "# Filtrar los años donde ambos valores (Total Utilized DD y TOTAL Actual DD) son mayores que cero\n",
    "totals_spain = totals_spain[(totals_spain['Total Utilized DD'] > 0) | (totals_spain['TOTAL Actual DD'] > 0)]\n",
    "\n",
    "# Crear una carpeta de salida si no existe\n",
    "output_folder = './data/out/spain/'\n",
    "os.makedirs(output_folder, exist_ok=True)\n",
    "\n",
    "# Guardar los resultados en un archivo CSV\n",
    "output_file = output_folder + 'totals_dd_by_year_in_spain_filtered.csv'\n",
    "totals_spain.to_csv(output_file, index=False)\n",
    "\n",
    "# Mostrar los resultados por consola\n",
    "print(totals_spain)\n"
   ]
  },
  {
   "cell_type": "markdown",
   "metadata": {},
   "source": [
    "## 5. Reflexió: Aprenentatge i limitacions\n",
    "\n",
    "### Aprenentatges del conjunt de dades\n",
    "\n",
    "- **Disparitat Geogràfica**: Disparitat mundial en l’accés als trasplants.\n",
    "- **Variables Clau**: Hem identificat les variables clau que proporcionen informació detallada sobre l'activitat de donació i trasplantament d'òrgans, com ara:\n",
    "    - Tipus específics de donants (DBD, DCD).\n",
    "    - Trasplantaments d'òrgans (ronyó, fetge, cor, pulmó).\n",
    "    - Bona taxa de trasplantaments que hi han a Europa i a Espanya i Catalunya en particular.\n",
    "\n",
    "### M’hauria agradat\n",
    "\n",
    "- Poder comparar diferents comunitats de l’Estat espanyol en quant a donants i trasplants.\n",
    "- Veure la taxa de supervivència de cada un dels trasplants.\n",
    "\n",
    "### Altres limitacions\n",
    "\n",
    "- Infogram només puc fer servir 5 slides. El tamany és massa gran i el responsive no és gaire bó.no és gaire bó.\r\n",
    "\n"
   ]
  },
  {
   "cell_type": "markdown",
   "metadata": {
    "_cell_guid": "f9595646-65c9-6fc4-395f-0befc4d122ce",
    "_uuid": "5b1f0ef3e9f2445a178fd08cab9efc728be5d88c"
   },
   "source": [
    "## 6. Diccionari de les variables"
   ]
  },
  {
   "cell_type": "markdown",
   "metadata": {
    "_cell_guid": "5e70f81c-d4e2-1823-f0ba-a7c9b46984ff",
    "_uuid": "9e94f377872ad527e9686b5bcfffb29c19d37330"
   },
   "source": [
    "#### `REGION`  \n",
    "Dada categòrica (que podem fer servir com a geogràfica). Identifica la regió mundial del registre. Per exemple tenim Africa, Europe, Eastern Mediterranean..."
   ]
  },
  {
   "cell_type": "markdown",
   "metadata": {
    "_cell_guid": "5e70f81c-d4e2-1823-f0ba-a7c9b46984ff",
    "_uuid": "9e94f377872ad527e9686b5bcfffb29c19d37330"
   },
   "source": [
    "#### `COUNTRY`  \n",
    "Dada categòrica (també pot fer-se servir com a geogràfica). És el país del registre. "
   ]
  },
  {
   "cell_type": "markdown",
   "metadata": {
    "_cell_guid": "5e70f81c-d4e2-1823-f0ba-a7c9b46984ff",
    "_uuid": "9e94f377872ad527e9686b5bcfffb29c19d37330"
   },
   "source": [
    "#### `REPORTYEAR`  \n",
    "Dada que encara que sigui un nombre, la farem servir com a categòrica. Any del registre."
   ]
  },
  {
   "cell_type": "markdown",
   "metadata": {
    "_cell_guid": "5e70f81c-d4e2-1823-f0ba-a7c9b46984ff",
    "_uuid": "9e94f377872ad527e9686b5bcfffb29c19d37330"
   },
   "source": [
    "**Nota: A partir d'ara totes les dades són numèriques.**"
   ]
  },
  {
   "cell_type": "markdown",
   "metadata": {
    "_cell_guid": "5e70f81c-d4e2-1823-f0ba-a7c9b46984ff",
    "_uuid": "9e94f377872ad527e9686b5bcfffb29c19d37330"
   },
   "source": [
    "#### `POPULATION`  \n",
    "Població del país en milions d'habitants"
   ]
  },
  {
   "cell_type": "markdown",
   "metadata": {
    "_cell_guid": "5e70f81c-d4e2-1823-f0ba-a7c9b46984ff",
    "_uuid": "9e94f377872ad527e9686b5bcfffb29c19d37330"
   },
   "source": [
    "#### `TOTAL Actual DD`  \n",
    "Total de donants difunts."
   ]
  },
  {
   "cell_type": "markdown",
   "metadata": {
    "_cell_guid": "5e70f81c-d4e2-1823-f0ba-a7c9b46984ff",
    "_uuid": "9e94f377872ad527e9686b5bcfffb29c19d37330"
   },
   "source": [
    "#### `Actual DBD`  \n",
    "Total de donants difunts per mort cerebral (Deceased Donor Brain Dead). "
   ]
  },
  {
   "cell_type": "markdown",
   "metadata": {
    "_cell_guid": "5e70f81c-d4e2-1823-f0ba-a7c9b46984ff",
    "_uuid": "9e94f377872ad527e9686b5bcfffb29c19d37330"
   },
   "source": [
    "#### `Actual DCD`  \n",
    "Total de donants difunts per aturada cardíaca (Deceased Donor Cardiac Death)."
   ]
  },
  {
   "cell_type": "markdown",
   "metadata": {
    "_cell_guid": "5e70f81c-d4e2-1823-f0ba-a7c9b46984ff",
    "_uuid": "9e94f377872ad527e9686b5bcfffb29c19d37330"
   },
   "source": [
    "#### `Total Utilized DD`  \n",
    "Total de donants difunts utilitzats."
   ]
  },
  {
   "cell_type": "markdown",
   "metadata": {
    "_cell_guid": "5e70f81c-d4e2-1823-f0ba-a7c9b46984ff",
    "_uuid": "9e94f377872ad527e9686b5bcfffb29c19d37330"
   },
   "source": [
    "#### `Utilized DBD`\n",
    "Donants difunts per mort cerebral usats."
   ]
  },
  {
   "cell_type": "markdown",
   "metadata": {
    "_cell_guid": "5e70f81c-d4e2-1823-f0ba-a7c9b46984ff",
    "_uuid": "9e94f377872ad527e9686b5bcfffb29c19d37330",
    "jp-MarkdownHeadingCollapsed": true
   },
   "source": [
    "#### `Utilized DCD`\n",
    "Donants difunts per aturada cardíaca usats."
   ]
  },
  {
   "cell_type": "markdown",
   "metadata": {
    "_cell_guid": "5e70f81c-d4e2-1823-f0ba-a7c9b46984ff",
    "_uuid": "9e94f377872ad527e9686b5bcfffb29c19d37330"
   },
   "source": [
    "#### `DD Kidney Tx`\n",
    "Trasplantaments de ronyó de donants difunts."
   ]
  },
  {
   "cell_type": "markdown",
   "metadata": {
    "_cell_guid": "5e70f81c-d4e2-1823-f0ba-a7c9b46984ff",
    "_uuid": "9e94f377872ad527e9686b5bcfffb29c19d37330"
   },
   "source": [
    "#### `LD Kidney Tx`\n",
    "Trasplantaments de ronyó de donants vius."
   ]
  },
  {
   "cell_type": "markdown",
   "metadata": {
    "_cell_guid": "5e70f81c-d4e2-1823-f0ba-a7c9b46984ff",
    "_uuid": "9e94f377872ad527e9686b5bcfffb29c19d37330"
   },
   "source": [
    "#### `TOTAL Kidney Tx`\n",
    "Total de trasplantaments de ronyó"
   ]
  },
  {
   "cell_type": "markdown",
   "metadata": {
    "_cell_guid": "5e70f81c-d4e2-1823-f0ba-a7c9b46984ff",
    "_uuid": "9e94f377872ad527e9686b5bcfffb29c19d37330"
   },
   "source": [
    "#### `DD Liver Tx`\n",
    "Trasplantaments de fetge de donants difunts."
   ]
  },
  {
   "cell_type": "markdown",
   "metadata": {
    "_cell_guid": "5e70f81c-d4e2-1823-f0ba-a7c9b46984ff",
    "_uuid": "9e94f377872ad527e9686b5bcfffb29c19d37330"
   },
   "source": [
    "#### `DOMINO Liver Tx` \n",
    "Trasplantaments de fetge tipus domino. Dos receptors per un sol fetge."
   ]
  },
  {
   "cell_type": "markdown",
   "metadata": {
    "_cell_guid": "5e70f81c-d4e2-1823-f0ba-a7c9b46984ff",
    "_uuid": "9e94f377872ad527e9686b5bcfffb29c19d37330"
   },
   "source": [
    "#### `LD Liver Tx`  \n",
    "Trasplantaments de fetge de donants vius."
   ]
  },
  {
   "cell_type": "markdown",
   "metadata": {
    "_cell_guid": "5e70f81c-d4e2-1823-f0ba-a7c9b46984ff",
    "_uuid": "9e94f377872ad527e9686b5bcfffb29c19d37330"
   },
   "source": [
    "#### `TOTAL Liver TX`  \n",
    "Total de trasplantaments de fetge."
   ]
  },
  {
   "cell_type": "markdown",
   "metadata": {
    "_cell_guid": "5e70f81c-d4e2-1823-f0ba-a7c9b46984ff",
    "_uuid": "9e94f377872ad527e9686b5bcfffb29c19d37330"
   },
   "source": [
    "#### `Total Heart TX`  \n",
    "Total de trasplantaments de cor."
   ]
  },
  {
   "cell_type": "markdown",
   "metadata": {
    "_cell_guid": "5e70f81c-d4e2-1823-f0ba-a7c9b46984ff",
    "_uuid": "9e94f377872ad527e9686b5bcfffb29c19d37330"
   },
   "source": [
    "#### `DD Lung Tx`  \n",
    "Trasplantaments de pulmó de donants difunts."
   ]
  },
  {
   "cell_type": "markdown",
   "metadata": {
    "_cell_guid": "5e70f81c-d4e2-1823-f0ba-a7c9b46984ff",
    "_uuid": "9e94f377872ad527e9686b5bcfffb29c19d37330"
   },
   "source": [
    "#### `LD Lung Tx`  \n",
    "Trasplantaments de pulmó de donants vius."
   ]
  },
  {
   "cell_type": "markdown",
   "metadata": {
    "_cell_guid": "5e70f81c-d4e2-1823-f0ba-a7c9b46984ff",
    "_uuid": "9e94f377872ad527e9686b5bcfffb29c19d37330"
   },
   "source": [
    "#### `TOTAL Lung Tx` \n",
    "Total de trasplantaments de pulmó."
   ]
  },
  {
   "cell_type": "markdown",
   "metadata": {
    "_cell_guid": "5e70f81c-d4e2-1823-f0ba-a7c9b46984ff",
    "_uuid": "9e94f377872ad527e9686b5bcfffb29c19d37330"
   },
   "source": [
    "#### `Pancreas Tx`  \n",
    "Trasplantaments de pàncrees."
   ]
  },
  {
   "cell_type": "markdown",
   "metadata": {
    "_cell_guid": "5e70f81c-d4e2-1823-f0ba-a7c9b46984ff",
    "_uuid": "9e94f377872ad527e9686b5bcfffb29c19d37330"
   },
   "source": [
    "#### `Kidney Pancreas Tx`  \n",
    "Trasplantaments de ronyó i pàncrees."
   ]
  },
  {
   "cell_type": "markdown",
   "metadata": {
    "_cell_guid": "5e70f81c-d4e2-1823-f0ba-a7c9b46984ff",
    "_uuid": "9e94f377872ad527e9686b5bcfffb29c19d37330"
   },
   "source": [
    "#### `Small Bowel Tx`  \n",
    "Trasplantaments d'intestí prim."
   ]
  },
  {
   "cell_type": "markdown",
   "metadata": {},
   "source": [
    "## Noves dades:\n"
   ]
  },
  {
   "cell_type": "markdown",
   "metadata": {
    "_cell_guid": "5e70f81c-d4e2-1823-f0ba-a7c9b46984ff",
    "_uuid": "9e94f377872ad527e9686b5bcfffb29c19d37330"
   },
   "source": [
    "#### `Transplant Rate per 100k`  \n",
    "Total de trasplantaments de cor."
   ]
  },
  {
   "cell_type": "markdown",
   "metadata": {
    "_cell_guid": "5e70f81c-d4e2-1823-f0ba-a7c9b46984ff",
    "_uuid": "9e94f377872ad527e9686b5bcfffb29c19d37330"
   },
   "source": [
    "#### `Transplant Rate per 100k`  \n",
    "Taxa de trasplantaments d'òrgans per cada 100.000 habitants a cada país o regió."
   ]
  },
  {
   "cell_type": "markdown",
   "metadata": {
    "_cell_guid": "5e70f81c-d4e2-1823-f0ba-a7c9b46984ff",
    "_uuid": "9e94f377872ad527e9686b5bcfffb29c19d37330"
   },
   "source": [
    "#### `Donor Ratio by Transplant Type`  \n",
    "Proporció d'utilització de donants (sigui DBD o DCD) per a cada tipus de trasplantament d'òrgan (ronyó, fetge, cor, etc.)."
   ]
  },
  {
   "cell_type": "markdown",
   "metadata": {
    "_cell_guid": "5e70f81c-d4e2-1823-f0ba-a7c9b46984ff",
    "_uuid": "9e94f377872ad527e9686b5bcfffb29c19d37330"
   },
   "source": [
    "#### `Total Utilized LD`  \n",
    "Total de donants difunts utilitzats, sumant LD Kidney Tx, LD Liver Tx i LD Lung Tx"
   ]
  },
  {
   "cell_type": "markdown",
   "metadata": {},
   "source": [
    "Les dades seran enriquides, però no amb noves dades sinó calculant altres dades a partir de les que tenim."
   ]
  },
  {
   "cell_type": "markdown",
   "metadata": {},
   "source": [
    "## Cita de les dades"
   ]
  },
  {
   "cell_type": "markdown",
   "metadata": {},
   "source": [
    "* Those 2023 data are based on the Global Observatory on Donation and Transplantation (GODT) data, produced by the WHO-ONT collaboration.\n",
    "* Data of the WHO-ONT Global Observatory on Donation and Transplantation.\n",
    "* [Use of the Data](https://www.transplant-observatory.org/uses-of-dataquoting-data/)"
   ]
  },
  {
   "cell_type": "markdown",
   "metadata": {},
   "source": [
    "<!--Footer-->\n",
    " <div style=\"background: #333333;padding: 35px 0px;margin-top: 25px;\">\n",
    "    <div class=\"row\">\n",
    "     <div class=\"col-sm-12\">\n",
    "        <img src=\"http://materials.cv.uoc.edu/cdocent/common/img/logo-uoc-bottom.png\" alt=\"Logo UOC\" class=\"img-responsive\" style=\"margin: 0 auto; display: block;\">\n",
    "    </div>\n",
    "</div>\n",
    "</div>\n",
    "<!--/Footer-->"
   ]
  }
 ],
 "metadata": {
  "_change_revision": 0,
  "_is_fork": false,
  "kernelspec": {
   "display_name": "Python 3 (ipykernel)",
   "language": "python",
   "name": "python3"
  },
  "language_info": {
   "codemirror_mode": {
    "name": "ipython",
    "version": 3
   },
   "file_extension": ".py",
   "mimetype": "text/x-python",
   "name": "python",
   "nbconvert_exporter": "python",
   "pygments_lexer": "ipython3",
   "version": "3.11.7"
  }
 },
 "nbformat": 4,
 "nbformat_minor": 4
}
