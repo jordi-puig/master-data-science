{
 "cells": [
  {
   "cell_type": "markdown",
   "metadata": {
    "nbpresent": {
     "id": "ea6cb8e6-4d3d-45c8-abc9-44f65205068f"
    }
   },
   "source": [
    "<!--Header-->\n",
    "<div>\n",
    "    <div class=\"row\" style=\"color: #4D4D4D;font-size: 15px;padding-bottom: 20px\">\n",
    "        <div class=\"col-md-7\">\n",
    "            <img src=\"http://materials.cv.uoc.edu/cdocent/common/img/logo-uoc.png\" alt=\"Logo UOC\" class=\"img-responsive\" style=\"margin:20px 0px 0px\">\n",
    "        </div>\n",
    "        <div class=\"col-md-5\">\n",
    "            <h1 style=\"margin:15px 0px 0px;font-size: 40px;\">Combinació de classificadors: Bagging</h1>\n",
    "            <div style=\"text-align:left;margin-top: 5px;\"></div>\n",
    "        </div>\n",
    "    </div>\n",
    "    <div class=\"row\" style=\"background: #FCB517;padding: 10px 20px;\">\n",
    "        <div class=\"col-md-6\">\n",
    "            <div>PID_00233252</div>\n",
    "        </div>\n",
    "        <div class=\"col-md-6\">\n",
    "            <div style=\"text-align:right;\">Autor: Xavier Duran Albareda <span style=\"margin-left: 30px;\">Coordinació: Julià Minguillón</span></div>\n",
    "        </div>\n",
    "    </div>\n",
    "</div>\n",
    "<!--/Header-->"
   ]
  },
  {
   "cell_type": "markdown",
   "metadata": {},
   "source": [
    "## Introducció"
   ]
  },
  {
   "cell_type": "markdown",
   "metadata": {},
   "source": [
    "En aquest exemple, adaptat del llibre [Minería de datos, algoritmos y modelos](http://oer.uoc.edu/libroMD/), es mostra com generar un classificador arbre de decisió i com millorar-lo amb tècniques de bagging.\n",
    "\n",
    "Les dades analitzades corresponen al _dataset_ [Breast Cancer Wisconsin (Diagnostic) Data Set](https://www.kaggle.com/uciml/breast-cancer-wisconsin-data)."
   ]
  },
  {
   "cell_type": "markdown",
   "metadata": {},
   "source": [
    "### Instal·lar els paquets necessaris en cas de no tenir-los"
   ]
  },
  {
   "cell_type": "code",
   "execution_count": 1,
   "metadata": {},
   "outputs": [
    {
     "name": "stderr",
     "output_type": "stream",
     "text": [
      "Loading required package: mlbench\n",
      "Loading required package: caret\n",
      "Loading required package: lattice\n",
      "Loading required package: ggplot2\n",
      "Loading required package: caretEnsemble\n",
      "\n",
      "Attaching package: ‘caretEnsemble’\n",
      "\n",
      "The following object is masked from ‘package:ggplot2’:\n",
      "\n",
      "    autoplot\n",
      "\n",
      "Loading required package: e1071\n",
      "Loading required package: rpart\n",
      "Loading required package: ipred\n",
      "Loading required package: plyr\n"
     ]
    }
   ],
   "source": [
    "if(!require(mlbench)){\n",
    "    install.packages('mlbench',repos='http://cran.es.r-project.org')\n",
    "    require(mlbench)\n",
    "}\n",
    "if(!require(caret)){\n",
    "    install.packages('caret',repos='http://cran.es.r-project.org')\n",
    "    require(caret)\n",
    "}\n",
    "if(!require(caretEnsemble)){\n",
    "    install.packages('caretEnsemble',repos='http://cran.es.r-project.org')\n",
    "    require(caretEnsemble)\n",
    "}\n",
    "if(!require(e1071)){\n",
    "    install.packages('e1071',repos='http://cran.es.r-project.org')\n",
    "    require(e1071)\n",
    "}\n",
    "if(!require(rpart)){\n",
    "    install.packages('rpart',repos='http://cran.es.r-project.org')\n",
    "    require(rpart)\n",
    "}\n",
    "if(!require(ipred)){\n",
    "    install.packages('ipred',repos='http://cran.es.r-project.org')\n",
    "    require(ipred)\n",
    "}\n",
    "if(!require(plyr)){\n",
    "    install.packages('plyr',repos='http://cran.es.r-project.org')\n",
    "    require(plyr)\n",
    "}\n",
    "set.seed(17)"
   ]
  },
  {
   "cell_type": "markdown",
   "metadata": {
    "nbpresent": {
     "id": "fafb1f54-b4ab-4c2e-bc0d-c723f2c6814d"
    }
   },
   "source": [
    "### Càrrega de les dades"
   ]
  },
  {
   "cell_type": "code",
   "execution_count": 2,
   "metadata": {
    "nbpresent": {
     "id": "352d9955-18b6-49b7-a343-102b723bf3cd"
    }
   },
   "outputs": [
    {
     "data": {
      "text/html": [
       "<ol class=list-inline>\n",
       "\t<li>699</li>\n",
       "\t<li>11</li>\n",
       "</ol>\n"
      ],
      "text/latex": [
       "\\begin{enumerate*}\n",
       "\\item 699\n",
       "\\item 11\n",
       "\\end{enumerate*}\n"
      ],
      "text/markdown": [
       "1. 699\n",
       "2. 11\n",
       "\n",
       "\n"
      ],
      "text/plain": [
       "[1] 699  11"
      ]
     },
     "metadata": {},
     "output_type": "display_data"
    }
   ],
   "source": [
    "wdbc <- read.table(\n",
    "    url(\"https://archive.ics.uci.edu/ml/machine-learning-databases/breast-cancer-wisconsin/breast-cancer-wisconsin.data\"),\n",
    "    sep=\",\",\n",
    "    header=FALSE)\n",
    "dim(wdbc)"
   ]
  },
  {
   "cell_type": "markdown",
   "metadata": {},
   "source": [
    "### Preparació de les dades"
   ]
  },
  {
   "cell_type": "code",
   "execution_count": 3,
   "metadata": {},
   "outputs": [],
   "source": [
    "wdbc$V7[wdbc$V7 == '?'] <- NA\n",
    "wdbc$V7 <- as.numeric(wdbc$V7)\n",
    "wdbc=wdbc[complete.cases(wdbc),]\n",
    "dataset <- wdbc[,(2:11)]"
   ]
  },
  {
   "cell_type": "markdown",
   "metadata": {},
   "source": [
    "### Paràmetres de creació del model\n",
    "\n",
    "Utilitzarem la mètrica _Accuracy_ que mesura el percentatge d'instàncies correctes sobre el total. Farem la validació creuada o _crossvalidation_ amb 10 _folds_."
   ]
  },
  {
   "cell_type": "code",
   "execution_count": 4,
   "metadata": {},
   "outputs": [],
   "source": [
    "control <- trainControl(method=\"repeatedcv\", number=10, repeats=3, savePredictions = TRUE)\n",
    "metric <- \"Accuracy\""
   ]
  },
  {
   "cell_type": "markdown",
   "metadata": {
    "collapsed": true
   },
   "source": [
    "### Creem un primer model d'arbre"
   ]
  },
  {
   "cell_type": "code",
   "execution_count": 5,
   "metadata": {},
   "outputs": [],
   "source": [
    "model.cart <- train(as.factor(V11)~., data=dataset, method=\"rpart\", metric=metric, trControl=control)"
   ]
  },
  {
   "cell_type": "markdown",
   "metadata": {},
   "source": [
    "### Matriu de confusió"
   ]
  },
  {
   "cell_type": "code",
   "execution_count": 6,
   "metadata": {},
   "outputs": [
    {
     "data": {
      "text/plain": [
       "Cross-Validated (10 fold, repeated 3 times) Confusion Matrix \n",
       "\n",
       "(entries are percentual average cell counts across resamples)\n",
       " \n",
       "          Reference\n",
       "Prediction    2    4\n",
       "         2 61.5  2.8\n",
       "         4  3.5 32.2\n",
       "                            \n",
       " Accuracy (average) : 0.9375\n"
      ]
     },
     "metadata": {},
     "output_type": "display_data"
    }
   ],
   "source": [
    "confusionMatrix(model.cart)"
   ]
  },
  {
   "cell_type": "markdown",
   "metadata": {},
   "source": [
    "###  Mostrem les característiques del model"
   ]
  },
  {
   "cell_type": "code",
   "execution_count": 7,
   "metadata": {
    "scrolled": false
   },
   "outputs": [
    {
     "name": "stdout",
     "output_type": "stream",
     "text": [
      "CART \n",
      "\n",
      "683 samples\n",
      "  9 predictor\n",
      "  2 classes: '2', '4' \n",
      "\n",
      "No pre-processing\n",
      "Resampling: Cross-Validated (10 fold, repeated 3 times) \n",
      "Summary of sample sizes: 615, 615, 615, 614, 615, 614, ... \n",
      "Resampling results across tuning parameters:\n",
      "\n",
      "  cp          Accuracy   Kappa    \n",
      "  0.02092050  0.9375380  0.8636275\n",
      "  0.05439331  0.9209633  0.8278766\n",
      "  0.79079498  0.8381190  0.5828366\n",
      "\n",
      "Accuracy was used to select the optimal model using the largest value.\n",
      "The final value used for the model was cp = 0.0209205.\n"
     ]
    }
   ],
   "source": [
    "print(model.cart)"
   ]
  },
  {
   "cell_type": "code",
   "execution_count": 8,
   "metadata": {},
   "outputs": [
    {
     "data": {
      "image/png": "[encoded data removed]",
      "text/plain": [
       "plot without title"
      ]
     },
     "metadata": {},
     "output_type": "display_data"
    }
   ],
   "source": [
    "plot(model.cart)"
   ]
  },
  {
   "cell_type": "code",
   "execution_count": 9,
   "metadata": {},
   "outputs": [
    {
     "data": {
      "image/png": "[encoded data removed]",
      "text/plain": [
       "plot without title"
      ]
     },
     "metadata": {},
     "output_type": "display_data"
    }
   ],
   "source": [
    "ctreeVarImp = varImp(model.cart)\n",
    "plot(ctreeVarImp)"
   ]
  },
  {
   "cell_type": "markdown",
   "metadata": {},
   "source": [
    "### Creem un arbre amb el mètode bagged"
   ]
  },
  {
   "cell_type": "code",
   "execution_count": 10,
   "metadata": {},
   "outputs": [],
   "source": [
    "model.treebag <- train(as.factor(V11)~., data=dataset, method=\"treebag\",metric=metric, trControl=control)"
   ]
  },
  {
   "cell_type": "markdown",
   "metadata": {},
   "source": [
    "### Matriu de confusió"
   ]
  },
  {
   "cell_type": "code",
   "execution_count": 11,
   "metadata": {},
   "outputs": [
    {
     "data": {
      "text/plain": [
       "Cross-Validated (10 fold, repeated 3 times) Confusion Matrix \n",
       "\n",
       "(entries are percentual average cell counts across resamples)\n",
       " \n",
       "          Reference\n",
       "Prediction    2    4\n",
       "         2 62.6  2.1\n",
       "         4  2.4 32.9\n",
       "                            \n",
       " Accuracy (average) : 0.9551\n"
      ]
     },
     "metadata": {},
     "output_type": "display_data"
    }
   ],
   "source": [
    "confusionMatrix(model.treebag)"
   ]
  },
  {
   "cell_type": "markdown",
   "metadata": {},
   "source": [
    "###  Mostrem les característiques del model"
   ]
  },
  {
   "cell_type": "code",
   "execution_count": 12,
   "metadata": {
    "scrolled": true
   },
   "outputs": [
    {
     "name": "stdout",
     "output_type": "stream",
     "text": [
      "Bagged CART \n",
      "\n",
      "683 samples\n",
      "  9 predictor\n",
      "  2 classes: '2', '4' \n",
      "\n",
      "No pre-processing\n",
      "Resampling: Cross-Validated (10 fold, repeated 3 times) \n",
      "Summary of sample sizes: 614, 614, 615, 615, 615, 615, ... \n",
      "Resampling results:\n",
      "\n",
      "  Accuracy   Kappa    \n",
      "  0.9550647  0.9015175\n",
      "\n"
     ]
    }
   ],
   "source": [
    "print(model.treebag)"
   ]
  },
  {
   "cell_type": "code",
   "execution_count": 13,
   "metadata": {},
   "outputs": [
    {
     "data": {
      "image/png": "[encoded data removed]",
      "text/plain": [
       "plot without title"
      ]
     },
     "metadata": {},
     "output_type": "display_data"
    }
   ],
   "source": [
    "ctreeVarImp = varImp(model.treebag)\n",
    "plot(ctreeVarImp)"
   ]
  },
  {
   "cell_type": "markdown",
   "metadata": {},
   "source": [
    "### Sumaritzem i comparem ambdos models"
   ]
  },
  {
   "cell_type": "code",
   "execution_count": 14,
   "metadata": {
    "scrolled": true
   },
   "outputs": [
    {
     "data": {
      "text/plain": [
       "\n",
       "Call:\n",
       "summary.resamples(object = bagging_results)\n",
       "\n",
       "Models: treebag, cart \n",
       "Number of resamples: 30 \n",
       "\n",
       "Accuracy \n",
       "             Min.   1st Qu.    Median      Mean   3rd Qu. Max. NA's\n",
       "treebag 0.8970588 0.9411765 0.9562020 0.9550647 0.9705882    1    0\n",
       "cart    0.8970588 0.9264706 0.9275362 0.9375380 0.9557177    1    0\n",
       "\n",
       "Kappa \n",
       "             Min.   1st Qu.    Median      Mean   3rd Qu. Max. NA's\n",
       "treebag 0.7680312 0.8725682 0.9020986 0.9015175 0.9352953    1    0\n",
       "cart    0.7816514 0.8387097 0.8426390 0.8636275 0.9016055    1    0\n"
      ]
     },
     "metadata": {},
     "output_type": "display_data"
    }
   ],
   "source": [
    "bagging_results <- resamples(list(treebag=model.treebag, cart=model.cart))\n",
    "summary(bagging_results)"
   ]
  },
  {
   "cell_type": "code",
   "execution_count": 15,
   "metadata": {},
   "outputs": [
    {
     "data": {
      "image/png": "[encoded data removed]",
      "text/plain": [
       "plot without title"
      ]
     },
     "metadata": {},
     "output_type": "display_data"
    }
   ],
   "source": [
    "dotplot(bagging_results)"
   ]
  },
  {
   "cell_type": "markdown",
   "metadata": {},
   "source": [
    "<!--Footer-->\n",
    " <div style=\"background: #333333;padding: 35px 0px;margin-top: 25px;\">\n",
    "    <div class=\"row\">\n",
    "     <div class=\"col-sm-12\">\n",
    "        <img src=\"http://materials.cv.uoc.edu/cdocent/common/img/logo-uoc-bottom.png\" alt=\"Logo UOC\" class=\"img-responsive\" style=\"margin: 0 auto; display: block;\">\n",
    "    </div>\n",
    "</div>\n",
    "</div>\n",
    "<!--/Footer-->"
   ]
  }
 ],
 "metadata": {
  "anaconda-cloud": {},
  "kernelspec": {
   "display_name": "R",
   "language": "R",
   "name": "ir"
  },
  "language_info": {
   "codemirror_mode": "r",
   "file_extension": ".r",
   "mimetype": "text/x-r-source",
   "name": "R",
   "pygments_lexer": "r",
   "version": "3.4.4"
  }
 },
 "nbformat": 4,
 "nbformat_minor": 1
}
