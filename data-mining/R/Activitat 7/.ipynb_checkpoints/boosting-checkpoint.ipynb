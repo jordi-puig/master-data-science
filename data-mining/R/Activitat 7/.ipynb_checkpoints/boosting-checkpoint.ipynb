{
 "cells": [
  {
   "cell_type": "markdown",
   "metadata": {
    "nbpresent": {
     "id": "ea6cb8e6-4d3d-45c8-abc9-44f65205068f"
    }
   },
   "source": [
    "<!--Header-->\n",
    "<div>\n",
    "    <div class=\"row\" style=\"color: #4D4D4D;font-size: 15px;padding-bottom: 20px\">\n",
    "        <div class=\"col-md-7\">\n",
    "            <img src=\"http://materials.cv.uoc.edu/cdocent/common/img/logo-uoc.png\" alt=\"Logo UOC\" class=\"img-responsive\" style=\"margin:20px 0px 0px\">\n",
    "        </div>\n",
    "        <div class=\"col-md-5\">\n",
    "            <h1 style=\"margin:15px 0px 0px;font-size: 40px;\">Combinació de classificadors: Boosting</h1>\n",
    "            <div style=\"text-align:left;margin-top: 5px;\"></div>\n",
    "        </div>\n",
    "    </div>\n",
    "    <div class=\"row\" style=\"background: #FCB517;padding: 10px 20px;\">\n",
    "        <div class=\"col-md-6\">\n",
    "            <div>PID_00233252</div>\n",
    "        </div>\n",
    "        <div class=\"col-md-6\">\n",
    "            <div style=\"text-align:right;\">Autor: Xavier Duran Albareda <span style=\"margin-left: 30px;\">Coordinació: Julià Minguillón</span></div>\n",
    "        </div>\n",
    "    </div>\n",
    "</div>\n",
    "<!--/Header-->"
   ]
  },
  {
   "cell_type": "markdown",
   "metadata": {},
   "source": [
    "## Introducció"
   ]
  },
  {
   "cell_type": "markdown",
   "metadata": {},
   "source": [
    "En aquest exemple, adaptat del llibre [Minería de datos, algoritmos y modelos](http://oer.uoc.edu/libroMD/), es mostra com generar un classificador arbre de decisió i com millorar-lo amb tècniques de boosting.\n",
    "\n",
    "Les dades analitzades corresponen al _dataset_ [Breast Cancer Wisconsin (Diagnostic) Data Set](https://www.kaggle.com/uciml/breast-cancer-wisconsin-data)."
   ]
  },
  {
   "cell_type": "markdown",
   "metadata": {},
   "source": [
    "### Instal·lar els paquets necessaris en cas de no tenir-los"
   ]
  },
  {
   "cell_type": "code",
   "execution_count": 1,
   "metadata": {},
   "outputs": [
    {
     "name": "stderr",
     "output_type": "stream",
     "text": [
      "Loading required package: caret\n",
      "Loading required package: lattice\n",
      "Loading required package: ggplot2\n",
      "Loading required package: C50\n",
      "Loading required package: plyr\n"
     ]
    }
   ],
   "source": [
    "if(!require(caret)){\n",
    "    install.packages('caret',repos='http://cran.es.r-project.org')\n",
    "    require(caret)\n",
    "}\n",
    "if(!require(C50)){\n",
    "    install.packages('C50',repos='http://cran.es.r-project.org')\n",
    "    require(C50)\n",
    "}\n",
    "if(!require(plyr)){\n",
    "    install.packages('plyr',repos='http://cran.es.r-project.org')\n",
    "    require(plyr)\n",
    "}\n",
    "set.seed(17)"
   ]
  },
  {
   "cell_type": "markdown",
   "metadata": {
    "nbpresent": {
     "id": "fafb1f54-b4ab-4c2e-bc0d-c723f2c6814d"
    }
   },
   "source": [
    "### Càrrega de les dades"
   ]
  },
  {
   "cell_type": "code",
   "execution_count": 2,
   "metadata": {
    "nbpresent": {
     "id": "352d9955-18b6-49b7-a343-102b723bf3cd"
    }
   },
   "outputs": [
    {
     "data": {
      "text/html": [
       "<ol class=list-inline>\n",
       "\t<li>699</li>\n",
       "\t<li>11</li>\n",
       "</ol>\n"
      ],
      "text/latex": [
       "\\begin{enumerate*}\n",
       "\\item 699\n",
       "\\item 11\n",
       "\\end{enumerate*}\n"
      ],
      "text/markdown": [
       "1. 699\n",
       "2. 11\n",
       "\n",
       "\n"
      ],
      "text/plain": [
       "[1] 699  11"
      ]
     },
     "metadata": {},
     "output_type": "display_data"
    }
   ],
   "source": [
    "wdbc=read.table(\n",
    "    url(\"https://archive.ics.uci.edu/ml/machine-learning-databases/breast-cancer-wisconsin/breast-cancer-wisconsin.data\"), \n",
    "    sep=\",\",\n",
    "    header=FALSE)\n",
    "dim(wdbc)"
   ]
  },
  {
   "cell_type": "markdown",
   "metadata": {},
   "source": [
    "### Preparació de les dades"
   ]
  },
  {
   "cell_type": "code",
   "execution_count": 3,
   "metadata": {},
   "outputs": [],
   "source": [
    "wdbc$V7[wdbc$V7 == '?'] <- NA\n",
    "wdbc$V7 <- as.numeric(wdbc$V7)\n",
    "wdbc=wdbc[complete.cases(wdbc),]\n",
    "dataset <- wdbc[,(2:11)]"
   ]
  },
  {
   "cell_type": "markdown",
   "metadata": {},
   "source": [
    "### Paràmetres de creació del model\n",
    "\n",
    "Utilitzarem la mètrica _Accuracy_ que mesura el percentatge d'instàncies correctes sobre el total. Farem la validació creuada o _crossvalidation_ amb 10 _folds_."
   ]
  },
  {
   "cell_type": "code",
   "execution_count": 4,
   "metadata": {},
   "outputs": [],
   "source": [
    "control <- trainControl(method=\"repeatedcv\", number=10, repeats=3, savePredictions = TRUE)\n",
    "metric <- \"Accuracy\"\n",
    "grid <- expand.grid( .winnow = c(FALSE), .trials=c(1,5,10,15,25,50,75,100), .model=\"tree\" )"
   ]
  },
  {
   "cell_type": "markdown",
   "metadata": {
    "collapsed": true
   },
   "source": [
    "### Creem un model d'arbre amb el mètode de boosting"
   ]
  },
  {
   "cell_type": "code",
   "execution_count": 5,
   "metadata": {},
   "outputs": [],
   "source": [
    "model.boost <- train(as.factor(V11)~., tuneGrid=grid,data=dataset, method=\"C5.0\",metric=metric, trControl=control)"
   ]
  },
  {
   "cell_type": "markdown",
   "metadata": {},
   "source": [
    "### Matriu de confusió"
   ]
  },
  {
   "cell_type": "code",
   "execution_count": 6,
   "metadata": {},
   "outputs": [
    {
     "data": {
      "text/plain": [
       "Cross-Validated (10 fold, repeated 3 times) Confusion Matrix \n",
       "\n",
       "(entries are percentual average cell counts across resamples)\n",
       " \n",
       "          Reference\n",
       "Prediction  2  4\n",
       "         2 63  1\n",
       "         4  2 34\n",
       "                            \n",
       " Accuracy (average) : 0.9693\n"
      ]
     },
     "metadata": {},
     "output_type": "display_data"
    }
   ],
   "source": [
    "confusionMatrix(model.boost)"
   ]
  },
  {
   "cell_type": "markdown",
   "metadata": {},
   "source": [
    "###  Mostrem les característiques del model"
   ]
  },
  {
   "cell_type": "code",
   "execution_count": 7,
   "metadata": {},
   "outputs": [
    {
     "name": "stdout",
     "output_type": "stream",
     "text": [
      "C5.0 \n",
      "\n",
      "683 samples\n",
      "  9 predictor\n",
      "  2 classes: '2', '4' \n",
      "\n",
      "No pre-processing\n",
      "Resampling: Cross-Validated (10 fold, repeated 3 times) \n",
      "Summary of sample sizes: 615, 615, 615, 614, 615, 614, ... \n",
      "Resampling results across tuning parameters:\n",
      "\n",
      "  trials  Accuracy   Kappa    \n",
      "    1     0.9497365  0.8903500\n",
      "    5     0.9585099  0.9089344\n",
      "   10     0.9624459  0.9177447\n",
      "   15     0.9624532  0.9178628\n",
      "   25     0.9658490  0.9253875\n",
      "   50     0.9663463  0.9265194\n",
      "   75     0.9673267  0.9287255\n",
      "  100     0.9692733  0.9331055\n",
      "\n",
      "Tuning parameter 'model' was held constant at a value of tree\n",
      "Tuning\n",
      " parameter 'winnow' was held constant at a value of FALSE\n",
      "Accuracy was used to select the optimal model using the largest value.\n",
      "The final values used for the model were trials = 100, model = tree and\n",
      " winnow = FALSE.\n"
     ]
    }
   ],
   "source": [
    "print(model.boost)"
   ]
  },
  {
   "cell_type": "code",
   "execution_count": 8,
   "metadata": {},
   "outputs": [
    {
     "data": {
      "image/png": "[encoded data removed]",
      "text/plain": [
       "plot without title"
      ]
     },
     "metadata": {},
     "output_type": "display_data"
    }
   ],
   "source": [
    "plot(model.boost)"
   ]
  },
  {
   "cell_type": "markdown",
   "metadata": {},
   "source": [
    "<!--Footer-->\n",
    " <div style=\"background: #333333;padding: 35px 0px;margin-top: 25px;\">\n",
    "    <div class=\"row\">\n",
    "     <div class=\"col-sm-12\">\n",
    "        <img src=\"http://materials.cv.uoc.edu/cdocent/common/img/logo-uoc-bottom.png\" alt=\"Logo UOC\" class=\"img-responsive\" style=\"margin: 0 auto; display: block;\">\n",
    "    </div>\n",
    "</div>\n",
    "</div>\n",
    "<!--/Footer-->"
   ]
  }
 ],
 "metadata": {
  "anaconda-cloud": {},
  "kernelspec": {
   "display_name": "R",
   "language": "R",
   "name": "ir"
  },
  "language_info": {
   "codemirror_mode": "r",
   "file_extension": ".r",
   "mimetype": "text/x-r-source",
   "name": "R",
   "pygments_lexer": "r",
   "version": "3.4.4"
  }
 },
 "nbformat": 4,
 "nbformat_minor": 1
}
