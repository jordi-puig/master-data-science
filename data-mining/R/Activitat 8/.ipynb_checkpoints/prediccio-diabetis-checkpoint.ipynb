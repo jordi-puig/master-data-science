{
 "cells": [
  {
   "cell_type": "markdown",
   "metadata": {},
   "source": [
    "<!--Header-->\n",
    "<div>\n",
    "    <div class=\"row\" style=\"color: #4D4D4D;font-size: 15px;padding-bottom: 20px\">\n",
    "        <div class=\"col-md-7\">\n",
    "            <img src=\"http://materials.cv.uoc.edu/cdocent/common/img/logo-uoc.png\" alt=\"Logo UOC\" class=\"img-responsive\" style=\"margin:20px 0px 0px\">\n",
    "        </div>\n",
    "        <div class=\"col-md-5\">\n",
    "            <h1 style=\"margin:15px 0px 0px;font-size: 40px;\">Exemple de classificació</h1>\n",
    "            <h2>Podem predir la diabetis amb dades de laboratori?</h2>\n",
    "            <div style=\"text-align:left;margin-top: 5px;\"></div>\n",
    "        </div>\n",
    "    </div>\n",
    "    <div class=\"row\" style=\"background: #FCB517;padding: 10px 20px;\">\n",
    "        <div class=\"col-md-6\">\n",
    "            <div>PID_00233252</div>\n",
    "        </div>\n",
    "        <div class=\"col-md-6\">\n",
    "            <div style=\"text-align:right;\">Autor: Xavier Duran Albareda <span style=\"margin-left: 30px;\">Coordinació: Julià Minguillón</span></div>\n",
    "        </div>\n",
    "    </div>\n",
    "</div>\n",
    "<!--/Header-->"
   ]
  },
  {
   "cell_type": "markdown",
   "metadata": {},
   "source": [
    "## Introducció"
   ]
  },
  {
   "cell_type": "markdown",
   "metadata": {},
   "source": [
    "En aquest exemple farem servir el _dataset_ [NHANES](https://www.kaggle.com/cdc/national-health-and-nutrition-examination-survey) per predir la malaltia de diabetis de tipus 2 a partir de les dades dels anàlisis del laboratori. Farem servir un model XGBoost per entrenar el model i trobar les variables amb millor valor predictiu.\n",
    "\n",
    "![T2DM](https://modernrx.files.wordpress.com/2016/12/diabetes0.png)"
   ]
  },
  {
   "cell_type": "code",
   "execution_count": 1,
   "metadata": {
    "_cell_guid": "0ab4b80c-a043-416c-8fd3-d15882e9e5b0",
    "_uuid": "da779b9b9275ea384a4866c089088d25404c1a22"
   },
   "outputs": [
    {
     "name": "stderr",
     "output_type": "stream",
     "text": [
      "Loading required package: ggplot2\n",
      "Loading required package: readr\n",
      "Loading required package: data.table\n",
      "Loading required package: dplyr\n",
      "\n",
      "Attaching package: ‘dplyr’\n",
      "\n",
      "The following objects are masked from ‘package:data.table’:\n",
      "\n",
      "    between, first, last\n",
      "\n",
      "The following objects are masked from ‘package:stats’:\n",
      "\n",
      "    filter, lag\n",
      "\n",
      "The following objects are masked from ‘package:base’:\n",
      "\n",
      "    intersect, setdiff, setequal, union\n",
      "\n",
      "Loading required package: xgboost\n",
      "\n",
      "Attaching package: ‘xgboost’\n",
      "\n",
      "The following object is masked from ‘package:dplyr’:\n",
      "\n",
      "    slice\n",
      "\n",
      "Loading required package: caret\n",
      "Loading required package: lattice\n",
      "Loading required package: pROC\n",
      "Type 'citation(\"pROC\")' for a citation.\n",
      "\n",
      "Attaching package: ‘pROC’\n",
      "\n",
      "The following objects are masked from ‘package:stats’:\n",
      "\n",
      "    cov, smooth, var\n",
      "\n"
     ]
    }
   ],
   "source": [
    "if(!require(ggplot2)){\n",
    "    install.packages('ggplot2',repos='http://cran.es.r-project.org')\n",
    "    require(ggplot2)\n",
    "}\n",
    "\n",
    "if(!require(readr)){\n",
    "    install.packages('readr',repos='http://cran.es.r-project.org')\n",
    "    require(readr)\n",
    "}\n",
    "\n",
    "if(!require(data.table)){\n",
    "    install.packages('data.table',repos='http://cran.es.r-project.org')\n",
    "    require(data.table)\n",
    "}\n",
    "\n",
    "if(!require(dplyr)){\n",
    "    install.packages('dplyr',repos='http://cran.es.r-project.org')\n",
    "    require(dplyr)\n",
    "}\n",
    "\n",
    "if(!require(xgboost)){\n",
    "    install.packages('xgboost',repos='http://cran.es.r-project.org')\n",
    "    require(xgboost)\n",
    "}\n",
    "\n",
    "if(!require(caret)){\n",
    "    install.packages('caret',repos='http://cran.es.r-project.org')\n",
    "    require(caret)\n",
    "}\n",
    "\n",
    "if(!require(pROC)){\n",
    "    install.packages('pROC',repos='http://cran.es.r-project.org')\n",
    "    require(pROC)\n",
    "}"
   ]
  },
  {
   "cell_type": "markdown",
   "metadata": {
    "_cell_guid": "26cd9905-796d-4b80-8635-7740ce8798b1",
    "_uuid": "55b148f08f6195bef36de3a682d10839c44415be"
   },
   "source": [
    "## Obtenir les dades\n",
    "\n",
    "Farem servir dos arxius per l'anàlisi.\n",
    "1. El fitxer _medications_, que té els diagnòstics on seleccionarem els pacients amb diabetis tipus 2.\n",
    "2. El fitxer _labs_, que té totes les mesures de laboratori que seran els nostres predictors."
   ]
  },
  {
   "cell_type": "code",
   "execution_count": 2,
   "metadata": {
    "_cell_guid": "0ab53e2e-8f70-43b7-b854-9c5558e5a089",
    "_uuid": "6a2e34515199f223251fe4b72c5347e3b3d5a157"
   },
   "outputs": [],
   "source": [
    "medications <- fread('medications.csv')\n",
    "labs <- fread('labs.csv')"
   ]
  },
  {
   "cell_type": "markdown",
   "metadata": {
    "_cell_guid": "5b730cde-64a8-4029-b9b1-345fd0927ded",
    "_uuid": "c4cfc7a4f1560ef48b46fa82c6fb0c70f12ecb46"
   },
   "source": [
    "## Definim la variable depenent\n",
    "\n",
    "El codi ICD-10 per la __diabetis melitus Tipus 2__ és el __E11__, de manera que crearem la variable _is_diabetic_ per definir aquells que tenen aquest codi.\n",
    "\n",
    "Els codis de diagnòstic ICD-10 es poden trobar al [ICD-10 Browser of the World Health Organization](http://apps.who.int/classifications/icd10/browse/2010/en#/E11)"
   ]
  },
  {
   "cell_type": "code",
   "execution_count": 3,
   "metadata": {
    "_cell_guid": "cab5ee44-0630-41da-ae77-5095d392e077",
    "_uuid": "7fb620b53239379a96dba0f2bb823d9915510961"
   },
   "outputs": [
    {
     "name": "stderr",
     "output_type": "stream",
     "text": [
      "Joining, by = \"SEQN\"\n"
     ]
    }
   ],
   "source": [
    "diabetes <- medications %>%\n",
    "  mutate(\n",
    "    is_diabetic = ifelse(RXDRSC1 == 'E11', 1, 0)\n",
    "  ) %>%\n",
    "  select(\n",
    "    SEQN,\n",
    "    is_diabetic\n",
    "  ) %>%\n",
    "  unique() %>%\n",
    "  left_join(labs)\n",
    "\n",
    "outcome <- c('is_diabetic')"
   ]
  },
  {
   "cell_type": "markdown",
   "metadata": {
    "_cell_guid": "7e25b228-edfe-4446-861a-3da3ebc86d07",
    "_uuid": "c1b8279cff2945e71003cfe9e68ca0ccc51796c8"
   },
   "source": [
    "## Definim les variables independents o predictors\n",
    "\n",
    "Totes les variables de laboratori que tenim disponibles ho seran."
   ]
  },
  {
   "cell_type": "code",
   "execution_count": 4,
   "metadata": {
    "_cell_guid": "202ae2ad-7700-47f6-a67c-1a462380cf0d",
    "_uuid": "07125cf89ce2b0ffa99735f21e138ad0dbed4f69"
   },
   "outputs": [],
   "source": [
    "predictors <- names(diabetes)[!names(diabetes) %in% outcome]"
   ]
  },
  {
   "cell_type": "markdown",
   "metadata": {
    "_cell_guid": "f039f322-9084-4bc6-933a-d253db0f012b",
    "_uuid": "bc64eea26ca096b2d233018f53ecbdd0f77d0e28"
   },
   "source": [
    "## Construir el model\n",
    "\n",
    "Entrenarem un model XGBoost."
   ]
  },
  {
   "cell_type": "code",
   "execution_count": 5,
   "metadata": {
    "_cell_guid": "a0f2b99a-05ff-4a4d-815d-1d641c754fb0",
    "_uuid": "cb6cb74d9b0fb348f65fac6aceed25940d03bb2e"
   },
   "outputs": [
    {
     "name": "stdout",
     "output_type": "stream",
     "text": [
      "[1]\ttrain-error:0.051835 \n",
      "[2]\ttrain-error:0.051835 \n",
      "[3]\ttrain-error:0.051742 \n",
      "[4]\ttrain-error:0.051648 \n",
      "[5]\ttrain-error:0.051648 \n",
      "[6]\ttrain-error:0.051742 \n",
      "[7]\ttrain-error:0.051648 \n",
      "[8]\ttrain-error:0.051648 \n",
      "[9]\ttrain-error:0.051462 \n",
      "[10]\ttrain-error:0.051462 \n"
     ]
    }
   ],
   "source": [
    "mx.diabetes <- as.matrix(diabetes, rownames.force = NA)\n",
    "train_dmatrix <- xgb.DMatrix(data = mx.diabetes[, predictors], label = mx.diabetes[, outcome])\n",
    "\n",
    "fit.xgb <- xgboost(\n",
    "  data = train_dmatrix,\n",
    "  nrounds = 10,\n",
    "  objective = \"binary:logistic\"\n",
    ")"
   ]
  },
  {
   "cell_type": "markdown",
   "metadata": {
    "_cell_guid": "a50cdfc2-ed3f-422e-bcb6-81a16dc3df52",
    "_uuid": "b64546b7465dfba6376f5a7e77b377ab64304369"
   },
   "source": [
    "## Avaluació del model\n",
    "\n",
    "Evaluarem el model en el mateix conjunt d'entrenament, i després mostrarem la matriu de confusió i la corba ROC."
   ]
  },
  {
   "cell_type": "code",
   "execution_count": 6,
   "metadata": {
    "_cell_guid": "ae79cba8-3745-4dc5-8e3e-2bfeb9a7f176",
    "_uuid": "7df368a9f0e68be9cf9fdc75e168f1e4c67b17b9"
   },
   "outputs": [],
   "source": [
    "predictions <- predict(fit.xgb, as.matrix(diabetes[, predictors]))"
   ]
  },
  {
   "cell_type": "code",
   "execution_count": 7,
   "metadata": {},
   "outputs": [
    {
     "data": {
      "text/html": [
       "0.0514616605958719"
      ],
      "text/latex": [
       "0.0514616605958719"
      ],
      "text/markdown": [
       "0.0514616605958719"
      ],
      "text/plain": [
       "[1] 0.05146166"
      ]
     },
     "metadata": {},
     "output_type": "display_data"
    }
   ],
   "source": [
    "mean(as.numeric(predictions > 0.5) != diabetes[, outcome])"
   ]
  },
  {
   "cell_type": "code",
   "execution_count": 8,
   "metadata": {},
   "outputs": [
    {
     "data": {
      "text/plain": [
       "Confusion Matrix and Statistics\n",
       "\n",
       "          Reference\n",
       "Prediction    0    1\n",
       "         0 9309   35\n",
       "         1  823  540\n",
       "                                          \n",
       "               Accuracy : 0.9199          \n",
       "                 95% CI : (0.9146, 0.9249)\n",
       "    No Information Rate : 0.9463          \n",
       "    P-Value [Acc > NIR] : 1               \n",
       "                                          \n",
       "                  Kappa : 0.5211          \n",
       " Mcnemar's Test P-Value : <2e-16          \n",
       "                                          \n",
       "            Sensitivity : 0.9188          \n",
       "            Specificity : 0.9391          \n",
       "         Pos Pred Value : 0.9963          \n",
       "         Neg Pred Value : 0.3962          \n",
       "              Precision : 0.9963          \n",
       "                 Recall : 0.9188          \n",
       "                     F1 : 0.9559          \n",
       "             Prevalence : 0.9463          \n",
       "         Detection Rate : 0.8694          \n",
       "   Detection Prevalence : 0.8727          \n",
       "      Balanced Accuracy : 0.9290          \n",
       "                                          \n",
       "       'Positive' Class : 0               \n",
       "                                          "
      ]
     },
     "metadata": {},
     "output_type": "display_data"
    }
   ],
   "source": [
    "confusionMatrix(\n",
    "  factor(as.numeric(predictions > 0.1)),\n",
    "  factor(diabetes[, outcome]),\n",
    "  mode = \"everything\"\n",
    ")"
   ]
  },
  {
   "cell_type": "code",
   "execution_count": 9,
   "metadata": {},
   "outputs": [
    {
     "name": "stderr",
     "output_type": "stream",
     "text": [
      "Setting levels: control = 0, case = 1\n",
      "Setting direction: controls < cases\n"
     ]
    },
    {
     "data": {
      "image/png": "[encoded data removed]",
      "text/plain": [
       "Plot with title “Confidence intervals”"
      ]
     },
     "metadata": {},
     "output_type": "display_data"
    }
   ],
   "source": [
    "plot.roc(\n",
    "  as.numeric(predictions > 0.5),\n",
    "  diabetes[, outcome],\n",
    "  main = \"Confidence intervals\",\n",
    "  percent = TRUE,\n",
    "  ci = TRUE,\n",
    "  print.auc=TRUE\n",
    ")"
   ]
  },
  {
   "cell_type": "markdown",
   "metadata": {
    "_cell_guid": "0e152df9-0d67-4093-a42e-0bca214f687b",
    "_uuid": "305e23c617c95d282195f797404e24a16f89c865"
   },
   "source": [
    "## Variables amb més valor predictiu de la diabetis 2\n",
    "\n",
    "La variable més predictiva és LBXGH, que correspon al percentatge de glicohemoglobina respecte el total d'hemoglobina, que efectivament està relacionada amb la malaltia de la Diabetis Melitus."
   ]
  },
  {
   "cell_type": "code",
   "execution_count": 10,
   "metadata": {
    "_cell_guid": "96121715-ef54-4fd0-a298-6ffed8ce3531",
    "_uuid": "0f604941141a2737fed6d6215b7991911dde188a"
   },
   "outputs": [
    {
     "data": {
      "text/html": [
       "<table>\n",
       "<thead><tr><th scope=col>Feature</th><th scope=col>Gain</th><th scope=col>Cover</th><th scope=col>Frequency</th></tr></thead>\n",
       "<tbody>\n",
       "\t<tr><td>LBXGH      </td><td>0.690572979</td><td>0.306230723</td><td>0.07716049 </td></tr>\n",
       "\t<tr><td>GTXDRANK   </td><td>0.068887962</td><td>0.036521306</td><td>0.03703704 </td></tr>\n",
       "\t<tr><td>GTDCODE    </td><td>0.032822824</td><td>0.086564383</td><td>0.05555556 </td></tr>\n",
       "\t<tr><td>WTSOG2YR   </td><td>0.017641649</td><td>0.004561531</td><td>0.01851852 </td></tr>\n",
       "\t<tr><td>URDACT     </td><td>0.014712793</td><td>0.086107195</td><td>0.04629630 </td></tr>\n",
       "\t<tr><td>GTDSCMMN   </td><td>0.009905428</td><td>0.007711531</td><td>0.01543210 </td></tr>\n",
       "</tbody>\n",
       "</table>\n"
      ],
      "text/latex": [
       "\\begin{tabular}{r|llll}\n",
       " Feature & Gain & Cover & Frequency\\\\\n",
       "\\hline\n",
       "\t LBXGH       & 0.690572979 & 0.306230723 & 0.07716049 \\\\\n",
       "\t GTXDRANK    & 0.068887962 & 0.036521306 & 0.03703704 \\\\\n",
       "\t GTDCODE     & 0.032822824 & 0.086564383 & 0.05555556 \\\\\n",
       "\t WTSOG2YR    & 0.017641649 & 0.004561531 & 0.01851852 \\\\\n",
       "\t URDACT      & 0.014712793 & 0.086107195 & 0.04629630 \\\\\n",
       "\t GTDSCMMN    & 0.009905428 & 0.007711531 & 0.01543210 \\\\\n",
       "\\end{tabular}\n"
      ],
      "text/markdown": [
       "\n",
       "| Feature | Gain | Cover | Frequency |\n",
       "|---|---|---|---|\n",
       "| LBXGH       | 0.690572979 | 0.306230723 | 0.07716049  |\n",
       "| GTXDRANK    | 0.068887962 | 0.036521306 | 0.03703704  |\n",
       "| GTDCODE     | 0.032822824 | 0.086564383 | 0.05555556  |\n",
       "| WTSOG2YR    | 0.017641649 | 0.004561531 | 0.01851852  |\n",
       "| URDACT      | 0.014712793 | 0.086107195 | 0.04629630  |\n",
       "| GTDSCMMN    | 0.009905428 | 0.007711531 | 0.01543210  |\n",
       "\n"
      ],
      "text/plain": [
       "  Feature  Gain        Cover       Frequency \n",
       "1 LBXGH    0.690572979 0.306230723 0.07716049\n",
       "2 GTXDRANK 0.068887962 0.036521306 0.03703704\n",
       "3 GTDCODE  0.032822824 0.086564383 0.05555556\n",
       "4 WTSOG2YR 0.017641649 0.004561531 0.01851852\n",
       "5 URDACT   0.014712793 0.086107195 0.04629630\n",
       "6 GTDSCMMN 0.009905428 0.007711531 0.01543210"
      ]
     },
     "metadata": {},
     "output_type": "display_data"
    },
    {
     "data": {
      "image/png": "[encoded data removed]",
      "text/plain": [
       "plot without title"
      ]
     },
     "metadata": {},
     "output_type": "display_data"
    }
   ],
   "source": [
    "importance_matrix <- xgb.importance(feature_names = predictors, model = fit.xgb)\n",
    "xgb.plot.importance(importance_matrix[1:10,])\n",
    "head(importance_matrix)"
   ]
  },
  {
   "cell_type": "markdown",
   "metadata": {},
   "source": [
    "<!--Footer-->\n",
    " <div style=\"background: #333333;padding: 35px 0px;margin-top: 25px;\">\n",
    "    <div class=\"row\">\n",
    "     <div class=\"col-sm-12\">\n",
    "        <img src=\"http://materials.cv.uoc.edu/cdocent/common/img/logo-uoc-bottom.png\" alt=\"Logo UOC\" class=\"img-responsive\" style=\"margin: 0 auto; display: block;\">\n",
    "    </div>\n",
    "</div>\n",
    "</div>\n",
    "<!--/Footer-->"
   ]
  }
 ],
 "metadata": {
  "kernelspec": {
   "display_name": "R",
   "language": "R",
   "name": "ir"
  },
  "language_info": {
   "codemirror_mode": "r",
   "file_extension": ".r",
   "mimetype": "text/x-r-source",
   "name": "R",
   "pygments_lexer": "r",
   "version": "3.4.4"
  }
 },
 "nbformat": 4,
 "nbformat_minor": 1
}
